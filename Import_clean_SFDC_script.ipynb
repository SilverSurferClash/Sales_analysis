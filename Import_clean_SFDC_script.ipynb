{
  "nbformat": 4,
  "nbformat_minor": 0,
  "metadata": {
    "colab": {
      "provenance": [],
      "collapsed_sections": [],
      "mount_file_id": "1TQXXPnFQWIdLAN3OjU1DfPxwMMCygS82",
      "authorship_tag": "ABX9TyMLTsegO/e9rDUgqVnnyxex",
      "include_colab_link": true
    },
    "kernelspec": {
      "name": "python3",
      "display_name": "Python 3"
    },
    "language_info": {
      "name": "python"
    }
  },
  "cells": [
    {
      "cell_type": "markdown",
      "metadata": {
        "id": "view-in-github",
        "colab_type": "text"
      },
      "source": [
        "<a href=\"https://colab.research.google.com/github/SilverSurferClash/Sales_analysis/blob/main/Import_clean_SFDC_script.ipynb\" target=\"_parent\"><img src=\"https://colab.research.google.com/assets/colab-badge.svg\" alt=\"Open In Colab\"/></a>"
      ]
    },
    {
      "cell_type": "code",
      "execution_count": 629,
      "metadata": {
        "colab": {
          "base_uri": "https://localhost:8080/"
        },
        "id": "tb4gPZsURoZL",
        "outputId": "c6f37dd5-14da-4c6f-fe41-5ceb10612b8e"
      },
      "outputs": [
        {
          "output_type": "stream",
          "name": "stdout",
          "text": [
            "Drive already mounted at /content/drive; to attempt to forcibly remount, call drive.mount(\"/content/drive\", force_remount=True).\n"
          ]
        }
      ],
      "source": [
        "from google.colab import drive\n",
        "drive.mount('/content/drive')"
      ]
    },
    {
      "cell_type": "code",
      "source": [
        "#!pip freeze > requirements.txt"
      ],
      "metadata": {
        "id": "-mgME99mR4O6"
      },
      "execution_count": 630,
      "outputs": []
    },
    {
      "cell_type": "code",
      "source": [
        "import numpy as np\n",
        "import pandas as pd\n",
        "import matplotlib.pyplot as plt\n",
        "plt.style.use('dark_background')\n",
        "import seaborn as sns\n",
        "import os\n",
        "pd.set_option('display.max_columns', None)\n",
        "#pd.set_option('display.max_rows', None)\n",
        "pd.set_option('display.precision', 2)\n",
        "#Use option to round floats to two decimals\n",
        "#pd.set_option('display.float_format',  '{:,.2f}'.format)\n",
        "# Use option to display $ dollars\n",
        "#pd.set_option('display.float_format', '${:.2f}'.format)\n",
        "\n",
        "# Plotting pretty figures and avoid blurry images\n",
        "#%config InlineBackend.figure_format = 'retina'\n",
        "# Larger scale for plots in notebooks\n",
        "#sns.set_context('notebook')\n",
        "\n",
        "\n",
        "# Enable multiple cell outputs\n",
        "#from IPython.core.interactiveshell import InteractiveShell\n",
        "#InteractiveShell.ast_node_interactivity = 'all'\n",
        "\n",
        "import warnings\n",
        "warnings.filterwarnings('ignore')              \n"
      ],
      "metadata": {
        "id": "_GQ-qUZJo8VP"
      },
      "execution_count": 631,
      "outputs": []
    },
    {
      "cell_type": "code",
      "source": [
        "os.getcwd()"
      ],
      "metadata": {
        "colab": {
          "base_uri": "https://localhost:8080/",
          "height": 36
        },
        "id": "G8E9lAf0o9MA",
        "outputId": "3cd73d2c-ca6e-4072-cb28-b93bb440b6e1"
      },
      "execution_count": 632,
      "outputs": [
        {
          "output_type": "execute_result",
          "data": {
            "text/plain": [
              "'/content/drive/My Drive/Colab_Notebooks/Sales_Analysis'"
            ],
            "application/vnd.google.colaboratory.intrinsic+json": {
              "type": "string"
            }
          },
          "metadata": {},
          "execution_count": 632
        }
      ]
    },
    {
      "cell_type": "code",
      "source": [
        "os.chdir(\"/content/drive/MyDrive/Colab_Notebooks/Sales_Analysis\")"
      ],
      "metadata": {
        "id": "yFwfXOr-G3CK"
      },
      "execution_count": 633,
      "outputs": []
    },
    {
      "cell_type": "markdown",
      "source": [
        "#### Helper function"
      ],
      "metadata": {
        "id": "xQA4tOOx7uhz"
      }
    },
    {
      "cell_type": "code",
      "source": [
        "#Create a function that use the second element if the list has a length of 2 other return unknown\n",
        "\n",
        "def clean_up_account(list_of_names):\n",
        "\n",
        "  if len(list_of_names) == 2:\n",
        "    return list_of_names[1]\n",
        "  else:\n",
        "    return list_of_names[0]\n"
      ],
      "metadata": {
        "id": "Qi0iM2y87sv6"
      },
      "execution_count": 634,
      "outputs": []
    },
    {
      "cell_type": "code",
      "source": [
        "#Create a function to clean up the Billing type feature\n"
      ],
      "metadata": {
        "id": "Ets_aMh47sDT"
      },
      "execution_count": 635,
      "outputs": []
    },
    {
      "cell_type": "markdown",
      "source": [
        "Import helper data"
      ],
      "metadata": {
        "id": "3Hna78HQrh41"
      }
    },
    {
      "cell_type": "code",
      "source": [
        "#Import lookup table for countries\n",
        "lookup_countries = pd.read_excel(\"./lookup.xlsx\", sheet_name = 0)\n",
        "#Import the data from SFDC as a excel file\n",
        "import_sfdc = pd.read_excel(\"./All Data EUAA-2022-10-25-12-29-00.xlsx\", sheet_name = 0, \n",
        "                            skiprows = 10)\n",
        "#Create dictionairy for maping the lookup value\n",
        "country_dict = dict(zip(lookup_countries[\"Reporting_Country_short\"], lookup_countries[\"Account_Reporting_Country\"]))\n",
        "#Import lookup table for countries\n",
        "lookup_type = pd.read_excel(\"./lookup.xlsx\", sheet_name = \"Type\")\n",
        "#Create dictionairy for maping the lookup values for LIMS ID\n",
        "type_dict = dict(zip(lookup_type[\"LIMS Project ID\"], lookup_type[\"Type\"]))\n",
        "\n",
        "#Import lookup Cancer Type\n",
        "lookup_cancer_type = pd.read_excel(\"./lookup.xlsx\", sheet_name = \"Cancer_type\")\n",
        "cancer_type_dict = dict(zip(lookup_cancer_type[\"Old\"], lookup_cancer_type[\"New\"]))\n",
        "\n",
        "#Inport lookun Billing_type - Needs further work\n",
        "#lookup_billing_type = pd.read_excel(\"./lookup.xlsx\", sheet_name = \"Billing_type\")\n",
        "#billing_type_dict = dict(zip(lookup_billing_type[\"Billing Type\"], lookup_billing_type[\"Billing Type.1\"]))\n"
      ],
      "metadata": {
        "id": "sYKe6D1GrnoC"
      },
      "execution_count": 636,
      "outputs": []
    },
    {
      "cell_type": "code",
      "source": [
        "#Identify which LIMS id are not in the lookup\n",
        "unique_LIMS_id = list(set(import_sfdc[\"LIMS Project ID\"]))\n",
        "unique_lookup_id = list(set(lookup_type[\"LIMS Project ID\"]))\n",
        "list(set(unique_LIMS_id) - set(unique_lookup_id ))"
      ],
      "metadata": {
        "colab": {
          "base_uri": "https://localhost:8080/"
        },
        "id": "UzwivZuDOvd8",
        "outputId": "be9b8fbe-975a-45dd-d6ec-fbb9a8efda83"
      },
      "execution_count": 637,
      "outputs": [
        {
          "output_type": "execute_result",
          "data": {
            "text/plain": [
              "[nan, 'GAP_04', 'AZN_test_96', 'RHI_04', 'OCT_1R', 'JNS_01', 'GAP_09']"
            ]
          },
          "metadata": {},
          "execution_count": 637
        }
      ]
    },
    {
      "cell_type": "code",
      "source": [
        "#import_sfdc.info()"
      ],
      "metadata": {
        "id": "CRdLX7kGWahb"
      },
      "execution_count": 638,
      "outputs": []
    },
    {
      "cell_type": "markdown",
      "source": [
        "#### Import and clean up the data from SFDC"
      ],
      "metadata": {
        "id": "uE-5D5zNmZnR"
      }
    },
    {
      "cell_type": "code",
      "source": [
        "\n",
        "#Remove the first two columns\n",
        "import_sfdc = import_sfdc.drop([\"Unnamed: 0\", \"Unnamed: 2\"], axis = 1)\n",
        "#Drop the last five rows\n",
        "import_sfdc = import_sfdc.iloc[0:-5]\n",
        "#Cast Date Received to datetime object \n",
        "import_sfdc[\"Date Received\"] = pd.to_datetime(import_sfdc[\"Date Received\"])\n",
        "#Clean up the type column\n",
        "import_sfdc[\"Type\"] = import_sfdc[\"LIMS Project ID\"].map(type_dict)\n",
        "\n",
        "#Replace the two letter country code with the full country name\n",
        "import_sfdc[\"Reporting Country\"] = import_sfdc[\"Reporting Country\"].map(country_dict)\n",
        "#Clean up the cancer types and reduce number of categories\n",
        "import_sfdc[\"Cancer Type\"] = import_sfdc[\"Cancer Type\"].map(cancer_type_dict)\n",
        "#Clean up the Account column by removing all strings before the \":\"\n",
        "import_sfdc[\"Account: Account Name\"] = import_sfdc.loc[:, \"Account: Account Name\"].str.split(\":\").apply(clean_up_account)\n",
        "#Clean up the Billing type column \n",
        "#import_sfdc[\"Billing Type\"] = import_sfdc[\"Billing Type\"].map(billing_type_dict)\n",
        "#import_sfdc.tail(6)\n",
        "\n",
        "# Set the date recieved as date index\n",
        "import_sfdc = import_sfdc.set_index(\"Date Received\")\n",
        "\n",
        "#import_sfdc.info()"
      ],
      "metadata": {
        "id": "n3dl5NF1HsVJ"
      },
      "execution_count": 639,
      "outputs": []
    },
    {
      "cell_type": "code",
      "source": [],
      "metadata": {
        "id": "exNhswdJXrHG"
      },
      "execution_count": 639,
      "outputs": []
    },
    {
      "cell_type": "code",
      "source": [
        "import_sfdc[\"LIMS Project ID\"]"
      ],
      "metadata": {
        "colab": {
          "base_uri": "https://localhost:8080/"
        },
        "id": "vxCBeMIcXrt_",
        "outputId": "dca29640-f0d4-4e24-f6f4-40a50f1a18f7"
      },
      "execution_count": 640,
      "outputs": [
        {
          "output_type": "execute_result",
          "data": {
            "text/plain": [
              "Date Received\n",
              "2019-11-25    AMG_01\n",
              "2019-11-26    AMG_01\n",
              "2019-11-29    AMG_01\n",
              "2019-11-30    AMG_01\n",
              "2019-11-30    AMG_01\n",
              "               ...  \n",
              "2021-01-04    VLT_01\n",
              "2021-01-11    VLT_01\n",
              "2021-01-11    VLT_01\n",
              "2021-01-15    VLT_01\n",
              "2021-01-20    VLT_01\n",
              "Name: LIMS Project ID, Length: 14977, dtype: object"
            ]
          },
          "metadata": {},
          "execution_count": 640
        }
      ]
    },
    {
      "cell_type": "code",
      "source": [
        "#Create date and time features\n",
        "\n",
        "#Create a year, month, quarter variable\n",
        "import_sfdc[\"Month\"] = import_sfdc.index.month\n",
        "import_sfdc[\"Year\"] = import_sfdc.index.year\n",
        "import_sfdc['Quarter'] = import_sfdc.index.quarter\n",
        "#Other feature engineering based on feature analysis below\n",
        "import_sfdc['Sales'] = 1\n",
        "\n",
        "#create a Year Month columns\n",
        "import_sfdc['Year_Month'] = import_sfdc.index.to_period('M')\n",
        "#Cast the Year_Month column to a str\n",
        "import_sfdc['Year_Month'] = import_sfdc['Year_Month'].astype(str)\n",
        "import_sfdc['Year_Month'] = pd.to_datetime(import_sfdc['Year_Month'])\n",
        "#Cast some features to categorical\n",
        "#df['Reporting_Country'] = df['Reporting_Country'].astype('category')\n",
        "import_sfdc['Type'] = import_sfdc['Type'].astype('category')\n"
      ],
      "metadata": {
        "id": "K_ttM0YjFaLd"
      },
      "execution_count": 641,
      "outputs": []
    },
    {
      "cell_type": "code",
      "source": [
        "#import_sfdc.sample(5)"
      ],
      "metadata": {
        "id": "gae4FY8E4xbi"
      },
      "execution_count": 642,
      "outputs": []
    },
    {
      "cell_type": "markdown",
      "source": [
        "#### Explore the data"
      ],
      "metadata": {
        "id": "gNOxiwsLmsmv"
      }
    },
    {
      "cell_type": "code",
      "source": [
        "#import_sfdc[\"Reporting Country\"].value_counts()"
      ],
      "metadata": {
        "id": "_r6H5ga-m6my"
      },
      "execution_count": 643,
      "outputs": []
    },
    {
      "cell_type": "code",
      "source": [
        "#import_sfdc.Type.value_counts()"
      ],
      "metadata": {
        "id": "idTr7unZviax"
      },
      "execution_count": 644,
      "outputs": []
    },
    {
      "cell_type": "code",
      "source": [
        "#import_sfdc.info()"
      ],
      "metadata": {
        "id": "jD4uUsKEvh0Z"
      },
      "execution_count": 645,
      "outputs": []
    },
    {
      "cell_type": "code",
      "source": [
        "#import_sfdc[\"Billing Type\"].value_counts()"
      ],
      "metadata": {
        "id": "8euku6M1tdCD"
      },
      "execution_count": 646,
      "outputs": []
    },
    {
      "cell_type": "code",
      "source": [
        "#import_sfdc[\"Test Type\"].value_counts()"
      ],
      "metadata": {
        "id": "7YPbz6zFN4Sv"
      },
      "execution_count": 647,
      "outputs": []
    },
    {
      "cell_type": "code",
      "source": [
        "#import_sfdc[\"Cancer Type\"].value_counts()"
      ],
      "metadata": {
        "id": "MY2cLhSOxs2q"
      },
      "execution_count": 648,
      "outputs": []
    },
    {
      "cell_type": "code",
      "source": [
        "#import_sfdc['Billing Type'].value_counts()"
      ],
      "metadata": {
        "id": "w6-gJR5p3aSz"
      },
      "execution_count": 649,
      "outputs": []
    },
    {
      "cell_type": "code",
      "source": [
        "# Import the revenue data\n",
        "\n",
        "revenue_import = pd.read_excel(\"./Sales_Volume_EUAA_Analytics.xlsx\", skiprows = 28)\n",
        "revenue_import = revenue_import.iloc[:, 1:12]\n",
        "#revenue_import.columns.tolist()\n",
        "revenue_import['Accession #']= revenue_import['Accession #'].fillna(\"missing\") \n",
        "revenue_import = revenue_import[revenue_import['Accession #'].str.startswith(\"A0\")]\n",
        "#revenue_import.info()"
      ],
      "metadata": {
        "id": "RfZ1QGpd2DPY"
      },
      "execution_count": 650,
      "outputs": []
    },
    {
      "cell_type": "code",
      "source": [
        "#revenue_import.columns.tolist()"
      ],
      "metadata": {
        "id": "9ZYeFG-JlRU0"
      },
      "execution_count": 651,
      "outputs": []
    },
    {
      "cell_type": "code",
      "source": [
        "revenue_col_list = ['Accession #', 'Invoiced Ammount','Expected Amount $','Invoiced/In Prg.', 'FOC']"
      ],
      "metadata": {
        "id": "r3qiHzAolSFe"
      },
      "execution_count": 652,
      "outputs": []
    },
    {
      "cell_type": "code",
      "source": [
        "#Define the clean up function for the FOC columns\n",
        "def foc_clean_up(value):\n",
        "\n",
        "  if value == \"x\":\n",
        "    return \"Free\"\n",
        "\n",
        "  elif value == \"x (COV19)\":\n",
        "     return \"Free\"\n",
        "  elif value == \"x (Christie)\":\n",
        "    return \"Free\"\n",
        "  else: \n",
        "    return value\n",
        "\n",
        "#Clean up Docuten\n",
        "\n",
        "def docuten_clean_up(value):\n",
        "\n",
        "  if value == \"y (DOCUTEN)\":\n",
        "    return \"Free\"\n",
        "\n",
        "  else: \n",
        "    return value\n",
        "\n",
        "#Clean up the revenue data and extract the free of charge information\n",
        "revenue_import_clean = revenue_import.loc[:, revenue_col_list].copy()\n",
        "revenue_import_clean[\"FOC\"] = revenue_import_clean[\"FOC\"].fillna(\"Paid\")\n",
        "revenue_import_clean.head()"
      ],
      "metadata": {
        "colab": {
          "base_uri": "https://localhost:8080/",
          "height": 206
        },
        "id": "DyNkfPNmlSd8",
        "outputId": "75ef084f-6c30-4478-ce98-8cbfcce000eb"
      },
      "execution_count": 653,
      "outputs": [
        {
          "output_type": "execute_result",
          "data": {
            "text/plain": [
              "  Accession # Invoiced Ammount Expected Amount $ Invoiced/In Prg.   FOC\n",
              "0    A0198807              0.0               0.0              NaN     x\n",
              "1    A0196311              0.0               0.0              NaN     x\n",
              "3    A0196102           3490.0            3490.0              NaN  Paid\n",
              "4    A0195058           3490.0            3490.0              NaN  Paid\n",
              "6    A0196290           3490.0            3490.0              NaN  Paid"
            ],
            "text/html": [
              "\n",
              "  <div id=\"df-2c8b9fb9-8ae5-48a8-961e-91e2a3d32796\">\n",
              "    <div class=\"colab-df-container\">\n",
              "      <div>\n",
              "<style scoped>\n",
              "    .dataframe tbody tr th:only-of-type {\n",
              "        vertical-align: middle;\n",
              "    }\n",
              "\n",
              "    .dataframe tbody tr th {\n",
              "        vertical-align: top;\n",
              "    }\n",
              "\n",
              "    .dataframe thead th {\n",
              "        text-align: right;\n",
              "    }\n",
              "</style>\n",
              "<table border=\"1\" class=\"dataframe\">\n",
              "  <thead>\n",
              "    <tr style=\"text-align: right;\">\n",
              "      <th></th>\n",
              "      <th>Accession #</th>\n",
              "      <th>Invoiced Ammount</th>\n",
              "      <th>Expected Amount $</th>\n",
              "      <th>Invoiced/In Prg.</th>\n",
              "      <th>FOC</th>\n",
              "    </tr>\n",
              "  </thead>\n",
              "  <tbody>\n",
              "    <tr>\n",
              "      <th>0</th>\n",
              "      <td>A0198807</td>\n",
              "      <td>0.0</td>\n",
              "      <td>0.0</td>\n",
              "      <td>NaN</td>\n",
              "      <td>x</td>\n",
              "    </tr>\n",
              "    <tr>\n",
              "      <th>1</th>\n",
              "      <td>A0196311</td>\n",
              "      <td>0.0</td>\n",
              "      <td>0.0</td>\n",
              "      <td>NaN</td>\n",
              "      <td>x</td>\n",
              "    </tr>\n",
              "    <tr>\n",
              "      <th>3</th>\n",
              "      <td>A0196102</td>\n",
              "      <td>3490.0</td>\n",
              "      <td>3490.0</td>\n",
              "      <td>NaN</td>\n",
              "      <td>Paid</td>\n",
              "    </tr>\n",
              "    <tr>\n",
              "      <th>4</th>\n",
              "      <td>A0195058</td>\n",
              "      <td>3490.0</td>\n",
              "      <td>3490.0</td>\n",
              "      <td>NaN</td>\n",
              "      <td>Paid</td>\n",
              "    </tr>\n",
              "    <tr>\n",
              "      <th>6</th>\n",
              "      <td>A0196290</td>\n",
              "      <td>3490.0</td>\n",
              "      <td>3490.0</td>\n",
              "      <td>NaN</td>\n",
              "      <td>Paid</td>\n",
              "    </tr>\n",
              "  </tbody>\n",
              "</table>\n",
              "</div>\n",
              "      <button class=\"colab-df-convert\" onclick=\"convertToInteractive('df-2c8b9fb9-8ae5-48a8-961e-91e2a3d32796')\"\n",
              "              title=\"Convert this dataframe to an interactive table.\"\n",
              "              style=\"display:none;\">\n",
              "        \n",
              "  <svg xmlns=\"http://www.w3.org/2000/svg\" height=\"24px\"viewBox=\"0 0 24 24\"\n",
              "       width=\"24px\">\n",
              "    <path d=\"M0 0h24v24H0V0z\" fill=\"none\"/>\n",
              "    <path d=\"M18.56 5.44l.94 2.06.94-2.06 2.06-.94-2.06-.94-.94-2.06-.94 2.06-2.06.94zm-11 1L8.5 8.5l.94-2.06 2.06-.94-2.06-.94L8.5 2.5l-.94 2.06-2.06.94zm10 10l.94 2.06.94-2.06 2.06-.94-2.06-.94-.94-2.06-.94 2.06-2.06.94z\"/><path d=\"M17.41 7.96l-1.37-1.37c-.4-.4-.92-.59-1.43-.59-.52 0-1.04.2-1.43.59L10.3 9.45l-7.72 7.72c-.78.78-.78 2.05 0 2.83L4 21.41c.39.39.9.59 1.41.59.51 0 1.02-.2 1.41-.59l7.78-7.78 2.81-2.81c.8-.78.8-2.07 0-2.86zM5.41 20L4 18.59l7.72-7.72 1.47 1.35L5.41 20z\"/>\n",
              "  </svg>\n",
              "      </button>\n",
              "      \n",
              "  <style>\n",
              "    .colab-df-container {\n",
              "      display:flex;\n",
              "      flex-wrap:wrap;\n",
              "      gap: 12px;\n",
              "    }\n",
              "\n",
              "    .colab-df-convert {\n",
              "      background-color: #E8F0FE;\n",
              "      border: none;\n",
              "      border-radius: 50%;\n",
              "      cursor: pointer;\n",
              "      display: none;\n",
              "      fill: #1967D2;\n",
              "      height: 32px;\n",
              "      padding: 0 0 0 0;\n",
              "      width: 32px;\n",
              "    }\n",
              "\n",
              "    .colab-df-convert:hover {\n",
              "      background-color: #E2EBFA;\n",
              "      box-shadow: 0px 1px 2px rgba(60, 64, 67, 0.3), 0px 1px 3px 1px rgba(60, 64, 67, 0.15);\n",
              "      fill: #174EA6;\n",
              "    }\n",
              "\n",
              "    [theme=dark] .colab-df-convert {\n",
              "      background-color: #3B4455;\n",
              "      fill: #D2E3FC;\n",
              "    }\n",
              "\n",
              "    [theme=dark] .colab-df-convert:hover {\n",
              "      background-color: #434B5C;\n",
              "      box-shadow: 0px 1px 3px 1px rgba(0, 0, 0, 0.15);\n",
              "      filter: drop-shadow(0px 1px 2px rgba(0, 0, 0, 0.3));\n",
              "      fill: #FFFFFF;\n",
              "    }\n",
              "  </style>\n",
              "\n",
              "      <script>\n",
              "        const buttonEl =\n",
              "          document.querySelector('#df-2c8b9fb9-8ae5-48a8-961e-91e2a3d32796 button.colab-df-convert');\n",
              "        buttonEl.style.display =\n",
              "          google.colab.kernel.accessAllowed ? 'block' : 'none';\n",
              "\n",
              "        async function convertToInteractive(key) {\n",
              "          const element = document.querySelector('#df-2c8b9fb9-8ae5-48a8-961e-91e2a3d32796');\n",
              "          const dataTable =\n",
              "            await google.colab.kernel.invokeFunction('convertToInteractive',\n",
              "                                                     [key], {});\n",
              "          if (!dataTable) return;\n",
              "\n",
              "          const docLinkHtml = 'Like what you see? Visit the ' +\n",
              "            '<a target=\"_blank\" href=https://colab.research.google.com/notebooks/data_table.ipynb>data table notebook</a>'\n",
              "            + ' to learn more about interactive tables.';\n",
              "          element.innerHTML = '';\n",
              "          dataTable['output_type'] = 'display_data';\n",
              "          await google.colab.output.renderOutput(dataTable, element);\n",
              "          const docLink = document.createElement('div');\n",
              "          docLink.innerHTML = docLinkHtml;\n",
              "          element.appendChild(docLink);\n",
              "        }\n",
              "      </script>\n",
              "    </div>\n",
              "  </div>\n",
              "  "
            ]
          },
          "metadata": {},
          "execution_count": 653
        }
      ]
    },
    {
      "cell_type": "code",
      "source": [
        "revenue_import_clean[\"FOC\"].value_counts()"
      ],
      "metadata": {
        "colab": {
          "base_uri": "https://localhost:8080/"
        },
        "id": "DmmTkBIewxBN",
        "outputId": "149810ca-d644-4684-b817-5b6b90262d32"
      },
      "execution_count": 654,
      "outputs": [
        {
          "output_type": "execute_result",
          "data": {
            "text/plain": [
              "Paid            2944\n",
              "x                625\n",
              "x (COV19)         84\n",
              "x (Christie)       6\n",
              "                   1\n",
              "Name: FOC, dtype: int64"
            ]
          },
          "metadata": {},
          "execution_count": 654
        }
      ]
    },
    {
      "cell_type": "code",
      "source": [
        "revenue_import_clean[\"FOC\"] = revenue_import_clean[\"FOC\"].apply(foc_clean_up).astype(\"category\")"
      ],
      "metadata": {
        "id": "qcDg1d3LwEBc"
      },
      "execution_count": 655,
      "outputs": []
    },
    {
      "cell_type": "code",
      "source": [
        "revenue_import_clean[\"FOC\"].value_counts()"
      ],
      "metadata": {
        "colab": {
          "base_uri": "https://localhost:8080/"
        },
        "id": "vgC3W7FqwG8R",
        "outputId": "a28808e8-29cc-4d2b-b829-b34a594f8c1f"
      },
      "execution_count": 656,
      "outputs": [
        {
          "output_type": "execute_result",
          "data": {
            "text/plain": [
              "Paid    2944\n",
              "Free     715\n",
              "           1\n",
              "Name: FOC, dtype: int64"
            ]
          },
          "metadata": {},
          "execution_count": 656
        }
      ]
    },
    {
      "cell_type": "code",
      "source": [],
      "metadata": {
        "id": "6ByAbQDox4Zb"
      },
      "execution_count": 656,
      "outputs": []
    },
    {
      "cell_type": "code",
      "source": [
        "#Join the two dataframes\n",
        "\n",
        "df_merged = import_sfdc.merge(revenue_import_clean[[\"Accession #\", \"FOC\"]], how='inner', on = \"Accession #\")\n",
        "df_merged.sample(3)"
      ],
      "metadata": {
        "colab": {
          "base_uri": "https://localhost:8080/",
          "height": 398
        },
        "id": "Bdu2-paiiRWw",
        "outputId": "09544b09-e6fd-4222-9c61-5ef3de058db9"
      },
      "execution_count": 657,
      "outputs": [
        {
          "output_type": "execute_result",
          "data": {
            "text/plain": [
              "     Accession # Reporting Country        Billing Type LIMS Project ID  \\\n",
              "1717    A0364848    UNITED KINGDOM    Self-Pay Patient          GHI_01   \n",
              "3341    A0558098             SPAIN    Self-Pay Patient          GHI_19   \n",
              "515     A0268356            FRANCE  Self-Pay Sponsored          GHI_01   \n",
              "\n",
              "                    Account: Account Name   Contact: Full Name  \\\n",
              "1717    University Hospitals Of Leicester        Samreen Ahmed   \n",
              "3341  Hospital Nuestra Senora de Sonsoles    Jose Enrique Ales   \n",
              "515          Gustave Roussy Cancer Campus  Antoine Hollebecque   \n",
              "\n",
              "     Final Report Date           Test Type Cancer Type        Type  Month  \\\n",
              "1717         6/15/2021        Guardant 360         NaN  Commercial      6   \n",
              "3341         8/17/2022  Guardant360 CDx EU         NaN  Commercial      8   \n",
              "515          7/10/2020        Guardant 360          GI  Commercial      7   \n",
              "\n",
              "      Year  Quarter  Sales Year_Month   FOC  \n",
              "1717  2021        2      1 2021-06-01  Paid  \n",
              "3341  2022        3      1 2022-08-01  Paid  \n",
              "515   2020        3      1 2020-07-01  Free  "
            ],
            "text/html": [
              "\n",
              "  <div id=\"df-d423a4f8-eed7-4206-b10b-58102eacbde7\">\n",
              "    <div class=\"colab-df-container\">\n",
              "      <div>\n",
              "<style scoped>\n",
              "    .dataframe tbody tr th:only-of-type {\n",
              "        vertical-align: middle;\n",
              "    }\n",
              "\n",
              "    .dataframe tbody tr th {\n",
              "        vertical-align: top;\n",
              "    }\n",
              "\n",
              "    .dataframe thead th {\n",
              "        text-align: right;\n",
              "    }\n",
              "</style>\n",
              "<table border=\"1\" class=\"dataframe\">\n",
              "  <thead>\n",
              "    <tr style=\"text-align: right;\">\n",
              "      <th></th>\n",
              "      <th>Accession #</th>\n",
              "      <th>Reporting Country</th>\n",
              "      <th>Billing Type</th>\n",
              "      <th>LIMS Project ID</th>\n",
              "      <th>Account: Account Name</th>\n",
              "      <th>Contact: Full Name</th>\n",
              "      <th>Final Report Date</th>\n",
              "      <th>Test Type</th>\n",
              "      <th>Cancer Type</th>\n",
              "      <th>Type</th>\n",
              "      <th>Month</th>\n",
              "      <th>Year</th>\n",
              "      <th>Quarter</th>\n",
              "      <th>Sales</th>\n",
              "      <th>Year_Month</th>\n",
              "      <th>FOC</th>\n",
              "    </tr>\n",
              "  </thead>\n",
              "  <tbody>\n",
              "    <tr>\n",
              "      <th>1717</th>\n",
              "      <td>A0364848</td>\n",
              "      <td>UNITED KINGDOM</td>\n",
              "      <td>Self-Pay Patient</td>\n",
              "      <td>GHI_01</td>\n",
              "      <td>University Hospitals Of Leicester</td>\n",
              "      <td>Samreen Ahmed</td>\n",
              "      <td>6/15/2021</td>\n",
              "      <td>Guardant 360</td>\n",
              "      <td>NaN</td>\n",
              "      <td>Commercial</td>\n",
              "      <td>6</td>\n",
              "      <td>2021</td>\n",
              "      <td>2</td>\n",
              "      <td>1</td>\n",
              "      <td>2021-06-01</td>\n",
              "      <td>Paid</td>\n",
              "    </tr>\n",
              "    <tr>\n",
              "      <th>3341</th>\n",
              "      <td>A0558098</td>\n",
              "      <td>SPAIN</td>\n",
              "      <td>Self-Pay Patient</td>\n",
              "      <td>GHI_19</td>\n",
              "      <td>Hospital Nuestra Senora de Sonsoles</td>\n",
              "      <td>Jose Enrique Ales</td>\n",
              "      <td>8/17/2022</td>\n",
              "      <td>Guardant360 CDx EU</td>\n",
              "      <td>NaN</td>\n",
              "      <td>Commercial</td>\n",
              "      <td>8</td>\n",
              "      <td>2022</td>\n",
              "      <td>3</td>\n",
              "      <td>1</td>\n",
              "      <td>2022-08-01</td>\n",
              "      <td>Paid</td>\n",
              "    </tr>\n",
              "    <tr>\n",
              "      <th>515</th>\n",
              "      <td>A0268356</td>\n",
              "      <td>FRANCE</td>\n",
              "      <td>Self-Pay Sponsored</td>\n",
              "      <td>GHI_01</td>\n",
              "      <td>Gustave Roussy Cancer Campus</td>\n",
              "      <td>Antoine Hollebecque</td>\n",
              "      <td>7/10/2020</td>\n",
              "      <td>Guardant 360</td>\n",
              "      <td>GI</td>\n",
              "      <td>Commercial</td>\n",
              "      <td>7</td>\n",
              "      <td>2020</td>\n",
              "      <td>3</td>\n",
              "      <td>1</td>\n",
              "      <td>2020-07-01</td>\n",
              "      <td>Free</td>\n",
              "    </tr>\n",
              "  </tbody>\n",
              "</table>\n",
              "</div>\n",
              "      <button class=\"colab-df-convert\" onclick=\"convertToInteractive('df-d423a4f8-eed7-4206-b10b-58102eacbde7')\"\n",
              "              title=\"Convert this dataframe to an interactive table.\"\n",
              "              style=\"display:none;\">\n",
              "        \n",
              "  <svg xmlns=\"http://www.w3.org/2000/svg\" height=\"24px\"viewBox=\"0 0 24 24\"\n",
              "       width=\"24px\">\n",
              "    <path d=\"M0 0h24v24H0V0z\" fill=\"none\"/>\n",
              "    <path d=\"M18.56 5.44l.94 2.06.94-2.06 2.06-.94-2.06-.94-.94-2.06-.94 2.06-2.06.94zm-11 1L8.5 8.5l.94-2.06 2.06-.94-2.06-.94L8.5 2.5l-.94 2.06-2.06.94zm10 10l.94 2.06.94-2.06 2.06-.94-2.06-.94-.94-2.06-.94 2.06-2.06.94z\"/><path d=\"M17.41 7.96l-1.37-1.37c-.4-.4-.92-.59-1.43-.59-.52 0-1.04.2-1.43.59L10.3 9.45l-7.72 7.72c-.78.78-.78 2.05 0 2.83L4 21.41c.39.39.9.59 1.41.59.51 0 1.02-.2 1.41-.59l7.78-7.78 2.81-2.81c.8-.78.8-2.07 0-2.86zM5.41 20L4 18.59l7.72-7.72 1.47 1.35L5.41 20z\"/>\n",
              "  </svg>\n",
              "      </button>\n",
              "      \n",
              "  <style>\n",
              "    .colab-df-container {\n",
              "      display:flex;\n",
              "      flex-wrap:wrap;\n",
              "      gap: 12px;\n",
              "    }\n",
              "\n",
              "    .colab-df-convert {\n",
              "      background-color: #E8F0FE;\n",
              "      border: none;\n",
              "      border-radius: 50%;\n",
              "      cursor: pointer;\n",
              "      display: none;\n",
              "      fill: #1967D2;\n",
              "      height: 32px;\n",
              "      padding: 0 0 0 0;\n",
              "      width: 32px;\n",
              "    }\n",
              "\n",
              "    .colab-df-convert:hover {\n",
              "      background-color: #E2EBFA;\n",
              "      box-shadow: 0px 1px 2px rgba(60, 64, 67, 0.3), 0px 1px 3px 1px rgba(60, 64, 67, 0.15);\n",
              "      fill: #174EA6;\n",
              "    }\n",
              "\n",
              "    [theme=dark] .colab-df-convert {\n",
              "      background-color: #3B4455;\n",
              "      fill: #D2E3FC;\n",
              "    }\n",
              "\n",
              "    [theme=dark] .colab-df-convert:hover {\n",
              "      background-color: #434B5C;\n",
              "      box-shadow: 0px 1px 3px 1px rgba(0, 0, 0, 0.15);\n",
              "      filter: drop-shadow(0px 1px 2px rgba(0, 0, 0, 0.3));\n",
              "      fill: #FFFFFF;\n",
              "    }\n",
              "  </style>\n",
              "\n",
              "      <script>\n",
              "        const buttonEl =\n",
              "          document.querySelector('#df-d423a4f8-eed7-4206-b10b-58102eacbde7 button.colab-df-convert');\n",
              "        buttonEl.style.display =\n",
              "          google.colab.kernel.accessAllowed ? 'block' : 'none';\n",
              "\n",
              "        async function convertToInteractive(key) {\n",
              "          const element = document.querySelector('#df-d423a4f8-eed7-4206-b10b-58102eacbde7');\n",
              "          const dataTable =\n",
              "            await google.colab.kernel.invokeFunction('convertToInteractive',\n",
              "                                                     [key], {});\n",
              "          if (!dataTable) return;\n",
              "\n",
              "          const docLinkHtml = 'Like what you see? Visit the ' +\n",
              "            '<a target=\"_blank\" href=https://colab.research.google.com/notebooks/data_table.ipynb>data table notebook</a>'\n",
              "            + ' to learn more about interactive tables.';\n",
              "          element.innerHTML = '';\n",
              "          dataTable['output_type'] = 'display_data';\n",
              "          await google.colab.output.renderOutput(dataTable, element);\n",
              "          const docLink = document.createElement('div');\n",
              "          docLink.innerHTML = docLinkHtml;\n",
              "          element.appendChild(docLink);\n",
              "        }\n",
              "      </script>\n",
              "    </div>\n",
              "  </div>\n",
              "  "
            ]
          },
          "metadata": {},
          "execution_count": 657
        }
      ]
    },
    {
      "cell_type": "code",
      "source": [],
      "metadata": {
        "id": "7vSN6Z52iRcx"
      },
      "execution_count": 657,
      "outputs": []
    },
    {
      "cell_type": "code",
      "source": [
        "# Startinf dataframe for all years\n",
        "import_sfdc.info()"
      ],
      "metadata": {
        "colab": {
          "base_uri": "https://localhost:8080/"
        },
        "id": "Cc7eNVFCiRia",
        "outputId": "913de49c-4448-44ba-e124-f579f913059b"
      },
      "execution_count": 658,
      "outputs": [
        {
          "output_type": "stream",
          "name": "stdout",
          "text": [
            "<class 'pandas.core.frame.DataFrame'>\n",
            "DatetimeIndex: 14977 entries, 2019-11-25 to 2021-01-20\n",
            "Data columns (total 15 columns):\n",
            " #   Column                 Non-Null Count  Dtype         \n",
            "---  ------                 --------------  -----         \n",
            " 0   Accession #            14977 non-null  object        \n",
            " 1   Reporting Country      14977 non-null  object        \n",
            " 2   Billing Type           14949 non-null  object        \n",
            " 3   LIMS Project ID        14977 non-null  object        \n",
            " 4   Account: Account Name  14977 non-null  object        \n",
            " 5   Contact: Full Name     14977 non-null  object        \n",
            " 6   Final Report Date      13479 non-null  object        \n",
            " 7   Test Type              14977 non-null  object        \n",
            " 8   Cancer Type            5343 non-null   object        \n",
            " 9   Type                   14873 non-null  category      \n",
            " 10  Month                  14977 non-null  int64         \n",
            " 11  Year                   14977 non-null  int64         \n",
            " 12  Quarter                14977 non-null  int64         \n",
            " 13  Sales                  14977 non-null  int64         \n",
            " 14  Year_Month             14977 non-null  datetime64[ns]\n",
            "dtypes: category(1), datetime64[ns](1), int64(4), object(9)\n",
            "memory usage: 1.7+ MB\n"
          ]
        }
      ]
    },
    {
      "cell_type": "code",
      "source": [
        "#Cleaned up dataframe included FOC information starting from around 2019\n",
        "df_merged.info()"
      ],
      "metadata": {
        "colab": {
          "base_uri": "https://localhost:8080/"
        },
        "id": "fxEORV0biRtc",
        "outputId": "51d96604-0d9d-4950-cb25-50c616abf450"
      },
      "execution_count": 659,
      "outputs": [
        {
          "output_type": "stream",
          "name": "stdout",
          "text": [
            "<class 'pandas.core.frame.DataFrame'>\n",
            "Int64Index: 3533 entries, 0 to 3532\n",
            "Data columns (total 16 columns):\n",
            " #   Column                 Non-Null Count  Dtype         \n",
            "---  ------                 --------------  -----         \n",
            " 0   Accession #            3533 non-null   object        \n",
            " 1   Reporting Country      3533 non-null   object        \n",
            " 2   Billing Type           3533 non-null   object        \n",
            " 3   LIMS Project ID        3533 non-null   object        \n",
            " 4   Account: Account Name  3533 non-null   object        \n",
            " 5   Contact: Full Name     3533 non-null   object        \n",
            " 6   Final Report Date      3530 non-null   object        \n",
            " 7   Test Type              3533 non-null   object        \n",
            " 8   Cancer Type            1182 non-null   object        \n",
            " 9   Type                   3533 non-null   category      \n",
            " 10  Month                  3533 non-null   int64         \n",
            " 11  Year                   3533 non-null   int64         \n",
            " 12  Quarter                3533 non-null   int64         \n",
            " 13  Sales                  3533 non-null   int64         \n",
            " 14  Year_Month             3533 non-null   datetime64[ns]\n",
            " 15  FOC                    3533 non-null   category      \n",
            "dtypes: category(2), datetime64[ns](1), int64(4), object(9)\n",
            "memory usage: 421.3+ KB\n"
          ]
        }
      ]
    },
    {
      "cell_type": "code",
      "source": [],
      "metadata": {
        "id": "QAU5yQbi2Eh6"
      },
      "execution_count": 659,
      "outputs": []
    },
    {
      "cell_type": "markdown",
      "source": [
        "#### Plotting"
      ],
      "metadata": {
        "id": "wedZOg0_CBB8"
      }
    },
    {
      "cell_type": "code",
      "source": [
        "#Select the features for the analysis\n",
        "import_sfdc.columns.to_list()\n",
        "list_for_country_analysis = ['Accession #',\n",
        " 'Reporting Country',\n",
        " 'Type',\n",
        " 'Sales',\n",
        " 'Year_Month']\n",
        "\n",
        "countries_df = import_sfdc.loc[:,list_for_country_analysis ]\n",
        "#countries_df[\"Reporting Country\"] = countries_df[\"Reporting Country\"].astype('category')\n",
        "countries_df.sample(3)"
      ],
      "metadata": {
        "colab": {
          "base_uri": "https://localhost:8080/",
          "height": 175
        },
        "id": "ERIZI3btCOST",
        "outputId": "5d0c8fe7-33be-47da-fbaa-d4128f2b6b57"
      },
      "execution_count": 660,
      "outputs": [
        {
          "output_type": "execute_result",
          "data": {
            "text/plain": [
              "              Accession # Reporting Country        Type  Sales Year_Month\n",
              "Date Received                                                            \n",
              "2022-03-07       A0478122             ITALY   Biopharma      1 2022-03-01\n",
              "2021-12-13       A0443320            FRANCE   Biopharma      1 2021-12-01\n",
              "2021-10-25       A0417149    UNITED KINGDOM  Commercial      1 2021-10-01"
            ],
            "text/html": [
              "\n",
              "  <div id=\"df-30d1f28d-5ecd-4e1a-aaac-f1e28e2ed0c0\">\n",
              "    <div class=\"colab-df-container\">\n",
              "      <div>\n",
              "<style scoped>\n",
              "    .dataframe tbody tr th:only-of-type {\n",
              "        vertical-align: middle;\n",
              "    }\n",
              "\n",
              "    .dataframe tbody tr th {\n",
              "        vertical-align: top;\n",
              "    }\n",
              "\n",
              "    .dataframe thead th {\n",
              "        text-align: right;\n",
              "    }\n",
              "</style>\n",
              "<table border=\"1\" class=\"dataframe\">\n",
              "  <thead>\n",
              "    <tr style=\"text-align: right;\">\n",
              "      <th></th>\n",
              "      <th>Accession #</th>\n",
              "      <th>Reporting Country</th>\n",
              "      <th>Type</th>\n",
              "      <th>Sales</th>\n",
              "      <th>Year_Month</th>\n",
              "    </tr>\n",
              "    <tr>\n",
              "      <th>Date Received</th>\n",
              "      <th></th>\n",
              "      <th></th>\n",
              "      <th></th>\n",
              "      <th></th>\n",
              "      <th></th>\n",
              "    </tr>\n",
              "  </thead>\n",
              "  <tbody>\n",
              "    <tr>\n",
              "      <th>2022-03-07</th>\n",
              "      <td>A0478122</td>\n",
              "      <td>ITALY</td>\n",
              "      <td>Biopharma</td>\n",
              "      <td>1</td>\n",
              "      <td>2022-03-01</td>\n",
              "    </tr>\n",
              "    <tr>\n",
              "      <th>2021-12-13</th>\n",
              "      <td>A0443320</td>\n",
              "      <td>FRANCE</td>\n",
              "      <td>Biopharma</td>\n",
              "      <td>1</td>\n",
              "      <td>2021-12-01</td>\n",
              "    </tr>\n",
              "    <tr>\n",
              "      <th>2021-10-25</th>\n",
              "      <td>A0417149</td>\n",
              "      <td>UNITED KINGDOM</td>\n",
              "      <td>Commercial</td>\n",
              "      <td>1</td>\n",
              "      <td>2021-10-01</td>\n",
              "    </tr>\n",
              "  </tbody>\n",
              "</table>\n",
              "</div>\n",
              "      <button class=\"colab-df-convert\" onclick=\"convertToInteractive('df-30d1f28d-5ecd-4e1a-aaac-f1e28e2ed0c0')\"\n",
              "              title=\"Convert this dataframe to an interactive table.\"\n",
              "              style=\"display:none;\">\n",
              "        \n",
              "  <svg xmlns=\"http://www.w3.org/2000/svg\" height=\"24px\"viewBox=\"0 0 24 24\"\n",
              "       width=\"24px\">\n",
              "    <path d=\"M0 0h24v24H0V0z\" fill=\"none\"/>\n",
              "    <path d=\"M18.56 5.44l.94 2.06.94-2.06 2.06-.94-2.06-.94-.94-2.06-.94 2.06-2.06.94zm-11 1L8.5 8.5l.94-2.06 2.06-.94-2.06-.94L8.5 2.5l-.94 2.06-2.06.94zm10 10l.94 2.06.94-2.06 2.06-.94-2.06-.94-.94-2.06-.94 2.06-2.06.94z\"/><path d=\"M17.41 7.96l-1.37-1.37c-.4-.4-.92-.59-1.43-.59-.52 0-1.04.2-1.43.59L10.3 9.45l-7.72 7.72c-.78.78-.78 2.05 0 2.83L4 21.41c.39.39.9.59 1.41.59.51 0 1.02-.2 1.41-.59l7.78-7.78 2.81-2.81c.8-.78.8-2.07 0-2.86zM5.41 20L4 18.59l7.72-7.72 1.47 1.35L5.41 20z\"/>\n",
              "  </svg>\n",
              "      </button>\n",
              "      \n",
              "  <style>\n",
              "    .colab-df-container {\n",
              "      display:flex;\n",
              "      flex-wrap:wrap;\n",
              "      gap: 12px;\n",
              "    }\n",
              "\n",
              "    .colab-df-convert {\n",
              "      background-color: #E8F0FE;\n",
              "      border: none;\n",
              "      border-radius: 50%;\n",
              "      cursor: pointer;\n",
              "      display: none;\n",
              "      fill: #1967D2;\n",
              "      height: 32px;\n",
              "      padding: 0 0 0 0;\n",
              "      width: 32px;\n",
              "    }\n",
              "\n",
              "    .colab-df-convert:hover {\n",
              "      background-color: #E2EBFA;\n",
              "      box-shadow: 0px 1px 2px rgba(60, 64, 67, 0.3), 0px 1px 3px 1px rgba(60, 64, 67, 0.15);\n",
              "      fill: #174EA6;\n",
              "    }\n",
              "\n",
              "    [theme=dark] .colab-df-convert {\n",
              "      background-color: #3B4455;\n",
              "      fill: #D2E3FC;\n",
              "    }\n",
              "\n",
              "    [theme=dark] .colab-df-convert:hover {\n",
              "      background-color: #434B5C;\n",
              "      box-shadow: 0px 1px 3px 1px rgba(0, 0, 0, 0.15);\n",
              "      filter: drop-shadow(0px 1px 2px rgba(0, 0, 0, 0.3));\n",
              "      fill: #FFFFFF;\n",
              "    }\n",
              "  </style>\n",
              "\n",
              "      <script>\n",
              "        const buttonEl =\n",
              "          document.querySelector('#df-30d1f28d-5ecd-4e1a-aaac-f1e28e2ed0c0 button.colab-df-convert');\n",
              "        buttonEl.style.display =\n",
              "          google.colab.kernel.accessAllowed ? 'block' : 'none';\n",
              "\n",
              "        async function convertToInteractive(key) {\n",
              "          const element = document.querySelector('#df-30d1f28d-5ecd-4e1a-aaac-f1e28e2ed0c0');\n",
              "          const dataTable =\n",
              "            await google.colab.kernel.invokeFunction('convertToInteractive',\n",
              "                                                     [key], {});\n",
              "          if (!dataTable) return;\n",
              "\n",
              "          const docLinkHtml = 'Like what you see? Visit the ' +\n",
              "            '<a target=\"_blank\" href=https://colab.research.google.com/notebooks/data_table.ipynb>data table notebook</a>'\n",
              "            + ' to learn more about interactive tables.';\n",
              "          element.innerHTML = '';\n",
              "          dataTable['output_type'] = 'display_data';\n",
              "          await google.colab.output.renderOutput(dataTable, element);\n",
              "          const docLink = document.createElement('div');\n",
              "          docLink.innerHTML = docLinkHtml;\n",
              "          element.appendChild(docLink);\n",
              "        }\n",
              "      </script>\n",
              "    </div>\n",
              "  </div>\n",
              "  "
            ]
          },
          "metadata": {},
          "execution_count": 660
        }
      ]
    },
    {
      "cell_type": "code",
      "source": [
        "#Starting df for plotting\n",
        "countries_df.info()"
      ],
      "metadata": {
        "id": "ijn14nPEbHgy",
        "colab": {
          "base_uri": "https://localhost:8080/"
        },
        "outputId": "9760202b-2fea-42e7-e8d9-d8dac183ac71"
      },
      "execution_count": 661,
      "outputs": [
        {
          "output_type": "stream",
          "name": "stdout",
          "text": [
            "<class 'pandas.core.frame.DataFrame'>\n",
            "DatetimeIndex: 14977 entries, 2019-11-25 to 2021-01-20\n",
            "Data columns (total 5 columns):\n",
            " #   Column             Non-Null Count  Dtype         \n",
            "---  ------             --------------  -----         \n",
            " 0   Accession #        14977 non-null  object        \n",
            " 1   Reporting Country  14977 non-null  object        \n",
            " 2   Type               14873 non-null  category      \n",
            " 3   Sales              14977 non-null  int64         \n",
            " 4   Year_Month         14977 non-null  datetime64[ns]\n",
            "dtypes: category(1), datetime64[ns](1), int64(1), object(2)\n",
            "memory usage: 599.9+ KB\n"
          ]
        }
      ]
    },
    {
      "cell_type": "code",
      "source": [
        "#Plot the total number of by country over time"
      ],
      "metadata": {
        "id": "IsLk-bYU_jdh"
      },
      "execution_count": 662,
      "outputs": []
    },
    {
      "cell_type": "code",
      "source": [
        "#Select the time horizion to analyse\n",
        "start_date = \"2018\"\n",
        "end_date = \"2022-08\"\n",
        "#Select the # of countries to be analyses based on the maxiumum number of samplesin \n",
        "#the time horizon\n",
        "num_countries = 6\n",
        "#Create the dataframe relevant for the time periode which should be analysed\n",
        "countries_df = countries_df.loc[start_date:end_date].copy()\n",
        "print(f\"The number of samples in this dataframe is {countries_df.shape[0]}\")"
      ],
      "metadata": {
        "colab": {
          "base_uri": "https://localhost:8080/"
        },
        "id": "r-TpAyBmH9o_",
        "outputId": "40922d1c-423a-4730-8d91-c0b64cd38cf3"
      },
      "execution_count": 663,
      "outputs": [
        {
          "output_type": "stream",
          "name": "stdout",
          "text": [
            "The number of samples in this dataframe is 14543\n"
          ]
        }
      ]
    },
    {
      "cell_type": "code",
      "source": [
        "#Create a dataframe with just the topx countries by number of tests sold\n",
        "top_x = countries_df.groupby('Reporting Country').sum().sort_values(\"Sales\",ascending = False).head(num_countries)\n",
        "top_x_list = top_x.index.tolist()\n",
        "top_x_sales =countries_df[countries_df['Reporting Country'].isin(top_x_list)]\n",
        "print(f\"The top 5 countries have {top_x_sales.shape[0]} samples which represents {top_x_sales.shape[0]/countries_df.shape[0]:.2%}\")"
      ],
      "metadata": {
        "colab": {
          "base_uri": "https://localhost:8080/"
        },
        "id": "EFLzVRDFTmq1",
        "outputId": "c34d0de8-7874-4f22-d9c5-cf7ff18e076c"
      },
      "execution_count": 664,
      "outputs": [
        {
          "output_type": "stream",
          "name": "stdout",
          "text": [
            "The top 5 countries have 11900 samples which represents 81.83%\n"
          ]
        }
      ]
    },
    {
      "cell_type": "code",
      "source": [
        "#Starting dataframe for plotting with date defined and the number of countries\n",
        "top_x_sales.info()"
      ],
      "metadata": {
        "colab": {
          "base_uri": "https://localhost:8080/"
        },
        "id": "bZB2YBlhcBEx",
        "outputId": "69aa1d4b-ad76-4f8f-af59-4c6992865011"
      },
      "execution_count": 665,
      "outputs": [
        {
          "output_type": "stream",
          "name": "stdout",
          "text": [
            "<class 'pandas.core.frame.DataFrame'>\n",
            "DatetimeIndex: 11900 entries, 2019-11-26 to 2021-01-20\n",
            "Data columns (total 5 columns):\n",
            " #   Column             Non-Null Count  Dtype         \n",
            "---  ------             --------------  -----         \n",
            " 0   Accession #        11900 non-null  object        \n",
            " 1   Reporting Country  11900 non-null  object        \n",
            " 2   Type               11802 non-null  category      \n",
            " 3   Sales              11900 non-null  int64         \n",
            " 4   Year_Month         11900 non-null  datetime64[ns]\n",
            "dtypes: category(1), datetime64[ns](1), int64(1), object(2)\n",
            "memory usage: 476.7+ KB\n"
          ]
        }
      ]
    },
    {
      "cell_type": "code",
      "source": [
        "#Merging the GH trials and LUNAR into ISTs\n",
        "\n",
        "def merge_ISTs(x):\n",
        "  if x == \"GH Trials (Prospective)\":\n",
        "    return \"ISTs\"\n",
        "  elif x == \"Lunar\":\n",
        "    return \"ISTs\"\n",
        "  else:\n",
        "    return x"
      ],
      "metadata": {
        "id": "K7-GAnVEgnSl"
      },
      "execution_count": 666,
      "outputs": []
    },
    {
      "cell_type": "code",
      "source": [
        "top_x_sales[\"Type\"] = top_x_sales[\"Type\"].map(merge_ISTs)\n",
        "\n",
        "top_x_sales[\"Type\"].value_counts()"
      ],
      "metadata": {
        "colab": {
          "base_uri": "https://localhost:8080/"
        },
        "id": "Fi5LQ-5xhjZt",
        "outputId": "00c19c50-e0ab-468d-c582-fad6b69b0d20"
      },
      "execution_count": 667,
      "outputs": [
        {
          "output_type": "execute_result",
          "data": {
            "text/plain": [
              "Biopharma     4330\n",
              "Commercial    2942\n",
              "ISTs          2754\n",
              "GAP           1776\n",
              "Name: Type, dtype: int64"
            ]
          },
          "metadata": {},
          "execution_count": 667
        }
      ]
    },
    {
      "cell_type": "code",
      "source": [
        "all_countries_by_type = top_x_sales.groupby(['Year_Month', \"Type\"]).sum().reset_index()\n",
        "all_countries_by_type.head(3)"
      ],
      "metadata": {
        "id": "rCD9_5QNUwk1",
        "colab": {
          "base_uri": "https://localhost:8080/",
          "height": 143
        },
        "outputId": "8514e7e2-23e8-4ec6-9d7e-f2f025998515"
      },
      "execution_count": 668,
      "outputs": [
        {
          "output_type": "execute_result",
          "data": {
            "text/plain": [
              "  Year_Month        Type  Sales\n",
              "0 2019-01-01   Biopharma    105\n",
              "1 2019-01-01  Commercial     26\n",
              "2 2019-01-01        ISTs     76"
            ],
            "text/html": [
              "\n",
              "  <div id=\"df-d0bc12d2-b323-4baf-8a6b-cc7dc04f9979\">\n",
              "    <div class=\"colab-df-container\">\n",
              "      <div>\n",
              "<style scoped>\n",
              "    .dataframe tbody tr th:only-of-type {\n",
              "        vertical-align: middle;\n",
              "    }\n",
              "\n",
              "    .dataframe tbody tr th {\n",
              "        vertical-align: top;\n",
              "    }\n",
              "\n",
              "    .dataframe thead th {\n",
              "        text-align: right;\n",
              "    }\n",
              "</style>\n",
              "<table border=\"1\" class=\"dataframe\">\n",
              "  <thead>\n",
              "    <tr style=\"text-align: right;\">\n",
              "      <th></th>\n",
              "      <th>Year_Month</th>\n",
              "      <th>Type</th>\n",
              "      <th>Sales</th>\n",
              "    </tr>\n",
              "  </thead>\n",
              "  <tbody>\n",
              "    <tr>\n",
              "      <th>0</th>\n",
              "      <td>2019-01-01</td>\n",
              "      <td>Biopharma</td>\n",
              "      <td>105</td>\n",
              "    </tr>\n",
              "    <tr>\n",
              "      <th>1</th>\n",
              "      <td>2019-01-01</td>\n",
              "      <td>Commercial</td>\n",
              "      <td>26</td>\n",
              "    </tr>\n",
              "    <tr>\n",
              "      <th>2</th>\n",
              "      <td>2019-01-01</td>\n",
              "      <td>ISTs</td>\n",
              "      <td>76</td>\n",
              "    </tr>\n",
              "  </tbody>\n",
              "</table>\n",
              "</div>\n",
              "      <button class=\"colab-df-convert\" onclick=\"convertToInteractive('df-d0bc12d2-b323-4baf-8a6b-cc7dc04f9979')\"\n",
              "              title=\"Convert this dataframe to an interactive table.\"\n",
              "              style=\"display:none;\">\n",
              "        \n",
              "  <svg xmlns=\"http://www.w3.org/2000/svg\" height=\"24px\"viewBox=\"0 0 24 24\"\n",
              "       width=\"24px\">\n",
              "    <path d=\"M0 0h24v24H0V0z\" fill=\"none\"/>\n",
              "    <path d=\"M18.56 5.44l.94 2.06.94-2.06 2.06-.94-2.06-.94-.94-2.06-.94 2.06-2.06.94zm-11 1L8.5 8.5l.94-2.06 2.06-.94-2.06-.94L8.5 2.5l-.94 2.06-2.06.94zm10 10l.94 2.06.94-2.06 2.06-.94-2.06-.94-.94-2.06-.94 2.06-2.06.94z\"/><path d=\"M17.41 7.96l-1.37-1.37c-.4-.4-.92-.59-1.43-.59-.52 0-1.04.2-1.43.59L10.3 9.45l-7.72 7.72c-.78.78-.78 2.05 0 2.83L4 21.41c.39.39.9.59 1.41.59.51 0 1.02-.2 1.41-.59l7.78-7.78 2.81-2.81c.8-.78.8-2.07 0-2.86zM5.41 20L4 18.59l7.72-7.72 1.47 1.35L5.41 20z\"/>\n",
              "  </svg>\n",
              "      </button>\n",
              "      \n",
              "  <style>\n",
              "    .colab-df-container {\n",
              "      display:flex;\n",
              "      flex-wrap:wrap;\n",
              "      gap: 12px;\n",
              "    }\n",
              "\n",
              "    .colab-df-convert {\n",
              "      background-color: #E8F0FE;\n",
              "      border: none;\n",
              "      border-radius: 50%;\n",
              "      cursor: pointer;\n",
              "      display: none;\n",
              "      fill: #1967D2;\n",
              "      height: 32px;\n",
              "      padding: 0 0 0 0;\n",
              "      width: 32px;\n",
              "    }\n",
              "\n",
              "    .colab-df-convert:hover {\n",
              "      background-color: #E2EBFA;\n",
              "      box-shadow: 0px 1px 2px rgba(60, 64, 67, 0.3), 0px 1px 3px 1px rgba(60, 64, 67, 0.15);\n",
              "      fill: #174EA6;\n",
              "    }\n",
              "\n",
              "    [theme=dark] .colab-df-convert {\n",
              "      background-color: #3B4455;\n",
              "      fill: #D2E3FC;\n",
              "    }\n",
              "\n",
              "    [theme=dark] .colab-df-convert:hover {\n",
              "      background-color: #434B5C;\n",
              "      box-shadow: 0px 1px 3px 1px rgba(0, 0, 0, 0.15);\n",
              "      filter: drop-shadow(0px 1px 2px rgba(0, 0, 0, 0.3));\n",
              "      fill: #FFFFFF;\n",
              "    }\n",
              "  </style>\n",
              "\n",
              "      <script>\n",
              "        const buttonEl =\n",
              "          document.querySelector('#df-d0bc12d2-b323-4baf-8a6b-cc7dc04f9979 button.colab-df-convert');\n",
              "        buttonEl.style.display =\n",
              "          google.colab.kernel.accessAllowed ? 'block' : 'none';\n",
              "\n",
              "        async function convertToInteractive(key) {\n",
              "          const element = document.querySelector('#df-d0bc12d2-b323-4baf-8a6b-cc7dc04f9979');\n",
              "          const dataTable =\n",
              "            await google.colab.kernel.invokeFunction('convertToInteractive',\n",
              "                                                     [key], {});\n",
              "          if (!dataTable) return;\n",
              "\n",
              "          const docLinkHtml = 'Like what you see? Visit the ' +\n",
              "            '<a target=\"_blank\" href=https://colab.research.google.com/notebooks/data_table.ipynb>data table notebook</a>'\n",
              "            + ' to learn more about interactive tables.';\n",
              "          element.innerHTML = '';\n",
              "          dataTable['output_type'] = 'display_data';\n",
              "          await google.colab.output.renderOutput(dataTable, element);\n",
              "          const docLink = document.createElement('div');\n",
              "          docLink.innerHTML = docLinkHtml;\n",
              "          element.appendChild(docLink);\n",
              "        }\n",
              "      </script>\n",
              "    </div>\n",
              "  </div>\n",
              "  "
            ]
          },
          "metadata": {},
          "execution_count": 668
        }
      ]
    },
    {
      "cell_type": "code",
      "source": [
        "#Use relpot for plotting"
      ],
      "metadata": {
        "id": "pa1QNYqQY9KS"
      },
      "execution_count": 669,
      "outputs": []
    },
    {
      "cell_type": "code",
      "source": [
        "#Plot the sales for each category over time\n",
        "g = sns.relplot(data = all_countries_by_type, x = \"Year_Month\", y = \"Sales\", kind = \"line\", col = \"Type\", color = \"#7851a9\", linewidth=4)\n",
        "g.set_xticklabels(rotation = \"90\")\n",
        "sns.set_style({'axes.grid' : False})\n",
        "g.set_ylabels(\"Tests per Month\")\n",
        "g.set_xlabels(\"Time in Months\")\n",
        "g.set_titles(col_template = '{col_name}')\n",
        "plt.show()\n",
        "#plt.xticks( rotation = \"90\")\n"
      ],
      "metadata": {
        "colab": {
          "base_uri": "https://localhost:8080/",
          "height": 338
        },
        "id": "yF9r7ff9Y82K",
        "outputId": "7bb885f4-f144-44cb-f05a-9e96d5d7b262"
      },
      "execution_count": 670,
      "outputs": [
        {
          "output_type": "display_data",
          "data": {
            "text/plain": [
              "<Figure size 1440x360 with 4 Axes>"
            ],
            "image/png": "[encoded data removed]"
          },
          "metadata": {}
        }
      ]
    },
    {
      "cell_type": "code",
      "source": [
        "#Re-create the stacked area plot used so far\n",
        "\n",
        "\n",
        "#Create a df in the wide format with the type category providing the new column labels\n",
        "\n",
        "all_countries_pivot_type = all_countries_by_type.pivot(index = \"Year_Month\", columns = \"Type\", values = \"Sales\")\n",
        "all_countries_pivot_type.head()\n"
      ],
      "metadata": {
        "colab": {
          "base_uri": "https://localhost:8080/",
          "height": 237
        },
        "id": "xMz_PpJgtPCW",
        "outputId": "2b3b7fcd-0f91-4de1-d2f3-97da0b6f2b23"
      },
      "execution_count": 671,
      "outputs": [
        {
          "output_type": "execute_result",
          "data": {
            "text/plain": [
              "Type        Biopharma  Commercial  GAP  ISTs\n",
              "Year_Month                                  \n",
              "2019-01-01      105.0        26.0  NaN  76.0\n",
              "2019-02-01      110.0        18.0  NaN  69.0\n",
              "2019-03-01      130.0        19.0  NaN  82.0\n",
              "2019-04-01      110.0        25.0  NaN  69.0\n",
              "2019-05-01      112.0        24.0  NaN  41.0"
            ],
            "text/html": [
              "\n",
              "  <div id=\"df-ac6f0a2d-0f10-46b2-a9ea-8b1585985ce6\">\n",
              "    <div class=\"colab-df-container\">\n",
              "      <div>\n",
              "<style scoped>\n",
              "    .dataframe tbody tr th:only-of-type {\n",
              "        vertical-align: middle;\n",
              "    }\n",
              "\n",
              "    .dataframe tbody tr th {\n",
              "        vertical-align: top;\n",
              "    }\n",
              "\n",
              "    .dataframe thead th {\n",
              "        text-align: right;\n",
              "    }\n",
              "</style>\n",
              "<table border=\"1\" class=\"dataframe\">\n",
              "  <thead>\n",
              "    <tr style=\"text-align: right;\">\n",
              "      <th>Type</th>\n",
              "      <th>Biopharma</th>\n",
              "      <th>Commercial</th>\n",
              "      <th>GAP</th>\n",
              "      <th>ISTs</th>\n",
              "    </tr>\n",
              "    <tr>\n",
              "      <th>Year_Month</th>\n",
              "      <th></th>\n",
              "      <th></th>\n",
              "      <th></th>\n",
              "      <th></th>\n",
              "    </tr>\n",
              "  </thead>\n",
              "  <tbody>\n",
              "    <tr>\n",
              "      <th>2019-01-01</th>\n",
              "      <td>105.0</td>\n",
              "      <td>26.0</td>\n",
              "      <td>NaN</td>\n",
              "      <td>76.0</td>\n",
              "    </tr>\n",
              "    <tr>\n",
              "      <th>2019-02-01</th>\n",
              "      <td>110.0</td>\n",
              "      <td>18.0</td>\n",
              "      <td>NaN</td>\n",
              "      <td>69.0</td>\n",
              "    </tr>\n",
              "    <tr>\n",
              "      <th>2019-03-01</th>\n",
              "      <td>130.0</td>\n",
              "      <td>19.0</td>\n",
              "      <td>NaN</td>\n",
              "      <td>82.0</td>\n",
              "    </tr>\n",
              "    <tr>\n",
              "      <th>2019-04-01</th>\n",
              "      <td>110.0</td>\n",
              "      <td>25.0</td>\n",
              "      <td>NaN</td>\n",
              "      <td>69.0</td>\n",
              "    </tr>\n",
              "    <tr>\n",
              "      <th>2019-05-01</th>\n",
              "      <td>112.0</td>\n",
              "      <td>24.0</td>\n",
              "      <td>NaN</td>\n",
              "      <td>41.0</td>\n",
              "    </tr>\n",
              "  </tbody>\n",
              "</table>\n",
              "</div>\n",
              "      <button class=\"colab-df-convert\" onclick=\"convertToInteractive('df-ac6f0a2d-0f10-46b2-a9ea-8b1585985ce6')\"\n",
              "              title=\"Convert this dataframe to an interactive table.\"\n",
              "              style=\"display:none;\">\n",
              "        \n",
              "  <svg xmlns=\"http://www.w3.org/2000/svg\" height=\"24px\"viewBox=\"0 0 24 24\"\n",
              "       width=\"24px\">\n",
              "    <path d=\"M0 0h24v24H0V0z\" fill=\"none\"/>\n",
              "    <path d=\"M18.56 5.44l.94 2.06.94-2.06 2.06-.94-2.06-.94-.94-2.06-.94 2.06-2.06.94zm-11 1L8.5 8.5l.94-2.06 2.06-.94-2.06-.94L8.5 2.5l-.94 2.06-2.06.94zm10 10l.94 2.06.94-2.06 2.06-.94-2.06-.94-.94-2.06-.94 2.06-2.06.94z\"/><path d=\"M17.41 7.96l-1.37-1.37c-.4-.4-.92-.59-1.43-.59-.52 0-1.04.2-1.43.59L10.3 9.45l-7.72 7.72c-.78.78-.78 2.05 0 2.83L4 21.41c.39.39.9.59 1.41.59.51 0 1.02-.2 1.41-.59l7.78-7.78 2.81-2.81c.8-.78.8-2.07 0-2.86zM5.41 20L4 18.59l7.72-7.72 1.47 1.35L5.41 20z\"/>\n",
              "  </svg>\n",
              "      </button>\n",
              "      \n",
              "  <style>\n",
              "    .colab-df-container {\n",
              "      display:flex;\n",
              "      flex-wrap:wrap;\n",
              "      gap: 12px;\n",
              "    }\n",
              "\n",
              "    .colab-df-convert {\n",
              "      background-color: #E8F0FE;\n",
              "      border: none;\n",
              "      border-radius: 50%;\n",
              "      cursor: pointer;\n",
              "      display: none;\n",
              "      fill: #1967D2;\n",
              "      height: 32px;\n",
              "      padding: 0 0 0 0;\n",
              "      width: 32px;\n",
              "    }\n",
              "\n",
              "    .colab-df-convert:hover {\n",
              "      background-color: #E2EBFA;\n",
              "      box-shadow: 0px 1px 2px rgba(60, 64, 67, 0.3), 0px 1px 3px 1px rgba(60, 64, 67, 0.15);\n",
              "      fill: #174EA6;\n",
              "    }\n",
              "\n",
              "    [theme=dark] .colab-df-convert {\n",
              "      background-color: #3B4455;\n",
              "      fill: #D2E3FC;\n",
              "    }\n",
              "\n",
              "    [theme=dark] .colab-df-convert:hover {\n",
              "      background-color: #434B5C;\n",
              "      box-shadow: 0px 1px 3px 1px rgba(0, 0, 0, 0.15);\n",
              "      filter: drop-shadow(0px 1px 2px rgba(0, 0, 0, 0.3));\n",
              "      fill: #FFFFFF;\n",
              "    }\n",
              "  </style>\n",
              "\n",
              "      <script>\n",
              "        const buttonEl =\n",
              "          document.querySelector('#df-ac6f0a2d-0f10-46b2-a9ea-8b1585985ce6 button.colab-df-convert');\n",
              "        buttonEl.style.display =\n",
              "          google.colab.kernel.accessAllowed ? 'block' : 'none';\n",
              "\n",
              "        async function convertToInteractive(key) {\n",
              "          const element = document.querySelector('#df-ac6f0a2d-0f10-46b2-a9ea-8b1585985ce6');\n",
              "          const dataTable =\n",
              "            await google.colab.kernel.invokeFunction('convertToInteractive',\n",
              "                                                     [key], {});\n",
              "          if (!dataTable) return;\n",
              "\n",
              "          const docLinkHtml = 'Like what you see? Visit the ' +\n",
              "            '<a target=\"_blank\" href=https://colab.research.google.com/notebooks/data_table.ipynb>data table notebook</a>'\n",
              "            + ' to learn more about interactive tables.';\n",
              "          element.innerHTML = '';\n",
              "          dataTable['output_type'] = 'display_data';\n",
              "          await google.colab.output.renderOutput(dataTable, element);\n",
              "          const docLink = document.createElement('div');\n",
              "          docLink.innerHTML = docLinkHtml;\n",
              "          element.appendChild(docLink);\n",
              "        }\n",
              "      </script>\n",
              "    </div>\n",
              "  </div>\n",
              "  "
            ]
          },
          "metadata": {},
          "execution_count": 671
        }
      ]
    },
    {
      "cell_type": "code",
      "source": [
        "# Stackplot with X, Y, colors value\n",
        "#plt.style.use('ggplot')\n",
        "plt.subplots(figsize=(16, 8))\n",
        "\n",
        "\n",
        "# Plot x-labels, y-label and data\n",
        "plt.plot([], [], color =\"lightsteelblue\",\n",
        "         label =\"Biopharma\")\n",
        "plt.plot([], [], color ='dimgrey',\n",
        "         label ='Commercial')\n",
        "plt.plot([], [], color ='cornsilk',\n",
        "         label ='GAP')\n",
        "plt.plot([], [], color ='lightcoral',\n",
        "         label ='ISTs')\n",
        "\n",
        "\n",
        "plt.stackplot(all_countries_pivot_type.index, all_countries_pivot_type[\"Biopharma\"],\n",
        "              all_countries_pivot_type[\"Commercial\"],\n",
        "              all_countries_pivot_type[\"GAP\"],\n",
        "              all_countries_pivot_type[\"ISTs\"],\n",
        "              colors =[\"lightsteelblue\", 'dimgrey', 'cornsilk', 'lightcoral'])\n",
        " \n",
        "plt.grid(False)\n",
        "plt.legend(loc='upper right')\n",
        "# Days\n",
        "plt.xlabel('Time in Month')\n",
        " \n",
        "# No of hours\n",
        "plt.ylabel('Tests per Month')\n",
        " \n",
        "# Title of Graph\n",
        "plt.title('Month Test Volume International Markets for all Categories')\n",
        "\n",
        " \n",
        "# Displaying Graph\n",
        "plt.show()"
      ],
      "metadata": {
        "colab": {
          "base_uri": "https://localhost:8080/",
          "height": 517
        },
        "id": "3nUxG0dQtPrS",
        "outputId": "27b8b6bf-7b8c-4af4-de89-8317bcd9c77e"
      },
      "execution_count": 672,
      "outputs": [
        {
          "output_type": "display_data",
          "data": {
            "text/plain": [
              "<Figure size 1152x576 with 1 Axes>"
            ],
            "image/png": "[encoded data removed]"
          },
          "metadata": {}
        }
      ]
    },
    {
      "cell_type": "markdown",
      "source": [
        "#### Stacked area plot for Commercial, GAP and ISTS"
      ],
      "metadata": {
        "id": "j4PX2K5u-sn6"
      }
    },
    {
      "cell_type": "code",
      "source": [
        "# Stackplot with X, Y, colors value\n",
        "#plt.style.use('ggplot')\n",
        "plt.subplots(figsize=(16, 8))\n",
        "\n",
        "\n",
        "# Plot x-labels, y-label and data\n",
        "\n",
        "plt.plot([], [], color ='dimgrey',\n",
        "         label ='Commercial')\n",
        "plt.plot([], [], color ='cornsilk',\n",
        "         label ='GAP')\n",
        "plt.plot([], [], color ='lightcoral',\n",
        "         label ='ISTs')\n",
        "\n",
        "\n",
        "plt.stackplot(all_countries_pivot_type.index,\n",
        "              all_countries_pivot_type[\"Commercial\"],\n",
        "              all_countries_pivot_type[\"GAP\"],\n",
        "              all_countries_pivot_type[\"ISTs\"],\n",
        "              colors =['dimgrey', 'cornsilk', 'lightcoral'])\n",
        " \n",
        "plt.grid(False)\n",
        "plt.legend(loc='upper right')\n",
        "# Days\n",
        "plt.xlabel('Time in Month')\n",
        " \n",
        "# No of hours\n",
        "plt.ylabel('Tests per Month')\n",
        " \n",
        "# Title of Graph\n",
        "plt.title('Month Test Volume International Markets for all Categories')\n",
        "\n",
        " \n",
        "# Displaying Graph\n",
        "plt.show()"
      ],
      "metadata": {
        "colab": {
          "base_uri": "https://localhost:8080/",
          "height": 517
        },
        "id": "tUkuid2m-nhK",
        "outputId": "6e125ccd-eeaa-45a0-c46b-ccfc6b51886f"
      },
      "execution_count": 673,
      "outputs": [
        {
          "output_type": "display_data",
          "data": {
            "text/plain": [
              "<Figure size 1152x576 with 1 Axes>"
            ],
            "image/png": "[encoded data removed]"
          },
          "metadata": {}
        }
      ]
    },
    {
      "cell_type": "markdown",
      "source": [
        "#### Plot the relative percentage of sample in each category over time"
      ],
      "metadata": {
        "id": "N4037xoTD5Zx"
      }
    },
    {
      "cell_type": "code",
      "source": [
        "all_countries_pivot_type.head()"
      ],
      "metadata": {
        "colab": {
          "base_uri": "https://localhost:8080/",
          "height": 237
        },
        "id": "E3_5hZPJJVdK",
        "outputId": "1e2b474b-2be0-48ed-f362-e8fcc959270f"
      },
      "execution_count": 674,
      "outputs": [
        {
          "output_type": "execute_result",
          "data": {
            "text/plain": [
              "Type        Biopharma  Commercial  GAP  ISTs\n",
              "Year_Month                                  \n",
              "2019-01-01      105.0        26.0  NaN  76.0\n",
              "2019-02-01      110.0        18.0  NaN  69.0\n",
              "2019-03-01      130.0        19.0  NaN  82.0\n",
              "2019-04-01      110.0        25.0  NaN  69.0\n",
              "2019-05-01      112.0        24.0  NaN  41.0"
            ],
            "text/html": [
              "\n",
              "  <div id=\"df-f426e1cd-8f58-404e-aba9-f91d84cf9d70\">\n",
              "    <div class=\"colab-df-container\">\n",
              "      <div>\n",
              "<style scoped>\n",
              "    .dataframe tbody tr th:only-of-type {\n",
              "        vertical-align: middle;\n",
              "    }\n",
              "\n",
              "    .dataframe tbody tr th {\n",
              "        vertical-align: top;\n",
              "    }\n",
              "\n",
              "    .dataframe thead th {\n",
              "        text-align: right;\n",
              "    }\n",
              "</style>\n",
              "<table border=\"1\" class=\"dataframe\">\n",
              "  <thead>\n",
              "    <tr style=\"text-align: right;\">\n",
              "      <th>Type</th>\n",
              "      <th>Biopharma</th>\n",
              "      <th>Commercial</th>\n",
              "      <th>GAP</th>\n",
              "      <th>ISTs</th>\n",
              "    </tr>\n",
              "    <tr>\n",
              "      <th>Year_Month</th>\n",
              "      <th></th>\n",
              "      <th></th>\n",
              "      <th></th>\n",
              "      <th></th>\n",
              "    </tr>\n",
              "  </thead>\n",
              "  <tbody>\n",
              "    <tr>\n",
              "      <th>2019-01-01</th>\n",
              "      <td>105.0</td>\n",
              "      <td>26.0</td>\n",
              "      <td>NaN</td>\n",
              "      <td>76.0</td>\n",
              "    </tr>\n",
              "    <tr>\n",
              "      <th>2019-02-01</th>\n",
              "      <td>110.0</td>\n",
              "      <td>18.0</td>\n",
              "      <td>NaN</td>\n",
              "      <td>69.0</td>\n",
              "    </tr>\n",
              "    <tr>\n",
              "      <th>2019-03-01</th>\n",
              "      <td>130.0</td>\n",
              "      <td>19.0</td>\n",
              "      <td>NaN</td>\n",
              "      <td>82.0</td>\n",
              "    </tr>\n",
              "    <tr>\n",
              "      <th>2019-04-01</th>\n",
              "      <td>110.0</td>\n",
              "      <td>25.0</td>\n",
              "      <td>NaN</td>\n",
              "      <td>69.0</td>\n",
              "    </tr>\n",
              "    <tr>\n",
              "      <th>2019-05-01</th>\n",
              "      <td>112.0</td>\n",
              "      <td>24.0</td>\n",
              "      <td>NaN</td>\n",
              "      <td>41.0</td>\n",
              "    </tr>\n",
              "  </tbody>\n",
              "</table>\n",
              "</div>\n",
              "      <button class=\"colab-df-convert\" onclick=\"convertToInteractive('df-f426e1cd-8f58-404e-aba9-f91d84cf9d70')\"\n",
              "              title=\"Convert this dataframe to an interactive table.\"\n",
              "              style=\"display:none;\">\n",
              "        \n",
              "  <svg xmlns=\"http://www.w3.org/2000/svg\" height=\"24px\"viewBox=\"0 0 24 24\"\n",
              "       width=\"24px\">\n",
              "    <path d=\"M0 0h24v24H0V0z\" fill=\"none\"/>\n",
              "    <path d=\"M18.56 5.44l.94 2.06.94-2.06 2.06-.94-2.06-.94-.94-2.06-.94 2.06-2.06.94zm-11 1L8.5 8.5l.94-2.06 2.06-.94-2.06-.94L8.5 2.5l-.94 2.06-2.06.94zm10 10l.94 2.06.94-2.06 2.06-.94-2.06-.94-.94-2.06-.94 2.06-2.06.94z\"/><path d=\"M17.41 7.96l-1.37-1.37c-.4-.4-.92-.59-1.43-.59-.52 0-1.04.2-1.43.59L10.3 9.45l-7.72 7.72c-.78.78-.78 2.05 0 2.83L4 21.41c.39.39.9.59 1.41.59.51 0 1.02-.2 1.41-.59l7.78-7.78 2.81-2.81c.8-.78.8-2.07 0-2.86zM5.41 20L4 18.59l7.72-7.72 1.47 1.35L5.41 20z\"/>\n",
              "  </svg>\n",
              "      </button>\n",
              "      \n",
              "  <style>\n",
              "    .colab-df-container {\n",
              "      display:flex;\n",
              "      flex-wrap:wrap;\n",
              "      gap: 12px;\n",
              "    }\n",
              "\n",
              "    .colab-df-convert {\n",
              "      background-color: #E8F0FE;\n",
              "      border: none;\n",
              "      border-radius: 50%;\n",
              "      cursor: pointer;\n",
              "      display: none;\n",
              "      fill: #1967D2;\n",
              "      height: 32px;\n",
              "      padding: 0 0 0 0;\n",
              "      width: 32px;\n",
              "    }\n",
              "\n",
              "    .colab-df-convert:hover {\n",
              "      background-color: #E2EBFA;\n",
              "      box-shadow: 0px 1px 2px rgba(60, 64, 67, 0.3), 0px 1px 3px 1px rgba(60, 64, 67, 0.15);\n",
              "      fill: #174EA6;\n",
              "    }\n",
              "\n",
              "    [theme=dark] .colab-df-convert {\n",
              "      background-color: #3B4455;\n",
              "      fill: #D2E3FC;\n",
              "    }\n",
              "\n",
              "    [theme=dark] .colab-df-convert:hover {\n",
              "      background-color: #434B5C;\n",
              "      box-shadow: 0px 1px 3px 1px rgba(0, 0, 0, 0.15);\n",
              "      filter: drop-shadow(0px 1px 2px rgba(0, 0, 0, 0.3));\n",
              "      fill: #FFFFFF;\n",
              "    }\n",
              "  </style>\n",
              "\n",
              "      <script>\n",
              "        const buttonEl =\n",
              "          document.querySelector('#df-f426e1cd-8f58-404e-aba9-f91d84cf9d70 button.colab-df-convert');\n",
              "        buttonEl.style.display =\n",
              "          google.colab.kernel.accessAllowed ? 'block' : 'none';\n",
              "\n",
              "        async function convertToInteractive(key) {\n",
              "          const element = document.querySelector('#df-f426e1cd-8f58-404e-aba9-f91d84cf9d70');\n",
              "          const dataTable =\n",
              "            await google.colab.kernel.invokeFunction('convertToInteractive',\n",
              "                                                     [key], {});\n",
              "          if (!dataTable) return;\n",
              "\n",
              "          const docLinkHtml = 'Like what you see? Visit the ' +\n",
              "            '<a target=\"_blank\" href=https://colab.research.google.com/notebooks/data_table.ipynb>data table notebook</a>'\n",
              "            + ' to learn more about interactive tables.';\n",
              "          element.innerHTML = '';\n",
              "          dataTable['output_type'] = 'display_data';\n",
              "          await google.colab.output.renderOutput(dataTable, element);\n",
              "          const docLink = document.createElement('div');\n",
              "          docLink.innerHTML = docLinkHtml;\n",
              "          element.appendChild(docLink);\n",
              "        }\n",
              "      </script>\n",
              "    </div>\n",
              "  </div>\n",
              "  "
            ]
          },
          "metadata": {},
          "execution_count": 674
        }
      ]
    },
    {
      "cell_type": "code",
      "source": [
        "all_countries_pivot_type = all_countries_pivot_type.fillna(0)\n"
      ],
      "metadata": {
        "id": "TelYdxLuJRrW"
      },
      "execution_count": 693,
      "outputs": []
    },
    {
      "cell_type": "code",
      "source": [
        "\n",
        "\n",
        "all_countries_pivot_type[\"Total Sales\"] = all_countries_pivot_type[\"Biopharma\"] +all_countries_pivot_type[\"GAP\"] + all_countries_pivot_type[\"Commercial\"] + all_countries_pivot_type[\"ISTs\"]\n",
        "\n",
        "all_countries_pivot_type[\"Percent Commercial\"] = (all_countries_pivot_type[\"Commercial\"]/all_countries_pivot_type[\"Total Sales\"])*100\n",
        "\n",
        "all_countries_pivot_type[\"Percent Biopharma\"] = (all_countries_pivot_type[\"Biopharma\"]/all_countries_pivot_type[\"Total Sales\"])*100\n",
        "\n",
        "all_countries_pivot_type[\"Percent GAP\"] = (all_countries_pivot_type[\"GAP\"]/all_countries_pivot_type[\"Total Sales\"])*100\n",
        "\n",
        "all_countries_pivot_type[\"Percent ISTs\"] = (all_countries_pivot_type[\"ISTs\"]/all_countries_pivot_type[\"Total Sales\"])*100\n"
      ],
      "metadata": {
        "id": "zCsamz_--nUy"
      },
      "execution_count": 686,
      "outputs": []
    },
    {
      "cell_type": "code",
      "source": [
        "all_countries_pivot_type.head(2)"
      ],
      "metadata": {
        "colab": {
          "base_uri": "https://localhost:8080/",
          "height": 143
        },
        "id": "bM2SLhOaIQew",
        "outputId": "93165357-cae5-4c56-aa44-e01fb3fad2ca"
      },
      "execution_count": 689,
      "outputs": [
        {
          "output_type": "execute_result",
          "data": {
            "text/plain": [
              "Type        Biopharma  Commercial  GAP   ISTs  Total Sales  \\\n",
              "Year_Month                                                   \n",
              "2019-01-01      105.0        26.0  0.0  36.71       167.71   \n",
              "2019-02-01      110.0        18.0  0.0  35.03       163.03   \n",
              "\n",
              "Type        Percent Commercial  Percent Biopharma  Percent GAP  Percent ISTs  \n",
              "Year_Month                                                                    \n",
              "2019-01-01               15.50              62.61          0.0         21.89  \n",
              "2019-02-01               11.04              67.47          0.0         21.48  "
            ],
            "text/html": [
              "\n",
              "  <div id=\"df-e9745408-753f-4eb5-90a2-253b772d7100\">\n",
              "    <div class=\"colab-df-container\">\n",
              "      <div>\n",
              "<style scoped>\n",
              "    .dataframe tbody tr th:only-of-type {\n",
              "        vertical-align: middle;\n",
              "    }\n",
              "\n",
              "    .dataframe tbody tr th {\n",
              "        vertical-align: top;\n",
              "    }\n",
              "\n",
              "    .dataframe thead th {\n",
              "        text-align: right;\n",
              "    }\n",
              "</style>\n",
              "<table border=\"1\" class=\"dataframe\">\n",
              "  <thead>\n",
              "    <tr style=\"text-align: right;\">\n",
              "      <th>Type</th>\n",
              "      <th>Biopharma</th>\n",
              "      <th>Commercial</th>\n",
              "      <th>GAP</th>\n",
              "      <th>ISTs</th>\n",
              "      <th>Total Sales</th>\n",
              "      <th>Percent Commercial</th>\n",
              "      <th>Percent Biopharma</th>\n",
              "      <th>Percent GAP</th>\n",
              "      <th>Percent ISTs</th>\n",
              "    </tr>\n",
              "    <tr>\n",
              "      <th>Year_Month</th>\n",
              "      <th></th>\n",
              "      <th></th>\n",
              "      <th></th>\n",
              "      <th></th>\n",
              "      <th></th>\n",
              "      <th></th>\n",
              "      <th></th>\n",
              "      <th></th>\n",
              "      <th></th>\n",
              "    </tr>\n",
              "  </thead>\n",
              "  <tbody>\n",
              "    <tr>\n",
              "      <th>2019-01-01</th>\n",
              "      <td>105.0</td>\n",
              "      <td>26.0</td>\n",
              "      <td>0.0</td>\n",
              "      <td>36.71</td>\n",
              "      <td>167.71</td>\n",
              "      <td>15.50</td>\n",
              "      <td>62.61</td>\n",
              "      <td>0.0</td>\n",
              "      <td>21.89</td>\n",
              "    </tr>\n",
              "    <tr>\n",
              "      <th>2019-02-01</th>\n",
              "      <td>110.0</td>\n",
              "      <td>18.0</td>\n",
              "      <td>0.0</td>\n",
              "      <td>35.03</td>\n",
              "      <td>163.03</td>\n",
              "      <td>11.04</td>\n",
              "      <td>67.47</td>\n",
              "      <td>0.0</td>\n",
              "      <td>21.48</td>\n",
              "    </tr>\n",
              "  </tbody>\n",
              "</table>\n",
              "</div>\n",
              "      <button class=\"colab-df-convert\" onclick=\"convertToInteractive('df-e9745408-753f-4eb5-90a2-253b772d7100')\"\n",
              "              title=\"Convert this dataframe to an interactive table.\"\n",
              "              style=\"display:none;\">\n",
              "        \n",
              "  <svg xmlns=\"http://www.w3.org/2000/svg\" height=\"24px\"viewBox=\"0 0 24 24\"\n",
              "       width=\"24px\">\n",
              "    <path d=\"M0 0h24v24H0V0z\" fill=\"none\"/>\n",
              "    <path d=\"M18.56 5.44l.94 2.06.94-2.06 2.06-.94-2.06-.94-.94-2.06-.94 2.06-2.06.94zm-11 1L8.5 8.5l.94-2.06 2.06-.94-2.06-.94L8.5 2.5l-.94 2.06-2.06.94zm10 10l.94 2.06.94-2.06 2.06-.94-2.06-.94-.94-2.06-.94 2.06-2.06.94z\"/><path d=\"M17.41 7.96l-1.37-1.37c-.4-.4-.92-.59-1.43-.59-.52 0-1.04.2-1.43.59L10.3 9.45l-7.72 7.72c-.78.78-.78 2.05 0 2.83L4 21.41c.39.39.9.59 1.41.59.51 0 1.02-.2 1.41-.59l7.78-7.78 2.81-2.81c.8-.78.8-2.07 0-2.86zM5.41 20L4 18.59l7.72-7.72 1.47 1.35L5.41 20z\"/>\n",
              "  </svg>\n",
              "      </button>\n",
              "      \n",
              "  <style>\n",
              "    .colab-df-container {\n",
              "      display:flex;\n",
              "      flex-wrap:wrap;\n",
              "      gap: 12px;\n",
              "    }\n",
              "\n",
              "    .colab-df-convert {\n",
              "      background-color: #E8F0FE;\n",
              "      border: none;\n",
              "      border-radius: 50%;\n",
              "      cursor: pointer;\n",
              "      display: none;\n",
              "      fill: #1967D2;\n",
              "      height: 32px;\n",
              "      padding: 0 0 0 0;\n",
              "      width: 32px;\n",
              "    }\n",
              "\n",
              "    .colab-df-convert:hover {\n",
              "      background-color: #E2EBFA;\n",
              "      box-shadow: 0px 1px 2px rgba(60, 64, 67, 0.3), 0px 1px 3px 1px rgba(60, 64, 67, 0.15);\n",
              "      fill: #174EA6;\n",
              "    }\n",
              "\n",
              "    [theme=dark] .colab-df-convert {\n",
              "      background-color: #3B4455;\n",
              "      fill: #D2E3FC;\n",
              "    }\n",
              "\n",
              "    [theme=dark] .colab-df-convert:hover {\n",
              "      background-color: #434B5C;\n",
              "      box-shadow: 0px 1px 3px 1px rgba(0, 0, 0, 0.15);\n",
              "      filter: drop-shadow(0px 1px 2px rgba(0, 0, 0, 0.3));\n",
              "      fill: #FFFFFF;\n",
              "    }\n",
              "  </style>\n",
              "\n",
              "      <script>\n",
              "        const buttonEl =\n",
              "          document.querySelector('#df-e9745408-753f-4eb5-90a2-253b772d7100 button.colab-df-convert');\n",
              "        buttonEl.style.display =\n",
              "          google.colab.kernel.accessAllowed ? 'block' : 'none';\n",
              "\n",
              "        async function convertToInteractive(key) {\n",
              "          const element = document.querySelector('#df-e9745408-753f-4eb5-90a2-253b772d7100');\n",
              "          const dataTable =\n",
              "            await google.colab.kernel.invokeFunction('convertToInteractive',\n",
              "                                                     [key], {});\n",
              "          if (!dataTable) return;\n",
              "\n",
              "          const docLinkHtml = 'Like what you see? Visit the ' +\n",
              "            '<a target=\"_blank\" href=https://colab.research.google.com/notebooks/data_table.ipynb>data table notebook</a>'\n",
              "            + ' to learn more about interactive tables.';\n",
              "          element.innerHTML = '';\n",
              "          dataTable['output_type'] = 'display_data';\n",
              "          await google.colab.output.renderOutput(dataTable, element);\n",
              "          const docLink = document.createElement('div');\n",
              "          docLink.innerHTML = docLinkHtml;\n",
              "          element.appendChild(docLink);\n",
              "        }\n",
              "      </script>\n",
              "    </div>\n",
              "  </div>\n",
              "  "
            ]
          },
          "metadata": {},
          "execution_count": 689
        }
      ]
    },
    {
      "cell_type": "code",
      "source": [
        "# Stackplot with X, Y, colors value\n",
        "#plt.style.use('ggplot')\n",
        "plt.subplots(figsize=(16, 8))\n",
        "\n",
        "\n",
        "# Plot x-labels, y-label and data\n",
        "plt.plot([], [], color =\"lightsteelblue\",\n",
        "         label =\"Biopharma\")\n",
        "plt.plot([], [], color ='dimgrey',\n",
        "         label ='Commercial')\n",
        "plt.plot([], [], color ='cornsilk',\n",
        "         label ='GAP')\n",
        "plt.plot([], [], color ='lightcoral',\n",
        "         label ='ISTs')\n",
        "\n",
        "\n",
        "plt.stackplot(all_countries_pivot_type.index, all_countries_pivot_type[\"Percent Biopharma\"],\n",
        "              all_countries_pivot_type[\"Percent Commercial\"],\n",
        "              all_countries_pivot_type[\"Percent GAP\"],\n",
        "              all_countries_pivot_type[\"Percent ISTs\"],\n",
        "              colors =[\"lightsteelblue\", 'dimgrey', 'cornsilk', 'lightcoral'])\n",
        " \n",
        "plt.grid(False)\n",
        "plt.legend(loc='upper left')\n",
        "# Days\n",
        "plt.xlabel('Time in Month')\n",
        " \n",
        "# No of hours\n",
        "plt.ylabel('Percentage')\n",
        " \n",
        "# Title of Graph\n",
        "plt.title('Percentage of Samples from each Category')\n",
        "\n",
        " \n",
        "# Displaying Graph\n",
        "plt.show()"
      ],
      "metadata": {
        "colab": {
          "base_uri": "https://localhost:8080/",
          "height": 517
        },
        "id": "jIbZ6zayD1H0",
        "outputId": "833aa7e3-8b3d-4bd6-e7c3-e7021e7439da"
      },
      "execution_count": 692,
      "outputs": [
        {
          "output_type": "display_data",
          "data": {
            "text/plain": [
              "<Figure size 1152x576 with 1 Axes>"
            ],
            "image/png": "[encoded data removed]"
          },
          "metadata": {}
        }
      ]
    },
    {
      "cell_type": "markdown",
      "source": [
        "#### Add second y axis"
      ],
      "metadata": {
        "id": "ZQfFLIQROp7x"
      }
    },
    {
      "cell_type": "code",
      "source": [
        "# Stackplot with X, Y, colors value\n",
        "#plt.style.use('ggplot')\n",
        "plt.subplots(figsize=(16, 8))\n",
        "\n",
        "fig, ax = plt.subplots(figsize = (16, 8))\n",
        "\n",
        "ax2 = ax.twinx()\n",
        "\n",
        "# Plot x-labels, y-label and data\n",
        "ax.plot([], [], color =\"lightsteelblue\",\n",
        "         label =\"Biopharma\")\n",
        "ax.plot([], [], color ='dimgrey',\n",
        "         label ='Commercial')\n",
        "ax.plot([], [], color ='cornsilk',\n",
        "         label ='GAP')\n",
        "ax.plot([], [], color ='lightcoral',\n",
        "         label ='ISTs')\n",
        "\n",
        "\n",
        "ax.stackplot(all_countries_pivot_type.index, all_countries_pivot_type[\"Percent Biopharma\"],\n",
        "              all_countries_pivot_type[\"Percent Commercial\"],\n",
        "              all_countries_pivot_type[\"Percent GAP\"],\n",
        "              all_countries_pivot_type[\"Percent ISTs\"],\n",
        "              colors =[\"lightsteelblue\", 'dimgrey', 'cornsilk', 'lightcoral'])\n",
        "\n",
        "ax2.plot(all_countries_pivot_type.index, all_countries_pivot_type[\"Total Sales\"], color = 'b')\n",
        " \n",
        "plt.grid(False)\n",
        "plt.legend(loc='upper left')\n",
        "# Days\n",
        "plt.xlabel('Time in Month')\n",
        " \n",
        "# No of hours\n",
        "plt.ylabel('Percentage')\n",
        " \n",
        "# Title of Graph\n",
        "plt.title('Percentage of Samples from each Category')\n",
        "\n",
        " \n",
        "# Displaying Graph\n",
        "plt.show()"
      ],
      "metadata": {
        "colab": {
          "base_uri": "https://localhost:8080/",
          "height": 988
        },
        "id": "uUc3JwrMHFF0",
        "outputId": "d0048ce0-2cd8-444b-8248-ca25a6a4cc1e"
      },
      "execution_count": 697,
      "outputs": [
        {
          "output_type": "stream",
          "name": "stderr",
          "text": [
            "WARNING:matplotlib.legend:No handles with labels found to put in legend.\n"
          ]
        },
        {
          "output_type": "display_data",
          "data": {
            "text/plain": [
              "<Figure size 1152x576 with 1 Axes>"
            ],
            "image/png": "[encoded data removed]"
          },
          "metadata": {}
        },
        {
          "output_type": "display_data",
          "data": {
            "text/plain": [
              "<Figure size 1152x576 with 2 Axes>"
            ],
            "image/png": "[encoded data removed]"
          },
          "metadata": {}
        }
      ]
    },
    {
      "cell_type": "code",
      "source": [
        "fig, ax = plt.subplots(figsize = (10, 5))\n",
        "plt.title('Example of Two Y labels')\n",
        " \n",
        "# using the twinx() for creating another\n",
        "# axes object for secondary y-Axis\n",
        "ax2 = ax.twinx()\n",
        "ax.plot(x, y1, color = 'g')\n",
        "ax2.plot(x, y2, color = 'b')"
      ],
      "metadata": {
        "id": "FZ0Ge3dQOoPo"
      },
      "execution_count": null,
      "outputs": []
    },
    {
      "cell_type": "code",
      "source": [],
      "metadata": {
        "id": "hKfzWQ1xOop7"
      },
      "execution_count": null,
      "outputs": []
    },
    {
      "cell_type": "code",
      "source": [],
      "metadata": {
        "id": "dVDFq6dCOow3"
      },
      "execution_count": null,
      "outputs": []
    },
    {
      "cell_type": "code",
      "source": [],
      "metadata": {
        "id": "ZaZUZf7GOo0W"
      },
      "execution_count": null,
      "outputs": []
    },
    {
      "cell_type": "code",
      "source": [
        "all_countries_pivot_type.sample(3)"
      ],
      "metadata": {
        "colab": {
          "base_uri": "https://localhost:8080/",
          "height": 175
        },
        "id": "RDLsELqyD1mR",
        "outputId": "61b9a3c3-d98d-4daf-882f-190929f9d9fc"
      },
      "execution_count": 694,
      "outputs": [
        {
          "output_type": "execute_result",
          "data": {
            "text/plain": [
              "Type        Biopharma  Commercial    GAP   ISTs  Total Sales  \\\n",
              "Year_Month                                                     \n",
              "2021-02-01       56.0        61.0  37.33  22.60       176.93   \n",
              "2022-06-01      156.0       113.0   2.07  18.34       289.41   \n",
              "2019-06-01      127.0        30.0   0.00  20.30       177.30   \n",
              "\n",
              "Type        Percent Commercial  Percent Biopharma  Percent GAP  Percent ISTs  \n",
              "Year_Month                                                                    \n",
              "2021-02-01               34.48              31.65        21.10         12.77  \n",
              "2022-06-01               39.04              53.90         0.72          6.34  \n",
              "2019-06-01               16.92              71.63         0.00         11.45  "
            ],
            "text/html": [
              "\n",
              "  <div id=\"df-a5ebb128-b990-421b-9ec2-fff38594cc4c\">\n",
              "    <div class=\"colab-df-container\">\n",
              "      <div>\n",
              "<style scoped>\n",
              "    .dataframe tbody tr th:only-of-type {\n",
              "        vertical-align: middle;\n",
              "    }\n",
              "\n",
              "    .dataframe tbody tr th {\n",
              "        vertical-align: top;\n",
              "    }\n",
              "\n",
              "    .dataframe thead th {\n",
              "        text-align: right;\n",
              "    }\n",
              "</style>\n",
              "<table border=\"1\" class=\"dataframe\">\n",
              "  <thead>\n",
              "    <tr style=\"text-align: right;\">\n",
              "      <th>Type</th>\n",
              "      <th>Biopharma</th>\n",
              "      <th>Commercial</th>\n",
              "      <th>GAP</th>\n",
              "      <th>ISTs</th>\n",
              "      <th>Total Sales</th>\n",
              "      <th>Percent Commercial</th>\n",
              "      <th>Percent Biopharma</th>\n",
              "      <th>Percent GAP</th>\n",
              "      <th>Percent ISTs</th>\n",
              "    </tr>\n",
              "    <tr>\n",
              "      <th>Year_Month</th>\n",
              "      <th></th>\n",
              "      <th></th>\n",
              "      <th></th>\n",
              "      <th></th>\n",
              "      <th></th>\n",
              "      <th></th>\n",
              "      <th></th>\n",
              "      <th></th>\n",
              "      <th></th>\n",
              "    </tr>\n",
              "  </thead>\n",
              "  <tbody>\n",
              "    <tr>\n",
              "      <th>2021-02-01</th>\n",
              "      <td>56.0</td>\n",
              "      <td>61.0</td>\n",
              "      <td>37.33</td>\n",
              "      <td>22.60</td>\n",
              "      <td>176.93</td>\n",
              "      <td>34.48</td>\n",
              "      <td>31.65</td>\n",
              "      <td>21.10</td>\n",
              "      <td>12.77</td>\n",
              "    </tr>\n",
              "    <tr>\n",
              "      <th>2022-06-01</th>\n",
              "      <td>156.0</td>\n",
              "      <td>113.0</td>\n",
              "      <td>2.07</td>\n",
              "      <td>18.34</td>\n",
              "      <td>289.41</td>\n",
              "      <td>39.04</td>\n",
              "      <td>53.90</td>\n",
              "      <td>0.72</td>\n",
              "      <td>6.34</td>\n",
              "    </tr>\n",
              "    <tr>\n",
              "      <th>2019-06-01</th>\n",
              "      <td>127.0</td>\n",
              "      <td>30.0</td>\n",
              "      <td>0.00</td>\n",
              "      <td>20.30</td>\n",
              "      <td>177.30</td>\n",
              "      <td>16.92</td>\n",
              "      <td>71.63</td>\n",
              "      <td>0.00</td>\n",
              "      <td>11.45</td>\n",
              "    </tr>\n",
              "  </tbody>\n",
              "</table>\n",
              "</div>\n",
              "      <button class=\"colab-df-convert\" onclick=\"convertToInteractive('df-a5ebb128-b990-421b-9ec2-fff38594cc4c')\"\n",
              "              title=\"Convert this dataframe to an interactive table.\"\n",
              "              style=\"display:none;\">\n",
              "        \n",
              "  <svg xmlns=\"http://www.w3.org/2000/svg\" height=\"24px\"viewBox=\"0 0 24 24\"\n",
              "       width=\"24px\">\n",
              "    <path d=\"M0 0h24v24H0V0z\" fill=\"none\"/>\n",
              "    <path d=\"M18.56 5.44l.94 2.06.94-2.06 2.06-.94-2.06-.94-.94-2.06-.94 2.06-2.06.94zm-11 1L8.5 8.5l.94-2.06 2.06-.94-2.06-.94L8.5 2.5l-.94 2.06-2.06.94zm10 10l.94 2.06.94-2.06 2.06-.94-2.06-.94-.94-2.06-.94 2.06-2.06.94z\"/><path d=\"M17.41 7.96l-1.37-1.37c-.4-.4-.92-.59-1.43-.59-.52 0-1.04.2-1.43.59L10.3 9.45l-7.72 7.72c-.78.78-.78 2.05 0 2.83L4 21.41c.39.39.9.59 1.41.59.51 0 1.02-.2 1.41-.59l7.78-7.78 2.81-2.81c.8-.78.8-2.07 0-2.86zM5.41 20L4 18.59l7.72-7.72 1.47 1.35L5.41 20z\"/>\n",
              "  </svg>\n",
              "      </button>\n",
              "      \n",
              "  <style>\n",
              "    .colab-df-container {\n",
              "      display:flex;\n",
              "      flex-wrap:wrap;\n",
              "      gap: 12px;\n",
              "    }\n",
              "\n",
              "    .colab-df-convert {\n",
              "      background-color: #E8F0FE;\n",
              "      border: none;\n",
              "      border-radius: 50%;\n",
              "      cursor: pointer;\n",
              "      display: none;\n",
              "      fill: #1967D2;\n",
              "      height: 32px;\n",
              "      padding: 0 0 0 0;\n",
              "      width: 32px;\n",
              "    }\n",
              "\n",
              "    .colab-df-convert:hover {\n",
              "      background-color: #E2EBFA;\n",
              "      box-shadow: 0px 1px 2px rgba(60, 64, 67, 0.3), 0px 1px 3px 1px rgba(60, 64, 67, 0.15);\n",
              "      fill: #174EA6;\n",
              "    }\n",
              "\n",
              "    [theme=dark] .colab-df-convert {\n",
              "      background-color: #3B4455;\n",
              "      fill: #D2E3FC;\n",
              "    }\n",
              "\n",
              "    [theme=dark] .colab-df-convert:hover {\n",
              "      background-color: #434B5C;\n",
              "      box-shadow: 0px 1px 3px 1px rgba(0, 0, 0, 0.15);\n",
              "      filter: drop-shadow(0px 1px 2px rgba(0, 0, 0, 0.3));\n",
              "      fill: #FFFFFF;\n",
              "    }\n",
              "  </style>\n",
              "\n",
              "      <script>\n",
              "        const buttonEl =\n",
              "          document.querySelector('#df-a5ebb128-b990-421b-9ec2-fff38594cc4c button.colab-df-convert');\n",
              "        buttonEl.style.display =\n",
              "          google.colab.kernel.accessAllowed ? 'block' : 'none';\n",
              "\n",
              "        async function convertToInteractive(key) {\n",
              "          const element = document.querySelector('#df-a5ebb128-b990-421b-9ec2-fff38594cc4c');\n",
              "          const dataTable =\n",
              "            await google.colab.kernel.invokeFunction('convertToInteractive',\n",
              "                                                     [key], {});\n",
              "          if (!dataTable) return;\n",
              "\n",
              "          const docLinkHtml = 'Like what you see? Visit the ' +\n",
              "            '<a target=\"_blank\" href=https://colab.research.google.com/notebooks/data_table.ipynb>data table notebook</a>'\n",
              "            + ' to learn more about interactive tables.';\n",
              "          element.innerHTML = '';\n",
              "          dataTable['output_type'] = 'display_data';\n",
              "          await google.colab.output.renderOutput(dataTable, element);\n",
              "          const docLink = document.createElement('div');\n",
              "          docLink.innerHTML = docLinkHtml;\n",
              "          element.appendChild(docLink);\n",
              "        }\n",
              "      </script>\n",
              "    </div>\n",
              "  </div>\n",
              "  "
            ]
          },
          "metadata": {},
          "execution_count": 694
        }
      ]
    },
    {
      "cell_type": "code",
      "source": [],
      "metadata": {
        "id": "7lBw4IVi-nIH"
      },
      "execution_count": 680,
      "outputs": []
    },
    {
      "cell_type": "code",
      "source": [],
      "metadata": {
        "id": "0RlKuNMg-m1U"
      },
      "execution_count": 680,
      "outputs": []
    },
    {
      "cell_type": "code",
      "source": [],
      "metadata": {
        "id": "HRmMcJWI-lzO"
      },
      "execution_count": 680,
      "outputs": []
    },
    {
      "cell_type": "code",
      "source": [],
      "metadata": {
        "id": "Lj7Hm4I2tQC6"
      },
      "execution_count": 680,
      "outputs": []
    },
    {
      "cell_type": "code",
      "source": [],
      "metadata": {
        "id": "wo0KXJHKtQS4"
      },
      "execution_count": 680,
      "outputs": []
    },
    {
      "cell_type": "markdown",
      "source": [
        " ## Plots"
      ],
      "metadata": {
        "id": "iliGWRqM77hp"
      }
    },
    {
      "cell_type": "code",
      "source": [
        "countries_df = countries_df.drop(\"Accession #\", axis = 1)\n",
        "countries_df.head()"
      ],
      "metadata": {
        "colab": {
          "base_uri": "https://localhost:8080/",
          "height": 237
        },
        "id": "70TZTSTe78bO",
        "outputId": "ebdce12c-f6e8-4475-986f-2b49eb203475"
      },
      "execution_count": 681,
      "outputs": [
        {
          "output_type": "execute_result",
          "data": {
            "text/plain": [
              "              Reporting Country       Type  Sales Year_Month\n",
              "Date Received                                               \n",
              "2019-11-25          SWITZERLAND  Biopharma      1 2019-11-01\n",
              "2019-11-26               CANADA  Biopharma      1 2019-11-01\n",
              "2019-11-29              BELGIUM  Biopharma      1 2019-11-01\n",
              "2019-11-30              GERMANY  Biopharma      1 2019-11-01\n",
              "2019-11-30              GERMANY  Biopharma      1 2019-11-01"
            ],
            "text/html": [
              "\n",
              "  <div id=\"df-637b3caa-62e0-4331-81c0-7307231dacf5\">\n",
              "    <div class=\"colab-df-container\">\n",
              "      <div>\n",
              "<style scoped>\n",
              "    .dataframe tbody tr th:only-of-type {\n",
              "        vertical-align: middle;\n",
              "    }\n",
              "\n",
              "    .dataframe tbody tr th {\n",
              "        vertical-align: top;\n",
              "    }\n",
              "\n",
              "    .dataframe thead th {\n",
              "        text-align: right;\n",
              "    }\n",
              "</style>\n",
              "<table border=\"1\" class=\"dataframe\">\n",
              "  <thead>\n",
              "    <tr style=\"text-align: right;\">\n",
              "      <th></th>\n",
              "      <th>Reporting Country</th>\n",
              "      <th>Type</th>\n",
              "      <th>Sales</th>\n",
              "      <th>Year_Month</th>\n",
              "    </tr>\n",
              "    <tr>\n",
              "      <th>Date Received</th>\n",
              "      <th></th>\n",
              "      <th></th>\n",
              "      <th></th>\n",
              "      <th></th>\n",
              "    </tr>\n",
              "  </thead>\n",
              "  <tbody>\n",
              "    <tr>\n",
              "      <th>2019-11-25</th>\n",
              "      <td>SWITZERLAND</td>\n",
              "      <td>Biopharma</td>\n",
              "      <td>1</td>\n",
              "      <td>2019-11-01</td>\n",
              "    </tr>\n",
              "    <tr>\n",
              "      <th>2019-11-26</th>\n",
              "      <td>CANADA</td>\n",
              "      <td>Biopharma</td>\n",
              "      <td>1</td>\n",
              "      <td>2019-11-01</td>\n",
              "    </tr>\n",
              "    <tr>\n",
              "      <th>2019-11-29</th>\n",
              "      <td>BELGIUM</td>\n",
              "      <td>Biopharma</td>\n",
              "      <td>1</td>\n",
              "      <td>2019-11-01</td>\n",
              "    </tr>\n",
              "    <tr>\n",
              "      <th>2019-11-30</th>\n",
              "      <td>GERMANY</td>\n",
              "      <td>Biopharma</td>\n",
              "      <td>1</td>\n",
              "      <td>2019-11-01</td>\n",
              "    </tr>\n",
              "    <tr>\n",
              "      <th>2019-11-30</th>\n",
              "      <td>GERMANY</td>\n",
              "      <td>Biopharma</td>\n",
              "      <td>1</td>\n",
              "      <td>2019-11-01</td>\n",
              "    </tr>\n",
              "  </tbody>\n",
              "</table>\n",
              "</div>\n",
              "      <button class=\"colab-df-convert\" onclick=\"convertToInteractive('df-637b3caa-62e0-4331-81c0-7307231dacf5')\"\n",
              "              title=\"Convert this dataframe to an interactive table.\"\n",
              "              style=\"display:none;\">\n",
              "        \n",
              "  <svg xmlns=\"http://www.w3.org/2000/svg\" height=\"24px\"viewBox=\"0 0 24 24\"\n",
              "       width=\"24px\">\n",
              "    <path d=\"M0 0h24v24H0V0z\" fill=\"none\"/>\n",
              "    <path d=\"M18.56 5.44l.94 2.06.94-2.06 2.06-.94-2.06-.94-.94-2.06-.94 2.06-2.06.94zm-11 1L8.5 8.5l.94-2.06 2.06-.94-2.06-.94L8.5 2.5l-.94 2.06-2.06.94zm10 10l.94 2.06.94-2.06 2.06-.94-2.06-.94-.94-2.06-.94 2.06-2.06.94z\"/><path d=\"M17.41 7.96l-1.37-1.37c-.4-.4-.92-.59-1.43-.59-.52 0-1.04.2-1.43.59L10.3 9.45l-7.72 7.72c-.78.78-.78 2.05 0 2.83L4 21.41c.39.39.9.59 1.41.59.51 0 1.02-.2 1.41-.59l7.78-7.78 2.81-2.81c.8-.78.8-2.07 0-2.86zM5.41 20L4 18.59l7.72-7.72 1.47 1.35L5.41 20z\"/>\n",
              "  </svg>\n",
              "      </button>\n",
              "      \n",
              "  <style>\n",
              "    .colab-df-container {\n",
              "      display:flex;\n",
              "      flex-wrap:wrap;\n",
              "      gap: 12px;\n",
              "    }\n",
              "\n",
              "    .colab-df-convert {\n",
              "      background-color: #E8F0FE;\n",
              "      border: none;\n",
              "      border-radius: 50%;\n",
              "      cursor: pointer;\n",
              "      display: none;\n",
              "      fill: #1967D2;\n",
              "      height: 32px;\n",
              "      padding: 0 0 0 0;\n",
              "      width: 32px;\n",
              "    }\n",
              "\n",
              "    .colab-df-convert:hover {\n",
              "      background-color: #E2EBFA;\n",
              "      box-shadow: 0px 1px 2px rgba(60, 64, 67, 0.3), 0px 1px 3px 1px rgba(60, 64, 67, 0.15);\n",
              "      fill: #174EA6;\n",
              "    }\n",
              "\n",
              "    [theme=dark] .colab-df-convert {\n",
              "      background-color: #3B4455;\n",
              "      fill: #D2E3FC;\n",
              "    }\n",
              "\n",
              "    [theme=dark] .colab-df-convert:hover {\n",
              "      background-color: #434B5C;\n",
              "      box-shadow: 0px 1px 3px 1px rgba(0, 0, 0, 0.15);\n",
              "      filter: drop-shadow(0px 1px 2px rgba(0, 0, 0, 0.3));\n",
              "      fill: #FFFFFF;\n",
              "    }\n",
              "  </style>\n",
              "\n",
              "      <script>\n",
              "        const buttonEl =\n",
              "          document.querySelector('#df-637b3caa-62e0-4331-81c0-7307231dacf5 button.colab-df-convert');\n",
              "        buttonEl.style.display =\n",
              "          google.colab.kernel.accessAllowed ? 'block' : 'none';\n",
              "\n",
              "        async function convertToInteractive(key) {\n",
              "          const element = document.querySelector('#df-637b3caa-62e0-4331-81c0-7307231dacf5');\n",
              "          const dataTable =\n",
              "            await google.colab.kernel.invokeFunction('convertToInteractive',\n",
              "                                                     [key], {});\n",
              "          if (!dataTable) return;\n",
              "\n",
              "          const docLinkHtml = 'Like what you see? Visit the ' +\n",
              "            '<a target=\"_blank\" href=https://colab.research.google.com/notebooks/data_table.ipynb>data table notebook</a>'\n",
              "            + ' to learn more about interactive tables.';\n",
              "          element.innerHTML = '';\n",
              "          dataTable['output_type'] = 'display_data';\n",
              "          await google.colab.output.renderOutput(dataTable, element);\n",
              "          const docLink = document.createElement('div');\n",
              "          docLink.innerHTML = docLinkHtml;\n",
              "          element.appendChild(docLink);\n",
              "        }\n",
              "      </script>\n",
              "    </div>\n",
              "  </div>\n",
              "  "
            ]
          },
          "metadata": {},
          "execution_count": 681
        }
      ]
    },
    {
      "cell_type": "code",
      "source": [],
      "metadata": {
        "id": "KuPsQtS_fuSA"
      },
      "execution_count": 681,
      "outputs": []
    },
    {
      "cell_type": "markdown",
      "source": [
        "#### Use the subplots method"
      ],
      "metadata": {
        "id": "oXKCHu1o-ASw"
      }
    },
    {
      "cell_type": "code",
      "source": [
        "#fig, axes = plt.subplots(2, 3, figsize=(24, 12), sharey = False)\n",
        "\n",
        "#for col, ax in zip(col_list, axes.flatten()):\n",
        " #  sns.lineplot(data =  sandbox, x = \"Year_Month\", y = \"Sales\" , hue = \"Type\", ax = ax)\n",
        "   #ax.plot(t.index, t[col], hue = \"Type\" color = \"#ae34eb\")\n",
        "  # ax.set_title(col[1])"
      ],
      "metadata": {
        "id": "HArc3jRg97Ex"
      },
      "execution_count": 682,
      "outputs": []
    },
    {
      "cell_type": "code",
      "source": [
        "#fig, axes = plt.subplots(2, 3, figsize=(24, 12), sharey = False)\n",
        "\n",
        "#for col, ax in zip(col_list, axes.flatten()):\n",
        "   #sns.lineplot(data =  sandbox, x = \"Year_Month\", y = \"Sales\" , hue = \"Type\", ax = ax)\n",
        "   #ax.plot(sandbox.index, sandbox[col], color = \"#ae34eb\")\n",
        "   #ax.set_title(col[1])"
      ],
      "metadata": {
        "id": "x2Nn9POt97t5"
      },
      "execution_count": 683,
      "outputs": []
    },
    {
      "cell_type": "code",
      "source": [],
      "metadata": {
        "id": "_VXbQhV5974y"
      },
      "execution_count": 683,
      "outputs": []
    },
    {
      "cell_type": "code",
      "source": [],
      "metadata": {
        "id": "-dKa4I8SjbUD"
      },
      "execution_count": 683,
      "outputs": []
    },
    {
      "cell_type": "code",
      "source": [],
      "metadata": {
        "id": "dXKkPvg86zWR"
      },
      "execution_count": 683,
      "outputs": []
    },
    {
      "cell_type": "code",
      "source": [],
      "metadata": {
        "id": "isAP4uiG2DMi"
      },
      "execution_count": 683,
      "outputs": []
    },
    {
      "cell_type": "code",
      "source": [],
      "metadata": {
        "id": "mDMA7RNp2ENK"
      },
      "execution_count": 683,
      "outputs": []
    },
    {
      "cell_type": "code",
      "source": [],
      "metadata": {
        "id": "f-PVg4sv2FpL"
      },
      "execution_count": 683,
      "outputs": []
    },
    {
      "cell_type": "code",
      "source": [],
      "metadata": {
        "id": "3qQVoMVdzgnN"
      },
      "execution_count": 683,
      "outputs": []
    }
  ]
}