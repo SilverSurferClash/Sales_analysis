{
  "nbformat": 4,
  "nbformat_minor": 0,
  "metadata": {
    "colab": {
      "provenance": [],
      "mount_file_id": "1TQXXPnFQWIdLAN3OjU1DfPxwMMCygS82",
      "authorship_tag": "ABX9TyN7MDD3kDzivbu1EvsEYszL",
      "include_colab_link": true
    },
    "kernelspec": {
      "name": "python3",
      "display_name": "Python 3"
    },
    "language_info": {
      "name": "python"
    }
  },
  "cells": [
    {
      "cell_type": "markdown",
      "metadata": {
        "id": "view-in-github",
        "colab_type": "text"
      },
      "source": [
        "<a href=\"https://colab.research.google.com/github/SilverSurferClash/Sales_analysis/blob/main/Import_clean_SFDC_script.ipynb\" target=\"_parent\"><img src=\"https://colab.research.google.com/assets/colab-badge.svg\" alt=\"Open In Colab\"/></a>"
      ]
    },
    {
      "cell_type": "code",
      "execution_count": 527,
      "metadata": {
        "colab": {
          "base_uri": "https://localhost:8080/"
        },
        "id": "tb4gPZsURoZL",
        "outputId": "e596f085-650f-4022-ad6b-bf9df44b71fc"
      },
      "outputs": [
        {
          "output_type": "stream",
          "name": "stdout",
          "text": [
            "Drive already mounted at /content/drive; to attempt to forcibly remount, call drive.mount(\"/content/drive\", force_remount=True).\n"
          ]
        }
      ],
      "source": [
        "from google.colab import drive\n",
        "drive.mount('/content/drive')\n",
        "from google.colab import files"
      ]
    },
    {
      "cell_type": "code",
      "source": [
        "#!pip freeze > requirements.txt"
      ],
      "metadata": {
        "id": "-mgME99mR4O6"
      },
      "execution_count": 528,
      "outputs": []
    },
    {
      "cell_type": "code",
      "source": [
        "import numpy as np\n",
        "import pandas as pd\n",
        "import matplotlib.pyplot as plt\n",
        "import matplotlib as mpl\n",
        "plt.style.use('dark_background')\n",
        "import seaborn as sns\n",
        "import os\n",
        "pd.set_option('display.max_columns', None)\n",
        "#pd.set_option('display.max_rows', None)\n",
        "pd.set_option('display.precision', 2)\n",
        "#Use option to round floats to two decimals\n",
        "#pd.set_option('display.float_format',  '{:,.2f}'.format)\n",
        "# Use option to display $ dollars\n",
        "#pd.set_option('display.float_format', '${:.2f}'.format)\n",
        "\n",
        "# Plotting pretty figures and avoid blurry images\n",
        "#%config InlineBackend.figure_format = 'retina'\n",
        "# Larger scale for plots in notebooks\n",
        "#sns.set_context('notebook')\n",
        "\n",
        "\n",
        "# Enable multiple cell outputs\n",
        "#from IPython.core.interactiveshell import InteractiveShell\n",
        "#InteractiveShell.ast_node_interactivity = 'all'\n",
        "\n",
        "import warnings\n",
        "warnings.filterwarnings('ignore')              \n"
      ],
      "metadata": {
        "id": "_GQ-qUZJo8VP"
      },
      "execution_count": 529,
      "outputs": []
    },
    {
      "cell_type": "code",
      "source": [
        "os.getcwd()"
      ],
      "metadata": {
        "colab": {
          "base_uri": "https://localhost:8080/",
          "height": 35
        },
        "id": "G8E9lAf0o9MA",
        "outputId": "66caa142-10a5-4610-eaaa-f949ee8f2b43"
      },
      "execution_count": 530,
      "outputs": [
        {
          "output_type": "execute_result",
          "data": {
            "text/plain": [
              "'/content/drive/My Drive/Colab_Notebooks/November_2022'"
            ],
            "application/vnd.google.colaboratory.intrinsic+json": {
              "type": "string"
            }
          },
          "metadata": {},
          "execution_count": 530
        }
      ]
    },
    {
      "cell_type": "code",
      "source": [
        "os.chdir(\"/content/drive/MyDrive/Colab_Notebooks/November_2022\")"
      ],
      "metadata": {
        "id": "yFwfXOr-G3CK"
      },
      "execution_count": 531,
      "outputs": []
    },
    {
      "cell_type": "markdown",
      "source": [
        "#### Helper function"
      ],
      "metadata": {
        "id": "xQA4tOOx7uhz"
      }
    },
    {
      "cell_type": "code",
      "source": [
        "#Create a function that use the second element if the list has a length of 2 other return unknown\n",
        "\n",
        "def clean_up_account(list_of_names):\n",
        "\n",
        "  if len(list_of_names) == 2:\n",
        "    return list_of_names[1]\n",
        "  else:\n",
        "    return list_of_names[0]\n",
        "\n",
        "\n",
        "\n"
      ],
      "metadata": {
        "id": "Qi0iM2y87sv6"
      },
      "execution_count": 532,
      "outputs": []
    },
    {
      "cell_type": "code",
      "source": [
        "#Create a function to clean up the Billing type feature\n"
      ],
      "metadata": {
        "id": "Ets_aMh47sDT"
      },
      "execution_count": 533,
      "outputs": []
    },
    {
      "cell_type": "markdown",
      "source": [
        "Import helper data"
      ],
      "metadata": {
        "id": "3Hna78HQrh41"
      }
    },
    {
      "cell_type": "code",
      "source": [
        "#Import lookup table for countries\n",
        "lookup_countries = pd.read_excel(\"./lookup.xlsx\", sheet_name = 0)\n",
        "#Import the data from SFDC as a excel file\n",
        "import_sfdc = pd.read_excel(\"./Prospective.xlsx\", sheet_name = 0, \n",
        "                            skiprows = 10)\n",
        "#Create dictionairy for maping the lookup value\n",
        "country_dict = dict(zip(lookup_countries[\"Reporting_Country_short\"], lookup_countries[\"Account_Reporting_Country\"]))\n",
        "#Import lookup table for countries\n",
        "lookup_type = pd.read_excel(\"./lookup.xlsx\", sheet_name = \"Type\")\n",
        "#Create dictionairy for maping the lookup values for LIMS ID\n",
        "type_dict = dict(zip(lookup_type[\"LIMS Project ID\"], lookup_type[\"Type\"]))\n",
        "#Dictionaire for AE support countries \n",
        "AE_dict = { 'CANADA': \"AE\", \"SPAIN\" : \"AE\", \"UNITED KINGDOM\" : \"AE\", \"BRAZIL\" : \"AE\", \"TURKEY\" : \"AE\", \"IRELAND\" : \"AE\"}\n",
        "#Import lookup Cancer Type\n",
        "lookup_cancer_type = pd.read_excel(\"./lookup.xlsx\", sheet_name = \"Cancer_type\")\n",
        "cancer_type_dict = dict(zip(lookup_cancer_type[\"Old\"], lookup_cancer_type[\"New\"]))\n",
        "\n",
        "#Inport lookun Billing_type - Needs further work\n",
        "#lookup_billing_type = pd.read_excel(\"./lookup.xlsx\", sheet_name = \"Billing_type\")\n",
        "#billing_type_dict = dict(zip(lookup_billing_type[\"Billing Type\"], lookup_billing_type[\"Billing Type.1\"]))\n"
      ],
      "metadata": {
        "id": "sYKe6D1GrnoC"
      },
      "execution_count": 534,
      "outputs": []
    },
    {
      "cell_type": "code",
      "source": [
        "import_sfdc"
      ],
      "metadata": {
        "colab": {
          "base_uri": "https://localhost:8080/",
          "height": 607
        },
        "id": "PVhqWgzI_8DR",
        "outputId": "feae7fd2-406b-4867-ee29-27a40e6e40a8"
      },
      "execution_count": 535,
      "outputs": [
        {
          "output_type": "execute_result",
          "data": {
            "text/plain": [
              "       Unnamed: 0                                        Accession #  \\\n",
              "0             NaN                                           A0214386   \n",
              "1             NaN                                           A0214865   \n",
              "2             NaN                                           A0215878   \n",
              "3             NaN                                           A0215958   \n",
              "4             NaN                                           A0215959   \n",
              "...           ...                                                ...   \n",
              "15751         NaN                                              Total   \n",
              "15752         NaN                                                NaN   \n",
              "15753         NaN                                                NaN   \n",
              "15754         NaN       Confidential Information - Do Not Distribute   \n",
              "15755         NaN  Copyright © 2000-2022 salesforce.com, inc. All...   \n",
              "\n",
              "      Unnamed: 2 Reporting Country  Billing Type LIMS Project ID  \\\n",
              "0            NaN                CH  Pharma : ROW          AMG_01   \n",
              "1            NaN                CA  Pharma : ROW          AMG_01   \n",
              "2            NaN                BE  Pharma : ROW          AMG_01   \n",
              "3            NaN                DE   Pharma : US          AMG_01   \n",
              "4            NaN                DE  Pharma : ROW          AMG_01   \n",
              "...          ...               ...           ...             ...   \n",
              "15751      Count             15751           NaN             NaN   \n",
              "15752        NaN               NaN           NaN             NaN   \n",
              "15753        NaN               NaN           NaN             NaN   \n",
              "15754        NaN               NaN           NaN             NaN   \n",
              "15755        NaN               NaN           NaN             NaN   \n",
              "\n",
              "                           Account: Account Name  \\\n",
              "0              AMG_01: Universitatsspital Zurich   \n",
              "1        AMG_01: Princess Margaret Cancer Centre   \n",
              "2      AMG_01: Universitair Ziekenhuis Antwerpen   \n",
              "3              AMG_01: Universitatsklinikum Koln   \n",
              "4              AMG_01: Universitatsklinikum Koln   \n",
              "...                                          ...   \n",
              "15751                                        NaN   \n",
              "15752                                        NaN   \n",
              "15753                                        NaN   \n",
              "15754                                        NaN   \n",
              "15755                                        NaN   \n",
              "\n",
              "                  Contact: Full Name Date Received Final Report Date  \\\n",
              "0      Alessandra Curioni Fontecedro    11/25/2019               NaN   \n",
              "1                      Adrian Sacher    11/26/2019               NaN   \n",
              "2                        Hans Prenen    11/29/2019               NaN   \n",
              "3                       Wolf Juergen    11/30/2019               NaN   \n",
              "4                       Wolf Juergen    11/30/2019               NaN   \n",
              "...                              ...           ...               ...   \n",
              "15751                            NaN           NaN               NaN   \n",
              "15752                            NaN           NaN               NaN   \n",
              "15753                            NaN           NaN               NaN   \n",
              "15754                            NaN           NaN               NaN   \n",
              "15755                            NaN           NaN               NaN   \n",
              "\n",
              "          Test Type          Cancer Type  \n",
              "0      Guardant 360  Lung adenocarcinoma  \n",
              "1      Guardant 360  Lung adenocarcinoma  \n",
              "2      Guardant 360  Lung adenocarcinoma  \n",
              "3      Guardant 360  Lung adenocarcinoma  \n",
              "4      Guardant 360  Lung adenocarcinoma  \n",
              "...             ...                  ...  \n",
              "15751           NaN                  NaN  \n",
              "15752           NaN                  NaN  \n",
              "15753           NaN                  NaN  \n",
              "15754           NaN                  NaN  \n",
              "15755           NaN                  NaN  \n",
              "\n",
              "[15756 rows x 12 columns]"
            ],
            "text/html": [
              "\n",
              "  <div id=\"df-3e296f0c-9682-4e4f-bc63-46cd5fedd266\">\n",
              "    <div class=\"colab-df-container\">\n",
              "      <div>\n",
              "<style scoped>\n",
              "    .dataframe tbody tr th:only-of-type {\n",
              "        vertical-align: middle;\n",
              "    }\n",
              "\n",
              "    .dataframe tbody tr th {\n",
              "        vertical-align: top;\n",
              "    }\n",
              "\n",
              "    .dataframe thead th {\n",
              "        text-align: right;\n",
              "    }\n",
              "</style>\n",
              "<table border=\"1\" class=\"dataframe\">\n",
              "  <thead>\n",
              "    <tr style=\"text-align: right;\">\n",
              "      <th></th>\n",
              "      <th>Unnamed: 0</th>\n",
              "      <th>Accession #</th>\n",
              "      <th>Unnamed: 2</th>\n",
              "      <th>Reporting Country</th>\n",
              "      <th>Billing Type</th>\n",
              "      <th>LIMS Project ID</th>\n",
              "      <th>Account: Account Name</th>\n",
              "      <th>Contact: Full Name</th>\n",
              "      <th>Date Received</th>\n",
              "      <th>Final Report Date</th>\n",
              "      <th>Test Type</th>\n",
              "      <th>Cancer Type</th>\n",
              "    </tr>\n",
              "  </thead>\n",
              "  <tbody>\n",
              "    <tr>\n",
              "      <th>0</th>\n",
              "      <td>NaN</td>\n",
              "      <td>A0214386</td>\n",
              "      <td>NaN</td>\n",
              "      <td>CH</td>\n",
              "      <td>Pharma : ROW</td>\n",
              "      <td>AMG_01</td>\n",
              "      <td>AMG_01: Universitatsspital Zurich</td>\n",
              "      <td>Alessandra Curioni Fontecedro</td>\n",
              "      <td>11/25/2019</td>\n",
              "      <td>NaN</td>\n",
              "      <td>Guardant 360</td>\n",
              "      <td>Lung adenocarcinoma</td>\n",
              "    </tr>\n",
              "    <tr>\n",
              "      <th>1</th>\n",
              "      <td>NaN</td>\n",
              "      <td>A0214865</td>\n",
              "      <td>NaN</td>\n",
              "      <td>CA</td>\n",
              "      <td>Pharma : ROW</td>\n",
              "      <td>AMG_01</td>\n",
              "      <td>AMG_01: Princess Margaret Cancer Centre</td>\n",
              "      <td>Adrian Sacher</td>\n",
              "      <td>11/26/2019</td>\n",
              "      <td>NaN</td>\n",
              "      <td>Guardant 360</td>\n",
              "      <td>Lung adenocarcinoma</td>\n",
              "    </tr>\n",
              "    <tr>\n",
              "      <th>2</th>\n",
              "      <td>NaN</td>\n",
              "      <td>A0215878</td>\n",
              "      <td>NaN</td>\n",
              "      <td>BE</td>\n",
              "      <td>Pharma : ROW</td>\n",
              "      <td>AMG_01</td>\n",
              "      <td>AMG_01: Universitair Ziekenhuis Antwerpen</td>\n",
              "      <td>Hans Prenen</td>\n",
              "      <td>11/29/2019</td>\n",
              "      <td>NaN</td>\n",
              "      <td>Guardant 360</td>\n",
              "      <td>Lung adenocarcinoma</td>\n",
              "    </tr>\n",
              "    <tr>\n",
              "      <th>3</th>\n",
              "      <td>NaN</td>\n",
              "      <td>A0215958</td>\n",
              "      <td>NaN</td>\n",
              "      <td>DE</td>\n",
              "      <td>Pharma : US</td>\n",
              "      <td>AMG_01</td>\n",
              "      <td>AMG_01: Universitatsklinikum Koln</td>\n",
              "      <td>Wolf Juergen</td>\n",
              "      <td>11/30/2019</td>\n",
              "      <td>NaN</td>\n",
              "      <td>Guardant 360</td>\n",
              "      <td>Lung adenocarcinoma</td>\n",
              "    </tr>\n",
              "    <tr>\n",
              "      <th>4</th>\n",
              "      <td>NaN</td>\n",
              "      <td>A0215959</td>\n",
              "      <td>NaN</td>\n",
              "      <td>DE</td>\n",
              "      <td>Pharma : ROW</td>\n",
              "      <td>AMG_01</td>\n",
              "      <td>AMG_01: Universitatsklinikum Koln</td>\n",
              "      <td>Wolf Juergen</td>\n",
              "      <td>11/30/2019</td>\n",
              "      <td>NaN</td>\n",
              "      <td>Guardant 360</td>\n",
              "      <td>Lung adenocarcinoma</td>\n",
              "    </tr>\n",
              "    <tr>\n",
              "      <th>...</th>\n",
              "      <td>...</td>\n",
              "      <td>...</td>\n",
              "      <td>...</td>\n",
              "      <td>...</td>\n",
              "      <td>...</td>\n",
              "      <td>...</td>\n",
              "      <td>...</td>\n",
              "      <td>...</td>\n",
              "      <td>...</td>\n",
              "      <td>...</td>\n",
              "      <td>...</td>\n",
              "      <td>...</td>\n",
              "    </tr>\n",
              "    <tr>\n",
              "      <th>15751</th>\n",
              "      <td>NaN</td>\n",
              "      <td>Total</td>\n",
              "      <td>Count</td>\n",
              "      <td>15751</td>\n",
              "      <td>NaN</td>\n",
              "      <td>NaN</td>\n",
              "      <td>NaN</td>\n",
              "      <td>NaN</td>\n",
              "      <td>NaN</td>\n",
              "      <td>NaN</td>\n",
              "      <td>NaN</td>\n",
              "      <td>NaN</td>\n",
              "    </tr>\n",
              "    <tr>\n",
              "      <th>15752</th>\n",
              "      <td>NaN</td>\n",
              "      <td>NaN</td>\n",
              "      <td>NaN</td>\n",
              "      <td>NaN</td>\n",
              "      <td>NaN</td>\n",
              "      <td>NaN</td>\n",
              "      <td>NaN</td>\n",
              "      <td>NaN</td>\n",
              "      <td>NaN</td>\n",
              "      <td>NaN</td>\n",
              "      <td>NaN</td>\n",
              "      <td>NaN</td>\n",
              "    </tr>\n",
              "    <tr>\n",
              "      <th>15753</th>\n",
              "      <td>NaN</td>\n",
              "      <td>NaN</td>\n",
              "      <td>NaN</td>\n",
              "      <td>NaN</td>\n",
              "      <td>NaN</td>\n",
              "      <td>NaN</td>\n",
              "      <td>NaN</td>\n",
              "      <td>NaN</td>\n",
              "      <td>NaN</td>\n",
              "      <td>NaN</td>\n",
              "      <td>NaN</td>\n",
              "      <td>NaN</td>\n",
              "    </tr>\n",
              "    <tr>\n",
              "      <th>15754</th>\n",
              "      <td>NaN</td>\n",
              "      <td>Confidential Information - Do Not Distribute</td>\n",
              "      <td>NaN</td>\n",
              "      <td>NaN</td>\n",
              "      <td>NaN</td>\n",
              "      <td>NaN</td>\n",
              "      <td>NaN</td>\n",
              "      <td>NaN</td>\n",
              "      <td>NaN</td>\n",
              "      <td>NaN</td>\n",
              "      <td>NaN</td>\n",
              "      <td>NaN</td>\n",
              "    </tr>\n",
              "    <tr>\n",
              "      <th>15755</th>\n",
              "      <td>NaN</td>\n",
              "      <td>Copyright © 2000-2022 salesforce.com, inc. All...</td>\n",
              "      <td>NaN</td>\n",
              "      <td>NaN</td>\n",
              "      <td>NaN</td>\n",
              "      <td>NaN</td>\n",
              "      <td>NaN</td>\n",
              "      <td>NaN</td>\n",
              "      <td>NaN</td>\n",
              "      <td>NaN</td>\n",
              "      <td>NaN</td>\n",
              "      <td>NaN</td>\n",
              "    </tr>\n",
              "  </tbody>\n",
              "</table>\n",
              "<p>15756 rows × 12 columns</p>\n",
              "</div>\n",
              "      <button class=\"colab-df-convert\" onclick=\"convertToInteractive('df-3e296f0c-9682-4e4f-bc63-46cd5fedd266')\"\n",
              "              title=\"Convert this dataframe to an interactive table.\"\n",
              "              style=\"display:none;\">\n",
              "        \n",
              "  <svg xmlns=\"http://www.w3.org/2000/svg\" height=\"24px\"viewBox=\"0 0 24 24\"\n",
              "       width=\"24px\">\n",
              "    <path d=\"M0 0h24v24H0V0z\" fill=\"none\"/>\n",
              "    <path d=\"M18.56 5.44l.94 2.06.94-2.06 2.06-.94-2.06-.94-.94-2.06-.94 2.06-2.06.94zm-11 1L8.5 8.5l.94-2.06 2.06-.94-2.06-.94L8.5 2.5l-.94 2.06-2.06.94zm10 10l.94 2.06.94-2.06 2.06-.94-2.06-.94-.94-2.06-.94 2.06-2.06.94z\"/><path d=\"M17.41 7.96l-1.37-1.37c-.4-.4-.92-.59-1.43-.59-.52 0-1.04.2-1.43.59L10.3 9.45l-7.72 7.72c-.78.78-.78 2.05 0 2.83L4 21.41c.39.39.9.59 1.41.59.51 0 1.02-.2 1.41-.59l7.78-7.78 2.81-2.81c.8-.78.8-2.07 0-2.86zM5.41 20L4 18.59l7.72-7.72 1.47 1.35L5.41 20z\"/>\n",
              "  </svg>\n",
              "      </button>\n",
              "      \n",
              "  <style>\n",
              "    .colab-df-container {\n",
              "      display:flex;\n",
              "      flex-wrap:wrap;\n",
              "      gap: 12px;\n",
              "    }\n",
              "\n",
              "    .colab-df-convert {\n",
              "      background-color: #E8F0FE;\n",
              "      border: none;\n",
              "      border-radius: 50%;\n",
              "      cursor: pointer;\n",
              "      display: none;\n",
              "      fill: #1967D2;\n",
              "      height: 32px;\n",
              "      padding: 0 0 0 0;\n",
              "      width: 32px;\n",
              "    }\n",
              "\n",
              "    .colab-df-convert:hover {\n",
              "      background-color: #E2EBFA;\n",
              "      box-shadow: 0px 1px 2px rgba(60, 64, 67, 0.3), 0px 1px 3px 1px rgba(60, 64, 67, 0.15);\n",
              "      fill: #174EA6;\n",
              "    }\n",
              "\n",
              "    [theme=dark] .colab-df-convert {\n",
              "      background-color: #3B4455;\n",
              "      fill: #D2E3FC;\n",
              "    }\n",
              "\n",
              "    [theme=dark] .colab-df-convert:hover {\n",
              "      background-color: #434B5C;\n",
              "      box-shadow: 0px 1px 3px 1px rgba(0, 0, 0, 0.15);\n",
              "      filter: drop-shadow(0px 1px 2px rgba(0, 0, 0, 0.3));\n",
              "      fill: #FFFFFF;\n",
              "    }\n",
              "  </style>\n",
              "\n",
              "      <script>\n",
              "        const buttonEl =\n",
              "          document.querySelector('#df-3e296f0c-9682-4e4f-bc63-46cd5fedd266 button.colab-df-convert');\n",
              "        buttonEl.style.display =\n",
              "          google.colab.kernel.accessAllowed ? 'block' : 'none';\n",
              "\n",
              "        async function convertToInteractive(key) {\n",
              "          const element = document.querySelector('#df-3e296f0c-9682-4e4f-bc63-46cd5fedd266');\n",
              "          const dataTable =\n",
              "            await google.colab.kernel.invokeFunction('convertToInteractive',\n",
              "                                                     [key], {});\n",
              "          if (!dataTable) return;\n",
              "\n",
              "          const docLinkHtml = 'Like what you see? Visit the ' +\n",
              "            '<a target=\"_blank\" href=https://colab.research.google.com/notebooks/data_table.ipynb>data table notebook</a>'\n",
              "            + ' to learn more about interactive tables.';\n",
              "          element.innerHTML = '';\n",
              "          dataTable['output_type'] = 'display_data';\n",
              "          await google.colab.output.renderOutput(dataTable, element);\n",
              "          const docLink = document.createElement('div');\n",
              "          docLink.innerHTML = docLinkHtml;\n",
              "          element.appendChild(docLink);\n",
              "        }\n",
              "      </script>\n",
              "    </div>\n",
              "  </div>\n",
              "  "
            ]
          },
          "metadata": {},
          "execution_count": 535
        }
      ]
    },
    {
      "cell_type": "code",
      "source": [],
      "metadata": {
        "id": "8UCdOqEn_8W5"
      },
      "execution_count": 535,
      "outputs": []
    },
    {
      "cell_type": "code",
      "source": [
        "#Identify which LIMS id are not in the lookup\n",
        "unique_LIMS_id = list(set(import_sfdc[\"LIMS Project ID\"]))\n",
        "unique_lookup_id = list(set(lookup_type[\"LIMS Project ID\"]))\n",
        "list(set(unique_LIMS_id) - set(unique_lookup_id ))"
      ],
      "metadata": {
        "colab": {
          "base_uri": "https://localhost:8080/"
        },
        "id": "UzwivZuDOvd8",
        "outputId": "f76f2fe8-8adf-40ca-9b8d-4b45e257ac86"
      },
      "execution_count": 536,
      "outputs": [
        {
          "output_type": "execute_result",
          "data": {
            "text/plain": [
              "[nan,\n",
              " 'TRM_01',\n",
              " 'OCT_1R',\n",
              " 'RHI_04',\n",
              " 'GAP_04',\n",
              " 'AZN_test_96',\n",
              " 'JNJ_32_EU',\n",
              " 'GAP_09',\n",
              " 'JNS_01']"
            ]
          },
          "metadata": {},
          "execution_count": 536
        }
      ]
    },
    {
      "cell_type": "code",
      "source": [
        "#import_sfdc.info()"
      ],
      "metadata": {
        "id": "CRdLX7kGWahb"
      },
      "execution_count": 537,
      "outputs": []
    },
    {
      "cell_type": "markdown",
      "source": [
        "#### Import and clean up the data from SFDC"
      ],
      "metadata": {
        "id": "uE-5D5zNmZnR"
      }
    },
    {
      "cell_type": "code",
      "source": [
        "\n",
        "#Remove the first two columns\n",
        "import_sfdc = import_sfdc.drop([\"Unnamed: 0\", \"Unnamed: 2\"], axis = 1)\n",
        "#Drop the last five rows\n",
        "import_sfdc = import_sfdc.iloc[0:-5]\n",
        "#Cast Date Received to datetime object \n",
        "import_sfdc[\"Date Received\"] = pd.to_datetime(import_sfdc[\"Date Received\"])\n",
        "#Clean up the type column\n",
        "import_sfdc[\"Type\"] = import_sfdc[\"LIMS Project ID\"].map(type_dict)\n",
        "\n",
        "#Replace the two letter country code with the full country name\n",
        "import_sfdc[\"Reporting Country\"] = import_sfdc[\"Reporting Country\"].map(country_dict)\n",
        "#Clean up the cancer types and reduce number of categories\n",
        "import_sfdc[\"Cancer Type\"] = import_sfdc[\"Cancer Type\"].map(cancer_type_dict)\n",
        "#Clean up the Account column by removing all strings before the \":\"\n",
        "import_sfdc[\"Account: Account Name\"] = import_sfdc.loc[:, \"Account: Account Name\"].str.split(\":\").apply(clean_up_account)\n",
        "\n",
        "#Clean up the Billing type column \n",
        "#import_sfdc[\"Billing Type\"] = import_sfdc[\"Billing Type\"].map(billing_type_dict)\n",
        "#import_sfdc.tail(6)\n",
        "\n",
        "# Set the date recieved as date index\n",
        "import_sfdc = import_sfdc.set_index(\"Date Received\")\n",
        "\n",
        "#import_sfdc.info()"
      ],
      "metadata": {
        "id": "n3dl5NF1HsVJ"
      },
      "execution_count": 538,
      "outputs": []
    },
    {
      "cell_type": "code",
      "source": [
        "#df[“column_name”] = np.where(df[“column_name”]==”some_value”, value_if_true, value_if_false)\n",
        "import_sfdc[\"AE_supported\"] = np.where(import_sfdc[\"Reporting Country\"].isin(AE_dict.keys()), \"AE\", \"non_AE\")"
      ],
      "metadata": {
        "id": "vKU__dYH7Br8"
      },
      "execution_count": 539,
      "outputs": []
    },
    {
      "cell_type": "code",
      "source": [
        "import_sfdc"
      ],
      "metadata": {
        "colab": {
          "base_uri": "https://localhost:8080/",
          "height": 455
        },
        "id": "Oy6SyTWFEET5",
        "outputId": "559fa97f-e160-44a3-e775-bf2c58e2e899"
      },
      "execution_count": 540,
      "outputs": [
        {
          "output_type": "execute_result",
          "data": {
            "text/plain": [
              "              Accession # Reporting Country             Billing Type  \\\n",
              "Date Received                                                          \n",
              "2019-11-25       A0214386       SWITZERLAND             Pharma : ROW   \n",
              "2019-11-26       A0214865            CANADA             Pharma : ROW   \n",
              "2019-11-29       A0215878           BELGIUM             Pharma : ROW   \n",
              "2019-11-30       A0215958           GERMANY              Pharma : US   \n",
              "2019-11-30       A0215959           GERMANY             Pharma : ROW   \n",
              "...                   ...               ...                      ...   \n",
              "2021-01-06       A0318002    UNITED KINGDOM           Research : ROW   \n",
              "2021-01-11       A0319936    UNITED KINGDOM           Research : ROW   \n",
              "2021-01-11       A0319935    UNITED KINGDOM           Research : ROW   \n",
              "2021-01-15       A0320961    UNITED KINGDOM           Research : ROW   \n",
              "2021-01-20       A0322209    UNITED KINGDOM  Do Not Bill - Cancelled   \n",
              "\n",
              "              LIMS Project ID               Account: Account Name  \\\n",
              "Date Received                                                       \n",
              "2019-11-25             AMG_01           Universitatsspital Zurich   \n",
              "2019-11-26             AMG_01     Princess Margaret Cancer Centre   \n",
              "2019-11-29             AMG_01   Universitair Ziekenhuis Antwerpen   \n",
              "2019-11-30             AMG_01           Universitatsklinikum Koln   \n",
              "2019-11-30             AMG_01           Universitatsklinikum Koln   \n",
              "...                       ...                                 ...   \n",
              "2021-01-06             VLT_01      VLT_01-Royal Brompton Hospital   \n",
              "2021-01-11             VLT_01      VLT_01-Royal Brompton Hospital   \n",
              "2021-01-11             VLT_01      VLT_01-Royal Brompton Hospital   \n",
              "2021-01-15             VLT_01      VLT_01-Royal Brompton Hospital   \n",
              "2021-01-20             VLT_01      VLT_01-Royal Brompton Hospital   \n",
              "\n",
              "                          Contact: Full Name Final Report Date     Test Type  \\\n",
              "Date Received                                                                  \n",
              "2019-11-25     Alessandra Curioni Fontecedro               NaN  Guardant 360   \n",
              "2019-11-26                     Adrian Sacher               NaN  Guardant 360   \n",
              "2019-11-29                       Hans Prenen               NaN  Guardant 360   \n",
              "2019-11-30                      Wolf Juergen               NaN  Guardant 360   \n",
              "2019-11-30                      Wolf Juergen               NaN  Guardant 360   \n",
              "...                                      ...               ...           ...   \n",
              "2021-01-06                       RS-Eric Lim               NaN      LUNAR1_3   \n",
              "2021-01-11                       RS-Eric Lim               NaN      LUNAR1_3   \n",
              "2021-01-11                       RS-Eric Lim               NaN      LUNAR1_3   \n",
              "2021-01-15                       RS-Eric Lim               NaN      LUNAR1_3   \n",
              "2021-01-20                       RS-Eric Lim               NaN      LUNAR1_3   \n",
              "\n",
              "              Cancer Type       Type AE_supported  \n",
              "Date Received                                      \n",
              "2019-11-25            NaN  Biopharma       non_AE  \n",
              "2019-11-26            NaN  Biopharma           AE  \n",
              "2019-11-29            NaN  Biopharma       non_AE  \n",
              "2019-11-30            NaN  Biopharma       non_AE  \n",
              "2019-11-30            NaN  Biopharma       non_AE  \n",
              "...                   ...        ...          ...  \n",
              "2021-01-06            NaN      Lunar           AE  \n",
              "2021-01-11            NaN      Lunar           AE  \n",
              "2021-01-11            NaN      Lunar           AE  \n",
              "2021-01-15            NaN      Lunar           AE  \n",
              "2021-01-20            NaN      Lunar           AE  \n",
              "\n",
              "[15751 rows x 11 columns]"
            ],
            "text/html": [
              "\n",
              "  <div id=\"df-82533b38-25c1-431a-89ad-a0e5e774e834\">\n",
              "    <div class=\"colab-df-container\">\n",
              "      <div>\n",
              "<style scoped>\n",
              "    .dataframe tbody tr th:only-of-type {\n",
              "        vertical-align: middle;\n",
              "    }\n",
              "\n",
              "    .dataframe tbody tr th {\n",
              "        vertical-align: top;\n",
              "    }\n",
              "\n",
              "    .dataframe thead th {\n",
              "        text-align: right;\n",
              "    }\n",
              "</style>\n",
              "<table border=\"1\" class=\"dataframe\">\n",
              "  <thead>\n",
              "    <tr style=\"text-align: right;\">\n",
              "      <th></th>\n",
              "      <th>Accession #</th>\n",
              "      <th>Reporting Country</th>\n",
              "      <th>Billing Type</th>\n",
              "      <th>LIMS Project ID</th>\n",
              "      <th>Account: Account Name</th>\n",
              "      <th>Contact: Full Name</th>\n",
              "      <th>Final Report Date</th>\n",
              "      <th>Test Type</th>\n",
              "      <th>Cancer Type</th>\n",
              "      <th>Type</th>\n",
              "      <th>AE_supported</th>\n",
              "    </tr>\n",
              "    <tr>\n",
              "      <th>Date Received</th>\n",
              "      <th></th>\n",
              "      <th></th>\n",
              "      <th></th>\n",
              "      <th></th>\n",
              "      <th></th>\n",
              "      <th></th>\n",
              "      <th></th>\n",
              "      <th></th>\n",
              "      <th></th>\n",
              "      <th></th>\n",
              "      <th></th>\n",
              "    </tr>\n",
              "  </thead>\n",
              "  <tbody>\n",
              "    <tr>\n",
              "      <th>2019-11-25</th>\n",
              "      <td>A0214386</td>\n",
              "      <td>SWITZERLAND</td>\n",
              "      <td>Pharma : ROW</td>\n",
              "      <td>AMG_01</td>\n",
              "      <td>Universitatsspital Zurich</td>\n",
              "      <td>Alessandra Curioni Fontecedro</td>\n",
              "      <td>NaN</td>\n",
              "      <td>Guardant 360</td>\n",
              "      <td>NaN</td>\n",
              "      <td>Biopharma</td>\n",
              "      <td>non_AE</td>\n",
              "    </tr>\n",
              "    <tr>\n",
              "      <th>2019-11-26</th>\n",
              "      <td>A0214865</td>\n",
              "      <td>CANADA</td>\n",
              "      <td>Pharma : ROW</td>\n",
              "      <td>AMG_01</td>\n",
              "      <td>Princess Margaret Cancer Centre</td>\n",
              "      <td>Adrian Sacher</td>\n",
              "      <td>NaN</td>\n",
              "      <td>Guardant 360</td>\n",
              "      <td>NaN</td>\n",
              "      <td>Biopharma</td>\n",
              "      <td>AE</td>\n",
              "    </tr>\n",
              "    <tr>\n",
              "      <th>2019-11-29</th>\n",
              "      <td>A0215878</td>\n",
              "      <td>BELGIUM</td>\n",
              "      <td>Pharma : ROW</td>\n",
              "      <td>AMG_01</td>\n",
              "      <td>Universitair Ziekenhuis Antwerpen</td>\n",
              "      <td>Hans Prenen</td>\n",
              "      <td>NaN</td>\n",
              "      <td>Guardant 360</td>\n",
              "      <td>NaN</td>\n",
              "      <td>Biopharma</td>\n",
              "      <td>non_AE</td>\n",
              "    </tr>\n",
              "    <tr>\n",
              "      <th>2019-11-30</th>\n",
              "      <td>A0215958</td>\n",
              "      <td>GERMANY</td>\n",
              "      <td>Pharma : US</td>\n",
              "      <td>AMG_01</td>\n",
              "      <td>Universitatsklinikum Koln</td>\n",
              "      <td>Wolf Juergen</td>\n",
              "      <td>NaN</td>\n",
              "      <td>Guardant 360</td>\n",
              "      <td>NaN</td>\n",
              "      <td>Biopharma</td>\n",
              "      <td>non_AE</td>\n",
              "    </tr>\n",
              "    <tr>\n",
              "      <th>2019-11-30</th>\n",
              "      <td>A0215959</td>\n",
              "      <td>GERMANY</td>\n",
              "      <td>Pharma : ROW</td>\n",
              "      <td>AMG_01</td>\n",
              "      <td>Universitatsklinikum Koln</td>\n",
              "      <td>Wolf Juergen</td>\n",
              "      <td>NaN</td>\n",
              "      <td>Guardant 360</td>\n",
              "      <td>NaN</td>\n",
              "      <td>Biopharma</td>\n",
              "      <td>non_AE</td>\n",
              "    </tr>\n",
              "    <tr>\n",
              "      <th>...</th>\n",
              "      <td>...</td>\n",
              "      <td>...</td>\n",
              "      <td>...</td>\n",
              "      <td>...</td>\n",
              "      <td>...</td>\n",
              "      <td>...</td>\n",
              "      <td>...</td>\n",
              "      <td>...</td>\n",
              "      <td>...</td>\n",
              "      <td>...</td>\n",
              "      <td>...</td>\n",
              "    </tr>\n",
              "    <tr>\n",
              "      <th>2021-01-06</th>\n",
              "      <td>A0318002</td>\n",
              "      <td>UNITED KINGDOM</td>\n",
              "      <td>Research : ROW</td>\n",
              "      <td>VLT_01</td>\n",
              "      <td>VLT_01-Royal Brompton Hospital</td>\n",
              "      <td>RS-Eric Lim</td>\n",
              "      <td>NaN</td>\n",
              "      <td>LUNAR1_3</td>\n",
              "      <td>NaN</td>\n",
              "      <td>Lunar</td>\n",
              "      <td>AE</td>\n",
              "    </tr>\n",
              "    <tr>\n",
              "      <th>2021-01-11</th>\n",
              "      <td>A0319936</td>\n",
              "      <td>UNITED KINGDOM</td>\n",
              "      <td>Research : ROW</td>\n",
              "      <td>VLT_01</td>\n",
              "      <td>VLT_01-Royal Brompton Hospital</td>\n",
              "      <td>RS-Eric Lim</td>\n",
              "      <td>NaN</td>\n",
              "      <td>LUNAR1_3</td>\n",
              "      <td>NaN</td>\n",
              "      <td>Lunar</td>\n",
              "      <td>AE</td>\n",
              "    </tr>\n",
              "    <tr>\n",
              "      <th>2021-01-11</th>\n",
              "      <td>A0319935</td>\n",
              "      <td>UNITED KINGDOM</td>\n",
              "      <td>Research : ROW</td>\n",
              "      <td>VLT_01</td>\n",
              "      <td>VLT_01-Royal Brompton Hospital</td>\n",
              "      <td>RS-Eric Lim</td>\n",
              "      <td>NaN</td>\n",
              "      <td>LUNAR1_3</td>\n",
              "      <td>NaN</td>\n",
              "      <td>Lunar</td>\n",
              "      <td>AE</td>\n",
              "    </tr>\n",
              "    <tr>\n",
              "      <th>2021-01-15</th>\n",
              "      <td>A0320961</td>\n",
              "      <td>UNITED KINGDOM</td>\n",
              "      <td>Research : ROW</td>\n",
              "      <td>VLT_01</td>\n",
              "      <td>VLT_01-Royal Brompton Hospital</td>\n",
              "      <td>RS-Eric Lim</td>\n",
              "      <td>NaN</td>\n",
              "      <td>LUNAR1_3</td>\n",
              "      <td>NaN</td>\n",
              "      <td>Lunar</td>\n",
              "      <td>AE</td>\n",
              "    </tr>\n",
              "    <tr>\n",
              "      <th>2021-01-20</th>\n",
              "      <td>A0322209</td>\n",
              "      <td>UNITED KINGDOM</td>\n",
              "      <td>Do Not Bill - Cancelled</td>\n",
              "      <td>VLT_01</td>\n",
              "      <td>VLT_01-Royal Brompton Hospital</td>\n",
              "      <td>RS-Eric Lim</td>\n",
              "      <td>NaN</td>\n",
              "      <td>LUNAR1_3</td>\n",
              "      <td>NaN</td>\n",
              "      <td>Lunar</td>\n",
              "      <td>AE</td>\n",
              "    </tr>\n",
              "  </tbody>\n",
              "</table>\n",
              "<p>15751 rows × 11 columns</p>\n",
              "</div>\n",
              "      <button class=\"colab-df-convert\" onclick=\"convertToInteractive('df-82533b38-25c1-431a-89ad-a0e5e774e834')\"\n",
              "              title=\"Convert this dataframe to an interactive table.\"\n",
              "              style=\"display:none;\">\n",
              "        \n",
              "  <svg xmlns=\"http://www.w3.org/2000/svg\" height=\"24px\"viewBox=\"0 0 24 24\"\n",
              "       width=\"24px\">\n",
              "    <path d=\"M0 0h24v24H0V0z\" fill=\"none\"/>\n",
              "    <path d=\"M18.56 5.44l.94 2.06.94-2.06 2.06-.94-2.06-.94-.94-2.06-.94 2.06-2.06.94zm-11 1L8.5 8.5l.94-2.06 2.06-.94-2.06-.94L8.5 2.5l-.94 2.06-2.06.94zm10 10l.94 2.06.94-2.06 2.06-.94-2.06-.94-.94-2.06-.94 2.06-2.06.94z\"/><path d=\"M17.41 7.96l-1.37-1.37c-.4-.4-.92-.59-1.43-.59-.52 0-1.04.2-1.43.59L10.3 9.45l-7.72 7.72c-.78.78-.78 2.05 0 2.83L4 21.41c.39.39.9.59 1.41.59.51 0 1.02-.2 1.41-.59l7.78-7.78 2.81-2.81c.8-.78.8-2.07 0-2.86zM5.41 20L4 18.59l7.72-7.72 1.47 1.35L5.41 20z\"/>\n",
              "  </svg>\n",
              "      </button>\n",
              "      \n",
              "  <style>\n",
              "    .colab-df-container {\n",
              "      display:flex;\n",
              "      flex-wrap:wrap;\n",
              "      gap: 12px;\n",
              "    }\n",
              "\n",
              "    .colab-df-convert {\n",
              "      background-color: #E8F0FE;\n",
              "      border: none;\n",
              "      border-radius: 50%;\n",
              "      cursor: pointer;\n",
              "      display: none;\n",
              "      fill: #1967D2;\n",
              "      height: 32px;\n",
              "      padding: 0 0 0 0;\n",
              "      width: 32px;\n",
              "    }\n",
              "\n",
              "    .colab-df-convert:hover {\n",
              "      background-color: #E2EBFA;\n",
              "      box-shadow: 0px 1px 2px rgba(60, 64, 67, 0.3), 0px 1px 3px 1px rgba(60, 64, 67, 0.15);\n",
              "      fill: #174EA6;\n",
              "    }\n",
              "\n",
              "    [theme=dark] .colab-df-convert {\n",
              "      background-color: #3B4455;\n",
              "      fill: #D2E3FC;\n",
              "    }\n",
              "\n",
              "    [theme=dark] .colab-df-convert:hover {\n",
              "      background-color: #434B5C;\n",
              "      box-shadow: 0px 1px 3px 1px rgba(0, 0, 0, 0.15);\n",
              "      filter: drop-shadow(0px 1px 2px rgba(0, 0, 0, 0.3));\n",
              "      fill: #FFFFFF;\n",
              "    }\n",
              "  </style>\n",
              "\n",
              "      <script>\n",
              "        const buttonEl =\n",
              "          document.querySelector('#df-82533b38-25c1-431a-89ad-a0e5e774e834 button.colab-df-convert');\n",
              "        buttonEl.style.display =\n",
              "          google.colab.kernel.accessAllowed ? 'block' : 'none';\n",
              "\n",
              "        async function convertToInteractive(key) {\n",
              "          const element = document.querySelector('#df-82533b38-25c1-431a-89ad-a0e5e774e834');\n",
              "          const dataTable =\n",
              "            await google.colab.kernel.invokeFunction('convertToInteractive',\n",
              "                                                     [key], {});\n",
              "          if (!dataTable) return;\n",
              "\n",
              "          const docLinkHtml = 'Like what you see? Visit the ' +\n",
              "            '<a target=\"_blank\" href=https://colab.research.google.com/notebooks/data_table.ipynb>data table notebook</a>'\n",
              "            + ' to learn more about interactive tables.';\n",
              "          element.innerHTML = '';\n",
              "          dataTable['output_type'] = 'display_data';\n",
              "          await google.colab.output.renderOutput(dataTable, element);\n",
              "          const docLink = document.createElement('div');\n",
              "          docLink.innerHTML = docLinkHtml;\n",
              "          element.appendChild(docLink);\n",
              "        }\n",
              "      </script>\n",
              "    </div>\n",
              "  </div>\n",
              "  "
            ]
          },
          "metadata": {},
          "execution_count": 540
        }
      ]
    },
    {
      "cell_type": "code",
      "source": [
        "import_sfdc[\"LIMS Project ID\"]"
      ],
      "metadata": {
        "colab": {
          "base_uri": "https://localhost:8080/"
        },
        "id": "vxCBeMIcXrt_",
        "outputId": "9e126b8d-5915-4fe2-9652-ccc579420cda"
      },
      "execution_count": 541,
      "outputs": [
        {
          "output_type": "execute_result",
          "data": {
            "text/plain": [
              "Date Received\n",
              "2019-11-25    AMG_01\n",
              "2019-11-26    AMG_01\n",
              "2019-11-29    AMG_01\n",
              "2019-11-30    AMG_01\n",
              "2019-11-30    AMG_01\n",
              "               ...  \n",
              "2021-01-06    VLT_01\n",
              "2021-01-11    VLT_01\n",
              "2021-01-11    VLT_01\n",
              "2021-01-15    VLT_01\n",
              "2021-01-20    VLT_01\n",
              "Name: LIMS Project ID, Length: 15751, dtype: object"
            ]
          },
          "metadata": {},
          "execution_count": 541
        }
      ]
    },
    {
      "cell_type": "code",
      "source": [
        "#Create date and time features\n",
        "\n",
        "#Create a year, month, quarter variable\n",
        "import_sfdc[\"Month\"] = import_sfdc.index.month\n",
        "import_sfdc[\"Year\"] = import_sfdc.index.year\n",
        "import_sfdc['Quarter'] = import_sfdc.index.quarter\n",
        "#Other feature engineering based on feature analysis below\n",
        "import_sfdc['Sales'] = 1\n",
        "\n",
        "#create a Year Month columns\n",
        "import_sfdc['Year_Month'] = import_sfdc.index.to_period('M')\n",
        "#Cast the Year_Month column to a str\n",
        "import_sfdc['Year_Month'] = import_sfdc['Year_Month'].astype(str)\n",
        "import_sfdc['Year_Month'] = pd.to_datetime(import_sfdc['Year_Month'])\n",
        "#Cast some features to categorical\n",
        "#df['Reporting_Country'] = df['Reporting_Country'].astype('category')\n",
        "import_sfdc['Type'] = import_sfdc['Type'].astype('category')\n"
      ],
      "metadata": {
        "id": "K_ttM0YjFaLd"
      },
      "execution_count": 542,
      "outputs": []
    },
    {
      "cell_type": "code",
      "source": [
        "#import_sfdc.sample(5)"
      ],
      "metadata": {
        "id": "gae4FY8E4xbi"
      },
      "execution_count": 543,
      "outputs": []
    },
    {
      "cell_type": "markdown",
      "source": [
        "#### Explore the data"
      ],
      "metadata": {
        "id": "gNOxiwsLmsmv"
      }
    },
    {
      "cell_type": "code",
      "source": [
        "#import_sfdc[\"Reporting Country\"].value_counts()"
      ],
      "metadata": {
        "id": "_r6H5ga-m6my"
      },
      "execution_count": 544,
      "outputs": []
    },
    {
      "cell_type": "code",
      "source": [
        "#import_sfdc.Type.value_counts()"
      ],
      "metadata": {
        "id": "idTr7unZviax"
      },
      "execution_count": 545,
      "outputs": []
    },
    {
      "cell_type": "code",
      "source": [
        "#import_sfdc.info()"
      ],
      "metadata": {
        "id": "jD4uUsKEvh0Z"
      },
      "execution_count": 546,
      "outputs": []
    },
    {
      "cell_type": "code",
      "source": [
        "#import_sfdc[\"Billing Type\"].value_counts()"
      ],
      "metadata": {
        "id": "8euku6M1tdCD"
      },
      "execution_count": 547,
      "outputs": []
    },
    {
      "cell_type": "code",
      "source": [
        "#import_sfdc[\"Test Type\"].value_counts()"
      ],
      "metadata": {
        "id": "7YPbz6zFN4Sv"
      },
      "execution_count": 548,
      "outputs": []
    },
    {
      "cell_type": "code",
      "source": [
        "#import_sfdc[\"Cancer Type\"].value_counts()"
      ],
      "metadata": {
        "id": "MY2cLhSOxs2q"
      },
      "execution_count": 549,
      "outputs": []
    },
    {
      "cell_type": "code",
      "source": [
        "#import_sfdc['Billing Type'].value_counts()"
      ],
      "metadata": {
        "id": "w6-gJR5p3aSz"
      },
      "execution_count": 550,
      "outputs": []
    },
    {
      "cell_type": "code",
      "source": [
        "os.getcwd()"
      ],
      "metadata": {
        "colab": {
          "base_uri": "https://localhost:8080/",
          "height": 35
        },
        "id": "o4F2Pltzvaod",
        "outputId": "a45138c6-4e72-4fd1-db69-d2a4770b9842"
      },
      "execution_count": 551,
      "outputs": [
        {
          "output_type": "execute_result",
          "data": {
            "text/plain": [
              "'/content/drive/MyDrive/Colab_Notebooks/November_2022'"
            ],
            "application/vnd.google.colaboratory.intrinsic+json": {
              "type": "string"
            }
          },
          "metadata": {},
          "execution_count": 551
        }
      ]
    },
    {
      "cell_type": "code",
      "source": [
        "# Import the revenue data\n",
        "\n",
        "revenue_import = pd.read_excel(\"./Sales_Volume_EUAA_Analytics_Oct_22.xlsx\", skiprows = 28)\n",
        "revenue_import = revenue_import.iloc[:, 1:12]\n",
        "#revenue_import.columns.tolist()\n",
        "revenue_import['Accession #']= revenue_import['Accession #'].fillna(\"missing\") \n",
        "revenue_import = revenue_import[revenue_import['Accession #'].str.startswith(\"A0\")]\n",
        "#revenue_import.info()"
      ],
      "metadata": {
        "id": "RfZ1QGpd2DPY"
      },
      "execution_count": 552,
      "outputs": []
    },
    {
      "cell_type": "code",
      "source": [
        "#revenue_import.columns.tolist()"
      ],
      "metadata": {
        "id": "9ZYeFG-JlRU0"
      },
      "execution_count": 553,
      "outputs": []
    },
    {
      "cell_type": "code",
      "source": [
        "revenue_col_list = ['Accession #', 'Invoiced Ammount','Expected Amount $','Invoiced/In Prg.', 'FOC']"
      ],
      "metadata": {
        "id": "r3qiHzAolSFe"
      },
      "execution_count": 554,
      "outputs": []
    },
    {
      "cell_type": "code",
      "source": [
        "#Define the clean up function for the FOC columns\n",
        "def foc_clean_up(value):\n",
        "\n",
        "  if value == \"x\":\n",
        "    return \"Free\"\n",
        "\n",
        "  elif value == \"x (COV19)\":\n",
        "     return \"Free\"\n",
        "  elif value == \"x (Christie)\":\n",
        "    return \"Free\"\n",
        "  else: \n",
        "    return value\n",
        "\n",
        "#Clean up Docuten\n",
        "\n",
        "def docuten_clean_up(value):\n",
        "\n",
        "  if value == \"y (DOCUTEN)\":\n",
        "    return \"Free\"\n",
        "\n",
        "  else: \n",
        "    return value\n",
        "\n",
        "#Clean up the revenue data and extract the free of charge information\n",
        "revenue_import_clean = revenue_import.loc[:, revenue_col_list].copy()\n",
        "revenue_import_clean[\"FOC\"] = revenue_import_clean[\"FOC\"].fillna(\"Paid\")\n",
        "revenue_import_clean.head()"
      ],
      "metadata": {
        "colab": {
          "base_uri": "https://localhost:8080/",
          "height": 206
        },
        "id": "DyNkfPNmlSd8",
        "outputId": "e7f853de-2cd3-4fd4-9760-f2c129ca3d87"
      },
      "execution_count": 555,
      "outputs": [
        {
          "output_type": "execute_result",
          "data": {
            "text/plain": [
              "  Accession # Invoiced Ammount Expected Amount $ Invoiced/In Prg.   FOC\n",
              "0    A0198807              0.0               0.0              NaN     x\n",
              "1    A0196311              0.0               0.0              NaN     x\n",
              "3    A0196102           3490.0            3490.0              NaN  Paid\n",
              "4    A0195058           3490.0            3490.0              NaN  Paid\n",
              "6    A0196290           3490.0            3490.0              NaN  Paid"
            ],
            "text/html": [
              "\n",
              "  <div id=\"df-dd5ea0aa-3a49-4642-bbb8-5ef500e4bfce\">\n",
              "    <div class=\"colab-df-container\">\n",
              "      <div>\n",
              "<style scoped>\n",
              "    .dataframe tbody tr th:only-of-type {\n",
              "        vertical-align: middle;\n",
              "    }\n",
              "\n",
              "    .dataframe tbody tr th {\n",
              "        vertical-align: top;\n",
              "    }\n",
              "\n",
              "    .dataframe thead th {\n",
              "        text-align: right;\n",
              "    }\n",
              "</style>\n",
              "<table border=\"1\" class=\"dataframe\">\n",
              "  <thead>\n",
              "    <tr style=\"text-align: right;\">\n",
              "      <th></th>\n",
              "      <th>Accession #</th>\n",
              "      <th>Invoiced Ammount</th>\n",
              "      <th>Expected Amount $</th>\n",
              "      <th>Invoiced/In Prg.</th>\n",
              "      <th>FOC</th>\n",
              "    </tr>\n",
              "  </thead>\n",
              "  <tbody>\n",
              "    <tr>\n",
              "      <th>0</th>\n",
              "      <td>A0198807</td>\n",
              "      <td>0.0</td>\n",
              "      <td>0.0</td>\n",
              "      <td>NaN</td>\n",
              "      <td>x</td>\n",
              "    </tr>\n",
              "    <tr>\n",
              "      <th>1</th>\n",
              "      <td>A0196311</td>\n",
              "      <td>0.0</td>\n",
              "      <td>0.0</td>\n",
              "      <td>NaN</td>\n",
              "      <td>x</td>\n",
              "    </tr>\n",
              "    <tr>\n",
              "      <th>3</th>\n",
              "      <td>A0196102</td>\n",
              "      <td>3490.0</td>\n",
              "      <td>3490.0</td>\n",
              "      <td>NaN</td>\n",
              "      <td>Paid</td>\n",
              "    </tr>\n",
              "    <tr>\n",
              "      <th>4</th>\n",
              "      <td>A0195058</td>\n",
              "      <td>3490.0</td>\n",
              "      <td>3490.0</td>\n",
              "      <td>NaN</td>\n",
              "      <td>Paid</td>\n",
              "    </tr>\n",
              "    <tr>\n",
              "      <th>6</th>\n",
              "      <td>A0196290</td>\n",
              "      <td>3490.0</td>\n",
              "      <td>3490.0</td>\n",
              "      <td>NaN</td>\n",
              "      <td>Paid</td>\n",
              "    </tr>\n",
              "  </tbody>\n",
              "</table>\n",
              "</div>\n",
              "      <button class=\"colab-df-convert\" onclick=\"convertToInteractive('df-dd5ea0aa-3a49-4642-bbb8-5ef500e4bfce')\"\n",
              "              title=\"Convert this dataframe to an interactive table.\"\n",
              "              style=\"display:none;\">\n",
              "        \n",
              "  <svg xmlns=\"http://www.w3.org/2000/svg\" height=\"24px\"viewBox=\"0 0 24 24\"\n",
              "       width=\"24px\">\n",
              "    <path d=\"M0 0h24v24H0V0z\" fill=\"none\"/>\n",
              "    <path d=\"M18.56 5.44l.94 2.06.94-2.06 2.06-.94-2.06-.94-.94-2.06-.94 2.06-2.06.94zm-11 1L8.5 8.5l.94-2.06 2.06-.94-2.06-.94L8.5 2.5l-.94 2.06-2.06.94zm10 10l.94 2.06.94-2.06 2.06-.94-2.06-.94-.94-2.06-.94 2.06-2.06.94z\"/><path d=\"M17.41 7.96l-1.37-1.37c-.4-.4-.92-.59-1.43-.59-.52 0-1.04.2-1.43.59L10.3 9.45l-7.72 7.72c-.78.78-.78 2.05 0 2.83L4 21.41c.39.39.9.59 1.41.59.51 0 1.02-.2 1.41-.59l7.78-7.78 2.81-2.81c.8-.78.8-2.07 0-2.86zM5.41 20L4 18.59l7.72-7.72 1.47 1.35L5.41 20z\"/>\n",
              "  </svg>\n",
              "      </button>\n",
              "      \n",
              "  <style>\n",
              "    .colab-df-container {\n",
              "      display:flex;\n",
              "      flex-wrap:wrap;\n",
              "      gap: 12px;\n",
              "    }\n",
              "\n",
              "    .colab-df-convert {\n",
              "      background-color: #E8F0FE;\n",
              "      border: none;\n",
              "      border-radius: 50%;\n",
              "      cursor: pointer;\n",
              "      display: none;\n",
              "      fill: #1967D2;\n",
              "      height: 32px;\n",
              "      padding: 0 0 0 0;\n",
              "      width: 32px;\n",
              "    }\n",
              "\n",
              "    .colab-df-convert:hover {\n",
              "      background-color: #E2EBFA;\n",
              "      box-shadow: 0px 1px 2px rgba(60, 64, 67, 0.3), 0px 1px 3px 1px rgba(60, 64, 67, 0.15);\n",
              "      fill: #174EA6;\n",
              "    }\n",
              "\n",
              "    [theme=dark] .colab-df-convert {\n",
              "      background-color: #3B4455;\n",
              "      fill: #D2E3FC;\n",
              "    }\n",
              "\n",
              "    [theme=dark] .colab-df-convert:hover {\n",
              "      background-color: #434B5C;\n",
              "      box-shadow: 0px 1px 3px 1px rgba(0, 0, 0, 0.15);\n",
              "      filter: drop-shadow(0px 1px 2px rgba(0, 0, 0, 0.3));\n",
              "      fill: #FFFFFF;\n",
              "    }\n",
              "  </style>\n",
              "\n",
              "      <script>\n",
              "        const buttonEl =\n",
              "          document.querySelector('#df-dd5ea0aa-3a49-4642-bbb8-5ef500e4bfce button.colab-df-convert');\n",
              "        buttonEl.style.display =\n",
              "          google.colab.kernel.accessAllowed ? 'block' : 'none';\n",
              "\n",
              "        async function convertToInteractive(key) {\n",
              "          const element = document.querySelector('#df-dd5ea0aa-3a49-4642-bbb8-5ef500e4bfce');\n",
              "          const dataTable =\n",
              "            await google.colab.kernel.invokeFunction('convertToInteractive',\n",
              "                                                     [key], {});\n",
              "          if (!dataTable) return;\n",
              "\n",
              "          const docLinkHtml = 'Like what you see? Visit the ' +\n",
              "            '<a target=\"_blank\" href=https://colab.research.google.com/notebooks/data_table.ipynb>data table notebook</a>'\n",
              "            + ' to learn more about interactive tables.';\n",
              "          element.innerHTML = '';\n",
              "          dataTable['output_type'] = 'display_data';\n",
              "          await google.colab.output.renderOutput(dataTable, element);\n",
              "          const docLink = document.createElement('div');\n",
              "          docLink.innerHTML = docLinkHtml;\n",
              "          element.appendChild(docLink);\n",
              "        }\n",
              "      </script>\n",
              "    </div>\n",
              "  </div>\n",
              "  "
            ]
          },
          "metadata": {},
          "execution_count": 555
        }
      ]
    },
    {
      "cell_type": "code",
      "source": [
        "#revenue_import_clean[\"FOC\"].value_counts()"
      ],
      "metadata": {
        "id": "DmmTkBIewxBN"
      },
      "execution_count": 556,
      "outputs": []
    },
    {
      "cell_type": "code",
      "source": [
        "revenue_import_clean[\"FOC\"] = revenue_import_clean[\"FOC\"].apply(foc_clean_up).astype(\"category\")"
      ],
      "metadata": {
        "id": "qcDg1d3LwEBc"
      },
      "execution_count": 557,
      "outputs": []
    },
    {
      "cell_type": "code",
      "source": [
        "revenue_import_clean[\"FOC\"].value_counts()"
      ],
      "metadata": {
        "colab": {
          "base_uri": "https://localhost:8080/"
        },
        "id": "vgC3W7FqwG8R",
        "outputId": "1ab8c9da-067c-450a-8226-b00602fdf026"
      },
      "execution_count": 558,
      "outputs": [
        {
          "output_type": "execute_result",
          "data": {
            "text/plain": [
              "Paid    3016\n",
              "Free     736\n",
              "           1\n",
              "Name: FOC, dtype: int64"
            ]
          },
          "metadata": {},
          "execution_count": 558
        }
      ]
    },
    {
      "cell_type": "code",
      "source": [],
      "metadata": {
        "id": "6ByAbQDox4Zb"
      },
      "execution_count": 558,
      "outputs": []
    },
    {
      "cell_type": "code",
      "source": [
        "#Join the two dataframes\n",
        "\n",
        "df_merged = import_sfdc.merge(revenue_import_clean[[\"Accession #\", \"FOC\"]], how='inner', on = \"Accession #\")\n",
        "df_merged.sample(3)"
      ],
      "metadata": {
        "colab": {
          "base_uri": "https://localhost:8080/",
          "height": 257
        },
        "id": "Bdu2-paiiRWw",
        "outputId": "b1a97b8c-58e0-4095-af4c-f590cd646743"
      },
      "execution_count": 559,
      "outputs": [
        {
          "output_type": "execute_result",
          "data": {
            "text/plain": [
              "     Accession # Reporting Country        Billing Type LIMS Project ID  \\\n",
              "1511    A0353672            BRAZIL    Self-Pay Patient          GHI_01   \n",
              "70      A0214385            BRAZIL  Distributors : ROW          GHI_01   \n",
              "3347    A0547837    UNITED KINGDOM    Self-Pay Patient          GHI_19   \n",
              "\n",
              "              Account: Account Name           Contact: Full Name  \\\n",
              "1511  Murad, Casali E Carneiro Ltda      Juliana Garcia Carneiro   \n",
              "70           Hospital Sirio Libanes  Marcelo Rocha de Souza Cruz   \n",
              "3347     The Royal Marsden Hospital             Michael Davidson   \n",
              "\n",
              "     Final Report Date           Test Type Cancer Type        Type  \\\n",
              "1511         5/11/2021        Guardant 360         NaN  Commercial   \n",
              "70           12/4/2019        Guardant 360       Other  Commercial   \n",
              "3347         7/29/2022  Guardant360 CDx EU         NaN  Commercial   \n",
              "\n",
              "     AE_supported  Month  Year  Quarter  Sales Year_Month   FOC  \n",
              "1511           AE      5  2021        2      1 2021-05-01  Paid  \n",
              "70             AE     11  2019        4      1 2019-11-01  Free  \n",
              "3347           AE      7  2022        3      1 2022-07-01  Paid  "
            ],
            "text/html": [
              "\n",
              "  <div id=\"df-6f911d16-9d23-4ecd-8c45-f227707e14f5\">\n",
              "    <div class=\"colab-df-container\">\n",
              "      <div>\n",
              "<style scoped>\n",
              "    .dataframe tbody tr th:only-of-type {\n",
              "        vertical-align: middle;\n",
              "    }\n",
              "\n",
              "    .dataframe tbody tr th {\n",
              "        vertical-align: top;\n",
              "    }\n",
              "\n",
              "    .dataframe thead th {\n",
              "        text-align: right;\n",
              "    }\n",
              "</style>\n",
              "<table border=\"1\" class=\"dataframe\">\n",
              "  <thead>\n",
              "    <tr style=\"text-align: right;\">\n",
              "      <th></th>\n",
              "      <th>Accession #</th>\n",
              "      <th>Reporting Country</th>\n",
              "      <th>Billing Type</th>\n",
              "      <th>LIMS Project ID</th>\n",
              "      <th>Account: Account Name</th>\n",
              "      <th>Contact: Full Name</th>\n",
              "      <th>Final Report Date</th>\n",
              "      <th>Test Type</th>\n",
              "      <th>Cancer Type</th>\n",
              "      <th>Type</th>\n",
              "      <th>AE_supported</th>\n",
              "      <th>Month</th>\n",
              "      <th>Year</th>\n",
              "      <th>Quarter</th>\n",
              "      <th>Sales</th>\n",
              "      <th>Year_Month</th>\n",
              "      <th>FOC</th>\n",
              "    </tr>\n",
              "  </thead>\n",
              "  <tbody>\n",
              "    <tr>\n",
              "      <th>1511</th>\n",
              "      <td>A0353672</td>\n",
              "      <td>BRAZIL</td>\n",
              "      <td>Self-Pay Patient</td>\n",
              "      <td>GHI_01</td>\n",
              "      <td>Murad, Casali E Carneiro Ltda</td>\n",
              "      <td>Juliana Garcia Carneiro</td>\n",
              "      <td>5/11/2021</td>\n",
              "      <td>Guardant 360</td>\n",
              "      <td>NaN</td>\n",
              "      <td>Commercial</td>\n",
              "      <td>AE</td>\n",
              "      <td>5</td>\n",
              "      <td>2021</td>\n",
              "      <td>2</td>\n",
              "      <td>1</td>\n",
              "      <td>2021-05-01</td>\n",
              "      <td>Paid</td>\n",
              "    </tr>\n",
              "    <tr>\n",
              "      <th>70</th>\n",
              "      <td>A0214385</td>\n",
              "      <td>BRAZIL</td>\n",
              "      <td>Distributors : ROW</td>\n",
              "      <td>GHI_01</td>\n",
              "      <td>Hospital Sirio Libanes</td>\n",
              "      <td>Marcelo Rocha de Souza Cruz</td>\n",
              "      <td>12/4/2019</td>\n",
              "      <td>Guardant 360</td>\n",
              "      <td>Other</td>\n",
              "      <td>Commercial</td>\n",
              "      <td>AE</td>\n",
              "      <td>11</td>\n",
              "      <td>2019</td>\n",
              "      <td>4</td>\n",
              "      <td>1</td>\n",
              "      <td>2019-11-01</td>\n",
              "      <td>Free</td>\n",
              "    </tr>\n",
              "    <tr>\n",
              "      <th>3347</th>\n",
              "      <td>A0547837</td>\n",
              "      <td>UNITED KINGDOM</td>\n",
              "      <td>Self-Pay Patient</td>\n",
              "      <td>GHI_19</td>\n",
              "      <td>The Royal Marsden Hospital</td>\n",
              "      <td>Michael Davidson</td>\n",
              "      <td>7/29/2022</td>\n",
              "      <td>Guardant360 CDx EU</td>\n",
              "      <td>NaN</td>\n",
              "      <td>Commercial</td>\n",
              "      <td>AE</td>\n",
              "      <td>7</td>\n",
              "      <td>2022</td>\n",
              "      <td>3</td>\n",
              "      <td>1</td>\n",
              "      <td>2022-07-01</td>\n",
              "      <td>Paid</td>\n",
              "    </tr>\n",
              "  </tbody>\n",
              "</table>\n",
              "</div>\n",
              "      <button class=\"colab-df-convert\" onclick=\"convertToInteractive('df-6f911d16-9d23-4ecd-8c45-f227707e14f5')\"\n",
              "              title=\"Convert this dataframe to an interactive table.\"\n",
              "              style=\"display:none;\">\n",
              "        \n",
              "  <svg xmlns=\"http://www.w3.org/2000/svg\" height=\"24px\"viewBox=\"0 0 24 24\"\n",
              "       width=\"24px\">\n",
              "    <path d=\"M0 0h24v24H0V0z\" fill=\"none\"/>\n",
              "    <path d=\"M18.56 5.44l.94 2.06.94-2.06 2.06-.94-2.06-.94-.94-2.06-.94 2.06-2.06.94zm-11 1L8.5 8.5l.94-2.06 2.06-.94-2.06-.94L8.5 2.5l-.94 2.06-2.06.94zm10 10l.94 2.06.94-2.06 2.06-.94-2.06-.94-.94-2.06-.94 2.06-2.06.94z\"/><path d=\"M17.41 7.96l-1.37-1.37c-.4-.4-.92-.59-1.43-.59-.52 0-1.04.2-1.43.59L10.3 9.45l-7.72 7.72c-.78.78-.78 2.05 0 2.83L4 21.41c.39.39.9.59 1.41.59.51 0 1.02-.2 1.41-.59l7.78-7.78 2.81-2.81c.8-.78.8-2.07 0-2.86zM5.41 20L4 18.59l7.72-7.72 1.47 1.35L5.41 20z\"/>\n",
              "  </svg>\n",
              "      </button>\n",
              "      \n",
              "  <style>\n",
              "    .colab-df-container {\n",
              "      display:flex;\n",
              "      flex-wrap:wrap;\n",
              "      gap: 12px;\n",
              "    }\n",
              "\n",
              "    .colab-df-convert {\n",
              "      background-color: #E8F0FE;\n",
              "      border: none;\n",
              "      border-radius: 50%;\n",
              "      cursor: pointer;\n",
              "      display: none;\n",
              "      fill: #1967D2;\n",
              "      height: 32px;\n",
              "      padding: 0 0 0 0;\n",
              "      width: 32px;\n",
              "    }\n",
              "\n",
              "    .colab-df-convert:hover {\n",
              "      background-color: #E2EBFA;\n",
              "      box-shadow: 0px 1px 2px rgba(60, 64, 67, 0.3), 0px 1px 3px 1px rgba(60, 64, 67, 0.15);\n",
              "      fill: #174EA6;\n",
              "    }\n",
              "\n",
              "    [theme=dark] .colab-df-convert {\n",
              "      background-color: #3B4455;\n",
              "      fill: #D2E3FC;\n",
              "    }\n",
              "\n",
              "    [theme=dark] .colab-df-convert:hover {\n",
              "      background-color: #434B5C;\n",
              "      box-shadow: 0px 1px 3px 1px rgba(0, 0, 0, 0.15);\n",
              "      filter: drop-shadow(0px 1px 2px rgba(0, 0, 0, 0.3));\n",
              "      fill: #FFFFFF;\n",
              "    }\n",
              "  </style>\n",
              "\n",
              "      <script>\n",
              "        const buttonEl =\n",
              "          document.querySelector('#df-6f911d16-9d23-4ecd-8c45-f227707e14f5 button.colab-df-convert');\n",
              "        buttonEl.style.display =\n",
              "          google.colab.kernel.accessAllowed ? 'block' : 'none';\n",
              "\n",
              "        async function convertToInteractive(key) {\n",
              "          const element = document.querySelector('#df-6f911d16-9d23-4ecd-8c45-f227707e14f5');\n",
              "          const dataTable =\n",
              "            await google.colab.kernel.invokeFunction('convertToInteractive',\n",
              "                                                     [key], {});\n",
              "          if (!dataTable) return;\n",
              "\n",
              "          const docLinkHtml = 'Like what you see? Visit the ' +\n",
              "            '<a target=\"_blank\" href=https://colab.research.google.com/notebooks/data_table.ipynb>data table notebook</a>'\n",
              "            + ' to learn more about interactive tables.';\n",
              "          element.innerHTML = '';\n",
              "          dataTable['output_type'] = 'display_data';\n",
              "          await google.colab.output.renderOutput(dataTable, element);\n",
              "          const docLink = document.createElement('div');\n",
              "          docLink.innerHTML = docLinkHtml;\n",
              "          element.appendChild(docLink);\n",
              "        }\n",
              "      </script>\n",
              "    </div>\n",
              "  </div>\n",
              "  "
            ]
          },
          "metadata": {},
          "execution_count": 559
        }
      ]
    },
    {
      "cell_type": "code",
      "source": [],
      "metadata": {
        "id": "7vSN6Z52iRcx"
      },
      "execution_count": 559,
      "outputs": []
    },
    {
      "cell_type": "code",
      "source": [
        "# Startinf dataframe for all years\n",
        "#import_sfdc.info()"
      ],
      "metadata": {
        "id": "Cc7eNVFCiRia"
      },
      "execution_count": 560,
      "outputs": []
    },
    {
      "cell_type": "code",
      "source": [
        "#Cleaned up dataframe included FOC information starting from around 2019\n",
        "#df_merged.info()"
      ],
      "metadata": {
        "id": "fxEORV0biRtc"
      },
      "execution_count": 561,
      "outputs": []
    },
    {
      "cell_type": "code",
      "source": [],
      "metadata": {
        "id": "QAU5yQbi2Eh6"
      },
      "execution_count": 561,
      "outputs": []
    },
    {
      "cell_type": "markdown",
      "source": [
        "#### Plotting"
      ],
      "metadata": {
        "id": "wedZOg0_CBB8"
      }
    },
    {
      "cell_type": "code",
      "source": [
        "#Select the features for the analysis\n",
        "import_sfdc.columns.to_list()\n",
        "list_for_country_analysis = ['Accession #',\n",
        " 'Reporting Country',\n",
        " 'Type',\n",
        " 'Sales',\n",
        " 'Year_Month']\n",
        "\n",
        "countries_df = import_sfdc.loc[:,list_for_country_analysis ]\n",
        "#countries_df[\"Reporting Country\"] = countries_df[\"Reporting Country\"].astype('category')\n",
        "countries_df.sample(3)"
      ],
      "metadata": {
        "colab": {
          "base_uri": "https://localhost:8080/",
          "height": 175
        },
        "id": "ERIZI3btCOST",
        "outputId": "091032aa-1ce0-43aa-d922-0c0841c26ec1"
      },
      "execution_count": 562,
      "outputs": [
        {
          "output_type": "execute_result",
          "data": {
            "text/plain": [
              "              Accession # Reporting Country        Type  Sales Year_Month\n",
              "Date Received                                                            \n",
              "2022-09-30       A0584664             ITALY       Lunar      1 2022-09-01\n",
              "2021-09-30       A0406511            TURKEY  Commercial      1 2021-09-01\n",
              "2021-03-25       A0340874             SPAIN         GAP      1 2021-03-01"
            ],
            "text/html": [
              "\n",
              "  <div id=\"df-3c05a446-3f9c-4f59-9418-d7c379db2c67\">\n",
              "    <div class=\"colab-df-container\">\n",
              "      <div>\n",
              "<style scoped>\n",
              "    .dataframe tbody tr th:only-of-type {\n",
              "        vertical-align: middle;\n",
              "    }\n",
              "\n",
              "    .dataframe tbody tr th {\n",
              "        vertical-align: top;\n",
              "    }\n",
              "\n",
              "    .dataframe thead th {\n",
              "        text-align: right;\n",
              "    }\n",
              "</style>\n",
              "<table border=\"1\" class=\"dataframe\">\n",
              "  <thead>\n",
              "    <tr style=\"text-align: right;\">\n",
              "      <th></th>\n",
              "      <th>Accession #</th>\n",
              "      <th>Reporting Country</th>\n",
              "      <th>Type</th>\n",
              "      <th>Sales</th>\n",
              "      <th>Year_Month</th>\n",
              "    </tr>\n",
              "    <tr>\n",
              "      <th>Date Received</th>\n",
              "      <th></th>\n",
              "      <th></th>\n",
              "      <th></th>\n",
              "      <th></th>\n",
              "      <th></th>\n",
              "    </tr>\n",
              "  </thead>\n",
              "  <tbody>\n",
              "    <tr>\n",
              "      <th>2022-09-30</th>\n",
              "      <td>A0584664</td>\n",
              "      <td>ITALY</td>\n",
              "      <td>Lunar</td>\n",
              "      <td>1</td>\n",
              "      <td>2022-09-01</td>\n",
              "    </tr>\n",
              "    <tr>\n",
              "      <th>2021-09-30</th>\n",
              "      <td>A0406511</td>\n",
              "      <td>TURKEY</td>\n",
              "      <td>Commercial</td>\n",
              "      <td>1</td>\n",
              "      <td>2021-09-01</td>\n",
              "    </tr>\n",
              "    <tr>\n",
              "      <th>2021-03-25</th>\n",
              "      <td>A0340874</td>\n",
              "      <td>SPAIN</td>\n",
              "      <td>GAP</td>\n",
              "      <td>1</td>\n",
              "      <td>2021-03-01</td>\n",
              "    </tr>\n",
              "  </tbody>\n",
              "</table>\n",
              "</div>\n",
              "      <button class=\"colab-df-convert\" onclick=\"convertToInteractive('df-3c05a446-3f9c-4f59-9418-d7c379db2c67')\"\n",
              "              title=\"Convert this dataframe to an interactive table.\"\n",
              "              style=\"display:none;\">\n",
              "        \n",
              "  <svg xmlns=\"http://www.w3.org/2000/svg\" height=\"24px\"viewBox=\"0 0 24 24\"\n",
              "       width=\"24px\">\n",
              "    <path d=\"M0 0h24v24H0V0z\" fill=\"none\"/>\n",
              "    <path d=\"M18.56 5.44l.94 2.06.94-2.06 2.06-.94-2.06-.94-.94-2.06-.94 2.06-2.06.94zm-11 1L8.5 8.5l.94-2.06 2.06-.94-2.06-.94L8.5 2.5l-.94 2.06-2.06.94zm10 10l.94 2.06.94-2.06 2.06-.94-2.06-.94-.94-2.06-.94 2.06-2.06.94z\"/><path d=\"M17.41 7.96l-1.37-1.37c-.4-.4-.92-.59-1.43-.59-.52 0-1.04.2-1.43.59L10.3 9.45l-7.72 7.72c-.78.78-.78 2.05 0 2.83L4 21.41c.39.39.9.59 1.41.59.51 0 1.02-.2 1.41-.59l7.78-7.78 2.81-2.81c.8-.78.8-2.07 0-2.86zM5.41 20L4 18.59l7.72-7.72 1.47 1.35L5.41 20z\"/>\n",
              "  </svg>\n",
              "      </button>\n",
              "      \n",
              "  <style>\n",
              "    .colab-df-container {\n",
              "      display:flex;\n",
              "      flex-wrap:wrap;\n",
              "      gap: 12px;\n",
              "    }\n",
              "\n",
              "    .colab-df-convert {\n",
              "      background-color: #E8F0FE;\n",
              "      border: none;\n",
              "      border-radius: 50%;\n",
              "      cursor: pointer;\n",
              "      display: none;\n",
              "      fill: #1967D2;\n",
              "      height: 32px;\n",
              "      padding: 0 0 0 0;\n",
              "      width: 32px;\n",
              "    }\n",
              "\n",
              "    .colab-df-convert:hover {\n",
              "      background-color: #E2EBFA;\n",
              "      box-shadow: 0px 1px 2px rgba(60, 64, 67, 0.3), 0px 1px 3px 1px rgba(60, 64, 67, 0.15);\n",
              "      fill: #174EA6;\n",
              "    }\n",
              "\n",
              "    [theme=dark] .colab-df-convert {\n",
              "      background-color: #3B4455;\n",
              "      fill: #D2E3FC;\n",
              "    }\n",
              "\n",
              "    [theme=dark] .colab-df-convert:hover {\n",
              "      background-color: #434B5C;\n",
              "      box-shadow: 0px 1px 3px 1px rgba(0, 0, 0, 0.15);\n",
              "      filter: drop-shadow(0px 1px 2px rgba(0, 0, 0, 0.3));\n",
              "      fill: #FFFFFF;\n",
              "    }\n",
              "  </style>\n",
              "\n",
              "      <script>\n",
              "        const buttonEl =\n",
              "          document.querySelector('#df-3c05a446-3f9c-4f59-9418-d7c379db2c67 button.colab-df-convert');\n",
              "        buttonEl.style.display =\n",
              "          google.colab.kernel.accessAllowed ? 'block' : 'none';\n",
              "\n",
              "        async function convertToInteractive(key) {\n",
              "          const element = document.querySelector('#df-3c05a446-3f9c-4f59-9418-d7c379db2c67');\n",
              "          const dataTable =\n",
              "            await google.colab.kernel.invokeFunction('convertToInteractive',\n",
              "                                                     [key], {});\n",
              "          if (!dataTable) return;\n",
              "\n",
              "          const docLinkHtml = 'Like what you see? Visit the ' +\n",
              "            '<a target=\"_blank\" href=https://colab.research.google.com/notebooks/data_table.ipynb>data table notebook</a>'\n",
              "            + ' to learn more about interactive tables.';\n",
              "          element.innerHTML = '';\n",
              "          dataTable['output_type'] = 'display_data';\n",
              "          await google.colab.output.renderOutput(dataTable, element);\n",
              "          const docLink = document.createElement('div');\n",
              "          docLink.innerHTML = docLinkHtml;\n",
              "          element.appendChild(docLink);\n",
              "        }\n",
              "      </script>\n",
              "    </div>\n",
              "  </div>\n",
              "  "
            ]
          },
          "metadata": {},
          "execution_count": 562
        }
      ]
    },
    {
      "cell_type": "code",
      "source": [
        "#Starting df for plotting\n",
        "countries_df.info()"
      ],
      "metadata": {
        "id": "ijn14nPEbHgy",
        "colab": {
          "base_uri": "https://localhost:8080/"
        },
        "outputId": "0af83ec4-d4fe-491e-99f0-1725152010cd"
      },
      "execution_count": 563,
      "outputs": [
        {
          "output_type": "stream",
          "name": "stdout",
          "text": [
            "<class 'pandas.core.frame.DataFrame'>\n",
            "DatetimeIndex: 15751 entries, 2019-11-25 to 2021-01-20\n",
            "Data columns (total 5 columns):\n",
            " #   Column             Non-Null Count  Dtype         \n",
            "---  ------             --------------  -----         \n",
            " 0   Accession #        15751 non-null  object        \n",
            " 1   Reporting Country  15751 non-null  object        \n",
            " 2   Type               15633 non-null  category      \n",
            " 3   Sales              15751 non-null  int64         \n",
            " 4   Year_Month         15751 non-null  datetime64[ns]\n",
            "dtypes: category(1), datetime64[ns](1), int64(1), object(2)\n",
            "memory usage: 630.9+ KB\n"
          ]
        }
      ]
    },
    {
      "cell_type": "code",
      "source": [
        "#Plot the total number of by country over time"
      ],
      "metadata": {
        "id": "IsLk-bYU_jdh"
      },
      "execution_count": 564,
      "outputs": []
    },
    {
      "cell_type": "code",
      "source": [
        "#Select the time horizion to analyse\n",
        "start_date = \"2018\"\n",
        "end_date = \"2022-10\"\n",
        "#Select the # of countries to be analyses based on the maxiumum number of samplesin \n",
        "#the time horizon\n",
        "num_countries = 6\n",
        "#Create the dataframe relevant for the time periode which should be analysed\n",
        "countries_df = countries_df.loc[start_date:end_date].copy()\n",
        "print(f\"The total number of samples in this dataframe is {countries_df.shape[0]}\")"
      ],
      "metadata": {
        "colab": {
          "base_uri": "https://localhost:8080/"
        },
        "id": "r-TpAyBmH9o_",
        "outputId": "1d77bd98-742f-4ad3-fe0a-db13aa284a31"
      },
      "execution_count": 565,
      "outputs": [
        {
          "output_type": "stream",
          "name": "stdout",
          "text": [
            "The total number of samples in this dataframe is 15522\n"
          ]
        }
      ]
    },
    {
      "cell_type": "code",
      "source": [
        "#Create a dataframe with just the topx countries by number of tests sold\n",
        "top_x = countries_df.groupby('Reporting Country').sum().sort_values(\"Sales\",ascending = False).head(num_countries)\n",
        "top_x_list = top_x.index.tolist()\n",
        "top_x_sales =countries_df[countries_df['Reporting Country'].isin(top_x_list)]\n",
        "print(f\"The top {num_countries} countries have {top_x_sales.shape[0]} samples which represents {top_x_sales.shape[0]/countries_df.shape[0]:.2%}\")"
      ],
      "metadata": {
        "colab": {
          "base_uri": "https://localhost:8080/"
        },
        "id": "EFLzVRDFTmq1",
        "outputId": "63f5b832-d6fb-4688-b7ca-58bbfe3d69da"
      },
      "execution_count": 566,
      "outputs": [
        {
          "output_type": "stream",
          "name": "stdout",
          "text": [
            "The top 6 countries have 12696 samples which represents 81.79%\n"
          ]
        }
      ]
    },
    {
      "cell_type": "code",
      "source": [
        "#Starting dataframe for plotting with date defined and the number of countries\n",
        "#top_x_sales.info()"
      ],
      "metadata": {
        "id": "bZB2YBlhcBEx"
      },
      "execution_count": 567,
      "outputs": []
    },
    {
      "cell_type": "code",
      "source": [
        "#Merging the GH trials and LUNAR into ISTs\n",
        "\n",
        "def merge_ISTs(x):\n",
        "  if x == \"GH Trials (Prospective)\":\n",
        "    return \"ISTs\"\n",
        "  elif x == \"Lunar\":\n",
        "    return \"ISTs\"\n",
        "  else:\n",
        "    return x"
      ],
      "metadata": {
        "id": "K7-GAnVEgnSl"
      },
      "execution_count": 568,
      "outputs": []
    },
    {
      "cell_type": "code",
      "source": [
        "top_x_sales[\"Type\"] = top_x_sales[\"Type\"].map(merge_ISTs)\n",
        "\n",
        "top_x_sales[\"Type\"].value_counts()"
      ],
      "metadata": {
        "colab": {
          "base_uri": "https://localhost:8080/"
        },
        "id": "Fi5LQ-5xhjZt",
        "outputId": "4fd519f5-fb47-4a97-cb17-b0fb549e7f1d"
      },
      "execution_count": 569,
      "outputs": [
        {
          "output_type": "execute_result",
          "data": {
            "text/plain": [
              "Biopharma     4730\n",
              "Commercial    3198\n",
              "ISTs          2876\n",
              "GAP           1785\n",
              "Name: Type, dtype: int64"
            ]
          },
          "metadata": {},
          "execution_count": 569
        }
      ]
    },
    {
      "cell_type": "code",
      "source": [
        "all_countries_by_type = top_x_sales.groupby(['Year_Month', \"Type\"]).sum().reset_index()\n",
        "all_countries_by_type.head(3)"
      ],
      "metadata": {
        "id": "rCD9_5QNUwk1",
        "colab": {
          "base_uri": "https://localhost:8080/",
          "height": 143
        },
        "outputId": "e3fae92d-1c48-4bd3-f2c7-841102c5fca7"
      },
      "execution_count": 570,
      "outputs": [
        {
          "output_type": "execute_result",
          "data": {
            "text/plain": [
              "  Year_Month        Type  Sales\n",
              "0 2019-01-01   Biopharma    105\n",
              "1 2019-01-01  Commercial     26\n",
              "2 2019-01-01        ISTs     76"
            ],
            "text/html": [
              "\n",
              "  <div id=\"df-951e4cce-179c-464f-9a19-d797117faf5e\">\n",
              "    <div class=\"colab-df-container\">\n",
              "      <div>\n",
              "<style scoped>\n",
              "    .dataframe tbody tr th:only-of-type {\n",
              "        vertical-align: middle;\n",
              "    }\n",
              "\n",
              "    .dataframe tbody tr th {\n",
              "        vertical-align: top;\n",
              "    }\n",
              "\n",
              "    .dataframe thead th {\n",
              "        text-align: right;\n",
              "    }\n",
              "</style>\n",
              "<table border=\"1\" class=\"dataframe\">\n",
              "  <thead>\n",
              "    <tr style=\"text-align: right;\">\n",
              "      <th></th>\n",
              "      <th>Year_Month</th>\n",
              "      <th>Type</th>\n",
              "      <th>Sales</th>\n",
              "    </tr>\n",
              "  </thead>\n",
              "  <tbody>\n",
              "    <tr>\n",
              "      <th>0</th>\n",
              "      <td>2019-01-01</td>\n",
              "      <td>Biopharma</td>\n",
              "      <td>105</td>\n",
              "    </tr>\n",
              "    <tr>\n",
              "      <th>1</th>\n",
              "      <td>2019-01-01</td>\n",
              "      <td>Commercial</td>\n",
              "      <td>26</td>\n",
              "    </tr>\n",
              "    <tr>\n",
              "      <th>2</th>\n",
              "      <td>2019-01-01</td>\n",
              "      <td>ISTs</td>\n",
              "      <td>76</td>\n",
              "    </tr>\n",
              "  </tbody>\n",
              "</table>\n",
              "</div>\n",
              "      <button class=\"colab-df-convert\" onclick=\"convertToInteractive('df-951e4cce-179c-464f-9a19-d797117faf5e')\"\n",
              "              title=\"Convert this dataframe to an interactive table.\"\n",
              "              style=\"display:none;\">\n",
              "        \n",
              "  <svg xmlns=\"http://www.w3.org/2000/svg\" height=\"24px\"viewBox=\"0 0 24 24\"\n",
              "       width=\"24px\">\n",
              "    <path d=\"M0 0h24v24H0V0z\" fill=\"none\"/>\n",
              "    <path d=\"M18.56 5.44l.94 2.06.94-2.06 2.06-.94-2.06-.94-.94-2.06-.94 2.06-2.06.94zm-11 1L8.5 8.5l.94-2.06 2.06-.94-2.06-.94L8.5 2.5l-.94 2.06-2.06.94zm10 10l.94 2.06.94-2.06 2.06-.94-2.06-.94-.94-2.06-.94 2.06-2.06.94z\"/><path d=\"M17.41 7.96l-1.37-1.37c-.4-.4-.92-.59-1.43-.59-.52 0-1.04.2-1.43.59L10.3 9.45l-7.72 7.72c-.78.78-.78 2.05 0 2.83L4 21.41c.39.39.9.59 1.41.59.51 0 1.02-.2 1.41-.59l7.78-7.78 2.81-2.81c.8-.78.8-2.07 0-2.86zM5.41 20L4 18.59l7.72-7.72 1.47 1.35L5.41 20z\"/>\n",
              "  </svg>\n",
              "      </button>\n",
              "      \n",
              "  <style>\n",
              "    .colab-df-container {\n",
              "      display:flex;\n",
              "      flex-wrap:wrap;\n",
              "      gap: 12px;\n",
              "    }\n",
              "\n",
              "    .colab-df-convert {\n",
              "      background-color: #E8F0FE;\n",
              "      border: none;\n",
              "      border-radius: 50%;\n",
              "      cursor: pointer;\n",
              "      display: none;\n",
              "      fill: #1967D2;\n",
              "      height: 32px;\n",
              "      padding: 0 0 0 0;\n",
              "      width: 32px;\n",
              "    }\n",
              "\n",
              "    .colab-df-convert:hover {\n",
              "      background-color: #E2EBFA;\n",
              "      box-shadow: 0px 1px 2px rgba(60, 64, 67, 0.3), 0px 1px 3px 1px rgba(60, 64, 67, 0.15);\n",
              "      fill: #174EA6;\n",
              "    }\n",
              "\n",
              "    [theme=dark] .colab-df-convert {\n",
              "      background-color: #3B4455;\n",
              "      fill: #D2E3FC;\n",
              "    }\n",
              "\n",
              "    [theme=dark] .colab-df-convert:hover {\n",
              "      background-color: #434B5C;\n",
              "      box-shadow: 0px 1px 3px 1px rgba(0, 0, 0, 0.15);\n",
              "      filter: drop-shadow(0px 1px 2px rgba(0, 0, 0, 0.3));\n",
              "      fill: #FFFFFF;\n",
              "    }\n",
              "  </style>\n",
              "\n",
              "      <script>\n",
              "        const buttonEl =\n",
              "          document.querySelector('#df-951e4cce-179c-464f-9a19-d797117faf5e button.colab-df-convert');\n",
              "        buttonEl.style.display =\n",
              "          google.colab.kernel.accessAllowed ? 'block' : 'none';\n",
              "\n",
              "        async function convertToInteractive(key) {\n",
              "          const element = document.querySelector('#df-951e4cce-179c-464f-9a19-d797117faf5e');\n",
              "          const dataTable =\n",
              "            await google.colab.kernel.invokeFunction('convertToInteractive',\n",
              "                                                     [key], {});\n",
              "          if (!dataTable) return;\n",
              "\n",
              "          const docLinkHtml = 'Like what you see? Visit the ' +\n",
              "            '<a target=\"_blank\" href=https://colab.research.google.com/notebooks/data_table.ipynb>data table notebook</a>'\n",
              "            + ' to learn more about interactive tables.';\n",
              "          element.innerHTML = '';\n",
              "          dataTable['output_type'] = 'display_data';\n",
              "          await google.colab.output.renderOutput(dataTable, element);\n",
              "          const docLink = document.createElement('div');\n",
              "          docLink.innerHTML = docLinkHtml;\n",
              "          element.appendChild(docLink);\n",
              "        }\n",
              "      </script>\n",
              "    </div>\n",
              "  </div>\n",
              "  "
            ]
          },
          "metadata": {},
          "execution_count": 570
        }
      ]
    },
    {
      "cell_type": "code",
      "source": [
        "all_countries_by_type.shape"
      ],
      "metadata": {
        "colab": {
          "base_uri": "https://localhost:8080/"
        },
        "id": "zyHkUBl6UpZN",
        "outputId": "36b2c39d-afb0-4ab9-adf8-496e7e656b0e"
      },
      "execution_count": 571,
      "outputs": [
        {
          "output_type": "execute_result",
          "data": {
            "text/plain": [
              "(177, 3)"
            ]
          },
          "metadata": {},
          "execution_count": 571
        }
      ]
    },
    {
      "cell_type": "code",
      "source": [
        "all_countries_by_type.tail()"
      ],
      "metadata": {
        "colab": {
          "base_uri": "https://localhost:8080/",
          "height": 206
        },
        "id": "huOMNsaSwX8R",
        "outputId": "dd298ed2-73bc-4dbd-fd14-d66ff4095144"
      },
      "execution_count": 572,
      "outputs": [
        {
          "output_type": "execute_result",
          "data": {
            "text/plain": [
              "    Year_Month        Type  Sales\n",
              "172 2022-09-01        ISTs     57\n",
              "173 2022-10-01   Biopharma    245\n",
              "174 2022-10-01  Commercial    127\n",
              "175 2022-10-01         GAP      7\n",
              "176 2022-10-01        ISTs     65"
            ],
            "text/html": [
              "\n",
              "  <div id=\"df-b8910789-5b4b-47a1-9bd0-ab7dd0baf248\">\n",
              "    <div class=\"colab-df-container\">\n",
              "      <div>\n",
              "<style scoped>\n",
              "    .dataframe tbody tr th:only-of-type {\n",
              "        vertical-align: middle;\n",
              "    }\n",
              "\n",
              "    .dataframe tbody tr th {\n",
              "        vertical-align: top;\n",
              "    }\n",
              "\n",
              "    .dataframe thead th {\n",
              "        text-align: right;\n",
              "    }\n",
              "</style>\n",
              "<table border=\"1\" class=\"dataframe\">\n",
              "  <thead>\n",
              "    <tr style=\"text-align: right;\">\n",
              "      <th></th>\n",
              "      <th>Year_Month</th>\n",
              "      <th>Type</th>\n",
              "      <th>Sales</th>\n",
              "    </tr>\n",
              "  </thead>\n",
              "  <tbody>\n",
              "    <tr>\n",
              "      <th>172</th>\n",
              "      <td>2022-09-01</td>\n",
              "      <td>ISTs</td>\n",
              "      <td>57</td>\n",
              "    </tr>\n",
              "    <tr>\n",
              "      <th>173</th>\n",
              "      <td>2022-10-01</td>\n",
              "      <td>Biopharma</td>\n",
              "      <td>245</td>\n",
              "    </tr>\n",
              "    <tr>\n",
              "      <th>174</th>\n",
              "      <td>2022-10-01</td>\n",
              "      <td>Commercial</td>\n",
              "      <td>127</td>\n",
              "    </tr>\n",
              "    <tr>\n",
              "      <th>175</th>\n",
              "      <td>2022-10-01</td>\n",
              "      <td>GAP</td>\n",
              "      <td>7</td>\n",
              "    </tr>\n",
              "    <tr>\n",
              "      <th>176</th>\n",
              "      <td>2022-10-01</td>\n",
              "      <td>ISTs</td>\n",
              "      <td>65</td>\n",
              "    </tr>\n",
              "  </tbody>\n",
              "</table>\n",
              "</div>\n",
              "      <button class=\"colab-df-convert\" onclick=\"convertToInteractive('df-b8910789-5b4b-47a1-9bd0-ab7dd0baf248')\"\n",
              "              title=\"Convert this dataframe to an interactive table.\"\n",
              "              style=\"display:none;\">\n",
              "        \n",
              "  <svg xmlns=\"http://www.w3.org/2000/svg\" height=\"24px\"viewBox=\"0 0 24 24\"\n",
              "       width=\"24px\">\n",
              "    <path d=\"M0 0h24v24H0V0z\" fill=\"none\"/>\n",
              "    <path d=\"M18.56 5.44l.94 2.06.94-2.06 2.06-.94-2.06-.94-.94-2.06-.94 2.06-2.06.94zm-11 1L8.5 8.5l.94-2.06 2.06-.94-2.06-.94L8.5 2.5l-.94 2.06-2.06.94zm10 10l.94 2.06.94-2.06 2.06-.94-2.06-.94-.94-2.06-.94 2.06-2.06.94z\"/><path d=\"M17.41 7.96l-1.37-1.37c-.4-.4-.92-.59-1.43-.59-.52 0-1.04.2-1.43.59L10.3 9.45l-7.72 7.72c-.78.78-.78 2.05 0 2.83L4 21.41c.39.39.9.59 1.41.59.51 0 1.02-.2 1.41-.59l7.78-7.78 2.81-2.81c.8-.78.8-2.07 0-2.86zM5.41 20L4 18.59l7.72-7.72 1.47 1.35L5.41 20z\"/>\n",
              "  </svg>\n",
              "      </button>\n",
              "      \n",
              "  <style>\n",
              "    .colab-df-container {\n",
              "      display:flex;\n",
              "      flex-wrap:wrap;\n",
              "      gap: 12px;\n",
              "    }\n",
              "\n",
              "    .colab-df-convert {\n",
              "      background-color: #E8F0FE;\n",
              "      border: none;\n",
              "      border-radius: 50%;\n",
              "      cursor: pointer;\n",
              "      display: none;\n",
              "      fill: #1967D2;\n",
              "      height: 32px;\n",
              "      padding: 0 0 0 0;\n",
              "      width: 32px;\n",
              "    }\n",
              "\n",
              "    .colab-df-convert:hover {\n",
              "      background-color: #E2EBFA;\n",
              "      box-shadow: 0px 1px 2px rgba(60, 64, 67, 0.3), 0px 1px 3px 1px rgba(60, 64, 67, 0.15);\n",
              "      fill: #174EA6;\n",
              "    }\n",
              "\n",
              "    [theme=dark] .colab-df-convert {\n",
              "      background-color: #3B4455;\n",
              "      fill: #D2E3FC;\n",
              "    }\n",
              "\n",
              "    [theme=dark] .colab-df-convert:hover {\n",
              "      background-color: #434B5C;\n",
              "      box-shadow: 0px 1px 3px 1px rgba(0, 0, 0, 0.15);\n",
              "      filter: drop-shadow(0px 1px 2px rgba(0, 0, 0, 0.3));\n",
              "      fill: #FFFFFF;\n",
              "    }\n",
              "  </style>\n",
              "\n",
              "      <script>\n",
              "        const buttonEl =\n",
              "          document.querySelector('#df-b8910789-5b4b-47a1-9bd0-ab7dd0baf248 button.colab-df-convert');\n",
              "        buttonEl.style.display =\n",
              "          google.colab.kernel.accessAllowed ? 'block' : 'none';\n",
              "\n",
              "        async function convertToInteractive(key) {\n",
              "          const element = document.querySelector('#df-b8910789-5b4b-47a1-9bd0-ab7dd0baf248');\n",
              "          const dataTable =\n",
              "            await google.colab.kernel.invokeFunction('convertToInteractive',\n",
              "                                                     [key], {});\n",
              "          if (!dataTable) return;\n",
              "\n",
              "          const docLinkHtml = 'Like what you see? Visit the ' +\n",
              "            '<a target=\"_blank\" href=https://colab.research.google.com/notebooks/data_table.ipynb>data table notebook</a>'\n",
              "            + ' to learn more about interactive tables.';\n",
              "          element.innerHTML = '';\n",
              "          dataTable['output_type'] = 'display_data';\n",
              "          await google.colab.output.renderOutput(dataTable, element);\n",
              "          const docLink = document.createElement('div');\n",
              "          docLink.innerHTML = docLinkHtml;\n",
              "          element.appendChild(docLink);\n",
              "        }\n",
              "      </script>\n",
              "    </div>\n",
              "  </div>\n",
              "  "
            ]
          },
          "metadata": {},
          "execution_count": 572
        }
      ]
    },
    {
      "cell_type": "code",
      "source": [
        "#Use relpot for plotting"
      ],
      "metadata": {
        "id": "pa1QNYqQY9KS"
      },
      "execution_count": 573,
      "outputs": []
    },
    {
      "cell_type": "code",
      "source": [
        "#Plot the sales for each category over time\n",
        "with mpl.rc_context({'axes.grid': False}): \n",
        "  g = sns.relplot(data = all_countries_by_type, x = \"Year_Month\", y = \"Sales\", kind = \"line\", col = \"Type\", color = \"#7851a9\", linewidth=4 )\n",
        "g.set_xticklabels(rotation = \"90\")\n",
        "\n",
        "g.set_ylabels(\"Tests per Month\")\n",
        "g.set_xlabels(\"Time in Months\")\n",
        "g.set_titles(col_template = '{col_name}')\n",
        "g.fig.suptitle('Tests per Month for the different Sample Categories', y=1.05)\n",
        "\n",
        "plt.savefig('facet_plot.pdf', dpi = 300, bbox_inches =\"tight\",\n",
        "            pad_inches = 1)\n",
        "#files.download(\"facet_plot.pdf\")\n",
        "plt.show()\n"
      ],
      "metadata": {
        "colab": {
          "base_uri": "https://localhost:8080/",
          "height": 430
        },
        "id": "yF9r7ff9Y82K",
        "outputId": "1a1ede60-308a-4f1d-9d25-594c7fcfd8c3"
      },
      "execution_count": 574,
      "outputs": [
        {
          "output_type": "display_data",
          "data": {
            "text/plain": [
              "<Figure size 1440x360 with 4 Axes>"
            ],
            "image/png": "[encoded data removed]"
          },
          "metadata": {}
        }
      ]
    },
    {
      "cell_type": "code",
      "source": [
        "#Total sales across the region\n",
        "total_sales_regions = top_x_sales.groupby(['Year_Month']).sum().reset_index()\n"
      ],
      "metadata": {
        "id": "9_VuvNuXkT5z"
      },
      "execution_count": 575,
      "outputs": []
    },
    {
      "cell_type": "code",
      "source": [
        "#Plot the sales for each category over time\n",
        "with mpl.rc_context({'axes.grid': False}): \n",
        "  g = sns.relplot(data = total_sales_regions, x = \"Year_Month\", y = \"Sales\", kind = \"line\", color = \"#7851a9\", linewidth=4 ,height=5, aspect=10/5)\n",
        "g.set_xticklabels(rotation = \"90\")\n",
        "\n",
        "g.set_ylabels(\"Tests per Month\")\n",
        "g.set_xlabels(\"Time in Months\")\n",
        "g.set_titles(col_template = '{col_name}')\n",
        "g.fig.suptitle('Total # of Tests per Month International', y=1.05)\n",
        "\n",
        "plt.savefig('facet_plot.pdf', dpi = 300, bbox_inches =\"tight\",\n",
        "            pad_inches = 1)\n",
        "#files.download(\"facet_plot.pdf\")\n",
        "plt.show()"
      ],
      "metadata": {
        "colab": {
          "base_uri": "https://localhost:8080/",
          "height": 430
        },
        "id": "q8NItV8mk_Hx",
        "outputId": "5b015526-7e01-4d4e-f5d0-32fad083dd46"
      },
      "execution_count": 576,
      "outputs": [
        {
          "output_type": "display_data",
          "data": {
            "text/plain": [
              "<Figure size 720x360 with 1 Axes>"
            ],
            "image/png": "[encoded data removed]"
          },
          "metadata": {}
        }
      ]
    },
    {
      "cell_type": "code",
      "source": [],
      "metadata": {
        "id": "9gopnz2bk-2R"
      },
      "execution_count": 576,
      "outputs": []
    },
    {
      "cell_type": "code",
      "source": [
        "#Re-create the stacked area plot used so far\n",
        "\n",
        "\n",
        "#Create a df in the wide format with the type category providing the new column labels\n",
        "\n",
        "all_countries_pivot_type = all_countries_by_type.pivot(index = \"Year_Month\", columns = \"Type\", values = \"Sales\")\n",
        "all_countries_pivot_type.head()\n"
      ],
      "metadata": {
        "id": "xMz_PpJgtPCW",
        "colab": {
          "base_uri": "https://localhost:8080/",
          "height": 238
        },
        "outputId": "a5647b2a-0b65-4152-9912-c74a7883849d"
      },
      "execution_count": 577,
      "outputs": [
        {
          "output_type": "execute_result",
          "data": {
            "text/plain": [
              "Type        Biopharma  Commercial  GAP  ISTs\n",
              "Year_Month                                  \n",
              "2019-01-01      105.0        26.0  NaN  76.0\n",
              "2019-02-01      110.0        18.0  NaN  69.0\n",
              "2019-03-01      130.0        19.0  NaN  82.0\n",
              "2019-04-01      110.0        25.0  NaN  69.0\n",
              "2019-05-01      112.0        24.0  NaN  41.0"
            ],
            "text/html": [
              "\n",
              "  <div id=\"df-6d43d2c5-deff-41f0-b11a-920234d66602\">\n",
              "    <div class=\"colab-df-container\">\n",
              "      <div>\n",
              "<style scoped>\n",
              "    .dataframe tbody tr th:only-of-type {\n",
              "        vertical-align: middle;\n",
              "    }\n",
              "\n",
              "    .dataframe tbody tr th {\n",
              "        vertical-align: top;\n",
              "    }\n",
              "\n",
              "    .dataframe thead th {\n",
              "        text-align: right;\n",
              "    }\n",
              "</style>\n",
              "<table border=\"1\" class=\"dataframe\">\n",
              "  <thead>\n",
              "    <tr style=\"text-align: right;\">\n",
              "      <th>Type</th>\n",
              "      <th>Biopharma</th>\n",
              "      <th>Commercial</th>\n",
              "      <th>GAP</th>\n",
              "      <th>ISTs</th>\n",
              "    </tr>\n",
              "    <tr>\n",
              "      <th>Year_Month</th>\n",
              "      <th></th>\n",
              "      <th></th>\n",
              "      <th></th>\n",
              "      <th></th>\n",
              "    </tr>\n",
              "  </thead>\n",
              "  <tbody>\n",
              "    <tr>\n",
              "      <th>2019-01-01</th>\n",
              "      <td>105.0</td>\n",
              "      <td>26.0</td>\n",
              "      <td>NaN</td>\n",
              "      <td>76.0</td>\n",
              "    </tr>\n",
              "    <tr>\n",
              "      <th>2019-02-01</th>\n",
              "      <td>110.0</td>\n",
              "      <td>18.0</td>\n",
              "      <td>NaN</td>\n",
              "      <td>69.0</td>\n",
              "    </tr>\n",
              "    <tr>\n",
              "      <th>2019-03-01</th>\n",
              "      <td>130.0</td>\n",
              "      <td>19.0</td>\n",
              "      <td>NaN</td>\n",
              "      <td>82.0</td>\n",
              "    </tr>\n",
              "    <tr>\n",
              "      <th>2019-04-01</th>\n",
              "      <td>110.0</td>\n",
              "      <td>25.0</td>\n",
              "      <td>NaN</td>\n",
              "      <td>69.0</td>\n",
              "    </tr>\n",
              "    <tr>\n",
              "      <th>2019-05-01</th>\n",
              "      <td>112.0</td>\n",
              "      <td>24.0</td>\n",
              "      <td>NaN</td>\n",
              "      <td>41.0</td>\n",
              "    </tr>\n",
              "  </tbody>\n",
              "</table>\n",
              "</div>\n",
              "      <button class=\"colab-df-convert\" onclick=\"convertToInteractive('df-6d43d2c5-deff-41f0-b11a-920234d66602')\"\n",
              "              title=\"Convert this dataframe to an interactive table.\"\n",
              "              style=\"display:none;\">\n",
              "        \n",
              "  <svg xmlns=\"http://www.w3.org/2000/svg\" height=\"24px\"viewBox=\"0 0 24 24\"\n",
              "       width=\"24px\">\n",
              "    <path d=\"M0 0h24v24H0V0z\" fill=\"none\"/>\n",
              "    <path d=\"M18.56 5.44l.94 2.06.94-2.06 2.06-.94-2.06-.94-.94-2.06-.94 2.06-2.06.94zm-11 1L8.5 8.5l.94-2.06 2.06-.94-2.06-.94L8.5 2.5l-.94 2.06-2.06.94zm10 10l.94 2.06.94-2.06 2.06-.94-2.06-.94-.94-2.06-.94 2.06-2.06.94z\"/><path d=\"M17.41 7.96l-1.37-1.37c-.4-.4-.92-.59-1.43-.59-.52 0-1.04.2-1.43.59L10.3 9.45l-7.72 7.72c-.78.78-.78 2.05 0 2.83L4 21.41c.39.39.9.59 1.41.59.51 0 1.02-.2 1.41-.59l7.78-7.78 2.81-2.81c.8-.78.8-2.07 0-2.86zM5.41 20L4 18.59l7.72-7.72 1.47 1.35L5.41 20z\"/>\n",
              "  </svg>\n",
              "      </button>\n",
              "      \n",
              "  <style>\n",
              "    .colab-df-container {\n",
              "      display:flex;\n",
              "      flex-wrap:wrap;\n",
              "      gap: 12px;\n",
              "    }\n",
              "\n",
              "    .colab-df-convert {\n",
              "      background-color: #E8F0FE;\n",
              "      border: none;\n",
              "      border-radius: 50%;\n",
              "      cursor: pointer;\n",
              "      display: none;\n",
              "      fill: #1967D2;\n",
              "      height: 32px;\n",
              "      padding: 0 0 0 0;\n",
              "      width: 32px;\n",
              "    }\n",
              "\n",
              "    .colab-df-convert:hover {\n",
              "      background-color: #E2EBFA;\n",
              "      box-shadow: 0px 1px 2px rgba(60, 64, 67, 0.3), 0px 1px 3px 1px rgba(60, 64, 67, 0.15);\n",
              "      fill: #174EA6;\n",
              "    }\n",
              "\n",
              "    [theme=dark] .colab-df-convert {\n",
              "      background-color: #3B4455;\n",
              "      fill: #D2E3FC;\n",
              "    }\n",
              "\n",
              "    [theme=dark] .colab-df-convert:hover {\n",
              "      background-color: #434B5C;\n",
              "      box-shadow: 0px 1px 3px 1px rgba(0, 0, 0, 0.15);\n",
              "      filter: drop-shadow(0px 1px 2px rgba(0, 0, 0, 0.3));\n",
              "      fill: #FFFFFF;\n",
              "    }\n",
              "  </style>\n",
              "\n",
              "      <script>\n",
              "        const buttonEl =\n",
              "          document.querySelector('#df-6d43d2c5-deff-41f0-b11a-920234d66602 button.colab-df-convert');\n",
              "        buttonEl.style.display =\n",
              "          google.colab.kernel.accessAllowed ? 'block' : 'none';\n",
              "\n",
              "        async function convertToInteractive(key) {\n",
              "          const element = document.querySelector('#df-6d43d2c5-deff-41f0-b11a-920234d66602');\n",
              "          const dataTable =\n",
              "            await google.colab.kernel.invokeFunction('convertToInteractive',\n",
              "                                                     [key], {});\n",
              "          if (!dataTable) return;\n",
              "\n",
              "          const docLinkHtml = 'Like what you see? Visit the ' +\n",
              "            '<a target=\"_blank\" href=https://colab.research.google.com/notebooks/data_table.ipynb>data table notebook</a>'\n",
              "            + ' to learn more about interactive tables.';\n",
              "          element.innerHTML = '';\n",
              "          dataTable['output_type'] = 'display_data';\n",
              "          await google.colab.output.renderOutput(dataTable, element);\n",
              "          const docLink = document.createElement('div');\n",
              "          docLink.innerHTML = docLinkHtml;\n",
              "          element.appendChild(docLink);\n",
              "        }\n",
              "      </script>\n",
              "    </div>\n",
              "  </div>\n",
              "  "
            ]
          },
          "metadata": {},
          "execution_count": 577
        }
      ]
    },
    {
      "cell_type": "code",
      "source": [
        "# Stackplot with X, Y, colors value\n",
        "#plt.style.use('ggplot')\n",
        "plt.subplots(figsize=(16, 8))\n",
        "\n",
        "\n",
        "# Plot x-labels, y-label and data\n",
        "plt.plot([], [], color =\"crimson\",\n",
        "         label =\"Biopharma\")\n",
        "plt.plot([], [], color ='green',\n",
        "         label ='Commercial')\n",
        "plt.plot([], [], color ='royalblue',\n",
        "         label ='GAP')\n",
        "plt.plot([], [], color ='magenta',\n",
        "         label ='ISTs')\n",
        "\n",
        "\n",
        "plt.stackplot(all_countries_pivot_type.index, all_countries_pivot_type[\"Biopharma\"],\n",
        "              all_countries_pivot_type[\"Commercial\"],\n",
        "              all_countries_pivot_type[\"GAP\"],\n",
        "              all_countries_pivot_type[\"ISTs\"],\n",
        "              colors =[\"crimson\", 'green', 'royalblue', 'magenta'])\n",
        " \n",
        "plt.grid(False)\n",
        "plt.legend(loc='upper right')\n",
        "# Days\n",
        "plt.xlabel('Time in Month')\n",
        " \n",
        "# No of hours\n",
        "plt.ylabel('Tests per Month')\n",
        " \n",
        "# Title of Graph\n",
        "plt.title('Month Test Volume International Markets for all Categories')\n",
        "\n",
        " \n",
        "# Displaying Graph\n",
        "\n",
        "\n",
        "plt.savefig(\"test_t.pdf\", transparent = True)\n",
        "#files.download(\"test_t.pdf\")\n",
        "plt.show()"
      ],
      "metadata": {
        "id": "3nUxG0dQtPrS",
        "colab": {
          "base_uri": "https://localhost:8080/",
          "height": 513
        },
        "outputId": "37994216-e6e4-408a-f475-095e2c6a554c"
      },
      "execution_count": 578,
      "outputs": [
        {
          "output_type": "display_data",
          "data": {
            "text/plain": [
              "<Figure size 1152x576 with 1 Axes>"
            ],
            "image/png": "[encoded data removed]"
          },
          "metadata": {}
        }
      ]
    },
    {
      "cell_type": "markdown",
      "source": [
        "#### Stacked area plot for Commercial, GAP and ISTS"
      ],
      "metadata": {
        "id": "j4PX2K5u-sn6"
      }
    },
    {
      "cell_type": "code",
      "source": [
        "# Stackplot with X, Y, colors value\n",
        "#plt.style.use('ggplot')\n",
        "plt.subplots(figsize=(16, 8))\n",
        "\n",
        "\n",
        "# Plot x-labels, y-label and data\n",
        "\n",
        "plt.plot([], [], color ='dimgrey',\n",
        "         label ='Commercial')\n",
        "plt.plot([], [], color ='cornsilk',\n",
        "         label ='GAP')\n",
        "plt.plot([], [], color ='lightcoral',\n",
        "         label ='ISTs')\n",
        "\n",
        "\n",
        "plt.stackplot(all_countries_pivot_type.index,\n",
        "              all_countries_pivot_type[\"Commercial\"],\n",
        "              all_countries_pivot_type[\"GAP\"],\n",
        "              all_countries_pivot_type[\"ISTs\"],\n",
        "              colors =['dimgrey', 'cornsilk', 'lightcoral'])\n",
        " \n",
        "plt.grid(False)\n",
        "plt.legend(loc='upper right')\n",
        "# Days\n",
        "plt.xlabel('Time in Month')\n",
        " \n",
        "# No of hours\n",
        "plt.ylabel('Tests per Month')\n",
        " \n",
        "# Title of Graph\n",
        "plt.title('Month Test Volume International Markets for all Categories')\n",
        "\n",
        " \n",
        "# Displaying Graph\n",
        "plt.show()"
      ],
      "metadata": {
        "id": "tUkuid2m-nhK",
        "colab": {
          "base_uri": "https://localhost:8080/",
          "height": 513
        },
        "outputId": "ce3c0fdd-15e9-42c8-aef8-8801f3c1a615"
      },
      "execution_count": 579,
      "outputs": [
        {
          "output_type": "display_data",
          "data": {
            "text/plain": [
              "<Figure size 1152x576 with 1 Axes>"
            ],
            "image/png": "[encoded data removed]"
          },
          "metadata": {}
        }
      ]
    },
    {
      "cell_type": "markdown",
      "source": [
        "#### Plot the relative percentage of sample in each category over time"
      ],
      "metadata": {
        "id": "N4037xoTD5Zx"
      }
    },
    {
      "cell_type": "code",
      "source": [
        "all_countries_pivot_type.head()"
      ],
      "metadata": {
        "id": "E3_5hZPJJVdK",
        "colab": {
          "base_uri": "https://localhost:8080/",
          "height": 238
        },
        "outputId": "85e43c91-57a6-4ca2-e2f5-c83c460ef5f6"
      },
      "execution_count": 580,
      "outputs": [
        {
          "output_type": "execute_result",
          "data": {
            "text/plain": [
              "Type        Biopharma  Commercial  GAP  ISTs\n",
              "Year_Month                                  \n",
              "2019-01-01      105.0        26.0  NaN  76.0\n",
              "2019-02-01      110.0        18.0  NaN  69.0\n",
              "2019-03-01      130.0        19.0  NaN  82.0\n",
              "2019-04-01      110.0        25.0  NaN  69.0\n",
              "2019-05-01      112.0        24.0  NaN  41.0"
            ],
            "text/html": [
              "\n",
              "  <div id=\"df-5db68e3f-39d6-4b3d-a179-b77c765b58c4\">\n",
              "    <div class=\"colab-df-container\">\n",
              "      <div>\n",
              "<style scoped>\n",
              "    .dataframe tbody tr th:only-of-type {\n",
              "        vertical-align: middle;\n",
              "    }\n",
              "\n",
              "    .dataframe tbody tr th {\n",
              "        vertical-align: top;\n",
              "    }\n",
              "\n",
              "    .dataframe thead th {\n",
              "        text-align: right;\n",
              "    }\n",
              "</style>\n",
              "<table border=\"1\" class=\"dataframe\">\n",
              "  <thead>\n",
              "    <tr style=\"text-align: right;\">\n",
              "      <th>Type</th>\n",
              "      <th>Biopharma</th>\n",
              "      <th>Commercial</th>\n",
              "      <th>GAP</th>\n",
              "      <th>ISTs</th>\n",
              "    </tr>\n",
              "    <tr>\n",
              "      <th>Year_Month</th>\n",
              "      <th></th>\n",
              "      <th></th>\n",
              "      <th></th>\n",
              "      <th></th>\n",
              "    </tr>\n",
              "  </thead>\n",
              "  <tbody>\n",
              "    <tr>\n",
              "      <th>2019-01-01</th>\n",
              "      <td>105.0</td>\n",
              "      <td>26.0</td>\n",
              "      <td>NaN</td>\n",
              "      <td>76.0</td>\n",
              "    </tr>\n",
              "    <tr>\n",
              "      <th>2019-02-01</th>\n",
              "      <td>110.0</td>\n",
              "      <td>18.0</td>\n",
              "      <td>NaN</td>\n",
              "      <td>69.0</td>\n",
              "    </tr>\n",
              "    <tr>\n",
              "      <th>2019-03-01</th>\n",
              "      <td>130.0</td>\n",
              "      <td>19.0</td>\n",
              "      <td>NaN</td>\n",
              "      <td>82.0</td>\n",
              "    </tr>\n",
              "    <tr>\n",
              "      <th>2019-04-01</th>\n",
              "      <td>110.0</td>\n",
              "      <td>25.0</td>\n",
              "      <td>NaN</td>\n",
              "      <td>69.0</td>\n",
              "    </tr>\n",
              "    <tr>\n",
              "      <th>2019-05-01</th>\n",
              "      <td>112.0</td>\n",
              "      <td>24.0</td>\n",
              "      <td>NaN</td>\n",
              "      <td>41.0</td>\n",
              "    </tr>\n",
              "  </tbody>\n",
              "</table>\n",
              "</div>\n",
              "      <button class=\"colab-df-convert\" onclick=\"convertToInteractive('df-5db68e3f-39d6-4b3d-a179-b77c765b58c4')\"\n",
              "              title=\"Convert this dataframe to an interactive table.\"\n",
              "              style=\"display:none;\">\n",
              "        \n",
              "  <svg xmlns=\"http://www.w3.org/2000/svg\" height=\"24px\"viewBox=\"0 0 24 24\"\n",
              "       width=\"24px\">\n",
              "    <path d=\"M0 0h24v24H0V0z\" fill=\"none\"/>\n",
              "    <path d=\"M18.56 5.44l.94 2.06.94-2.06 2.06-.94-2.06-.94-.94-2.06-.94 2.06-2.06.94zm-11 1L8.5 8.5l.94-2.06 2.06-.94-2.06-.94L8.5 2.5l-.94 2.06-2.06.94zm10 10l.94 2.06.94-2.06 2.06-.94-2.06-.94-.94-2.06-.94 2.06-2.06.94z\"/><path d=\"M17.41 7.96l-1.37-1.37c-.4-.4-.92-.59-1.43-.59-.52 0-1.04.2-1.43.59L10.3 9.45l-7.72 7.72c-.78.78-.78 2.05 0 2.83L4 21.41c.39.39.9.59 1.41.59.51 0 1.02-.2 1.41-.59l7.78-7.78 2.81-2.81c.8-.78.8-2.07 0-2.86zM5.41 20L4 18.59l7.72-7.72 1.47 1.35L5.41 20z\"/>\n",
              "  </svg>\n",
              "      </button>\n",
              "      \n",
              "  <style>\n",
              "    .colab-df-container {\n",
              "      display:flex;\n",
              "      flex-wrap:wrap;\n",
              "      gap: 12px;\n",
              "    }\n",
              "\n",
              "    .colab-df-convert {\n",
              "      background-color: #E8F0FE;\n",
              "      border: none;\n",
              "      border-radius: 50%;\n",
              "      cursor: pointer;\n",
              "      display: none;\n",
              "      fill: #1967D2;\n",
              "      height: 32px;\n",
              "      padding: 0 0 0 0;\n",
              "      width: 32px;\n",
              "    }\n",
              "\n",
              "    .colab-df-convert:hover {\n",
              "      background-color: #E2EBFA;\n",
              "      box-shadow: 0px 1px 2px rgba(60, 64, 67, 0.3), 0px 1px 3px 1px rgba(60, 64, 67, 0.15);\n",
              "      fill: #174EA6;\n",
              "    }\n",
              "\n",
              "    [theme=dark] .colab-df-convert {\n",
              "      background-color: #3B4455;\n",
              "      fill: #D2E3FC;\n",
              "    }\n",
              "\n",
              "    [theme=dark] .colab-df-convert:hover {\n",
              "      background-color: #434B5C;\n",
              "      box-shadow: 0px 1px 3px 1px rgba(0, 0, 0, 0.15);\n",
              "      filter: drop-shadow(0px 1px 2px rgba(0, 0, 0, 0.3));\n",
              "      fill: #FFFFFF;\n",
              "    }\n",
              "  </style>\n",
              "\n",
              "      <script>\n",
              "        const buttonEl =\n",
              "          document.querySelector('#df-5db68e3f-39d6-4b3d-a179-b77c765b58c4 button.colab-df-convert');\n",
              "        buttonEl.style.display =\n",
              "          google.colab.kernel.accessAllowed ? 'block' : 'none';\n",
              "\n",
              "        async function convertToInteractive(key) {\n",
              "          const element = document.querySelector('#df-5db68e3f-39d6-4b3d-a179-b77c765b58c4');\n",
              "          const dataTable =\n",
              "            await google.colab.kernel.invokeFunction('convertToInteractive',\n",
              "                                                     [key], {});\n",
              "          if (!dataTable) return;\n",
              "\n",
              "          const docLinkHtml = 'Like what you see? Visit the ' +\n",
              "            '<a target=\"_blank\" href=https://colab.research.google.com/notebooks/data_table.ipynb>data table notebook</a>'\n",
              "            + ' to learn more about interactive tables.';\n",
              "          element.innerHTML = '';\n",
              "          dataTable['output_type'] = 'display_data';\n",
              "          await google.colab.output.renderOutput(dataTable, element);\n",
              "          const docLink = document.createElement('div');\n",
              "          docLink.innerHTML = docLinkHtml;\n",
              "          element.appendChild(docLink);\n",
              "        }\n",
              "      </script>\n",
              "    </div>\n",
              "  </div>\n",
              "  "
            ]
          },
          "metadata": {},
          "execution_count": 580
        }
      ]
    },
    {
      "cell_type": "code",
      "source": [
        "all_countries_pivot_type = all_countries_pivot_type.fillna(0)\n"
      ],
      "metadata": {
        "id": "TelYdxLuJRrW"
      },
      "execution_count": 581,
      "outputs": []
    },
    {
      "cell_type": "code",
      "source": [
        "\n",
        "\n",
        "all_countries_pivot_type[\"Total Sales\"] = all_countries_pivot_type[\"Biopharma\"] +all_countries_pivot_type[\"GAP\"] + all_countries_pivot_type[\"Commercial\"] + all_countries_pivot_type[\"ISTs\"]\n",
        "\n",
        "all_countries_pivot_type[\"Percent Commercial\"] = (all_countries_pivot_type[\"Commercial\"]/all_countries_pivot_type[\"Total Sales\"])*100\n",
        "\n",
        "all_countries_pivot_type[\"Percent Biopharma\"] = (all_countries_pivot_type[\"Biopharma\"]/all_countries_pivot_type[\"Total Sales\"])*100\n",
        "\n",
        "all_countries_pivot_type[\"Percent GAP\"] = (all_countries_pivot_type[\"GAP\"]/all_countries_pivot_type[\"Total Sales\"])*100\n",
        "\n",
        "all_countries_pivot_type[\"Percent ISTs\"] = (all_countries_pivot_type[\"ISTs\"]/all_countries_pivot_type[\"Total Sales\"])*100\n"
      ],
      "metadata": {
        "id": "zCsamz_--nUy"
      },
      "execution_count": 582,
      "outputs": []
    },
    {
      "cell_type": "code",
      "source": [
        "all_countries_pivot_type.head(2)"
      ],
      "metadata": {
        "id": "bM2SLhOaIQew",
        "colab": {
          "base_uri": "https://localhost:8080/",
          "height": 143
        },
        "outputId": "3b09d3e1-9a9a-402f-9280-737bce6dfd63"
      },
      "execution_count": 583,
      "outputs": [
        {
          "output_type": "execute_result",
          "data": {
            "text/plain": [
              "Type        Biopharma  Commercial  GAP  ISTs  Total Sales  Percent Commercial  \\\n",
              "Year_Month                                                                      \n",
              "2019-01-01      105.0        26.0  0.0  76.0        207.0               12.56   \n",
              "2019-02-01      110.0        18.0  0.0  69.0        197.0                9.14   \n",
              "\n",
              "Type        Percent Biopharma  Percent GAP  Percent ISTs  \n",
              "Year_Month                                                \n",
              "2019-01-01              50.72          0.0         36.71  \n",
              "2019-02-01              55.84          0.0         35.03  "
            ],
            "text/html": [
              "\n",
              "  <div id=\"df-435ef026-ee37-4e4d-8718-627db4914f18\">\n",
              "    <div class=\"colab-df-container\">\n",
              "      <div>\n",
              "<style scoped>\n",
              "    .dataframe tbody tr th:only-of-type {\n",
              "        vertical-align: middle;\n",
              "    }\n",
              "\n",
              "    .dataframe tbody tr th {\n",
              "        vertical-align: top;\n",
              "    }\n",
              "\n",
              "    .dataframe thead th {\n",
              "        text-align: right;\n",
              "    }\n",
              "</style>\n",
              "<table border=\"1\" class=\"dataframe\">\n",
              "  <thead>\n",
              "    <tr style=\"text-align: right;\">\n",
              "      <th>Type</th>\n",
              "      <th>Biopharma</th>\n",
              "      <th>Commercial</th>\n",
              "      <th>GAP</th>\n",
              "      <th>ISTs</th>\n",
              "      <th>Total Sales</th>\n",
              "      <th>Percent Commercial</th>\n",
              "      <th>Percent Biopharma</th>\n",
              "      <th>Percent GAP</th>\n",
              "      <th>Percent ISTs</th>\n",
              "    </tr>\n",
              "    <tr>\n",
              "      <th>Year_Month</th>\n",
              "      <th></th>\n",
              "      <th></th>\n",
              "      <th></th>\n",
              "      <th></th>\n",
              "      <th></th>\n",
              "      <th></th>\n",
              "      <th></th>\n",
              "      <th></th>\n",
              "      <th></th>\n",
              "    </tr>\n",
              "  </thead>\n",
              "  <tbody>\n",
              "    <tr>\n",
              "      <th>2019-01-01</th>\n",
              "      <td>105.0</td>\n",
              "      <td>26.0</td>\n",
              "      <td>0.0</td>\n",
              "      <td>76.0</td>\n",
              "      <td>207.0</td>\n",
              "      <td>12.56</td>\n",
              "      <td>50.72</td>\n",
              "      <td>0.0</td>\n",
              "      <td>36.71</td>\n",
              "    </tr>\n",
              "    <tr>\n",
              "      <th>2019-02-01</th>\n",
              "      <td>110.0</td>\n",
              "      <td>18.0</td>\n",
              "      <td>0.0</td>\n",
              "      <td>69.0</td>\n",
              "      <td>197.0</td>\n",
              "      <td>9.14</td>\n",
              "      <td>55.84</td>\n",
              "      <td>0.0</td>\n",
              "      <td>35.03</td>\n",
              "    </tr>\n",
              "  </tbody>\n",
              "</table>\n",
              "</div>\n",
              "      <button class=\"colab-df-convert\" onclick=\"convertToInteractive('df-435ef026-ee37-4e4d-8718-627db4914f18')\"\n",
              "              title=\"Convert this dataframe to an interactive table.\"\n",
              "              style=\"display:none;\">\n",
              "        \n",
              "  <svg xmlns=\"http://www.w3.org/2000/svg\" height=\"24px\"viewBox=\"0 0 24 24\"\n",
              "       width=\"24px\">\n",
              "    <path d=\"M0 0h24v24H0V0z\" fill=\"none\"/>\n",
              "    <path d=\"M18.56 5.44l.94 2.06.94-2.06 2.06-.94-2.06-.94-.94-2.06-.94 2.06-2.06.94zm-11 1L8.5 8.5l.94-2.06 2.06-.94-2.06-.94L8.5 2.5l-.94 2.06-2.06.94zm10 10l.94 2.06.94-2.06 2.06-.94-2.06-.94-.94-2.06-.94 2.06-2.06.94z\"/><path d=\"M17.41 7.96l-1.37-1.37c-.4-.4-.92-.59-1.43-.59-.52 0-1.04.2-1.43.59L10.3 9.45l-7.72 7.72c-.78.78-.78 2.05 0 2.83L4 21.41c.39.39.9.59 1.41.59.51 0 1.02-.2 1.41-.59l7.78-7.78 2.81-2.81c.8-.78.8-2.07 0-2.86zM5.41 20L4 18.59l7.72-7.72 1.47 1.35L5.41 20z\"/>\n",
              "  </svg>\n",
              "      </button>\n",
              "      \n",
              "  <style>\n",
              "    .colab-df-container {\n",
              "      display:flex;\n",
              "      flex-wrap:wrap;\n",
              "      gap: 12px;\n",
              "    }\n",
              "\n",
              "    .colab-df-convert {\n",
              "      background-color: #E8F0FE;\n",
              "      border: none;\n",
              "      border-radius: 50%;\n",
              "      cursor: pointer;\n",
              "      display: none;\n",
              "      fill: #1967D2;\n",
              "      height: 32px;\n",
              "      padding: 0 0 0 0;\n",
              "      width: 32px;\n",
              "    }\n",
              "\n",
              "    .colab-df-convert:hover {\n",
              "      background-color: #E2EBFA;\n",
              "      box-shadow: 0px 1px 2px rgba(60, 64, 67, 0.3), 0px 1px 3px 1px rgba(60, 64, 67, 0.15);\n",
              "      fill: #174EA6;\n",
              "    }\n",
              "\n",
              "    [theme=dark] .colab-df-convert {\n",
              "      background-color: #3B4455;\n",
              "      fill: #D2E3FC;\n",
              "    }\n",
              "\n",
              "    [theme=dark] .colab-df-convert:hover {\n",
              "      background-color: #434B5C;\n",
              "      box-shadow: 0px 1px 3px 1px rgba(0, 0, 0, 0.15);\n",
              "      filter: drop-shadow(0px 1px 2px rgba(0, 0, 0, 0.3));\n",
              "      fill: #FFFFFF;\n",
              "    }\n",
              "  </style>\n",
              "\n",
              "      <script>\n",
              "        const buttonEl =\n",
              "          document.querySelector('#df-435ef026-ee37-4e4d-8718-627db4914f18 button.colab-df-convert');\n",
              "        buttonEl.style.display =\n",
              "          google.colab.kernel.accessAllowed ? 'block' : 'none';\n",
              "\n",
              "        async function convertToInteractive(key) {\n",
              "          const element = document.querySelector('#df-435ef026-ee37-4e4d-8718-627db4914f18');\n",
              "          const dataTable =\n",
              "            await google.colab.kernel.invokeFunction('convertToInteractive',\n",
              "                                                     [key], {});\n",
              "          if (!dataTable) return;\n",
              "\n",
              "          const docLinkHtml = 'Like what you see? Visit the ' +\n",
              "            '<a target=\"_blank\" href=https://colab.research.google.com/notebooks/data_table.ipynb>data table notebook</a>'\n",
              "            + ' to learn more about interactive tables.';\n",
              "          element.innerHTML = '';\n",
              "          dataTable['output_type'] = 'display_data';\n",
              "          await google.colab.output.renderOutput(dataTable, element);\n",
              "          const docLink = document.createElement('div');\n",
              "          docLink.innerHTML = docLinkHtml;\n",
              "          element.appendChild(docLink);\n",
              "        }\n",
              "      </script>\n",
              "    </div>\n",
              "  </div>\n",
              "  "
            ]
          },
          "metadata": {},
          "execution_count": 583
        }
      ]
    },
    {
      "cell_type": "code",
      "source": [
        "# Stackplot with X, Y, colors value\n",
        "#plt.style.use('ggplot')\n",
        "plt.subplots(figsize=(16, 8))\n",
        "\n",
        "\n",
        "# Plot x-labels, y-label and data\n",
        "plt.plot([], [], color =\"lightsteelblue\",\n",
        "         label =\"Biopharma\")\n",
        "plt.plot([], [], color ='dimgrey',\n",
        "         label ='Commercial')\n",
        "plt.plot([], [], color ='cornsilk',\n",
        "         label ='GAP')\n",
        "plt.plot([], [], color ='lightcoral',\n",
        "         label ='ISTs')\n",
        "\n",
        "\n",
        "plt.stackplot(all_countries_pivot_type.index, all_countries_pivot_type[\"Percent Biopharma\"],\n",
        "              all_countries_pivot_type[\"Percent Commercial\"],\n",
        "              all_countries_pivot_type[\"Percent GAP\"],\n",
        "              all_countries_pivot_type[\"Percent ISTs\"],\n",
        "              colors =[\"lightsteelblue\", 'dimgrey', 'cornsilk', 'lightcoral'])\n",
        " \n",
        "plt.grid(False)\n",
        "plt.legend(loc='upper left')\n",
        "# Days\n",
        "plt.xlabel('Time in Month')\n",
        " \n",
        "# No of hours\n",
        "plt.ylabel('Percentage')\n",
        " \n",
        "# Title of Graph\n",
        "plt.title('Percentage of Samples from each Category')\n",
        "\n",
        " \n",
        "# Displaying Graph\n",
        "plt.show()"
      ],
      "metadata": {
        "id": "jIbZ6zayD1H0",
        "colab": {
          "base_uri": "https://localhost:8080/",
          "height": 513
        },
        "outputId": "e38d9d74-dc74-4df5-aa9b-1d2799df7848"
      },
      "execution_count": 584,
      "outputs": [
        {
          "output_type": "display_data",
          "data": {
            "text/plain": [
              "<Figure size 1152x576 with 1 Axes>"
            ],
            "image/png": "[encoded data removed]"
          },
          "metadata": {}
        }
      ]
    },
    {
      "cell_type": "markdown",
      "source": [
        "#### Add second y axis"
      ],
      "metadata": {
        "id": "ZQfFLIQROp7x"
      }
    },
    {
      "cell_type": "code",
      "source": [
        "# Stackplot with X, Y, colors value\n",
        "#plt.style.use('ggplot')\n",
        "\n",
        "\n",
        "fig, ax = plt.subplots(1,1, figsize = (16, 8))\n",
        "\n",
        "ax2 = ax.twinx()\n",
        "\n",
        "# Plot x-labels, y-label and data\n",
        "ax.plot([], [], color =\"lightsteelblue\",\n",
        "         label =\"Biopharma\")\n",
        "ax.plot([], [], color ='dimgrey',\n",
        "         label ='Commercial')\n",
        "ax.plot([], [], color ='cornsilk',\n",
        "         label ='GAP')\n",
        "ax.plot([], [], color ='lightcoral',\n",
        "         label ='ISTs')\n",
        "\n",
        "\n",
        "ax.stackplot(all_countries_pivot_type.index, all_countries_pivot_type[\"Percent Biopharma\"],\n",
        "              all_countries_pivot_type[\"Percent Commercial\"],\n",
        "              all_countries_pivot_type[\"Percent GAP\"],\n",
        "              all_countries_pivot_type[\"Percent ISTs\"],\n",
        "              colors =[\"lightsteelblue\", 'dimgrey', 'cornsilk', 'lightcoral'])\n",
        "\n",
        "ax2.plot(all_countries_pivot_type.index, all_countries_pivot_type[\"Total Sales\"], color = 'b')\n",
        " \n",
        "plt.grid(False)\n",
        "plt.legend(loc='upper left')\n",
        "# Days\n",
        "plt.xlabel('Time in Month')\n",
        " \n",
        "# No of hours\n",
        "plt.ylabel('Percentage')\n",
        " \n",
        "# Title of Graph\n",
        "plt.title('Percentage of Samples from each Category')\n",
        "\n",
        " \n",
        "# Displaying Graph\n",
        "plt.show()"
      ],
      "metadata": {
        "id": "uUc3JwrMHFF0",
        "colab": {
          "base_uri": "https://localhost:8080/",
          "height": 517
        },
        "outputId": "18d55f34-e472-47fb-bd94-fa3e0bf1afb6"
      },
      "execution_count": 585,
      "outputs": [
        {
          "output_type": "stream",
          "name": "stderr",
          "text": [
            "WARNING:matplotlib.legend:No handles with labels found to put in legend.\n"
          ]
        },
        {
          "output_type": "display_data",
          "data": {
            "text/plain": [
              "<Figure size 1152x576 with 2 Axes>"
            ],
            "image/png": "[encoded data removed]"
          },
          "metadata": {}
        }
      ]
    },
    {
      "cell_type": "markdown",
      "source": [
        "# Analysing the breakdown of commercial samples"
      ],
      "metadata": {
        "id": "lAlXH8iF4Wfe"
      }
    },
    {
      "cell_type": "code",
      "source": [
        "df_merged.info()"
      ],
      "metadata": {
        "colab": {
          "base_uri": "https://localhost:8080/"
        },
        "id": "sFoC1DrcepqH",
        "outputId": "a2bbbdf1-a746-4772-c4ee-37c3b05664c6"
      },
      "execution_count": 586,
      "outputs": [
        {
          "output_type": "stream",
          "name": "stdout",
          "text": [
            "<class 'pandas.core.frame.DataFrame'>\n",
            "Int64Index: 3749 entries, 0 to 3748\n",
            "Data columns (total 17 columns):\n",
            " #   Column                 Non-Null Count  Dtype         \n",
            "---  ------                 --------------  -----         \n",
            " 0   Accession #            3749 non-null   object        \n",
            " 1   Reporting Country      3749 non-null   object        \n",
            " 2   Billing Type           3749 non-null   object        \n",
            " 3   LIMS Project ID        3749 non-null   object        \n",
            " 4   Account: Account Name  3749 non-null   object        \n",
            " 5   Contact: Full Name     3749 non-null   object        \n",
            " 6   Final Report Date      3715 non-null   object        \n",
            " 7   Test Type              3749 non-null   object        \n",
            " 8   Cancer Type            1256 non-null   object        \n",
            " 9   Type                   3749 non-null   category      \n",
            " 10  AE_supported           3749 non-null   object        \n",
            " 11  Month                  3749 non-null   int64         \n",
            " 12  Year                   3749 non-null   int64         \n",
            " 13  Quarter                3749 non-null   int64         \n",
            " 14  Sales                  3749 non-null   int64         \n",
            " 15  Year_Month             3749 non-null   datetime64[ns]\n",
            " 16  FOC                    3749 non-null   category      \n",
            "dtypes: category(2), datetime64[ns](1), int64(4), object(10)\n",
            "memory usage: 476.3+ KB\n"
          ]
        }
      ]
    },
    {
      "cell_type": "code",
      "source": [
        "#Select the time horizion to analyse\n",
        "start_date_com = \"2021-01-01\"\n",
        "end_date_com = \"2022-10-31\"\n",
        "#Select the # of countries to be analyses based on the maxiumum number of samplesin \n",
        "#the time horizon\n",
        "num_countries_comm = 6\n",
        "#The the Year_Month columns as index to allow for easier slicing\n",
        "df_merged = df_merged.set_index(\"Year_Month\")\n",
        "#Create the dataframe relevant for the time periode which should be analysed\n",
        "df_merged_time_horizon = df_merged.loc[start_date_com:end_date_com].copy().reset_index()\n",
        "print(f\"The total number of samples in this dataframe is {df_merged_time_horizon.shape[0]}\")"
      ],
      "metadata": {
        "colab": {
          "base_uri": "https://localhost:8080/"
        },
        "id": "GjkBrJtCVvh9",
        "outputId": "77709ce0-36a1-41fb-a6c0-e4201235fb3a"
      },
      "execution_count": 587,
      "outputs": [
        {
          "output_type": "stream",
          "name": "stdout",
          "text": [
            "The total number of samples in this dataframe is 2534\n"
          ]
        }
      ]
    },
    {
      "cell_type": "code",
      "source": [
        "df_merged_time_horizon[\"Reporting Country\"].value_counts()"
      ],
      "metadata": {
        "colab": {
          "base_uri": "https://localhost:8080/"
        },
        "id": "2cJJQuOI5PLv",
        "outputId": "12960346-24c7-4729-f307-271d574316a9"
      },
      "execution_count": 588,
      "outputs": [
        {
          "output_type": "execute_result",
          "data": {
            "text/plain": [
              "UNITED KINGDOM     1259\n",
              "SPAIN               454\n",
              "TURKEY              231\n",
              "BRAZIL              215\n",
              "CANADA               85\n",
              "IRELAND              54\n",
              "MEXICO               52\n",
              "GERMANY              43\n",
              "FINLAND              33\n",
              "ITALY                24\n",
              "CHILE                22\n",
              "FRANCE               16\n",
              "LITHUANIA             7\n",
              "AUSTRIA               7\n",
              "ROMANIA               5\n",
              "GREECE                4\n",
              "BELGIUM               4\n",
              "COLOMBIA              4\n",
              "ARGENTINA             3\n",
              "SLOVENIA              3\n",
              "SWITZERLAND           2\n",
              "POLAND                2\n",
              "COSTA RICA            1\n",
              "NORTH MACEDONIA       1\n",
              "LUXEMBOURG            1\n",
              "PERU                  1\n",
              "PORTUGAL              1\n",
              "Name: Reporting Country, dtype: int64"
            ]
          },
          "metadata": {},
          "execution_count": 588
        }
      ]
    },
    {
      "cell_type": "code",
      "source": [],
      "metadata": {
        "id": "oaE8BQyd5PiP"
      },
      "execution_count": 588,
      "outputs": []
    },
    {
      "cell_type": "code",
      "source": [
        "#identiy the top commercial countries\n",
        "df_merged_time_horizon[\"FOC\"] = df_merged_time_horizon[\"FOC\"].astype(\"string\")\n",
        "\n",
        "#Create the dataframe relevant for the time periode which should be analysed\n",
        "\n",
        "print(f\"The total number of samples in this dataframe is {df_merged_time_horizon.shape[0]}\")\n"
      ],
      "metadata": {
        "colab": {
          "base_uri": "https://localhost:8080/"
        },
        "id": "R9bgvpsnK9ac",
        "outputId": "3084f477-ca1f-4eec-b351-09ae723403ba"
      },
      "execution_count": 589,
      "outputs": [
        {
          "output_type": "stream",
          "name": "stdout",
          "text": [
            "The total number of samples in this dataframe is 2534\n"
          ]
        }
      ]
    },
    {
      "cell_type": "code",
      "source": [
        "df_merged_time_horizon.info()"
      ],
      "metadata": {
        "colab": {
          "base_uri": "https://localhost:8080/"
        },
        "id": "97ypNEgrQUpd",
        "outputId": "06cbfabd-5fcc-49ef-99d6-b3f1017aece7"
      },
      "execution_count": 590,
      "outputs": [
        {
          "output_type": "stream",
          "name": "stdout",
          "text": [
            "<class 'pandas.core.frame.DataFrame'>\n",
            "RangeIndex: 2534 entries, 0 to 2533\n",
            "Data columns (total 17 columns):\n",
            " #   Column                 Non-Null Count  Dtype         \n",
            "---  ------                 --------------  -----         \n",
            " 0   Year_Month             2534 non-null   datetime64[ns]\n",
            " 1   Accession #            2534 non-null   object        \n",
            " 2   Reporting Country      2534 non-null   object        \n",
            " 3   Billing Type           2534 non-null   object        \n",
            " 4   LIMS Project ID        2534 non-null   object        \n",
            " 5   Account: Account Name  2534 non-null   object        \n",
            " 6   Contact: Full Name     2534 non-null   object        \n",
            " 7   Final Report Date      2532 non-null   object        \n",
            " 8   Test Type              2534 non-null   object        \n",
            " 9   Cancer Type            824 non-null    object        \n",
            " 10  Type                   2534 non-null   category      \n",
            " 11  AE_supported           2534 non-null   object        \n",
            " 12  Month                  2534 non-null   int64         \n",
            " 13  Year                   2534 non-null   int64         \n",
            " 14  Quarter                2534 non-null   int64         \n",
            " 15  Sales                  2534 non-null   int64         \n",
            " 16  FOC                    2534 non-null   string        \n",
            "dtypes: category(1), datetime64[ns](1), int64(4), object(10), string(1)\n",
            "memory usage: 319.6+ KB\n"
          ]
        }
      ]
    },
    {
      "cell_type": "code",
      "source": [
        "#Create a dataframe with just the topx countries by number of tests sold\n",
        "top_comm_x = df_merged_time_horizon.groupby('Reporting Country').sum().sort_values(\"Sales\",ascending = False).head(num_countries_comm)\n",
        "top_comm_x_list = top_comm_x.index.tolist()\n",
        "top_comm_x_sales =df_merged_time_horizon[df_merged_time_horizon['Reporting Country'].isin(top_comm_x_list)]\n",
        "print(f\"The top 5 countries have {top_comm_x_sales.shape[0]} samples which represents {top_comm_x_sales.shape[0]/df_merged_time_horizon.shape[0]:.2%}\")"
      ],
      "metadata": {
        "colab": {
          "base_uri": "https://localhost:8080/"
        },
        "id": "Z57rs6geLYAR",
        "outputId": "22a97f0f-fcbe-47ec-9aaa-2ee2002686f4"
      },
      "execution_count": 591,
      "outputs": [
        {
          "output_type": "stream",
          "name": "stdout",
          "text": [
            "The top 5 countries have 2298 samples which represents 90.69%\n"
          ]
        }
      ]
    },
    {
      "cell_type": "code",
      "source": [
        "top_comm_x_list"
      ],
      "metadata": {
        "colab": {
          "base_uri": "https://localhost:8080/"
        },
        "id": "53Bsox_wMFoG",
        "outputId": "11cd93f9-034b-40a1-d694-40d88143fcb9"
      },
      "execution_count": 592,
      "outputs": [
        {
          "output_type": "execute_result",
          "data": {
            "text/plain": [
              "['UNITED KINGDOM', 'SPAIN', 'TURKEY', 'BRAZIL', 'CANADA', 'IRELAND']"
            ]
          },
          "metadata": {},
          "execution_count": 592
        }
      ]
    },
    {
      "cell_type": "code",
      "source": [
        "#merged_top_x_countries = df_merged[df_merged['Reporting Country'].isin(top_comm_x_list)]\n",
        "#merged_top_x_countries[\"Reporting Country\"].value_counts()"
      ],
      "metadata": {
        "id": "hKfzWQ1xOop7"
      },
      "execution_count": 593,
      "outputs": []
    },
    {
      "cell_type": "code",
      "source": [
        "list_for_FOC_analysis = [\n",
        " 'Reporting Country',\n",
        " 'Type',\n",
        " 'Sales', 'FOC',\n",
        " 'Year_Month']"
      ],
      "metadata": {
        "id": "LRbOGrD6Ez_x"
      },
      "execution_count": 594,
      "outputs": []
    },
    {
      "cell_type": "code",
      "source": [
        "#Create the main data frame for the further analysis\n",
        "commercial_sales_FOC_analysis_df = top_comm_x_sales[list_for_FOC_analysis]\n",
        "commercial_sales_FOC_analysis_df[\"FOC\"] = commercial_sales_FOC_analysis_df[\"FOC\"].astype(\"category\")\n",
        "\n",
        "#This is the main dataframe\n",
        "commercial_sales_FOC_analysis_df.info()"
      ],
      "metadata": {
        "id": "ZaZUZf7GOo0W",
        "colab": {
          "base_uri": "https://localhost:8080/"
        },
        "outputId": "a5566a6a-b0ef-45e6-df0d-ad8dc38a7ea6"
      },
      "execution_count": 595,
      "outputs": [
        {
          "output_type": "stream",
          "name": "stdout",
          "text": [
            "<class 'pandas.core.frame.DataFrame'>\n",
            "Int64Index: 2298 entries, 1 to 2533\n",
            "Data columns (total 5 columns):\n",
            " #   Column             Non-Null Count  Dtype         \n",
            "---  ------             --------------  -----         \n",
            " 0   Reporting Country  2298 non-null   object        \n",
            " 1   Type               2298 non-null   category      \n",
            " 2   Sales              2298 non-null   int64         \n",
            " 3   FOC                2298 non-null   category      \n",
            " 4   Year_Month         2298 non-null   datetime64[ns]\n",
            "dtypes: category(2), datetime64[ns](1), int64(1), object(1)\n",
            "memory usage: 76.6+ KB\n"
          ]
        }
      ]
    },
    {
      "cell_type": "code",
      "source": [
        "commercial_sales_FOC_analysis_df[\"FOC\"].value_counts()"
      ],
      "metadata": {
        "colab": {
          "base_uri": "https://localhost:8080/"
        },
        "id": "dxxBCBdJR0QE",
        "outputId": "4d1afe6b-2862-4271-a342-1afefe3855a8"
      },
      "execution_count": 596,
      "outputs": [
        {
          "output_type": "execute_result",
          "data": {
            "text/plain": [
              "Paid    1823\n",
              "Free     475\n",
              "Name: FOC, dtype: int64"
            ]
          },
          "metadata": {},
          "execution_count": 596
        }
      ]
    },
    {
      "cell_type": "code",
      "source": [
        "FOC_df = commercial_sales_FOC_analysis_df.groupby(['Year_Month','Reporting Country', \"FOC\"]).sum().reset_index()\n",
        "FOC_df.tail()\n"
      ],
      "metadata": {
        "id": "7lBw4IVi-nIH",
        "colab": {
          "base_uri": "https://localhost:8080/",
          "height": 206
        },
        "outputId": "8ce119f3-e061-41c1-92ca-a5694ea5e3ab"
      },
      "execution_count": 597,
      "outputs": [
        {
          "output_type": "execute_result",
          "data": {
            "text/plain": [
              "    Year_Month Reporting Country   FOC  Sales\n",
              "259 2022-10-01             SPAIN  Paid     17\n",
              "260 2022-10-01            TURKEY  Free      0\n",
              "261 2022-10-01            TURKEY  Paid     17\n",
              "262 2022-10-01    UNITED KINGDOM  Free     27\n",
              "263 2022-10-01    UNITED KINGDOM  Paid     52"
            ],
            "text/html": [
              "\n",
              "  <div id=\"df-c609e76a-4638-4b89-81d9-3d6e14a9841d\">\n",
              "    <div class=\"colab-df-container\">\n",
              "      <div>\n",
              "<style scoped>\n",
              "    .dataframe tbody tr th:only-of-type {\n",
              "        vertical-align: middle;\n",
              "    }\n",
              "\n",
              "    .dataframe tbody tr th {\n",
              "        vertical-align: top;\n",
              "    }\n",
              "\n",
              "    .dataframe thead th {\n",
              "        text-align: right;\n",
              "    }\n",
              "</style>\n",
              "<table border=\"1\" class=\"dataframe\">\n",
              "  <thead>\n",
              "    <tr style=\"text-align: right;\">\n",
              "      <th></th>\n",
              "      <th>Year_Month</th>\n",
              "      <th>Reporting Country</th>\n",
              "      <th>FOC</th>\n",
              "      <th>Sales</th>\n",
              "    </tr>\n",
              "  </thead>\n",
              "  <tbody>\n",
              "    <tr>\n",
              "      <th>259</th>\n",
              "      <td>2022-10-01</td>\n",
              "      <td>SPAIN</td>\n",
              "      <td>Paid</td>\n",
              "      <td>17</td>\n",
              "    </tr>\n",
              "    <tr>\n",
              "      <th>260</th>\n",
              "      <td>2022-10-01</td>\n",
              "      <td>TURKEY</td>\n",
              "      <td>Free</td>\n",
              "      <td>0</td>\n",
              "    </tr>\n",
              "    <tr>\n",
              "      <th>261</th>\n",
              "      <td>2022-10-01</td>\n",
              "      <td>TURKEY</td>\n",
              "      <td>Paid</td>\n",
              "      <td>17</td>\n",
              "    </tr>\n",
              "    <tr>\n",
              "      <th>262</th>\n",
              "      <td>2022-10-01</td>\n",
              "      <td>UNITED KINGDOM</td>\n",
              "      <td>Free</td>\n",
              "      <td>27</td>\n",
              "    </tr>\n",
              "    <tr>\n",
              "      <th>263</th>\n",
              "      <td>2022-10-01</td>\n",
              "      <td>UNITED KINGDOM</td>\n",
              "      <td>Paid</td>\n",
              "      <td>52</td>\n",
              "    </tr>\n",
              "  </tbody>\n",
              "</table>\n",
              "</div>\n",
              "      <button class=\"colab-df-convert\" onclick=\"convertToInteractive('df-c609e76a-4638-4b89-81d9-3d6e14a9841d')\"\n",
              "              title=\"Convert this dataframe to an interactive table.\"\n",
              "              style=\"display:none;\">\n",
              "        \n",
              "  <svg xmlns=\"http://www.w3.org/2000/svg\" height=\"24px\"viewBox=\"0 0 24 24\"\n",
              "       width=\"24px\">\n",
              "    <path d=\"M0 0h24v24H0V0z\" fill=\"none\"/>\n",
              "    <path d=\"M18.56 5.44l.94 2.06.94-2.06 2.06-.94-2.06-.94-.94-2.06-.94 2.06-2.06.94zm-11 1L8.5 8.5l.94-2.06 2.06-.94-2.06-.94L8.5 2.5l-.94 2.06-2.06.94zm10 10l.94 2.06.94-2.06 2.06-.94-2.06-.94-.94-2.06-.94 2.06-2.06.94z\"/><path d=\"M17.41 7.96l-1.37-1.37c-.4-.4-.92-.59-1.43-.59-.52 0-1.04.2-1.43.59L10.3 9.45l-7.72 7.72c-.78.78-.78 2.05 0 2.83L4 21.41c.39.39.9.59 1.41.59.51 0 1.02-.2 1.41-.59l7.78-7.78 2.81-2.81c.8-.78.8-2.07 0-2.86zM5.41 20L4 18.59l7.72-7.72 1.47 1.35L5.41 20z\"/>\n",
              "  </svg>\n",
              "      </button>\n",
              "      \n",
              "  <style>\n",
              "    .colab-df-container {\n",
              "      display:flex;\n",
              "      flex-wrap:wrap;\n",
              "      gap: 12px;\n",
              "    }\n",
              "\n",
              "    .colab-df-convert {\n",
              "      background-color: #E8F0FE;\n",
              "      border: none;\n",
              "      border-radius: 50%;\n",
              "      cursor: pointer;\n",
              "      display: none;\n",
              "      fill: #1967D2;\n",
              "      height: 32px;\n",
              "      padding: 0 0 0 0;\n",
              "      width: 32px;\n",
              "    }\n",
              "\n",
              "    .colab-df-convert:hover {\n",
              "      background-color: #E2EBFA;\n",
              "      box-shadow: 0px 1px 2px rgba(60, 64, 67, 0.3), 0px 1px 3px 1px rgba(60, 64, 67, 0.15);\n",
              "      fill: #174EA6;\n",
              "    }\n",
              "\n",
              "    [theme=dark] .colab-df-convert {\n",
              "      background-color: #3B4455;\n",
              "      fill: #D2E3FC;\n",
              "    }\n",
              "\n",
              "    [theme=dark] .colab-df-convert:hover {\n",
              "      background-color: #434B5C;\n",
              "      box-shadow: 0px 1px 3px 1px rgba(0, 0, 0, 0.15);\n",
              "      filter: drop-shadow(0px 1px 2px rgba(0, 0, 0, 0.3));\n",
              "      fill: #FFFFFF;\n",
              "    }\n",
              "  </style>\n",
              "\n",
              "      <script>\n",
              "        const buttonEl =\n",
              "          document.querySelector('#df-c609e76a-4638-4b89-81d9-3d6e14a9841d button.colab-df-convert');\n",
              "        buttonEl.style.display =\n",
              "          google.colab.kernel.accessAllowed ? 'block' : 'none';\n",
              "\n",
              "        async function convertToInteractive(key) {\n",
              "          const element = document.querySelector('#df-c609e76a-4638-4b89-81d9-3d6e14a9841d');\n",
              "          const dataTable =\n",
              "            await google.colab.kernel.invokeFunction('convertToInteractive',\n",
              "                                                     [key], {});\n",
              "          if (!dataTable) return;\n",
              "\n",
              "          const docLinkHtml = 'Like what you see? Visit the ' +\n",
              "            '<a target=\"_blank\" href=https://colab.research.google.com/notebooks/data_table.ipynb>data table notebook</a>'\n",
              "            + ' to learn more about interactive tables.';\n",
              "          element.innerHTML = '';\n",
              "          dataTable['output_type'] = 'display_data';\n",
              "          await google.colab.output.renderOutput(dataTable, element);\n",
              "          const docLink = document.createElement('div');\n",
              "          docLink.innerHTML = docLinkHtml;\n",
              "          element.appendChild(docLink);\n",
              "        }\n",
              "      </script>\n",
              "    </div>\n",
              "  </div>\n",
              "  "
            ]
          },
          "metadata": {},
          "execution_count": 597
        }
      ]
    },
    {
      "cell_type": "code",
      "source": [
        "#Plot the sales for each category over time\n",
        "with mpl.rc_context({'axes.grid': False}): \n",
        "  g = sns.relplot(data = FOC_df, x = \"Year_Month\", y = \"Sales\", kind = \"line\", hue = \"FOC\", col = \"Reporting Country\", color = \"#7851a9\", linewidth=4 , ci = None, col_wrap = 3\n",
        "                ,col_order = top_comm_x_list\n",
        "                )\n",
        "g.set_xticklabels(rotation = \"90\")\n",
        "\n",
        "g.set_ylabels(\"Tests per Month\")\n",
        "g.set_xlabels(\"Time in Months\")\n",
        "g.set_titles(col_template = '{col_name}')\n",
        "g.fig.suptitle('Tests per Month for the different Countries by Paid and Free-of-Charge', y=1.05)\n",
        "\n",
        "plt.savefig('comm.pdf', dpi = 300, bbox_inches =\"tight\",\n",
        "            pad_inches = 1)\n",
        "#files.download(\"comm.pdf\")\n",
        "plt.show()\n"
      ],
      "metadata": {
        "colab": {
          "base_uri": "https://localhost:8080/",
          "height": 808
        },
        "id": "wrwrFOV1-ghY",
        "outputId": "38731ce5-94d7-4c71-ab30-39b6a5ccc7e4"
      },
      "execution_count": 598,
      "outputs": [
        {
          "output_type": "display_data",
          "data": {
            "text/plain": [
              "<Figure size 1137.12x720 with 6 Axes>"
            ],
            "image/png": "[encoded data removed]"
          },
          "metadata": {}
        }
      ]
    },
    {
      "cell_type": "code",
      "source": [
        "#Total sales\n",
        "all_countries_comm = commercial_sales_FOC_analysis_df.groupby(['Year_Month', \"FOC\"]).sum().reset_index()\n",
        "all_countries_comm.sample(3)"
      ],
      "metadata": {
        "colab": {
          "base_uri": "https://localhost:8080/",
          "height": 143
        },
        "id": "gpMF08slZv94",
        "outputId": "ab58c2a2-94c9-4d34-8a2a-ef1b8ddc2232"
      },
      "execution_count": 599,
      "outputs": [
        {
          "output_type": "execute_result",
          "data": {
            "text/plain": [
              "   Year_Month   FOC  Sales\n",
              "0  2021-01-01  Free     12\n",
              "30 2022-04-01  Free     33\n",
              "39 2022-08-01  Paid     96"
            ],
            "text/html": [
              "\n",
              "  <div id=\"df-ad917ee0-c032-41f6-862c-814bf8dce784\">\n",
              "    <div class=\"colab-df-container\">\n",
              "      <div>\n",
              "<style scoped>\n",
              "    .dataframe tbody tr th:only-of-type {\n",
              "        vertical-align: middle;\n",
              "    }\n",
              "\n",
              "    .dataframe tbody tr th {\n",
              "        vertical-align: top;\n",
              "    }\n",
              "\n",
              "    .dataframe thead th {\n",
              "        text-align: right;\n",
              "    }\n",
              "</style>\n",
              "<table border=\"1\" class=\"dataframe\">\n",
              "  <thead>\n",
              "    <tr style=\"text-align: right;\">\n",
              "      <th></th>\n",
              "      <th>Year_Month</th>\n",
              "      <th>FOC</th>\n",
              "      <th>Sales</th>\n",
              "    </tr>\n",
              "  </thead>\n",
              "  <tbody>\n",
              "    <tr>\n",
              "      <th>0</th>\n",
              "      <td>2021-01-01</td>\n",
              "      <td>Free</td>\n",
              "      <td>12</td>\n",
              "    </tr>\n",
              "    <tr>\n",
              "      <th>30</th>\n",
              "      <td>2022-04-01</td>\n",
              "      <td>Free</td>\n",
              "      <td>33</td>\n",
              "    </tr>\n",
              "    <tr>\n",
              "      <th>39</th>\n",
              "      <td>2022-08-01</td>\n",
              "      <td>Paid</td>\n",
              "      <td>96</td>\n",
              "    </tr>\n",
              "  </tbody>\n",
              "</table>\n",
              "</div>\n",
              "      <button class=\"colab-df-convert\" onclick=\"convertToInteractive('df-ad917ee0-c032-41f6-862c-814bf8dce784')\"\n",
              "              title=\"Convert this dataframe to an interactive table.\"\n",
              "              style=\"display:none;\">\n",
              "        \n",
              "  <svg xmlns=\"http://www.w3.org/2000/svg\" height=\"24px\"viewBox=\"0 0 24 24\"\n",
              "       width=\"24px\">\n",
              "    <path d=\"M0 0h24v24H0V0z\" fill=\"none\"/>\n",
              "    <path d=\"M18.56 5.44l.94 2.06.94-2.06 2.06-.94-2.06-.94-.94-2.06-.94 2.06-2.06.94zm-11 1L8.5 8.5l.94-2.06 2.06-.94-2.06-.94L8.5 2.5l-.94 2.06-2.06.94zm10 10l.94 2.06.94-2.06 2.06-.94-2.06-.94-.94-2.06-.94 2.06-2.06.94z\"/><path d=\"M17.41 7.96l-1.37-1.37c-.4-.4-.92-.59-1.43-.59-.52 0-1.04.2-1.43.59L10.3 9.45l-7.72 7.72c-.78.78-.78 2.05 0 2.83L4 21.41c.39.39.9.59 1.41.59.51 0 1.02-.2 1.41-.59l7.78-7.78 2.81-2.81c.8-.78.8-2.07 0-2.86zM5.41 20L4 18.59l7.72-7.72 1.47 1.35L5.41 20z\"/>\n",
              "  </svg>\n",
              "      </button>\n",
              "      \n",
              "  <style>\n",
              "    .colab-df-container {\n",
              "      display:flex;\n",
              "      flex-wrap:wrap;\n",
              "      gap: 12px;\n",
              "    }\n",
              "\n",
              "    .colab-df-convert {\n",
              "      background-color: #E8F0FE;\n",
              "      border: none;\n",
              "      border-radius: 50%;\n",
              "      cursor: pointer;\n",
              "      display: none;\n",
              "      fill: #1967D2;\n",
              "      height: 32px;\n",
              "      padding: 0 0 0 0;\n",
              "      width: 32px;\n",
              "    }\n",
              "\n",
              "    .colab-df-convert:hover {\n",
              "      background-color: #E2EBFA;\n",
              "      box-shadow: 0px 1px 2px rgba(60, 64, 67, 0.3), 0px 1px 3px 1px rgba(60, 64, 67, 0.15);\n",
              "      fill: #174EA6;\n",
              "    }\n",
              "\n",
              "    [theme=dark] .colab-df-convert {\n",
              "      background-color: #3B4455;\n",
              "      fill: #D2E3FC;\n",
              "    }\n",
              "\n",
              "    [theme=dark] .colab-df-convert:hover {\n",
              "      background-color: #434B5C;\n",
              "      box-shadow: 0px 1px 3px 1px rgba(0, 0, 0, 0.15);\n",
              "      filter: drop-shadow(0px 1px 2px rgba(0, 0, 0, 0.3));\n",
              "      fill: #FFFFFF;\n",
              "    }\n",
              "  </style>\n",
              "\n",
              "      <script>\n",
              "        const buttonEl =\n",
              "          document.querySelector('#df-ad917ee0-c032-41f6-862c-814bf8dce784 button.colab-df-convert');\n",
              "        buttonEl.style.display =\n",
              "          google.colab.kernel.accessAllowed ? 'block' : 'none';\n",
              "\n",
              "        async function convertToInteractive(key) {\n",
              "          const element = document.querySelector('#df-ad917ee0-c032-41f6-862c-814bf8dce784');\n",
              "          const dataTable =\n",
              "            await google.colab.kernel.invokeFunction('convertToInteractive',\n",
              "                                                     [key], {});\n",
              "          if (!dataTable) return;\n",
              "\n",
              "          const docLinkHtml = 'Like what you see? Visit the ' +\n",
              "            '<a target=\"_blank\" href=https://colab.research.google.com/notebooks/data_table.ipynb>data table notebook</a>'\n",
              "            + ' to learn more about interactive tables.';\n",
              "          element.innerHTML = '';\n",
              "          dataTable['output_type'] = 'display_data';\n",
              "          await google.colab.output.renderOutput(dataTable, element);\n",
              "          const docLink = document.createElement('div');\n",
              "          docLink.innerHTML = docLinkHtml;\n",
              "          element.appendChild(docLink);\n",
              "        }\n",
              "      </script>\n",
              "    </div>\n",
              "  </div>\n",
              "  "
            ]
          },
          "metadata": {},
          "execution_count": 599
        }
      ]
    },
    {
      "cell_type": "code",
      "source": [
        "#Plot the sales for each category over time\n",
        "with mpl.rc_context({'axes.grid': False}): \n",
        "  g = sns.relplot(data = all_countries_comm , x = \"Year_Month\", y = \"Sales\", kind = \"line\", hue = \"FOC\",  color = \"#7851a9\", linewidth=4 , \n",
        "                ci = None, height=5, aspect=10/5)\n",
        "g.set_xticklabels(rotation = \"90\")\n",
        "\n",
        "g.set_ylabels(\"Tests per Month\")\n",
        "g.set_xlabels(\"Time in Months\")\n",
        "g.set_titles(col_template = '{col_name}')\n",
        "g.fig.suptitle(f\"Commercial Tests per Month across the top {num_countries_comm} countries by Paid and Free-of-Charge\", y=1.05)\n",
        "\n",
        "plt.savefig('comm_all.pdf', dpi = 300, bbox_inches =\"tight\",\n",
        "            pad_inches = 1)\n",
        "#files.download(\"comm_all.pdf\")\n",
        "plt.show()"
      ],
      "metadata": {
        "colab": {
          "base_uri": "https://localhost:8080/",
          "height": 430
        },
        "id": "cClbTA0CZ2wk",
        "outputId": "aed3cf7e-45be-4ced-8741-5fbc9b2ed4a4"
      },
      "execution_count": 600,
      "outputs": [
        {
          "output_type": "display_data",
          "data": {
            "text/plain": [
              "<Figure size 777.125x360 with 1 Axes>"
            ],
            "image/png": "[encoded data removed]"
          },
          "metadata": {}
        }
      ]
    },
    {
      "cell_type": "code",
      "source": [
        "#All Commercial cases including free\n",
        "all_countries_incl_free = commercial_sales_FOC_analysis_df.groupby(['Year_Month']).sum().reset_index()\n",
        "all_countries_incl_free.head()"
      ],
      "metadata": {
        "id": "XNXFcX7AZ3Hm",
        "colab": {
          "base_uri": "https://localhost:8080/",
          "height": 206
        },
        "outputId": "976267c3-89e2-4883-eacf-9ca72693c5ca"
      },
      "execution_count": 601,
      "outputs": [
        {
          "output_type": "execute_result",
          "data": {
            "text/plain": [
              "  Year_Month  Sales\n",
              "0 2021-01-01     78\n",
              "1 2021-02-01     72\n",
              "2 2021-03-01     88\n",
              "3 2021-04-01     87\n",
              "4 2021-05-01     82"
            ],
            "text/html": [
              "\n",
              "  <div id=\"df-e8ed49dd-f03a-436d-a163-a8967c7736db\">\n",
              "    <div class=\"colab-df-container\">\n",
              "      <div>\n",
              "<style scoped>\n",
              "    .dataframe tbody tr th:only-of-type {\n",
              "        vertical-align: middle;\n",
              "    }\n",
              "\n",
              "    .dataframe tbody tr th {\n",
              "        vertical-align: top;\n",
              "    }\n",
              "\n",
              "    .dataframe thead th {\n",
              "        text-align: right;\n",
              "    }\n",
              "</style>\n",
              "<table border=\"1\" class=\"dataframe\">\n",
              "  <thead>\n",
              "    <tr style=\"text-align: right;\">\n",
              "      <th></th>\n",
              "      <th>Year_Month</th>\n",
              "      <th>Sales</th>\n",
              "    </tr>\n",
              "  </thead>\n",
              "  <tbody>\n",
              "    <tr>\n",
              "      <th>0</th>\n",
              "      <td>2021-01-01</td>\n",
              "      <td>78</td>\n",
              "    </tr>\n",
              "    <tr>\n",
              "      <th>1</th>\n",
              "      <td>2021-02-01</td>\n",
              "      <td>72</td>\n",
              "    </tr>\n",
              "    <tr>\n",
              "      <th>2</th>\n",
              "      <td>2021-03-01</td>\n",
              "      <td>88</td>\n",
              "    </tr>\n",
              "    <tr>\n",
              "      <th>3</th>\n",
              "      <td>2021-04-01</td>\n",
              "      <td>87</td>\n",
              "    </tr>\n",
              "    <tr>\n",
              "      <th>4</th>\n",
              "      <td>2021-05-01</td>\n",
              "      <td>82</td>\n",
              "    </tr>\n",
              "  </tbody>\n",
              "</table>\n",
              "</div>\n",
              "      <button class=\"colab-df-convert\" onclick=\"convertToInteractive('df-e8ed49dd-f03a-436d-a163-a8967c7736db')\"\n",
              "              title=\"Convert this dataframe to an interactive table.\"\n",
              "              style=\"display:none;\">\n",
              "        \n",
              "  <svg xmlns=\"http://www.w3.org/2000/svg\" height=\"24px\"viewBox=\"0 0 24 24\"\n",
              "       width=\"24px\">\n",
              "    <path d=\"M0 0h24v24H0V0z\" fill=\"none\"/>\n",
              "    <path d=\"M18.56 5.44l.94 2.06.94-2.06 2.06-.94-2.06-.94-.94-2.06-.94 2.06-2.06.94zm-11 1L8.5 8.5l.94-2.06 2.06-.94-2.06-.94L8.5 2.5l-.94 2.06-2.06.94zm10 10l.94 2.06.94-2.06 2.06-.94-2.06-.94-.94-2.06-.94 2.06-2.06.94z\"/><path d=\"M17.41 7.96l-1.37-1.37c-.4-.4-.92-.59-1.43-.59-.52 0-1.04.2-1.43.59L10.3 9.45l-7.72 7.72c-.78.78-.78 2.05 0 2.83L4 21.41c.39.39.9.59 1.41.59.51 0 1.02-.2 1.41-.59l7.78-7.78 2.81-2.81c.8-.78.8-2.07 0-2.86zM5.41 20L4 18.59l7.72-7.72 1.47 1.35L5.41 20z\"/>\n",
              "  </svg>\n",
              "      </button>\n",
              "      \n",
              "  <style>\n",
              "    .colab-df-container {\n",
              "      display:flex;\n",
              "      flex-wrap:wrap;\n",
              "      gap: 12px;\n",
              "    }\n",
              "\n",
              "    .colab-df-convert {\n",
              "      background-color: #E8F0FE;\n",
              "      border: none;\n",
              "      border-radius: 50%;\n",
              "      cursor: pointer;\n",
              "      display: none;\n",
              "      fill: #1967D2;\n",
              "      height: 32px;\n",
              "      padding: 0 0 0 0;\n",
              "      width: 32px;\n",
              "    }\n",
              "\n",
              "    .colab-df-convert:hover {\n",
              "      background-color: #E2EBFA;\n",
              "      box-shadow: 0px 1px 2px rgba(60, 64, 67, 0.3), 0px 1px 3px 1px rgba(60, 64, 67, 0.15);\n",
              "      fill: #174EA6;\n",
              "    }\n",
              "\n",
              "    [theme=dark] .colab-df-convert {\n",
              "      background-color: #3B4455;\n",
              "      fill: #D2E3FC;\n",
              "    }\n",
              "\n",
              "    [theme=dark] .colab-df-convert:hover {\n",
              "      background-color: #434B5C;\n",
              "      box-shadow: 0px 1px 3px 1px rgba(0, 0, 0, 0.15);\n",
              "      filter: drop-shadow(0px 1px 2px rgba(0, 0, 0, 0.3));\n",
              "      fill: #FFFFFF;\n",
              "    }\n",
              "  </style>\n",
              "\n",
              "      <script>\n",
              "        const buttonEl =\n",
              "          document.querySelector('#df-e8ed49dd-f03a-436d-a163-a8967c7736db button.colab-df-convert');\n",
              "        buttonEl.style.display =\n",
              "          google.colab.kernel.accessAllowed ? 'block' : 'none';\n",
              "\n",
              "        async function convertToInteractive(key) {\n",
              "          const element = document.querySelector('#df-e8ed49dd-f03a-436d-a163-a8967c7736db');\n",
              "          const dataTable =\n",
              "            await google.colab.kernel.invokeFunction('convertToInteractive',\n",
              "                                                     [key], {});\n",
              "          if (!dataTable) return;\n",
              "\n",
              "          const docLinkHtml = 'Like what you see? Visit the ' +\n",
              "            '<a target=\"_blank\" href=https://colab.research.google.com/notebooks/data_table.ipynb>data table notebook</a>'\n",
              "            + ' to learn more about interactive tables.';\n",
              "          element.innerHTML = '';\n",
              "          dataTable['output_type'] = 'display_data';\n",
              "          await google.colab.output.renderOutput(dataTable, element);\n",
              "          const docLink = document.createElement('div');\n",
              "          docLink.innerHTML = docLinkHtml;\n",
              "          element.appendChild(docLink);\n",
              "        }\n",
              "      </script>\n",
              "    </div>\n",
              "  </div>\n",
              "  "
            ]
          },
          "metadata": {},
          "execution_count": 601
        }
      ]
    },
    {
      "cell_type": "code",
      "source": [
        "#Plot the sales for each category over time\n",
        "g = sns.relplot(data = all_countries_incl_free  , x = \"Year_Month\", y = \"Sales\", kind = \"line\",  color = \"#7851a9\", linewidth=4 , \n",
        "                ci = None, height=5, aspect=10/5)\n",
        "g.set_xticklabels(rotation = \"90\")\n",
        "\n",
        "g.set_ylabels(\"Tests per Month\")\n",
        "g.set_xlabels(\"Time in Months\")\n",
        "g.set_titles(col_template = '{col_name}')\n",
        "g.fig.suptitle(f\"Commercial Tests (incl. FOC) per Month across the top {num_countries_comm} countries\", y=1.05)\n",
        "\n",
        "plt.savefig('comm_all_with_FOC.pdf', dpi = 300, bbox_inches =\"tight\",\n",
        "            pad_inches = 1)\n",
        "#files.download(\"comm_all_with_FOC.pdf\")\n",
        "plt.show()"
      ],
      "metadata": {
        "colab": {
          "base_uri": "https://localhost:8080/",
          "height": 430
        },
        "id": "l7mOqiNuuTw5",
        "outputId": "38c9848a-08f2-4bf3-b711-430ef8f8ecaa"
      },
      "execution_count": 602,
      "outputs": [
        {
          "output_type": "display_data",
          "data": {
            "text/plain": [
              "<Figure size 720x360 with 1 Axes>"
            ],
            "image/png": "[encoded data removed]"
          },
          "metadata": {}
        }
      ]
    },
    {
      "cell_type": "markdown",
      "source": [
        "# Rolling Mean Analysis"
      ],
      "metadata": {
        "id": "I1rHZSbj-ey7"
      }
    },
    {
      "cell_type": "code",
      "source": [
        "\n",
        "commercial_sales_rolling_df = commercial_sales_FOC_analysis_df.groupby([\"Year_Month\"])[\"Sales\"].sum().reset_index()"
      ],
      "metadata": {
        "id": "3RmoaK6j-eg2"
      },
      "execution_count": 603,
      "outputs": []
    },
    {
      "cell_type": "code",
      "source": [
        "commercial_sales_rolling_df[\"Rolling 3-Month Average\"] = commercial_sales_rolling_df[\"Sales\"].rolling(3).mean()"
      ],
      "metadata": {
        "id": "5WeLnQyb-eda"
      },
      "execution_count": 604,
      "outputs": []
    },
    {
      "cell_type": "code",
      "source": [
        "commercial_sales_rolling_df.head()"
      ],
      "metadata": {
        "id": "_VXbQhV5974y",
        "colab": {
          "base_uri": "https://localhost:8080/",
          "height": 206
        },
        "outputId": "e4bc3d0b-9072-45a0-bf9d-f53049466839"
      },
      "execution_count": 605,
      "outputs": [
        {
          "output_type": "execute_result",
          "data": {
            "text/plain": [
              "  Year_Month  Sales  Rolling 3-Month Average\n",
              "0 2021-01-01     78                      NaN\n",
              "1 2021-02-01     72                      NaN\n",
              "2 2021-03-01     88                    79.33\n",
              "3 2021-04-01     87                    82.33\n",
              "4 2021-05-01     82                    85.67"
            ],
            "text/html": [
              "\n",
              "  <div id=\"df-e50eaddf-1631-4a97-bff8-b5f30b229042\">\n",
              "    <div class=\"colab-df-container\">\n",
              "      <div>\n",
              "<style scoped>\n",
              "    .dataframe tbody tr th:only-of-type {\n",
              "        vertical-align: middle;\n",
              "    }\n",
              "\n",
              "    .dataframe tbody tr th {\n",
              "        vertical-align: top;\n",
              "    }\n",
              "\n",
              "    .dataframe thead th {\n",
              "        text-align: right;\n",
              "    }\n",
              "</style>\n",
              "<table border=\"1\" class=\"dataframe\">\n",
              "  <thead>\n",
              "    <tr style=\"text-align: right;\">\n",
              "      <th></th>\n",
              "      <th>Year_Month</th>\n",
              "      <th>Sales</th>\n",
              "      <th>Rolling 3-Month Average</th>\n",
              "    </tr>\n",
              "  </thead>\n",
              "  <tbody>\n",
              "    <tr>\n",
              "      <th>0</th>\n",
              "      <td>2021-01-01</td>\n",
              "      <td>78</td>\n",
              "      <td>NaN</td>\n",
              "    </tr>\n",
              "    <tr>\n",
              "      <th>1</th>\n",
              "      <td>2021-02-01</td>\n",
              "      <td>72</td>\n",
              "      <td>NaN</td>\n",
              "    </tr>\n",
              "    <tr>\n",
              "      <th>2</th>\n",
              "      <td>2021-03-01</td>\n",
              "      <td>88</td>\n",
              "      <td>79.33</td>\n",
              "    </tr>\n",
              "    <tr>\n",
              "      <th>3</th>\n",
              "      <td>2021-04-01</td>\n",
              "      <td>87</td>\n",
              "      <td>82.33</td>\n",
              "    </tr>\n",
              "    <tr>\n",
              "      <th>4</th>\n",
              "      <td>2021-05-01</td>\n",
              "      <td>82</td>\n",
              "      <td>85.67</td>\n",
              "    </tr>\n",
              "  </tbody>\n",
              "</table>\n",
              "</div>\n",
              "      <button class=\"colab-df-convert\" onclick=\"convertToInteractive('df-e50eaddf-1631-4a97-bff8-b5f30b229042')\"\n",
              "              title=\"Convert this dataframe to an interactive table.\"\n",
              "              style=\"display:none;\">\n",
              "        \n",
              "  <svg xmlns=\"http://www.w3.org/2000/svg\" height=\"24px\"viewBox=\"0 0 24 24\"\n",
              "       width=\"24px\">\n",
              "    <path d=\"M0 0h24v24H0V0z\" fill=\"none\"/>\n",
              "    <path d=\"M18.56 5.44l.94 2.06.94-2.06 2.06-.94-2.06-.94-.94-2.06-.94 2.06-2.06.94zm-11 1L8.5 8.5l.94-2.06 2.06-.94-2.06-.94L8.5 2.5l-.94 2.06-2.06.94zm10 10l.94 2.06.94-2.06 2.06-.94-2.06-.94-.94-2.06-.94 2.06-2.06.94z\"/><path d=\"M17.41 7.96l-1.37-1.37c-.4-.4-.92-.59-1.43-.59-.52 0-1.04.2-1.43.59L10.3 9.45l-7.72 7.72c-.78.78-.78 2.05 0 2.83L4 21.41c.39.39.9.59 1.41.59.51 0 1.02-.2 1.41-.59l7.78-7.78 2.81-2.81c.8-.78.8-2.07 0-2.86zM5.41 20L4 18.59l7.72-7.72 1.47 1.35L5.41 20z\"/>\n",
              "  </svg>\n",
              "      </button>\n",
              "      \n",
              "  <style>\n",
              "    .colab-df-container {\n",
              "      display:flex;\n",
              "      flex-wrap:wrap;\n",
              "      gap: 12px;\n",
              "    }\n",
              "\n",
              "    .colab-df-convert {\n",
              "      background-color: #E8F0FE;\n",
              "      border: none;\n",
              "      border-radius: 50%;\n",
              "      cursor: pointer;\n",
              "      display: none;\n",
              "      fill: #1967D2;\n",
              "      height: 32px;\n",
              "      padding: 0 0 0 0;\n",
              "      width: 32px;\n",
              "    }\n",
              "\n",
              "    .colab-df-convert:hover {\n",
              "      background-color: #E2EBFA;\n",
              "      box-shadow: 0px 1px 2px rgba(60, 64, 67, 0.3), 0px 1px 3px 1px rgba(60, 64, 67, 0.15);\n",
              "      fill: #174EA6;\n",
              "    }\n",
              "\n",
              "    [theme=dark] .colab-df-convert {\n",
              "      background-color: #3B4455;\n",
              "      fill: #D2E3FC;\n",
              "    }\n",
              "\n",
              "    [theme=dark] .colab-df-convert:hover {\n",
              "      background-color: #434B5C;\n",
              "      box-shadow: 0px 1px 3px 1px rgba(0, 0, 0, 0.15);\n",
              "      filter: drop-shadow(0px 1px 2px rgba(0, 0, 0, 0.3));\n",
              "      fill: #FFFFFF;\n",
              "    }\n",
              "  </style>\n",
              "\n",
              "      <script>\n",
              "        const buttonEl =\n",
              "          document.querySelector('#df-e50eaddf-1631-4a97-bff8-b5f30b229042 button.colab-df-convert');\n",
              "        buttonEl.style.display =\n",
              "          google.colab.kernel.accessAllowed ? 'block' : 'none';\n",
              "\n",
              "        async function convertToInteractive(key) {\n",
              "          const element = document.querySelector('#df-e50eaddf-1631-4a97-bff8-b5f30b229042');\n",
              "          const dataTable =\n",
              "            await google.colab.kernel.invokeFunction('convertToInteractive',\n",
              "                                                     [key], {});\n",
              "          if (!dataTable) return;\n",
              "\n",
              "          const docLinkHtml = 'Like what you see? Visit the ' +\n",
              "            '<a target=\"_blank\" href=https://colab.research.google.com/notebooks/data_table.ipynb>data table notebook</a>'\n",
              "            + ' to learn more about interactive tables.';\n",
              "          element.innerHTML = '';\n",
              "          dataTable['output_type'] = 'display_data';\n",
              "          await google.colab.output.renderOutput(dataTable, element);\n",
              "          const docLink = document.createElement('div');\n",
              "          docLink.innerHTML = docLinkHtml;\n",
              "          element.appendChild(docLink);\n",
              "        }\n",
              "      </script>\n",
              "    </div>\n",
              "  </div>\n",
              "  "
            ]
          },
          "metadata": {},
          "execution_count": 605
        }
      ]
    },
    {
      "cell_type": "code",
      "source": [
        "melt = commercial_sales_rolling_df.melt(id_vars = \"Year_Month\", value_vars = [\"Sales\", \"Rolling 3-Month Average\"], value_name= \"Smoothed Sales\")"
      ],
      "metadata": {
        "id": "maO_98EvJC6q"
      },
      "execution_count": 606,
      "outputs": []
    },
    {
      "cell_type": "code",
      "source": [],
      "metadata": {
        "id": "NasENUNIJCmA"
      },
      "execution_count": 606,
      "outputs": []
    },
    {
      "cell_type": "code",
      "source": [
        "fig, ax = plt.subplots()\n",
        "ax.plot(commercial_sales_rolling_df[\"Year_Month\"],commercial_sales_rolling_df[\"Sales\"])\n",
        "ax.plot(commercial_sales_rolling_df[\"Year_Month\"],commercial_sales_rolling_df[\"Rolling 3-Month Average\"])\n",
        "plt.show()"
      ],
      "metadata": {
        "colab": {
          "base_uri": "https://localhost:8080/",
          "height": 265
        },
        "id": "fDOsyCq-E4wW",
        "outputId": "4f961360-ed6c-41bc-9d95-daa8aead5443"
      },
      "execution_count": 607,
      "outputs": [
        {
          "output_type": "display_data",
          "data": {
            "text/plain": [
              "<Figure size 432x288 with 1 Axes>"
            ],
            "image/png": "[encoded data removed]"
          },
          "metadata": {}
        }
      ]
    },
    {
      "cell_type": "code",
      "source": [
        "#Plot the sales for each category over time\n",
        "\n",
        "g = sns.relplot(data = melt  , x = \"Year_Month\", y = \"Smoothed Sales\", hue = \"variable\", kind = \"line\",  color = \"#7851a9\",\n",
        "                linewidth=4 , \n",
        "                ci = None, height=5, aspect=10/5)\n",
        "\n",
        "g.set_xticklabels(rotation = \"90\")\n",
        "\n",
        "g.set_ylabels(\"Tests per Month\")\n",
        "g.set_xlabels(\"Time in Months\")\n",
        "g.set_titles(col_template = '{col_name}')\n",
        "g.fig.suptitle(f\"Commercial Tests (incl. FOC) per Month across the top {num_countries_comm} countries\", y=1.05)\n",
        "\n",
        "#plt.savefig('comm_all_with_FOC.pdf', dpi = 300, bbox_inches =\"tight\",\n",
        "            #pad_inches = 1)\n",
        "#files.download(\"comm_all_with_FOC.pdf\")\n",
        "plt.show()"
      ],
      "metadata": {
        "id": "dXKkPvg86zWR",
        "colab": {
          "base_uri": "https://localhost:8080/",
          "height": 430
        },
        "outputId": "1ac762ff-49f2-470d-e16f-752fe9aa9445"
      },
      "execution_count": 608,
      "outputs": [
        {
          "output_type": "display_data",
          "data": {
            "text/plain": [
              "<Figure size 878.125x360 with 1 Axes>"
            ],
            "image/png": "[encoded data removed]"
          },
          "metadata": {}
        }
      ]
    },
    {
      "cell_type": "markdown",
      "source": [
        "# Percentages growth"
      ],
      "metadata": {
        "id": "UCU79l1ESFOP"
      }
    },
    {
      "cell_type": "code",
      "source": [
        "commercial_sales_FOC_analysis_df.info()"
      ],
      "metadata": {
        "colab": {
          "base_uri": "https://localhost:8080/"
        },
        "id": "o_t-rGdLL8L0",
        "outputId": "fd7fa629-9133-444d-89bd-8bfbbc43267a"
      },
      "execution_count": 609,
      "outputs": [
        {
          "output_type": "stream",
          "name": "stdout",
          "text": [
            "<class 'pandas.core.frame.DataFrame'>\n",
            "Int64Index: 2298 entries, 1 to 2533\n",
            "Data columns (total 5 columns):\n",
            " #   Column             Non-Null Count  Dtype         \n",
            "---  ------             --------------  -----         \n",
            " 0   Reporting Country  2298 non-null   object        \n",
            " 1   Type               2298 non-null   category      \n",
            " 2   Sales              2298 non-null   int64         \n",
            " 3   FOC                2298 non-null   category      \n",
            " 4   Year_Month         2298 non-null   datetime64[ns]\n",
            "dtypes: category(2), datetime64[ns](1), int64(1), object(1)\n",
            "memory usage: 76.6+ KB\n"
          ]
        }
      ]
    },
    {
      "cell_type": "code",
      "source": [
        "commercial_sales_FOC_analysis_df.head()"
      ],
      "metadata": {
        "colab": {
          "base_uri": "https://localhost:8080/",
          "height": 206
        },
        "id": "xz3XEQclL8Hs",
        "outputId": "d5c40911-9d9f-4c4c-c469-60c86089aa53"
      },
      "execution_count": 610,
      "outputs": [
        {
          "output_type": "execute_result",
          "data": {
            "text/plain": [
              "  Reporting Country        Type  Sales   FOC Year_Month\n",
              "1    UNITED KINGDOM  Commercial      1  Paid 2022-05-01\n",
              "3             SPAIN  Commercial      1  Paid 2021-11-01\n",
              "4             SPAIN  Commercial      1  Paid 2021-12-01\n",
              "5            TURKEY  Commercial      1  Paid 2022-01-01\n",
              "6             SPAIN  Commercial      1  Paid 2022-02-01"
            ],
            "text/html": [
              "\n",
              "  <div id=\"df-3ef97e40-59f4-4d92-ab45-81dcb8d66e44\">\n",
              "    <div class=\"colab-df-container\">\n",
              "      <div>\n",
              "<style scoped>\n",
              "    .dataframe tbody tr th:only-of-type {\n",
              "        vertical-align: middle;\n",
              "    }\n",
              "\n",
              "    .dataframe tbody tr th {\n",
              "        vertical-align: top;\n",
              "    }\n",
              "\n",
              "    .dataframe thead th {\n",
              "        text-align: right;\n",
              "    }\n",
              "</style>\n",
              "<table border=\"1\" class=\"dataframe\">\n",
              "  <thead>\n",
              "    <tr style=\"text-align: right;\">\n",
              "      <th></th>\n",
              "      <th>Reporting Country</th>\n",
              "      <th>Type</th>\n",
              "      <th>Sales</th>\n",
              "      <th>FOC</th>\n",
              "      <th>Year_Month</th>\n",
              "    </tr>\n",
              "  </thead>\n",
              "  <tbody>\n",
              "    <tr>\n",
              "      <th>1</th>\n",
              "      <td>UNITED KINGDOM</td>\n",
              "      <td>Commercial</td>\n",
              "      <td>1</td>\n",
              "      <td>Paid</td>\n",
              "      <td>2022-05-01</td>\n",
              "    </tr>\n",
              "    <tr>\n",
              "      <th>3</th>\n",
              "      <td>SPAIN</td>\n",
              "      <td>Commercial</td>\n",
              "      <td>1</td>\n",
              "      <td>Paid</td>\n",
              "      <td>2021-11-01</td>\n",
              "    </tr>\n",
              "    <tr>\n",
              "      <th>4</th>\n",
              "      <td>SPAIN</td>\n",
              "      <td>Commercial</td>\n",
              "      <td>1</td>\n",
              "      <td>Paid</td>\n",
              "      <td>2021-12-01</td>\n",
              "    </tr>\n",
              "    <tr>\n",
              "      <th>5</th>\n",
              "      <td>TURKEY</td>\n",
              "      <td>Commercial</td>\n",
              "      <td>1</td>\n",
              "      <td>Paid</td>\n",
              "      <td>2022-01-01</td>\n",
              "    </tr>\n",
              "    <tr>\n",
              "      <th>6</th>\n",
              "      <td>SPAIN</td>\n",
              "      <td>Commercial</td>\n",
              "      <td>1</td>\n",
              "      <td>Paid</td>\n",
              "      <td>2022-02-01</td>\n",
              "    </tr>\n",
              "  </tbody>\n",
              "</table>\n",
              "</div>\n",
              "      <button class=\"colab-df-convert\" onclick=\"convertToInteractive('df-3ef97e40-59f4-4d92-ab45-81dcb8d66e44')\"\n",
              "              title=\"Convert this dataframe to an interactive table.\"\n",
              "              style=\"display:none;\">\n",
              "        \n",
              "  <svg xmlns=\"http://www.w3.org/2000/svg\" height=\"24px\"viewBox=\"0 0 24 24\"\n",
              "       width=\"24px\">\n",
              "    <path d=\"M0 0h24v24H0V0z\" fill=\"none\"/>\n",
              "    <path d=\"M18.56 5.44l.94 2.06.94-2.06 2.06-.94-2.06-.94-.94-2.06-.94 2.06-2.06.94zm-11 1L8.5 8.5l.94-2.06 2.06-.94-2.06-.94L8.5 2.5l-.94 2.06-2.06.94zm10 10l.94 2.06.94-2.06 2.06-.94-2.06-.94-.94-2.06-.94 2.06-2.06.94z\"/><path d=\"M17.41 7.96l-1.37-1.37c-.4-.4-.92-.59-1.43-.59-.52 0-1.04.2-1.43.59L10.3 9.45l-7.72 7.72c-.78.78-.78 2.05 0 2.83L4 21.41c.39.39.9.59 1.41.59.51 0 1.02-.2 1.41-.59l7.78-7.78 2.81-2.81c.8-.78.8-2.07 0-2.86zM5.41 20L4 18.59l7.72-7.72 1.47 1.35L5.41 20z\"/>\n",
              "  </svg>\n",
              "      </button>\n",
              "      \n",
              "  <style>\n",
              "    .colab-df-container {\n",
              "      display:flex;\n",
              "      flex-wrap:wrap;\n",
              "      gap: 12px;\n",
              "    }\n",
              "\n",
              "    .colab-df-convert {\n",
              "      background-color: #E8F0FE;\n",
              "      border: none;\n",
              "      border-radius: 50%;\n",
              "      cursor: pointer;\n",
              "      display: none;\n",
              "      fill: #1967D2;\n",
              "      height: 32px;\n",
              "      padding: 0 0 0 0;\n",
              "      width: 32px;\n",
              "    }\n",
              "\n",
              "    .colab-df-convert:hover {\n",
              "      background-color: #E2EBFA;\n",
              "      box-shadow: 0px 1px 2px rgba(60, 64, 67, 0.3), 0px 1px 3px 1px rgba(60, 64, 67, 0.15);\n",
              "      fill: #174EA6;\n",
              "    }\n",
              "\n",
              "    [theme=dark] .colab-df-convert {\n",
              "      background-color: #3B4455;\n",
              "      fill: #D2E3FC;\n",
              "    }\n",
              "\n",
              "    [theme=dark] .colab-df-convert:hover {\n",
              "      background-color: #434B5C;\n",
              "      box-shadow: 0px 1px 3px 1px rgba(0, 0, 0, 0.15);\n",
              "      filter: drop-shadow(0px 1px 2px rgba(0, 0, 0, 0.3));\n",
              "      fill: #FFFFFF;\n",
              "    }\n",
              "  </style>\n",
              "\n",
              "      <script>\n",
              "        const buttonEl =\n",
              "          document.querySelector('#df-3ef97e40-59f4-4d92-ab45-81dcb8d66e44 button.colab-df-convert');\n",
              "        buttonEl.style.display =\n",
              "          google.colab.kernel.accessAllowed ? 'block' : 'none';\n",
              "\n",
              "        async function convertToInteractive(key) {\n",
              "          const element = document.querySelector('#df-3ef97e40-59f4-4d92-ab45-81dcb8d66e44');\n",
              "          const dataTable =\n",
              "            await google.colab.kernel.invokeFunction('convertToInteractive',\n",
              "                                                     [key], {});\n",
              "          if (!dataTable) return;\n",
              "\n",
              "          const docLinkHtml = 'Like what you see? Visit the ' +\n",
              "            '<a target=\"_blank\" href=https://colab.research.google.com/notebooks/data_table.ipynb>data table notebook</a>'\n",
              "            + ' to learn more about interactive tables.';\n",
              "          element.innerHTML = '';\n",
              "          dataTable['output_type'] = 'display_data';\n",
              "          await google.colab.output.renderOutput(dataTable, element);\n",
              "          const docLink = document.createElement('div');\n",
              "          docLink.innerHTML = docLinkHtml;\n",
              "          element.appendChild(docLink);\n",
              "        }\n",
              "      </script>\n",
              "    </div>\n",
              "  </div>\n",
              "  "
            ]
          },
          "metadata": {},
          "execution_count": 610
        }
      ]
    },
    {
      "cell_type": "code",
      "source": [
        "#Creat a data set with the monthly revenue for all countries, Calcualte the percent growth by using the percent_change function\n",
        "commercial_percent = commercial_sales_FOC_analysis_df.groupby([\"Year_Month\"]).sum().reset_index().set_index(\"Year_Month\")"
      ],
      "metadata": {
        "id": "8Ou7FotPL7-z"
      },
      "execution_count": 611,
      "outputs": []
    },
    {
      "cell_type": "code",
      "source": [
        "commercial_percent"
      ],
      "metadata": {
        "colab": {
          "base_uri": "https://localhost:8080/",
          "height": 771
        },
        "id": "aZshJNCPn4Ri",
        "outputId": "c4cfcc88-3708-4549-cbda-a6e39234f062"
      },
      "execution_count": 612,
      "outputs": [
        {
          "output_type": "execute_result",
          "data": {
            "text/plain": [
              "            Sales\n",
              "Year_Month       \n",
              "2021-01-01     78\n",
              "2021-02-01     72\n",
              "2021-03-01     88\n",
              "2021-04-01     87\n",
              "2021-05-01     82\n",
              "2021-06-01     84\n",
              "2021-07-01     86\n",
              "2021-08-01     80\n",
              "2021-09-01     95\n",
              "2021-10-01    101\n",
              "2021-11-01    118\n",
              "2021-12-01    100\n",
              "2022-01-01    103\n",
              "2022-02-01    101\n",
              "2022-03-01    131\n",
              "2022-04-01    116\n",
              "2022-05-01    111\n",
              "2022-06-01    121\n",
              "2022-07-01    127\n",
              "2022-08-01    144\n",
              "2022-09-01    138\n",
              "2022-10-01    135"
            ],
            "text/html": [
              "\n",
              "  <div id=\"df-189cee1b-3f91-4cd8-9b8f-dca87df5054a\">\n",
              "    <div class=\"colab-df-container\">\n",
              "      <div>\n",
              "<style scoped>\n",
              "    .dataframe tbody tr th:only-of-type {\n",
              "        vertical-align: middle;\n",
              "    }\n",
              "\n",
              "    .dataframe tbody tr th {\n",
              "        vertical-align: top;\n",
              "    }\n",
              "\n",
              "    .dataframe thead th {\n",
              "        text-align: right;\n",
              "    }\n",
              "</style>\n",
              "<table border=\"1\" class=\"dataframe\">\n",
              "  <thead>\n",
              "    <tr style=\"text-align: right;\">\n",
              "      <th></th>\n",
              "      <th>Sales</th>\n",
              "    </tr>\n",
              "    <tr>\n",
              "      <th>Year_Month</th>\n",
              "      <th></th>\n",
              "    </tr>\n",
              "  </thead>\n",
              "  <tbody>\n",
              "    <tr>\n",
              "      <th>2021-01-01</th>\n",
              "      <td>78</td>\n",
              "    </tr>\n",
              "    <tr>\n",
              "      <th>2021-02-01</th>\n",
              "      <td>72</td>\n",
              "    </tr>\n",
              "    <tr>\n",
              "      <th>2021-03-01</th>\n",
              "      <td>88</td>\n",
              "    </tr>\n",
              "    <tr>\n",
              "      <th>2021-04-01</th>\n",
              "      <td>87</td>\n",
              "    </tr>\n",
              "    <tr>\n",
              "      <th>2021-05-01</th>\n",
              "      <td>82</td>\n",
              "    </tr>\n",
              "    <tr>\n",
              "      <th>2021-06-01</th>\n",
              "      <td>84</td>\n",
              "    </tr>\n",
              "    <tr>\n",
              "      <th>2021-07-01</th>\n",
              "      <td>86</td>\n",
              "    </tr>\n",
              "    <tr>\n",
              "      <th>2021-08-01</th>\n",
              "      <td>80</td>\n",
              "    </tr>\n",
              "    <tr>\n",
              "      <th>2021-09-01</th>\n",
              "      <td>95</td>\n",
              "    </tr>\n",
              "    <tr>\n",
              "      <th>2021-10-01</th>\n",
              "      <td>101</td>\n",
              "    </tr>\n",
              "    <tr>\n",
              "      <th>2021-11-01</th>\n",
              "      <td>118</td>\n",
              "    </tr>\n",
              "    <tr>\n",
              "      <th>2021-12-01</th>\n",
              "      <td>100</td>\n",
              "    </tr>\n",
              "    <tr>\n",
              "      <th>2022-01-01</th>\n",
              "      <td>103</td>\n",
              "    </tr>\n",
              "    <tr>\n",
              "      <th>2022-02-01</th>\n",
              "      <td>101</td>\n",
              "    </tr>\n",
              "    <tr>\n",
              "      <th>2022-03-01</th>\n",
              "      <td>131</td>\n",
              "    </tr>\n",
              "    <tr>\n",
              "      <th>2022-04-01</th>\n",
              "      <td>116</td>\n",
              "    </tr>\n",
              "    <tr>\n",
              "      <th>2022-05-01</th>\n",
              "      <td>111</td>\n",
              "    </tr>\n",
              "    <tr>\n",
              "      <th>2022-06-01</th>\n",
              "      <td>121</td>\n",
              "    </tr>\n",
              "    <tr>\n",
              "      <th>2022-07-01</th>\n",
              "      <td>127</td>\n",
              "    </tr>\n",
              "    <tr>\n",
              "      <th>2022-08-01</th>\n",
              "      <td>144</td>\n",
              "    </tr>\n",
              "    <tr>\n",
              "      <th>2022-09-01</th>\n",
              "      <td>138</td>\n",
              "    </tr>\n",
              "    <tr>\n",
              "      <th>2022-10-01</th>\n",
              "      <td>135</td>\n",
              "    </tr>\n",
              "  </tbody>\n",
              "</table>\n",
              "</div>\n",
              "      <button class=\"colab-df-convert\" onclick=\"convertToInteractive('df-189cee1b-3f91-4cd8-9b8f-dca87df5054a')\"\n",
              "              title=\"Convert this dataframe to an interactive table.\"\n",
              "              style=\"display:none;\">\n",
              "        \n",
              "  <svg xmlns=\"http://www.w3.org/2000/svg\" height=\"24px\"viewBox=\"0 0 24 24\"\n",
              "       width=\"24px\">\n",
              "    <path d=\"M0 0h24v24H0V0z\" fill=\"none\"/>\n",
              "    <path d=\"M18.56 5.44l.94 2.06.94-2.06 2.06-.94-2.06-.94-.94-2.06-.94 2.06-2.06.94zm-11 1L8.5 8.5l.94-2.06 2.06-.94-2.06-.94L8.5 2.5l-.94 2.06-2.06.94zm10 10l.94 2.06.94-2.06 2.06-.94-2.06-.94-.94-2.06-.94 2.06-2.06.94z\"/><path d=\"M17.41 7.96l-1.37-1.37c-.4-.4-.92-.59-1.43-.59-.52 0-1.04.2-1.43.59L10.3 9.45l-7.72 7.72c-.78.78-.78 2.05 0 2.83L4 21.41c.39.39.9.59 1.41.59.51 0 1.02-.2 1.41-.59l7.78-7.78 2.81-2.81c.8-.78.8-2.07 0-2.86zM5.41 20L4 18.59l7.72-7.72 1.47 1.35L5.41 20z\"/>\n",
              "  </svg>\n",
              "      </button>\n",
              "      \n",
              "  <style>\n",
              "    .colab-df-container {\n",
              "      display:flex;\n",
              "      flex-wrap:wrap;\n",
              "      gap: 12px;\n",
              "    }\n",
              "\n",
              "    .colab-df-convert {\n",
              "      background-color: #E8F0FE;\n",
              "      border: none;\n",
              "      border-radius: 50%;\n",
              "      cursor: pointer;\n",
              "      display: none;\n",
              "      fill: #1967D2;\n",
              "      height: 32px;\n",
              "      padding: 0 0 0 0;\n",
              "      width: 32px;\n",
              "    }\n",
              "\n",
              "    .colab-df-convert:hover {\n",
              "      background-color: #E2EBFA;\n",
              "      box-shadow: 0px 1px 2px rgba(60, 64, 67, 0.3), 0px 1px 3px 1px rgba(60, 64, 67, 0.15);\n",
              "      fill: #174EA6;\n",
              "    }\n",
              "\n",
              "    [theme=dark] .colab-df-convert {\n",
              "      background-color: #3B4455;\n",
              "      fill: #D2E3FC;\n",
              "    }\n",
              "\n",
              "    [theme=dark] .colab-df-convert:hover {\n",
              "      background-color: #434B5C;\n",
              "      box-shadow: 0px 1px 3px 1px rgba(0, 0, 0, 0.15);\n",
              "      filter: drop-shadow(0px 1px 2px rgba(0, 0, 0, 0.3));\n",
              "      fill: #FFFFFF;\n",
              "    }\n",
              "  </style>\n",
              "\n",
              "      <script>\n",
              "        const buttonEl =\n",
              "          document.querySelector('#df-189cee1b-3f91-4cd8-9b8f-dca87df5054a button.colab-df-convert');\n",
              "        buttonEl.style.display =\n",
              "          google.colab.kernel.accessAllowed ? 'block' : 'none';\n",
              "\n",
              "        async function convertToInteractive(key) {\n",
              "          const element = document.querySelector('#df-189cee1b-3f91-4cd8-9b8f-dca87df5054a');\n",
              "          const dataTable =\n",
              "            await google.colab.kernel.invokeFunction('convertToInteractive',\n",
              "                                                     [key], {});\n",
              "          if (!dataTable) return;\n",
              "\n",
              "          const docLinkHtml = 'Like what you see? Visit the ' +\n",
              "            '<a target=\"_blank\" href=https://colab.research.google.com/notebooks/data_table.ipynb>data table notebook</a>'\n",
              "            + ' to learn more about interactive tables.';\n",
              "          element.innerHTML = '';\n",
              "          dataTable['output_type'] = 'display_data';\n",
              "          await google.colab.output.renderOutput(dataTable, element);\n",
              "          const docLink = document.createElement('div');\n",
              "          docLink.innerHTML = docLinkHtml;\n",
              "          element.appendChild(docLink);\n",
              "        }\n",
              "      </script>\n",
              "    </div>\n",
              "  </div>\n",
              "  "
            ]
          },
          "metadata": {},
          "execution_count": 612
        }
      ]
    },
    {
      "cell_type": "code",
      "source": [
        "commercial_percent[\"Annual_Growth(%)\"] = commercial_percent.pct_change(periods = 12).mul(100)"
      ],
      "metadata": {
        "id": "zzVR7wJUL7vJ"
      },
      "execution_count": 613,
      "outputs": []
    },
    {
      "cell_type": "code",
      "source": [
        "commercial_percent.tail()"
      ],
      "metadata": {
        "colab": {
          "base_uri": "https://localhost:8080/",
          "height": 238
        },
        "id": "oW1LLPwVlPdm",
        "outputId": "f0419fb9-7e64-4069-8a54-eb7fec2183c3"
      },
      "execution_count": 614,
      "outputs": [
        {
          "output_type": "execute_result",
          "data": {
            "text/plain": [
              "            Sales  Annual_Growth(%)\n",
              "Year_Month                         \n",
              "2022-06-01    121             44.05\n",
              "2022-07-01    127             47.67\n",
              "2022-08-01    144             80.00\n",
              "2022-09-01    138             45.26\n",
              "2022-10-01    135             33.66"
            ],
            "text/html": [
              "\n",
              "  <div id=\"df-4bd99252-d1f7-4980-97d3-69b4ba0b8167\">\n",
              "    <div class=\"colab-df-container\">\n",
              "      <div>\n",
              "<style scoped>\n",
              "    .dataframe tbody tr th:only-of-type {\n",
              "        vertical-align: middle;\n",
              "    }\n",
              "\n",
              "    .dataframe tbody tr th {\n",
              "        vertical-align: top;\n",
              "    }\n",
              "\n",
              "    .dataframe thead th {\n",
              "        text-align: right;\n",
              "    }\n",
              "</style>\n",
              "<table border=\"1\" class=\"dataframe\">\n",
              "  <thead>\n",
              "    <tr style=\"text-align: right;\">\n",
              "      <th></th>\n",
              "      <th>Sales</th>\n",
              "      <th>Annual_Growth(%)</th>\n",
              "    </tr>\n",
              "    <tr>\n",
              "      <th>Year_Month</th>\n",
              "      <th></th>\n",
              "      <th></th>\n",
              "    </tr>\n",
              "  </thead>\n",
              "  <tbody>\n",
              "    <tr>\n",
              "      <th>2022-06-01</th>\n",
              "      <td>121</td>\n",
              "      <td>44.05</td>\n",
              "    </tr>\n",
              "    <tr>\n",
              "      <th>2022-07-01</th>\n",
              "      <td>127</td>\n",
              "      <td>47.67</td>\n",
              "    </tr>\n",
              "    <tr>\n",
              "      <th>2022-08-01</th>\n",
              "      <td>144</td>\n",
              "      <td>80.00</td>\n",
              "    </tr>\n",
              "    <tr>\n",
              "      <th>2022-09-01</th>\n",
              "      <td>138</td>\n",
              "      <td>45.26</td>\n",
              "    </tr>\n",
              "    <tr>\n",
              "      <th>2022-10-01</th>\n",
              "      <td>135</td>\n",
              "      <td>33.66</td>\n",
              "    </tr>\n",
              "  </tbody>\n",
              "</table>\n",
              "</div>\n",
              "      <button class=\"colab-df-convert\" onclick=\"convertToInteractive('df-4bd99252-d1f7-4980-97d3-69b4ba0b8167')\"\n",
              "              title=\"Convert this dataframe to an interactive table.\"\n",
              "              style=\"display:none;\">\n",
              "        \n",
              "  <svg xmlns=\"http://www.w3.org/2000/svg\" height=\"24px\"viewBox=\"0 0 24 24\"\n",
              "       width=\"24px\">\n",
              "    <path d=\"M0 0h24v24H0V0z\" fill=\"none\"/>\n",
              "    <path d=\"M18.56 5.44l.94 2.06.94-2.06 2.06-.94-2.06-.94-.94-2.06-.94 2.06-2.06.94zm-11 1L8.5 8.5l.94-2.06 2.06-.94-2.06-.94L8.5 2.5l-.94 2.06-2.06.94zm10 10l.94 2.06.94-2.06 2.06-.94-2.06-.94-.94-2.06-.94 2.06-2.06.94z\"/><path d=\"M17.41 7.96l-1.37-1.37c-.4-.4-.92-.59-1.43-.59-.52 0-1.04.2-1.43.59L10.3 9.45l-7.72 7.72c-.78.78-.78 2.05 0 2.83L4 21.41c.39.39.9.59 1.41.59.51 0 1.02-.2 1.41-.59l7.78-7.78 2.81-2.81c.8-.78.8-2.07 0-2.86zM5.41 20L4 18.59l7.72-7.72 1.47 1.35L5.41 20z\"/>\n",
              "  </svg>\n",
              "      </button>\n",
              "      \n",
              "  <style>\n",
              "    .colab-df-container {\n",
              "      display:flex;\n",
              "      flex-wrap:wrap;\n",
              "      gap: 12px;\n",
              "    }\n",
              "\n",
              "    .colab-df-convert {\n",
              "      background-color: #E8F0FE;\n",
              "      border: none;\n",
              "      border-radius: 50%;\n",
              "      cursor: pointer;\n",
              "      display: none;\n",
              "      fill: #1967D2;\n",
              "      height: 32px;\n",
              "      padding: 0 0 0 0;\n",
              "      width: 32px;\n",
              "    }\n",
              "\n",
              "    .colab-df-convert:hover {\n",
              "      background-color: #E2EBFA;\n",
              "      box-shadow: 0px 1px 2px rgba(60, 64, 67, 0.3), 0px 1px 3px 1px rgba(60, 64, 67, 0.15);\n",
              "      fill: #174EA6;\n",
              "    }\n",
              "\n",
              "    [theme=dark] .colab-df-convert {\n",
              "      background-color: #3B4455;\n",
              "      fill: #D2E3FC;\n",
              "    }\n",
              "\n",
              "    [theme=dark] .colab-df-convert:hover {\n",
              "      background-color: #434B5C;\n",
              "      box-shadow: 0px 1px 3px 1px rgba(0, 0, 0, 0.15);\n",
              "      filter: drop-shadow(0px 1px 2px rgba(0, 0, 0, 0.3));\n",
              "      fill: #FFFFFF;\n",
              "    }\n",
              "  </style>\n",
              "\n",
              "      <script>\n",
              "        const buttonEl =\n",
              "          document.querySelector('#df-4bd99252-d1f7-4980-97d3-69b4ba0b8167 button.colab-df-convert');\n",
              "        buttonEl.style.display =\n",
              "          google.colab.kernel.accessAllowed ? 'block' : 'none';\n",
              "\n",
              "        async function convertToInteractive(key) {\n",
              "          const element = document.querySelector('#df-4bd99252-d1f7-4980-97d3-69b4ba0b8167');\n",
              "          const dataTable =\n",
              "            await google.colab.kernel.invokeFunction('convertToInteractive',\n",
              "                                                     [key], {});\n",
              "          if (!dataTable) return;\n",
              "\n",
              "          const docLinkHtml = 'Like what you see? Visit the ' +\n",
              "            '<a target=\"_blank\" href=https://colab.research.google.com/notebooks/data_table.ipynb>data table notebook</a>'\n",
              "            + ' to learn more about interactive tables.';\n",
              "          element.innerHTML = '';\n",
              "          dataTable['output_type'] = 'display_data';\n",
              "          await google.colab.output.renderOutput(dataTable, element);\n",
              "          const docLink = document.createElement('div');\n",
              "          docLink.innerHTML = docLinkHtml;\n",
              "          element.appendChild(docLink);\n",
              "        }\n",
              "      </script>\n",
              "    </div>\n",
              "  </div>\n",
              "  "
            ]
          },
          "metadata": {},
          "execution_count": 614
        }
      ]
    },
    {
      "cell_type": "code",
      "source": [
        "#Plot the sales for each category over time\n",
        "g = sns.relplot(data = commercial_percent  , x = \"Year_Month\", y = \"Annual_Growth(%)\", kind = \"line\",  color = \"#7851a9\", linewidth=4 , \n",
        "                ci = None, height=5, aspect=10/5)\n",
        "g.set_xticklabels(rotation = \"90\")\n",
        "\n",
        "g.set(ylim = (0,100))\n",
        "g.set_ylabels(\"Annual Growth in Percentage based on the 3- month average\")\n",
        "g.set_xlabels(\"Time in Months\")\n",
        "g.set_titles(col_template = '{col_name}')\n",
        "g.fig.suptitle(f\"Annual Growth in Percentage based on the 3- month average\", y=1.05)\n",
        "\n",
        "#plt.savefig('comm_all_with_FOC.pdf', dpi = 300, bbox_inches =\"tight\",\n",
        "            #pad_inches = 1)\n",
        "#files.download(\"comm_all_with_FOC.pdf\")\n",
        "plt.show()"
      ],
      "metadata": {
        "colab": {
          "base_uri": "https://localhost:8080/",
          "height": 430
        },
        "id": "1E3c8CQBWINN",
        "outputId": "9a565673-bf54-41de-e3ee-57a557bf248f"
      },
      "execution_count": 615,
      "outputs": [
        {
          "output_type": "display_data",
          "data": {
            "text/plain": [
              "<Figure size 720x360 with 1 Axes>"
            ],
            "image/png": "[encoded data removed]"
          },
          "metadata": {}
        }
      ]
    },
    {
      "cell_type": "code",
      "source": [
        "#Calculate the percentage growth based on the 3 month rolling mean\n",
        "commercial_sales_rolling_df[\"Percent_growth_3_month_average\"] = commercial_sales_rolling_df.set_index(\"Year_Month\")[\"Rolling 3-Month Average\"].pct_change(periods=6).mul(100)"
      ],
      "metadata": {
        "id": "n8r_Y-CShz2X"
      },
      "execution_count": 616,
      "outputs": []
    },
    {
      "cell_type": "code",
      "source": [
        "commercial_sales_rolling_df"
      ],
      "metadata": {
        "colab": {
          "base_uri": "https://localhost:8080/",
          "height": 739
        },
        "id": "mBF4kKornTSU",
        "outputId": "baa43478-9df0-4f86-9e22-88271ef71135"
      },
      "execution_count": 617,
      "outputs": [
        {
          "output_type": "execute_result",
          "data": {
            "text/plain": [
              "   Year_Month  Sales  Rolling 3-Month Average  Percent_growth_3_month_average\n",
              "0  2021-01-01     78                      NaN                             NaN\n",
              "1  2021-02-01     72                      NaN                             NaN\n",
              "2  2021-03-01     88                    79.33                             NaN\n",
              "3  2021-04-01     87                    82.33                             NaN\n",
              "4  2021-05-01     82                    85.67                             NaN\n",
              "5  2021-06-01     84                    84.33                             NaN\n",
              "6  2021-07-01     86                    84.00                             NaN\n",
              "7  2021-08-01     80                    83.33                             NaN\n",
              "8  2021-09-01     95                    87.00                             NaN\n",
              "9  2021-10-01    101                    92.00                             NaN\n",
              "10 2021-11-01    118                   104.67                             NaN\n",
              "11 2021-12-01    100                   106.33                             NaN\n",
              "12 2022-01-01    103                   107.00                             NaN\n",
              "13 2022-02-01    101                   101.33                             NaN\n",
              "14 2022-03-01    131                   111.67                             NaN\n",
              "15 2022-04-01    116                   116.00                             NaN\n",
              "16 2022-05-01    111                   119.33                             NaN\n",
              "17 2022-06-01    121                   116.00                             NaN\n",
              "18 2022-07-01    127                   119.67                             NaN\n",
              "19 2022-08-01    144                   130.67                             NaN\n",
              "20 2022-09-01    138                   136.33                             NaN\n",
              "21 2022-10-01    135                   139.00                             NaN"
            ],
            "text/html": [
              "\n",
              "  <div id=\"df-95d09f4b-6b7e-4ac8-89e8-94ea7e4bb4dc\">\n",
              "    <div class=\"colab-df-container\">\n",
              "      <div>\n",
              "<style scoped>\n",
              "    .dataframe tbody tr th:only-of-type {\n",
              "        vertical-align: middle;\n",
              "    }\n",
              "\n",
              "    .dataframe tbody tr th {\n",
              "        vertical-align: top;\n",
              "    }\n",
              "\n",
              "    .dataframe thead th {\n",
              "        text-align: right;\n",
              "    }\n",
              "</style>\n",
              "<table border=\"1\" class=\"dataframe\">\n",
              "  <thead>\n",
              "    <tr style=\"text-align: right;\">\n",
              "      <th></th>\n",
              "      <th>Year_Month</th>\n",
              "      <th>Sales</th>\n",
              "      <th>Rolling 3-Month Average</th>\n",
              "      <th>Percent_growth_3_month_average</th>\n",
              "    </tr>\n",
              "  </thead>\n",
              "  <tbody>\n",
              "    <tr>\n",
              "      <th>0</th>\n",
              "      <td>2021-01-01</td>\n",
              "      <td>78</td>\n",
              "      <td>NaN</td>\n",
              "      <td>NaN</td>\n",
              "    </tr>\n",
              "    <tr>\n",
              "      <th>1</th>\n",
              "      <td>2021-02-01</td>\n",
              "      <td>72</td>\n",
              "      <td>NaN</td>\n",
              "      <td>NaN</td>\n",
              "    </tr>\n",
              "    <tr>\n",
              "      <th>2</th>\n",
              "      <td>2021-03-01</td>\n",
              "      <td>88</td>\n",
              "      <td>79.33</td>\n",
              "      <td>NaN</td>\n",
              "    </tr>\n",
              "    <tr>\n",
              "      <th>3</th>\n",
              "      <td>2021-04-01</td>\n",
              "      <td>87</td>\n",
              "      <td>82.33</td>\n",
              "      <td>NaN</td>\n",
              "    </tr>\n",
              "    <tr>\n",
              "      <th>4</th>\n",
              "      <td>2021-05-01</td>\n",
              "      <td>82</td>\n",
              "      <td>85.67</td>\n",
              "      <td>NaN</td>\n",
              "    </tr>\n",
              "    <tr>\n",
              "      <th>5</th>\n",
              "      <td>2021-06-01</td>\n",
              "      <td>84</td>\n",
              "      <td>84.33</td>\n",
              "      <td>NaN</td>\n",
              "    </tr>\n",
              "    <tr>\n",
              "      <th>6</th>\n",
              "      <td>2021-07-01</td>\n",
              "      <td>86</td>\n",
              "      <td>84.00</td>\n",
              "      <td>NaN</td>\n",
              "    </tr>\n",
              "    <tr>\n",
              "      <th>7</th>\n",
              "      <td>2021-08-01</td>\n",
              "      <td>80</td>\n",
              "      <td>83.33</td>\n",
              "      <td>NaN</td>\n",
              "    </tr>\n",
              "    <tr>\n",
              "      <th>8</th>\n",
              "      <td>2021-09-01</td>\n",
              "      <td>95</td>\n",
              "      <td>87.00</td>\n",
              "      <td>NaN</td>\n",
              "    </tr>\n",
              "    <tr>\n",
              "      <th>9</th>\n",
              "      <td>2021-10-01</td>\n",
              "      <td>101</td>\n",
              "      <td>92.00</td>\n",
              "      <td>NaN</td>\n",
              "    </tr>\n",
              "    <tr>\n",
              "      <th>10</th>\n",
              "      <td>2021-11-01</td>\n",
              "      <td>118</td>\n",
              "      <td>104.67</td>\n",
              "      <td>NaN</td>\n",
              "    </tr>\n",
              "    <tr>\n",
              "      <th>11</th>\n",
              "      <td>2021-12-01</td>\n",
              "      <td>100</td>\n",
              "      <td>106.33</td>\n",
              "      <td>NaN</td>\n",
              "    </tr>\n",
              "    <tr>\n",
              "      <th>12</th>\n",
              "      <td>2022-01-01</td>\n",
              "      <td>103</td>\n",
              "      <td>107.00</td>\n",
              "      <td>NaN</td>\n",
              "    </tr>\n",
              "    <tr>\n",
              "      <th>13</th>\n",
              "      <td>2022-02-01</td>\n",
              "      <td>101</td>\n",
              "      <td>101.33</td>\n",
              "      <td>NaN</td>\n",
              "    </tr>\n",
              "    <tr>\n",
              "      <th>14</th>\n",
              "      <td>2022-03-01</td>\n",
              "      <td>131</td>\n",
              "      <td>111.67</td>\n",
              "      <td>NaN</td>\n",
              "    </tr>\n",
              "    <tr>\n",
              "      <th>15</th>\n",
              "      <td>2022-04-01</td>\n",
              "      <td>116</td>\n",
              "      <td>116.00</td>\n",
              "      <td>NaN</td>\n",
              "    </tr>\n",
              "    <tr>\n",
              "      <th>16</th>\n",
              "      <td>2022-05-01</td>\n",
              "      <td>111</td>\n",
              "      <td>119.33</td>\n",
              "      <td>NaN</td>\n",
              "    </tr>\n",
              "    <tr>\n",
              "      <th>17</th>\n",
              "      <td>2022-06-01</td>\n",
              "      <td>121</td>\n",
              "      <td>116.00</td>\n",
              "      <td>NaN</td>\n",
              "    </tr>\n",
              "    <tr>\n",
              "      <th>18</th>\n",
              "      <td>2022-07-01</td>\n",
              "      <td>127</td>\n",
              "      <td>119.67</td>\n",
              "      <td>NaN</td>\n",
              "    </tr>\n",
              "    <tr>\n",
              "      <th>19</th>\n",
              "      <td>2022-08-01</td>\n",
              "      <td>144</td>\n",
              "      <td>130.67</td>\n",
              "      <td>NaN</td>\n",
              "    </tr>\n",
              "    <tr>\n",
              "      <th>20</th>\n",
              "      <td>2022-09-01</td>\n",
              "      <td>138</td>\n",
              "      <td>136.33</td>\n",
              "      <td>NaN</td>\n",
              "    </tr>\n",
              "    <tr>\n",
              "      <th>21</th>\n",
              "      <td>2022-10-01</td>\n",
              "      <td>135</td>\n",
              "      <td>139.00</td>\n",
              "      <td>NaN</td>\n",
              "    </tr>\n",
              "  </tbody>\n",
              "</table>\n",
              "</div>\n",
              "      <button class=\"colab-df-convert\" onclick=\"convertToInteractive('df-95d09f4b-6b7e-4ac8-89e8-94ea7e4bb4dc')\"\n",
              "              title=\"Convert this dataframe to an interactive table.\"\n",
              "              style=\"display:none;\">\n",
              "        \n",
              "  <svg xmlns=\"http://www.w3.org/2000/svg\" height=\"24px\"viewBox=\"0 0 24 24\"\n",
              "       width=\"24px\">\n",
              "    <path d=\"M0 0h24v24H0V0z\" fill=\"none\"/>\n",
              "    <path d=\"M18.56 5.44l.94 2.06.94-2.06 2.06-.94-2.06-.94-.94-2.06-.94 2.06-2.06.94zm-11 1L8.5 8.5l.94-2.06 2.06-.94-2.06-.94L8.5 2.5l-.94 2.06-2.06.94zm10 10l.94 2.06.94-2.06 2.06-.94-2.06-.94-.94-2.06-.94 2.06-2.06.94z\"/><path d=\"M17.41 7.96l-1.37-1.37c-.4-.4-.92-.59-1.43-.59-.52 0-1.04.2-1.43.59L10.3 9.45l-7.72 7.72c-.78.78-.78 2.05 0 2.83L4 21.41c.39.39.9.59 1.41.59.51 0 1.02-.2 1.41-.59l7.78-7.78 2.81-2.81c.8-.78.8-2.07 0-2.86zM5.41 20L4 18.59l7.72-7.72 1.47 1.35L5.41 20z\"/>\n",
              "  </svg>\n",
              "      </button>\n",
              "      \n",
              "  <style>\n",
              "    .colab-df-container {\n",
              "      display:flex;\n",
              "      flex-wrap:wrap;\n",
              "      gap: 12px;\n",
              "    }\n",
              "\n",
              "    .colab-df-convert {\n",
              "      background-color: #E8F0FE;\n",
              "      border: none;\n",
              "      border-radius: 50%;\n",
              "      cursor: pointer;\n",
              "      display: none;\n",
              "      fill: #1967D2;\n",
              "      height: 32px;\n",
              "      padding: 0 0 0 0;\n",
              "      width: 32px;\n",
              "    }\n",
              "\n",
              "    .colab-df-convert:hover {\n",
              "      background-color: #E2EBFA;\n",
              "      box-shadow: 0px 1px 2px rgba(60, 64, 67, 0.3), 0px 1px 3px 1px rgba(60, 64, 67, 0.15);\n",
              "      fill: #174EA6;\n",
              "    }\n",
              "\n",
              "    [theme=dark] .colab-df-convert {\n",
              "      background-color: #3B4455;\n",
              "      fill: #D2E3FC;\n",
              "    }\n",
              "\n",
              "    [theme=dark] .colab-df-convert:hover {\n",
              "      background-color: #434B5C;\n",
              "      box-shadow: 0px 1px 3px 1px rgba(0, 0, 0, 0.15);\n",
              "      filter: drop-shadow(0px 1px 2px rgba(0, 0, 0, 0.3));\n",
              "      fill: #FFFFFF;\n",
              "    }\n",
              "  </style>\n",
              "\n",
              "      <script>\n",
              "        const buttonEl =\n",
              "          document.querySelector('#df-95d09f4b-6b7e-4ac8-89e8-94ea7e4bb4dc button.colab-df-convert');\n",
              "        buttonEl.style.display =\n",
              "          google.colab.kernel.accessAllowed ? 'block' : 'none';\n",
              "\n",
              "        async function convertToInteractive(key) {\n",
              "          const element = document.querySelector('#df-95d09f4b-6b7e-4ac8-89e8-94ea7e4bb4dc');\n",
              "          const dataTable =\n",
              "            await google.colab.kernel.invokeFunction('convertToInteractive',\n",
              "                                                     [key], {});\n",
              "          if (!dataTable) return;\n",
              "\n",
              "          const docLinkHtml = 'Like what you see? Visit the ' +\n",
              "            '<a target=\"_blank\" href=https://colab.research.google.com/notebooks/data_table.ipynb>data table notebook</a>'\n",
              "            + ' to learn more about interactive tables.';\n",
              "          element.innerHTML = '';\n",
              "          dataTable['output_type'] = 'display_data';\n",
              "          await google.colab.output.renderOutput(dataTable, element);\n",
              "          const docLink = document.createElement('div');\n",
              "          docLink.innerHTML = docLinkHtml;\n",
              "          element.appendChild(docLink);\n",
              "        }\n",
              "      </script>\n",
              "    </div>\n",
              "  </div>\n",
              "  "
            ]
          },
          "metadata": {},
          "execution_count": 617
        }
      ]
    },
    {
      "cell_type": "markdown",
      "source": [
        "# Charts for Rev Core"
      ],
      "metadata": {
        "id": "mMDb9TBJyrXs"
      }
    },
    {
      "cell_type": "code",
      "source": [
        "# Chart with Commercial and paid ISTs"
      ],
      "metadata": {
        "id": "GnAH-ZhUnUDO"
      },
      "execution_count": 618,
      "outputs": []
    },
    {
      "cell_type": "code",
      "source": [
        "# Chart "
      ],
      "metadata": {
        "id": "T6gzL7gA1f06"
      },
      "execution_count": 619,
      "outputs": []
    }
  ]
}