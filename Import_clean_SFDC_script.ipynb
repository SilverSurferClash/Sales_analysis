{
  "nbformat": 4,
  "nbformat_minor": 0,
  "metadata": {
    "colab": {
      "provenance": [],
      "collapsed_sections": [],
      "mount_file_id": "1TQXXPnFQWIdLAN3OjU1DfPxwMMCygS82",
      "authorship_tag": "ABX9TyP4cmYfEgPdZ9l0pDWVT58g",
      "include_colab_link": true
    },
    "kernelspec": {
      "name": "python3",
      "display_name": "Python 3"
    },
    "language_info": {
      "name": "python"
    }
  },
  "cells": [
    {
      "cell_type": "markdown",
      "metadata": {
        "id": "view-in-github",
        "colab_type": "text"
      },
      "source": [
        "<a href=\"https://colab.research.google.com/github/SilverSurferClash/Sales_analysis/blob/main/Import_clean_SFDC_script.ipynb\" target=\"_parent\"><img src=\"https://colab.research.google.com/assets/colab-badge.svg\" alt=\"Open In Colab\"/></a>"
      ]
    },
    {
      "cell_type": "code",
      "execution_count": 22,
      "metadata": {
        "colab": {
          "base_uri": "https://localhost:8080/"
        },
        "id": "tb4gPZsURoZL",
        "outputId": "1fc5ea59-cd1a-40fa-cb8c-b30f43546d59"
      },
      "outputs": [
        {
          "output_type": "stream",
          "name": "stdout",
          "text": [
            "Drive already mounted at /content/drive; to attempt to forcibly remount, call drive.mount(\"/content/drive\", force_remount=True).\n"
          ]
        }
      ],
      "source": [
        "from google.colab import drive\n",
        "drive.mount('/content/drive')"
      ]
    },
    {
      "cell_type": "code",
      "source": [
        "#!pip freeze > requirements.txt"
      ],
      "metadata": {
        "id": "-mgME99mR4O6"
      },
      "execution_count": 23,
      "outputs": []
    },
    {
      "cell_type": "code",
      "source": [
        "import numpy as np\n",
        "import pandas as pd\n",
        "import matplotlib.pyplot as plt\n",
        "plt.style.use('dark_background')\n",
        "import seaborn as sns\n",
        "import os\n",
        "pd.set_option('display.max_columns', None)\n",
        "#pd.set_option('display.max_rows', None)\n",
        "pd.set_option('display.precision', 2)\n",
        "#Use option to round floats to two decimals\n",
        "#pd.set_option('display.float_format',  '{:,.2f}'.format)\n",
        "# Use option to display $ dollars\n",
        "#pd.set_option('display.float_format', '${:.2f}'.format)\n",
        "\n",
        "# Plotting pretty figures and avoid blurry images\n",
        "#%config InlineBackend.figure_format = 'retina'\n",
        "# Larger scale for plots in notebooks\n",
        "#sns.set_context('notebook')\n",
        "\n",
        "\n",
        "# Enable multiple cell outputs\n",
        "#from IPython.core.interactiveshell import InteractiveShell\n",
        "#InteractiveShell.ast_node_interactivity = 'all'\n",
        "\n",
        "import warnings\n",
        "warnings.filterwarnings('ignore')              \n"
      ],
      "metadata": {
        "id": "_GQ-qUZJo8VP"
      },
      "execution_count": 24,
      "outputs": []
    },
    {
      "cell_type": "code",
      "source": [
        "os.getcwd()"
      ],
      "metadata": {
        "colab": {
          "base_uri": "https://localhost:8080/",
          "height": 36
        },
        "id": "G8E9lAf0o9MA",
        "outputId": "ec72aece-3d7c-46af-ec6c-0e6480b416fe"
      },
      "execution_count": 25,
      "outputs": [
        {
          "output_type": "execute_result",
          "data": {
            "text/plain": [
              "'/content/drive/My Drive/Colab_Notebooks/Sales_Analysis'"
            ],
            "application/vnd.google.colaboratory.intrinsic+json": {
              "type": "string"
            }
          },
          "metadata": {},
          "execution_count": 25
        }
      ]
    },
    {
      "cell_type": "code",
      "source": [
        "os.chdir(\"/content/drive/MyDrive/Colab_Notebooks/Sales_Analysis\")"
      ],
      "metadata": {
        "id": "yFwfXOr-G3CK"
      },
      "execution_count": 26,
      "outputs": []
    },
    {
      "cell_type": "code",
      "source": [
        "import_sfdc = pd.read_excel(\"./All Data EUAA-2022-10-25-12-29-00.xlsx\", sheet_name = 0, \n",
        "                            skiprows = 10)\n",
        "import_sfdc = import_sfdc.drop([\"Unnamed: 0\", \"Unnamed: 2\"], axis = 1)\n",
        "import_sfdc.head()"
      ],
      "metadata": {
        "colab": {
          "base_uri": "https://localhost:8080/",
          "height": 372
        },
        "id": "n3dl5NF1HsVJ",
        "outputId": "8896ca1d-b0b7-4f6f-8f13-3723b2e3e4f4"
      },
      "execution_count": 27,
      "outputs": [
        {
          "output_type": "execute_result",
          "data": {
            "text/plain": [
              "  Accession # Reporting Country  Billing Type LIMS Project ID  \\\n",
              "0    A0214386                CH  Pharma : ROW          AMG_01   \n",
              "1    A0214865                CA  Pharma : ROW          AMG_01   \n",
              "2    A0215878                BE  Pharma : ROW          AMG_01   \n",
              "3    A0215958                DE   Pharma : US          AMG_01   \n",
              "4    A0215959                DE  Pharma : ROW          AMG_01   \n",
              "\n",
              "                       Account: Account Name             Contact: Full Name  \\\n",
              "0          AMG_01: Universitatsspital Zurich  Alessandra Curioni Fontecedro   \n",
              "1    AMG_01: Princess Margaret Cancer Centre                  Adrian Sacher   \n",
              "2  AMG_01: Universitair Ziekenhuis Antwerpen                    Hans Prenen   \n",
              "3          AMG_01: Universitatsklinikum Koln                   Wolf Juergen   \n",
              "4          AMG_01: Universitatsklinikum Koln                   Wolf Juergen   \n",
              "\n",
              "  Date Received Final Report Date     Test Type          Cancer Type  \n",
              "0    11/25/2019               NaN  Guardant 360  Lung adenocarcinoma  \n",
              "1    11/26/2019               NaN  Guardant 360  Lung adenocarcinoma  \n",
              "2    11/29/2019               NaN  Guardant 360  Lung adenocarcinoma  \n",
              "3    11/30/2019               NaN  Guardant 360  Lung adenocarcinoma  \n",
              "4    11/30/2019               NaN  Guardant 360  Lung adenocarcinoma  "
            ],
            "text/html": [
              "\n",
              "  <div id=\"df-f698909f-414e-4954-baed-10323dfec0a0\">\n",
              "    <div class=\"colab-df-container\">\n",
              "      <div>\n",
              "<style scoped>\n",
              "    .dataframe tbody tr th:only-of-type {\n",
              "        vertical-align: middle;\n",
              "    }\n",
              "\n",
              "    .dataframe tbody tr th {\n",
              "        vertical-align: top;\n",
              "    }\n",
              "\n",
              "    .dataframe thead th {\n",
              "        text-align: right;\n",
              "    }\n",
              "</style>\n",
              "<table border=\"1\" class=\"dataframe\">\n",
              "  <thead>\n",
              "    <tr style=\"text-align: right;\">\n",
              "      <th></th>\n",
              "      <th>Accession #</th>\n",
              "      <th>Reporting Country</th>\n",
              "      <th>Billing Type</th>\n",
              "      <th>LIMS Project ID</th>\n",
              "      <th>Account: Account Name</th>\n",
              "      <th>Contact: Full Name</th>\n",
              "      <th>Date Received</th>\n",
              "      <th>Final Report Date</th>\n",
              "      <th>Test Type</th>\n",
              "      <th>Cancer Type</th>\n",
              "    </tr>\n",
              "  </thead>\n",
              "  <tbody>\n",
              "    <tr>\n",
              "      <th>0</th>\n",
              "      <td>A0214386</td>\n",
              "      <td>CH</td>\n",
              "      <td>Pharma : ROW</td>\n",
              "      <td>AMG_01</td>\n",
              "      <td>AMG_01: Universitatsspital Zurich</td>\n",
              "      <td>Alessandra Curioni Fontecedro</td>\n",
              "      <td>11/25/2019</td>\n",
              "      <td>NaN</td>\n",
              "      <td>Guardant 360</td>\n",
              "      <td>Lung adenocarcinoma</td>\n",
              "    </tr>\n",
              "    <tr>\n",
              "      <th>1</th>\n",
              "      <td>A0214865</td>\n",
              "      <td>CA</td>\n",
              "      <td>Pharma : ROW</td>\n",
              "      <td>AMG_01</td>\n",
              "      <td>AMG_01: Princess Margaret Cancer Centre</td>\n",
              "      <td>Adrian Sacher</td>\n",
              "      <td>11/26/2019</td>\n",
              "      <td>NaN</td>\n",
              "      <td>Guardant 360</td>\n",
              "      <td>Lung adenocarcinoma</td>\n",
              "    </tr>\n",
              "    <tr>\n",
              "      <th>2</th>\n",
              "      <td>A0215878</td>\n",
              "      <td>BE</td>\n",
              "      <td>Pharma : ROW</td>\n",
              "      <td>AMG_01</td>\n",
              "      <td>AMG_01: Universitair Ziekenhuis Antwerpen</td>\n",
              "      <td>Hans Prenen</td>\n",
              "      <td>11/29/2019</td>\n",
              "      <td>NaN</td>\n",
              "      <td>Guardant 360</td>\n",
              "      <td>Lung adenocarcinoma</td>\n",
              "    </tr>\n",
              "    <tr>\n",
              "      <th>3</th>\n",
              "      <td>A0215958</td>\n",
              "      <td>DE</td>\n",
              "      <td>Pharma : US</td>\n",
              "      <td>AMG_01</td>\n",
              "      <td>AMG_01: Universitatsklinikum Koln</td>\n",
              "      <td>Wolf Juergen</td>\n",
              "      <td>11/30/2019</td>\n",
              "      <td>NaN</td>\n",
              "      <td>Guardant 360</td>\n",
              "      <td>Lung adenocarcinoma</td>\n",
              "    </tr>\n",
              "    <tr>\n",
              "      <th>4</th>\n",
              "      <td>A0215959</td>\n",
              "      <td>DE</td>\n",
              "      <td>Pharma : ROW</td>\n",
              "      <td>AMG_01</td>\n",
              "      <td>AMG_01: Universitatsklinikum Koln</td>\n",
              "      <td>Wolf Juergen</td>\n",
              "      <td>11/30/2019</td>\n",
              "      <td>NaN</td>\n",
              "      <td>Guardant 360</td>\n",
              "      <td>Lung adenocarcinoma</td>\n",
              "    </tr>\n",
              "  </tbody>\n",
              "</table>\n",
              "</div>\n",
              "      <button class=\"colab-df-convert\" onclick=\"convertToInteractive('df-f698909f-414e-4954-baed-10323dfec0a0')\"\n",
              "              title=\"Convert this dataframe to an interactive table.\"\n",
              "              style=\"display:none;\">\n",
              "        \n",
              "  <svg xmlns=\"http://www.w3.org/2000/svg\" height=\"24px\"viewBox=\"0 0 24 24\"\n",
              "       width=\"24px\">\n",
              "    <path d=\"M0 0h24v24H0V0z\" fill=\"none\"/>\n",
              "    <path d=\"M18.56 5.44l.94 2.06.94-2.06 2.06-.94-2.06-.94-.94-2.06-.94 2.06-2.06.94zm-11 1L8.5 8.5l.94-2.06 2.06-.94-2.06-.94L8.5 2.5l-.94 2.06-2.06.94zm10 10l.94 2.06.94-2.06 2.06-.94-2.06-.94-.94-2.06-.94 2.06-2.06.94z\"/><path d=\"M17.41 7.96l-1.37-1.37c-.4-.4-.92-.59-1.43-.59-.52 0-1.04.2-1.43.59L10.3 9.45l-7.72 7.72c-.78.78-.78 2.05 0 2.83L4 21.41c.39.39.9.59 1.41.59.51 0 1.02-.2 1.41-.59l7.78-7.78 2.81-2.81c.8-.78.8-2.07 0-2.86zM5.41 20L4 18.59l7.72-7.72 1.47 1.35L5.41 20z\"/>\n",
              "  </svg>\n",
              "      </button>\n",
              "      \n",
              "  <style>\n",
              "    .colab-df-container {\n",
              "      display:flex;\n",
              "      flex-wrap:wrap;\n",
              "      gap: 12px;\n",
              "    }\n",
              "\n",
              "    .colab-df-convert {\n",
              "      background-color: #E8F0FE;\n",
              "      border: none;\n",
              "      border-radius: 50%;\n",
              "      cursor: pointer;\n",
              "      display: none;\n",
              "      fill: #1967D2;\n",
              "      height: 32px;\n",
              "      padding: 0 0 0 0;\n",
              "      width: 32px;\n",
              "    }\n",
              "\n",
              "    .colab-df-convert:hover {\n",
              "      background-color: #E2EBFA;\n",
              "      box-shadow: 0px 1px 2px rgba(60, 64, 67, 0.3), 0px 1px 3px 1px rgba(60, 64, 67, 0.15);\n",
              "      fill: #174EA6;\n",
              "    }\n",
              "\n",
              "    [theme=dark] .colab-df-convert {\n",
              "      background-color: #3B4455;\n",
              "      fill: #D2E3FC;\n",
              "    }\n",
              "\n",
              "    [theme=dark] .colab-df-convert:hover {\n",
              "      background-color: #434B5C;\n",
              "      box-shadow: 0px 1px 3px 1px rgba(0, 0, 0, 0.15);\n",
              "      filter: drop-shadow(0px 1px 2px rgba(0, 0, 0, 0.3));\n",
              "      fill: #FFFFFF;\n",
              "    }\n",
              "  </style>\n",
              "\n",
              "      <script>\n",
              "        const buttonEl =\n",
              "          document.querySelector('#df-f698909f-414e-4954-baed-10323dfec0a0 button.colab-df-convert');\n",
              "        buttonEl.style.display =\n",
              "          google.colab.kernel.accessAllowed ? 'block' : 'none';\n",
              "\n",
              "        async function convertToInteractive(key) {\n",
              "          const element = document.querySelector('#df-f698909f-414e-4954-baed-10323dfec0a0');\n",
              "          const dataTable =\n",
              "            await google.colab.kernel.invokeFunction('convertToInteractive',\n",
              "                                                     [key], {});\n",
              "          if (!dataTable) return;\n",
              "\n",
              "          const docLinkHtml = 'Like what you see? Visit the ' +\n",
              "            '<a target=\"_blank\" href=https://colab.research.google.com/notebooks/data_table.ipynb>data table notebook</a>'\n",
              "            + ' to learn more about interactive tables.';\n",
              "          element.innerHTML = '';\n",
              "          dataTable['output_type'] = 'display_data';\n",
              "          await google.colab.output.renderOutput(dataTable, element);\n",
              "          const docLink = document.createElement('div');\n",
              "          docLink.innerHTML = docLinkHtml;\n",
              "          element.appendChild(docLink);\n",
              "        }\n",
              "      </script>\n",
              "    </div>\n",
              "  </div>\n",
              "  "
            ]
          },
          "metadata": {},
          "execution_count": 27
        }
      ]
    },
    {
      "cell_type": "code",
      "source": [
        "import_sales = pd.read_excel(\"./Sales_Volume_EUAA_Analytics.xlsx\", sheet_name = 0, skiprows = 28)\n",
        "import_sales.head(2)"
      ],
      "metadata": {
        "colab": {
          "base_uri": "https://localhost:8080/",
          "height": 298
        },
        "id": "anhArPd6H20d",
        "outputId": "8f759756-b7e0-4535-98f6-bb4b3bb858fd"
      },
      "execution_count": 28,
      "outputs": [
        {
          "output_type": "execute_result",
          "data": {
            "text/plain": [
              "  2019-09-01 00:00:00 Account: Reporting Country  ↑ Date Received Accession #  \\\n",
              "0                 NaN                            BR     9/30/2019    A0198807   \n",
              "1  1 EUR = 1.1048 USD                           NaN     9/18/2019    A0196311   \n",
              "\n",
              "  Account: Account Name      Contact: Full Name      Billing Type  \\\n",
              "0    Rede D'Or Hospital  Maria Ignez Braghiroli  Self-Pay Patient   \n",
              "1    Rede D'Or Hospital              Milena Mak  Self-Pay Patient   \n",
              "\n",
              "  Final Report Date Invoiced Ammount Expected Amount $ Invoiced/In Prg. FOC  \\\n",
              "0         10/6/2019                0                 0              NaN   x   \n",
              "1         9/26/2019                0                 0              NaN   x   \n",
              "\n",
              "  Collected Unnamed: 13  Unnamed: 14  Unnamed: 15  Total  1943954.40925  \n",
              "0       NaN         NaN          NaN          NaN    NaN            NaN  \n",
              "1       NaN         NaN          NaN          NaN    NaN            NaN  "
            ],
            "text/html": [
              "\n",
              "  <div id=\"df-2b7e1a80-0d39-426a-b198-79e84891ad92\">\n",
              "    <div class=\"colab-df-container\">\n",
              "      <div>\n",
              "<style scoped>\n",
              "    .dataframe tbody tr th:only-of-type {\n",
              "        vertical-align: middle;\n",
              "    }\n",
              "\n",
              "    .dataframe tbody tr th {\n",
              "        vertical-align: top;\n",
              "    }\n",
              "\n",
              "    .dataframe thead th {\n",
              "        text-align: right;\n",
              "    }\n",
              "</style>\n",
              "<table border=\"1\" class=\"dataframe\">\n",
              "  <thead>\n",
              "    <tr style=\"text-align: right;\">\n",
              "      <th></th>\n",
              "      <th>2019-09-01 00:00:00</th>\n",
              "      <th>Account: Reporting Country  ↑</th>\n",
              "      <th>Date Received</th>\n",
              "      <th>Accession #</th>\n",
              "      <th>Account: Account Name</th>\n",
              "      <th>Contact: Full Name</th>\n",
              "      <th>Billing Type</th>\n",
              "      <th>Final Report Date</th>\n",
              "      <th>Invoiced Ammount</th>\n",
              "      <th>Expected Amount $</th>\n",
              "      <th>Invoiced/In Prg.</th>\n",
              "      <th>FOC</th>\n",
              "      <th>Collected</th>\n",
              "      <th>Unnamed: 13</th>\n",
              "      <th>Unnamed: 14</th>\n",
              "      <th>Unnamed: 15</th>\n",
              "      <th>Total</th>\n",
              "      <th>1943954.40925</th>\n",
              "    </tr>\n",
              "  </thead>\n",
              "  <tbody>\n",
              "    <tr>\n",
              "      <th>0</th>\n",
              "      <td>NaN</td>\n",
              "      <td>BR</td>\n",
              "      <td>9/30/2019</td>\n",
              "      <td>A0198807</td>\n",
              "      <td>Rede D'Or Hospital</td>\n",
              "      <td>Maria Ignez Braghiroli</td>\n",
              "      <td>Self-Pay Patient</td>\n",
              "      <td>10/6/2019</td>\n",
              "      <td>0</td>\n",
              "      <td>0</td>\n",
              "      <td>NaN</td>\n",
              "      <td>x</td>\n",
              "      <td>NaN</td>\n",
              "      <td>NaN</td>\n",
              "      <td>NaN</td>\n",
              "      <td>NaN</td>\n",
              "      <td>NaN</td>\n",
              "      <td>NaN</td>\n",
              "    </tr>\n",
              "    <tr>\n",
              "      <th>1</th>\n",
              "      <td>1 EUR = 1.1048 USD</td>\n",
              "      <td>NaN</td>\n",
              "      <td>9/18/2019</td>\n",
              "      <td>A0196311</td>\n",
              "      <td>Rede D'Or Hospital</td>\n",
              "      <td>Milena Mak</td>\n",
              "      <td>Self-Pay Patient</td>\n",
              "      <td>9/26/2019</td>\n",
              "      <td>0</td>\n",
              "      <td>0</td>\n",
              "      <td>NaN</td>\n",
              "      <td>x</td>\n",
              "      <td>NaN</td>\n",
              "      <td>NaN</td>\n",
              "      <td>NaN</td>\n",
              "      <td>NaN</td>\n",
              "      <td>NaN</td>\n",
              "      <td>NaN</td>\n",
              "    </tr>\n",
              "  </tbody>\n",
              "</table>\n",
              "</div>\n",
              "      <button class=\"colab-df-convert\" onclick=\"convertToInteractive('df-2b7e1a80-0d39-426a-b198-79e84891ad92')\"\n",
              "              title=\"Convert this dataframe to an interactive table.\"\n",
              "              style=\"display:none;\">\n",
              "        \n",
              "  <svg xmlns=\"http://www.w3.org/2000/svg\" height=\"24px\"viewBox=\"0 0 24 24\"\n",
              "       width=\"24px\">\n",
              "    <path d=\"M0 0h24v24H0V0z\" fill=\"none\"/>\n",
              "    <path d=\"M18.56 5.44l.94 2.06.94-2.06 2.06-.94-2.06-.94-.94-2.06-.94 2.06-2.06.94zm-11 1L8.5 8.5l.94-2.06 2.06-.94-2.06-.94L8.5 2.5l-.94 2.06-2.06.94zm10 10l.94 2.06.94-2.06 2.06-.94-2.06-.94-.94-2.06-.94 2.06-2.06.94z\"/><path d=\"M17.41 7.96l-1.37-1.37c-.4-.4-.92-.59-1.43-.59-.52 0-1.04.2-1.43.59L10.3 9.45l-7.72 7.72c-.78.78-.78 2.05 0 2.83L4 21.41c.39.39.9.59 1.41.59.51 0 1.02-.2 1.41-.59l7.78-7.78 2.81-2.81c.8-.78.8-2.07 0-2.86zM5.41 20L4 18.59l7.72-7.72 1.47 1.35L5.41 20z\"/>\n",
              "  </svg>\n",
              "      </button>\n",
              "      \n",
              "  <style>\n",
              "    .colab-df-container {\n",
              "      display:flex;\n",
              "      flex-wrap:wrap;\n",
              "      gap: 12px;\n",
              "    }\n",
              "\n",
              "    .colab-df-convert {\n",
              "      background-color: #E8F0FE;\n",
              "      border: none;\n",
              "      border-radius: 50%;\n",
              "      cursor: pointer;\n",
              "      display: none;\n",
              "      fill: #1967D2;\n",
              "      height: 32px;\n",
              "      padding: 0 0 0 0;\n",
              "      width: 32px;\n",
              "    }\n",
              "\n",
              "    .colab-df-convert:hover {\n",
              "      background-color: #E2EBFA;\n",
              "      box-shadow: 0px 1px 2px rgba(60, 64, 67, 0.3), 0px 1px 3px 1px rgba(60, 64, 67, 0.15);\n",
              "      fill: #174EA6;\n",
              "    }\n",
              "\n",
              "    [theme=dark] .colab-df-convert {\n",
              "      background-color: #3B4455;\n",
              "      fill: #D2E3FC;\n",
              "    }\n",
              "\n",
              "    [theme=dark] .colab-df-convert:hover {\n",
              "      background-color: #434B5C;\n",
              "      box-shadow: 0px 1px 3px 1px rgba(0, 0, 0, 0.15);\n",
              "      filter: drop-shadow(0px 1px 2px rgba(0, 0, 0, 0.3));\n",
              "      fill: #FFFFFF;\n",
              "    }\n",
              "  </style>\n",
              "\n",
              "      <script>\n",
              "        const buttonEl =\n",
              "          document.querySelector('#df-2b7e1a80-0d39-426a-b198-79e84891ad92 button.colab-df-convert');\n",
              "        buttonEl.style.display =\n",
              "          google.colab.kernel.accessAllowed ? 'block' : 'none';\n",
              "\n",
              "        async function convertToInteractive(key) {\n",
              "          const element = document.querySelector('#df-2b7e1a80-0d39-426a-b198-79e84891ad92');\n",
              "          const dataTable =\n",
              "            await google.colab.kernel.invokeFunction('convertToInteractive',\n",
              "                                                     [key], {});\n",
              "          if (!dataTable) return;\n",
              "\n",
              "          const docLinkHtml = 'Like what you see? Visit the ' +\n",
              "            '<a target=\"_blank\" href=https://colab.research.google.com/notebooks/data_table.ipynb>data table notebook</a>'\n",
              "            + ' to learn more about interactive tables.';\n",
              "          element.innerHTML = '';\n",
              "          dataTable['output_type'] = 'display_data';\n",
              "          await google.colab.output.renderOutput(dataTable, element);\n",
              "          const docLink = document.createElement('div');\n",
              "          docLink.innerHTML = docLinkHtml;\n",
              "          element.appendChild(docLink);\n",
              "        }\n",
              "      </script>\n",
              "    </div>\n",
              "  </div>\n",
              "  "
            ]
          },
          "metadata": {},
          "execution_count": 28
        }
      ]
    },
    {
      "cell_type": "markdown",
      "source": [
        "#### Cleaning up the spreadsheet with the revenue information"
      ],
      "metadata": {
        "id": "3-IAfbhwhCqq"
      }
    },
    {
      "cell_type": "code",
      "source": [
        "# Select only rows that start with A0\n",
        "#mask_remove sum columns - (i) remove NA ib Accession columns (ii) remove rows with no \"A0\"\n",
        "#Remove first columns\n",
        "#Convert received and final report date to datetime objects"
      ],
      "metadata": {
        "id": "Qo7yDribET5R"
      },
      "execution_count": 29,
      "outputs": []
    },
    {
      "cell_type": "code",
      "source": [
        "\n"
      ],
      "metadata": {
        "id": "eWCDpbZuAN1k"
      },
      "execution_count": 30,
      "outputs": []
    },
    {
      "cell_type": "code",
      "source": [
        "mask_isna = import_sales['Accession #'].isna()"
      ],
      "metadata": {
        "id": "u-GZJby0iOh3"
      },
      "execution_count": 31,
      "outputs": []
    },
    {
      "cell_type": "code",
      "source": [
        "import_sales = import_sales[~mask_isna]"
      ],
      "metadata": {
        "id": "BAZX-mD_jMZu"
      },
      "execution_count": 32,
      "outputs": []
    },
    {
      "cell_type": "code",
      "source": [
        "mask_startswith = import_sales['Accession #'].str.startswith(\"A0\")"
      ],
      "metadata": {
        "id": "bAKfLMpfkkvz"
      },
      "execution_count": 35,
      "outputs": []
    },
    {
      "cell_type": "code",
      "source": [
        "import_sales = import_sales[mask_startswith]\n",
        "import_sales = import_sales.drop([import_sales.columns[0]], axis = 1)"
      ],
      "metadata": {
        "id": "mH10QHgglbux"
      },
      "execution_count": 39,
      "outputs": []
    },
    {
      "cell_type": "code",
      "source": [
        "import_sales[\"Date Received\"] = pd.to_datetime(import_sales[\"Date Received\"])"
      ],
      "metadata": {
        "id": "3UNmXX61oiTo"
      },
      "execution_count": 48,
      "outputs": []
    },
    {
      "cell_type": "markdown",
      "source": [],
      "metadata": {
        "id": "El-Wf_2-pcBq"
      }
    },
    {
      "cell_type": "code",
      "source": [
        "import_sales[\"Expected Amount $\"]"
      ],
      "metadata": {
        "colab": {
          "base_uri": "https://localhost:8080/"
        },
        "id": "0EId9yxFojH4",
        "outputId": "63b6a9ca-65a6-4c5e-cbf7-b16c1d96648d"
      },
      "execution_count": 51,
      "outputs": [
        {
          "output_type": "execute_result",
          "data": {
            "text/plain": [
              "0                                           0\n",
              "1                                           0\n",
              "3                                        3490\n",
              "4                                        3490\n",
              "6                                        3490\n",
              "                        ...                  \n",
              "4173    Accounts Receivable  - G360 - 83 GENE\n",
              "4174                     Accounts Receivable \n",
              "4175                     Accounts Receivable \n",
              "4176             G360 Experience Project 7/15\n",
              "4177    Accounts Receivable  - G360 - 83 GENE\n",
              "Name: Expected Amount $, Length: 3660, dtype: object"
            ]
          },
          "metadata": {},
          "execution_count": 51
        }
      ]
    },
    {
      "cell_type": "code",
      "source": [],
      "metadata": {
        "id": "oUeUaHz5okQF"
      },
      "execution_count": null,
      "outputs": []
    },
    {
      "cell_type": "code",
      "source": [
        "import_sales.info()"
      ],
      "metadata": {
        "colab": {
          "base_uri": "https://localhost:8080/"
        },
        "id": "Qx-QpOUpny-n",
        "outputId": "82e1e43c-7de9-4257-af43-31dcc93270ba"
      },
      "execution_count": 49,
      "outputs": [
        {
          "output_type": "stream",
          "name": "stdout",
          "text": [
            "<class 'pandas.core.frame.DataFrame'>\n",
            "Int64Index: 3660 entries, 0 to 4177\n",
            "Data columns (total 17 columns):\n",
            " #   Column                         Non-Null Count  Dtype         \n",
            "---  ------                         --------------  -----         \n",
            " 0   Account: Reporting Country  ↑  404 non-null    object        \n",
            " 1   Date Received                  3660 non-null   datetime64[ns]\n",
            " 2   Accession #                    3660 non-null   object        \n",
            " 3   Account: Account Name          3660 non-null   object        \n",
            " 4   Contact: Full Name             3659 non-null   object        \n",
            " 5   Billing Type                   3660 non-null   object        \n",
            " 6   Final Report Date              3424 non-null   object        \n",
            " 7   Invoiced Ammount               3639 non-null   object        \n",
            " 8   Expected Amount $              2467 non-null   object        \n",
            " 9   Invoiced/In Prg.               361 non-null    object        \n",
            " 10  FOC                            716 non-null    object        \n",
            " 11  Collected                      1239 non-null   object        \n",
            " 12  Unnamed: 13                    3 non-null      object        \n",
            " 13  Unnamed: 14                    1 non-null      float64       \n",
            " 14  Unnamed: 15                    0 non-null      float64       \n",
            " 15  Total                          0 non-null      float64       \n",
            " 16  1943954.40925                  0 non-null      float64       \n",
            "dtypes: datetime64[ns](1), float64(4), object(12)\n",
            "memory usage: 514.7+ KB\n"
          ]
        }
      ]
    },
    {
      "cell_type": "code",
      "source": [
        "import_sales.shape, import_sfdc.shape"
      ],
      "metadata": {
        "colab": {
          "base_uri": "https://localhost:8080/"
        },
        "id": "lSchjU_ZoCnm",
        "outputId": "b1c34436-e073-4e80-e06c-d88283269cf0"
      },
      "execution_count": 57,
      "outputs": [
        {
          "output_type": "execute_result",
          "data": {
            "text/plain": [
              "((3660, 17), (14982, 10))"
            ]
          },
          "metadata": {},
          "execution_count": 57
        }
      ]
    },
    {
      "cell_type": "code",
      "source": [
        "import_sales.merge()"
      ],
      "metadata": {
        "id": "akW-_UwBjbaR"
      },
      "execution_count": 33,
      "outputs": []
    },
    {
      "cell_type": "code",
      "source": [],
      "metadata": {
        "id": "TpcRGKrijbiu"
      },
      "execution_count": 33,
      "outputs": []
    },
    {
      "cell_type": "code",
      "source": [],
      "metadata": {
        "id": "GUQx6iKEjbu5"
      },
      "execution_count": 33,
      "outputs": []
    }
  ]
}