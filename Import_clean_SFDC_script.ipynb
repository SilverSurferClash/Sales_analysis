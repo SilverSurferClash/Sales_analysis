{
  "nbformat": 4,
  "nbformat_minor": 0,
  "metadata": {
    "colab": {
      "provenance": [],
      "collapsed_sections": [],
      "mount_file_id": "1TQXXPnFQWIdLAN3OjU1DfPxwMMCygS82",
      "authorship_tag": "ABX9TyMjccAWgKVnceMzjkO5Iui/",
      "include_colab_link": true
    },
    "kernelspec": {
      "name": "python3",
      "display_name": "Python 3"
    },
    "language_info": {
      "name": "python"
    }
  },
  "cells": [
    {
      "cell_type": "markdown",
      "metadata": {
        "id": "view-in-github",
        "colab_type": "text"
      },
      "source": [
        "<a href=\"https://colab.research.google.com/github/SilverSurferClash/Sales_analysis/blob/main/Import_clean_SFDC_script.ipynb\" target=\"_parent\"><img src=\"https://colab.research.google.com/assets/colab-badge.svg\" alt=\"Open In Colab\"/></a>"
      ]
    },
    {
      "cell_type": "code",
      "execution_count": 1,
      "metadata": {
        "colab": {
          "base_uri": "https://localhost:8080/"
        },
        "id": "tb4gPZsURoZL",
        "outputId": "4a08bf1b-f201-461d-cafd-96732b6f0e12"
      },
      "outputs": [
        {
          "output_type": "stream",
          "name": "stdout",
          "text": [
            "Drive already mounted at /content/drive; to attempt to forcibly remount, call drive.mount(\"/content/drive\", force_remount=True).\n"
          ]
        }
      ],
      "source": [
        "from google.colab import drive\n",
        "drive.mount('/content/drive')"
      ]
    },
    {
      "cell_type": "code",
      "source": [
        "#!pip freeze > requirements.txt"
      ],
      "metadata": {
        "id": "-mgME99mR4O6"
      },
      "execution_count": 2,
      "outputs": []
    },
    {
      "cell_type": "code",
      "source": [
        "import numpy as np\n",
        "import pandas as pd\n",
        "import matplotlib.pyplot as plt\n",
        "plt.style.use('dark_background')\n",
        "import seaborn as sns\n",
        "import os\n",
        "pd.set_option('display.max_columns', None)\n",
        "#pd.set_option('display.max_rows', None)\n",
        "pd.set_option('display.precision', 2)\n",
        "#Use option to round floats to two decimals\n",
        "#pd.set_option('display.float_format',  '{:,.2f}'.format)\n",
        "# Use option to display $ dollars\n",
        "#pd.set_option('display.float_format', '${:.2f}'.format)\n",
        "\n",
        "# Plotting pretty figures and avoid blurry images\n",
        "#%config InlineBackend.figure_format = 'retina'\n",
        "# Larger scale for plots in notebooks\n",
        "#sns.set_context('notebook')\n",
        "\n",
        "\n",
        "# Enable multiple cell outputs\n",
        "#from IPython.core.interactiveshell import InteractiveShell\n",
        "#InteractiveShell.ast_node_interactivity = 'all'\n",
        "\n",
        "import warnings\n",
        "warnings.filterwarnings('ignore')              \n"
      ],
      "metadata": {
        "id": "_GQ-qUZJo8VP"
      },
      "execution_count": 3,
      "outputs": []
    },
    {
      "cell_type": "code",
      "source": [
        "os.getcwd()"
      ],
      "metadata": {
        "colab": {
          "base_uri": "https://localhost:8080/",
          "height": 36
        },
        "id": "G8E9lAf0o9MA",
        "outputId": "62914e02-6aaf-48af-a871-a84c6e9d8f27"
      },
      "execution_count": 4,
      "outputs": [
        {
          "output_type": "execute_result",
          "data": {
            "text/plain": [
              "'/content'"
            ],
            "application/vnd.google.colaboratory.intrinsic+json": {
              "type": "string"
            }
          },
          "metadata": {},
          "execution_count": 4
        }
      ]
    },
    {
      "cell_type": "code",
      "source": [
        "os.chdir(\"/content/drive/MyDrive/Colab_Notebooks/Sales_Analysis\")"
      ],
      "metadata": {
        "id": "yFwfXOr-G3CK"
      },
      "execution_count": 5,
      "outputs": []
    },
    {
      "cell_type": "markdown",
      "source": [
        "Import helper data"
      ],
      "metadata": {
        "id": "3Hna78HQrh41"
      }
    },
    {
      "cell_type": "code",
      "source": [
        "#Import lookup table for countries\n",
        "lookup_countries = pd.read_excel(\"./lookup.xlsx\", sheet_name = 0)\n",
        "#Import the data from SFDC as a excel file\n",
        "import_sfdc = pd.read_excel(\"./All Data EUAA-2022-10-25-12-29-00.xlsx\", sheet_name = 0, \n",
        "                            skiprows = 10)\n",
        "#Create dictionairy for maping the lookup value\n",
        "country_dict = dict(zip(lookup_countries[\"Reporting_Country_short\"], lookup_countries[\"Account_Reporting_Country\"]))\n",
        "#Import lookup table for countries\n",
        "lookup_type = pd.read_excel(\"./lookup.xlsx\", sheet_name = \"Type\")\n",
        "#Create dictionairy for maping the lookup values for LIMS ID\n",
        "type_dict = dict(zip(lookup_type[\"LIMS Project ID\"], lookup_type[\"Type\"]))\n"
      ],
      "metadata": {
        "id": "sYKe6D1GrnoC"
      },
      "execution_count": 8,
      "outputs": []
    },
    {
      "cell_type": "code",
      "source": [
        "#Identify which LIMS id are not in the lookup\n",
        "unique_LIMS_id = list(set(import_sfdc[\"LIMS Project ID\"]))\n",
        "unique_lookup_id = list(set(lookup_type[\"LIMS Project ID\"]))\n",
        "list(set(unique_LIMS_id) - set(unique_lookup_id ))"
      ],
      "metadata": {
        "colab": {
          "base_uri": "https://localhost:8080/"
        },
        "id": "UzwivZuDOvd8",
        "outputId": "897ff59c-d7a1-4bbe-89aa-60754b80a4fb"
      },
      "execution_count": 9,
      "outputs": [
        {
          "output_type": "execute_result",
          "data": {
            "text/plain": [
              "[nan, 'AZN_test_96', 'OCT_1R', 'GAP_04', 'JNS_01', 'RHI_04', 'GAP_09']"
            ]
          },
          "metadata": {},
          "execution_count": 9
        }
      ]
    },
    {
      "cell_type": "markdown",
      "source": [
        "#### Import and clean up the data from SFDC"
      ],
      "metadata": {
        "id": "uE-5D5zNmZnR"
      }
    },
    {
      "cell_type": "code",
      "source": [
        "\n",
        "#Remove the first two columns\n",
        "import_sfdc = import_sfdc.drop([\"Unnamed: 0\", \"Unnamed: 2\"], axis = 1)\n",
        "#Drop the last five rows\n",
        "import_sfdc = import_sfdc.iloc[0:-5]\n",
        "#Cast Date Received to datetime object \n",
        "import_sfdc[\"Date Received\"] = pd.to_datetime(import_sfdc[\"Date Received\"])\n",
        "#Replace the two letter country code with the full country name\n",
        "import_sfdc[\"Reporting Country\"] = import_sfdc[\"Reporting Country\"].map(country_dict)\n",
        "\n",
        "#import_sfdc.tail(6)\n",
        "import_sfdc.info()"
      ],
      "metadata": {
        "colab": {
          "base_uri": "https://localhost:8080/"
        },
        "id": "n3dl5NF1HsVJ",
        "outputId": "d536ff03-96c9-473f-d67c-49a1a0dfac0a"
      },
      "execution_count": 10,
      "outputs": [
        {
          "output_type": "stream",
          "name": "stdout",
          "text": [
            "<class 'pandas.core.frame.DataFrame'>\n",
            "RangeIndex: 14977 entries, 0 to 14976\n",
            "Data columns (total 10 columns):\n",
            " #   Column                 Non-Null Count  Dtype         \n",
            "---  ------                 --------------  -----         \n",
            " 0   Accession #            14977 non-null  object        \n",
            " 1   Reporting Country      14977 non-null  object        \n",
            " 2   Billing Type           14949 non-null  object        \n",
            " 3   LIMS Project ID        14977 non-null  object        \n",
            " 4   Account: Account Name  14977 non-null  object        \n",
            " 5   Contact: Full Name     14977 non-null  object        \n",
            " 6   Date Received          14977 non-null  datetime64[ns]\n",
            " 7   Final Report Date      13479 non-null  object        \n",
            " 8   Test Type              14977 non-null  object        \n",
            " 9   Cancer Type            14538 non-null  object        \n",
            "dtypes: datetime64[ns](1), object(9)\n",
            "memory usage: 1.1+ MB\n"
          ]
        }
      ]
    },
    {
      "cell_type": "code",
      "source": [
        "import_sfdc.sample(1)"
      ],
      "metadata": {
        "colab": {
          "base_uri": "https://localhost:8080/",
          "height": 229
        },
        "id": "gae4FY8E4xbi",
        "outputId": "c1da2089-e711-4cde-c4d6-bb06167bf8c3"
      },
      "execution_count": 11,
      "outputs": [
        {
          "output_type": "execute_result",
          "data": {
            "text/plain": [
              "     Accession # Reporting Country        Billing Type LIMS Project ID  \\\n",
              "6110    A0309999    UNITED KINGDOM  Self-Pay Sponsored          GHI_01   \n",
              "\n",
              "                       Account: Account Name Contact: Full Name Date Received  \\\n",
              "6110  The Royal Marsden NHS Foundation Trust          Ian Smith    2020-12-05   \n",
              "\n",
              "     Final Report Date     Test Type       Cancer Type  \n",
              "6110        12/12/2020  Guardant 360  Breast Carcinoma  "
            ],
            "text/html": [
              "\n",
              "  <div id=\"df-e0abf623-798c-4240-a106-d3368862ae80\">\n",
              "    <div class=\"colab-df-container\">\n",
              "      <div>\n",
              "<style scoped>\n",
              "    .dataframe tbody tr th:only-of-type {\n",
              "        vertical-align: middle;\n",
              "    }\n",
              "\n",
              "    .dataframe tbody tr th {\n",
              "        vertical-align: top;\n",
              "    }\n",
              "\n",
              "    .dataframe thead th {\n",
              "        text-align: right;\n",
              "    }\n",
              "</style>\n",
              "<table border=\"1\" class=\"dataframe\">\n",
              "  <thead>\n",
              "    <tr style=\"text-align: right;\">\n",
              "      <th></th>\n",
              "      <th>Accession #</th>\n",
              "      <th>Reporting Country</th>\n",
              "      <th>Billing Type</th>\n",
              "      <th>LIMS Project ID</th>\n",
              "      <th>Account: Account Name</th>\n",
              "      <th>Contact: Full Name</th>\n",
              "      <th>Date Received</th>\n",
              "      <th>Final Report Date</th>\n",
              "      <th>Test Type</th>\n",
              "      <th>Cancer Type</th>\n",
              "    </tr>\n",
              "  </thead>\n",
              "  <tbody>\n",
              "    <tr>\n",
              "      <th>6110</th>\n",
              "      <td>A0309999</td>\n",
              "      <td>UNITED KINGDOM</td>\n",
              "      <td>Self-Pay Sponsored</td>\n",
              "      <td>GHI_01</td>\n",
              "      <td>The Royal Marsden NHS Foundation Trust</td>\n",
              "      <td>Ian Smith</td>\n",
              "      <td>2020-12-05</td>\n",
              "      <td>12/12/2020</td>\n",
              "      <td>Guardant 360</td>\n",
              "      <td>Breast Carcinoma</td>\n",
              "    </tr>\n",
              "  </tbody>\n",
              "</table>\n",
              "</div>\n",
              "      <button class=\"colab-df-convert\" onclick=\"convertToInteractive('df-e0abf623-798c-4240-a106-d3368862ae80')\"\n",
              "              title=\"Convert this dataframe to an interactive table.\"\n",
              "              style=\"display:none;\">\n",
              "        \n",
              "  <svg xmlns=\"http://www.w3.org/2000/svg\" height=\"24px\"viewBox=\"0 0 24 24\"\n",
              "       width=\"24px\">\n",
              "    <path d=\"M0 0h24v24H0V0z\" fill=\"none\"/>\n",
              "    <path d=\"M18.56 5.44l.94 2.06.94-2.06 2.06-.94-2.06-.94-.94-2.06-.94 2.06-2.06.94zm-11 1L8.5 8.5l.94-2.06 2.06-.94-2.06-.94L8.5 2.5l-.94 2.06-2.06.94zm10 10l.94 2.06.94-2.06 2.06-.94-2.06-.94-.94-2.06-.94 2.06-2.06.94z\"/><path d=\"M17.41 7.96l-1.37-1.37c-.4-.4-.92-.59-1.43-.59-.52 0-1.04.2-1.43.59L10.3 9.45l-7.72 7.72c-.78.78-.78 2.05 0 2.83L4 21.41c.39.39.9.59 1.41.59.51 0 1.02-.2 1.41-.59l7.78-7.78 2.81-2.81c.8-.78.8-2.07 0-2.86zM5.41 20L4 18.59l7.72-7.72 1.47 1.35L5.41 20z\"/>\n",
              "  </svg>\n",
              "      </button>\n",
              "      \n",
              "  <style>\n",
              "    .colab-df-container {\n",
              "      display:flex;\n",
              "      flex-wrap:wrap;\n",
              "      gap: 12px;\n",
              "    }\n",
              "\n",
              "    .colab-df-convert {\n",
              "      background-color: #E8F0FE;\n",
              "      border: none;\n",
              "      border-radius: 50%;\n",
              "      cursor: pointer;\n",
              "      display: none;\n",
              "      fill: #1967D2;\n",
              "      height: 32px;\n",
              "      padding: 0 0 0 0;\n",
              "      width: 32px;\n",
              "    }\n",
              "\n",
              "    .colab-df-convert:hover {\n",
              "      background-color: #E2EBFA;\n",
              "      box-shadow: 0px 1px 2px rgba(60, 64, 67, 0.3), 0px 1px 3px 1px rgba(60, 64, 67, 0.15);\n",
              "      fill: #174EA6;\n",
              "    }\n",
              "\n",
              "    [theme=dark] .colab-df-convert {\n",
              "      background-color: #3B4455;\n",
              "      fill: #D2E3FC;\n",
              "    }\n",
              "\n",
              "    [theme=dark] .colab-df-convert:hover {\n",
              "      background-color: #434B5C;\n",
              "      box-shadow: 0px 1px 3px 1px rgba(0, 0, 0, 0.15);\n",
              "      filter: drop-shadow(0px 1px 2px rgba(0, 0, 0, 0.3));\n",
              "      fill: #FFFFFF;\n",
              "    }\n",
              "  </style>\n",
              "\n",
              "      <script>\n",
              "        const buttonEl =\n",
              "          document.querySelector('#df-e0abf623-798c-4240-a106-d3368862ae80 button.colab-df-convert');\n",
              "        buttonEl.style.display =\n",
              "          google.colab.kernel.accessAllowed ? 'block' : 'none';\n",
              "\n",
              "        async function convertToInteractive(key) {\n",
              "          const element = document.querySelector('#df-e0abf623-798c-4240-a106-d3368862ae80');\n",
              "          const dataTable =\n",
              "            await google.colab.kernel.invokeFunction('convertToInteractive',\n",
              "                                                     [key], {});\n",
              "          if (!dataTable) return;\n",
              "\n",
              "          const docLinkHtml = 'Like what you see? Visit the ' +\n",
              "            '<a target=\"_blank\" href=https://colab.research.google.com/notebooks/data_table.ipynb>data table notebook</a>'\n",
              "            + ' to learn more about interactive tables.';\n",
              "          element.innerHTML = '';\n",
              "          dataTable['output_type'] = 'display_data';\n",
              "          await google.colab.output.renderOutput(dataTable, element);\n",
              "          const docLink = document.createElement('div');\n",
              "          docLink.innerHTML = docLinkHtml;\n",
              "          element.appendChild(docLink);\n",
              "        }\n",
              "      </script>\n",
              "    </div>\n",
              "  </div>\n",
              "  "
            ]
          },
          "metadata": {},
          "execution_count": 11
        }
      ]
    },
    {
      "cell_type": "markdown",
      "source": [
        "#### Explore the data"
      ],
      "metadata": {
        "id": "gNOxiwsLmsmv"
      }
    },
    {
      "cell_type": "code",
      "source": [
        "import_sfdc[\"Reporting Country\"].value_counts()"
      ],
      "metadata": {
        "colab": {
          "base_uri": "https://localhost:8080/"
        },
        "id": "_r6H5ga-m6my",
        "outputId": "08e2ab5c-a51d-44f2-f380-c56056ee94df"
      },
      "execution_count": 12,
      "outputs": [
        {
          "output_type": "execute_result",
          "data": {
            "text/plain": [
              "SPAIN              4759\n",
              "UNITED KINGDOM     3360\n",
              "FRANCE             1367\n",
              "ITALY              1210\n",
              "CANADA              853\n",
              "TURKEY              694\n",
              "GERMANY             577\n",
              "BRAZIL              479\n",
              "POLAND              287\n",
              "BELGIUM             268\n",
              "HUNGARY             153\n",
              "AUSTRIA             142\n",
              "SWITZERLAND         127\n",
              "MEXICO              112\n",
              "IRELAND             110\n",
              "CHILE                74\n",
              "ARGENTINA            66\n",
              "FINLAND              55\n",
              "BELARUS              52\n",
              "PORTUGAL             48\n",
              "GREECE               39\n",
              "UKRAINE              35\n",
              "NETHERLANDS          33\n",
              "DENMARK              13\n",
              "PERU                 13\n",
              "LITHUANIA            11\n",
              "CZECH REPUBLIC       10\n",
              "SWEDEN                9\n",
              "SLOVENIA              7\n",
              "ROMANIA               5\n",
              "COLOMBIA              4\n",
              "NORTH MACEDONIA       2\n",
              "CROATIA               1\n",
              "LUXEMBOURG            1\n",
              "COSTA RICA            1\n",
              "Name: Reporting Country, dtype: int64"
            ]
          },
          "metadata": {},
          "execution_count": 12
        }
      ]
    },
    {
      "cell_type": "code",
      "source": [
        "import_sfdc[\"Type\"] = import_sfdc[\"LIMS Project ID\"].map(type_dict)"
      ],
      "metadata": {
        "id": "bZ9t_KZ8PYe_"
      },
      "execution_count": 20,
      "outputs": []
    },
    {
      "cell_type": "code",
      "source": [
        "import_sfdc.Type.value_counts()"
      ],
      "metadata": {
        "colab": {
          "base_uri": "https://localhost:8080/"
        },
        "id": "idTr7unZviax",
        "outputId": "a2391900-3723-4871-f899-8c499e87c11f"
      },
      "execution_count": 19,
      "outputs": [
        {
          "output_type": "execute_result",
          "data": {
            "text/plain": [
              "Biopharma                  6305\n",
              "Commercial                 3859\n",
              "Lunar                      1801\n",
              "GAP                        1778\n",
              "GH Trials (Prospective)    1130\n",
              "Name: Type, dtype: int64"
            ]
          },
          "metadata": {},
          "execution_count": 19
        }
      ]
    },
    {
      "cell_type": "code",
      "source": [
        "import_sfdc.info()"
      ],
      "metadata": {
        "colab": {
          "base_uri": "https://localhost:8080/"
        },
        "id": "jD4uUsKEvh0Z",
        "outputId": "fbaec15f-3f9b-4461-f9b6-64eb9a572b96"
      },
      "execution_count": 21,
      "outputs": [
        {
          "output_type": "stream",
          "name": "stdout",
          "text": [
            "<class 'pandas.core.frame.DataFrame'>\n",
            "RangeIndex: 14977 entries, 0 to 14976\n",
            "Data columns (total 11 columns):\n",
            " #   Column                 Non-Null Count  Dtype         \n",
            "---  ------                 --------------  -----         \n",
            " 0   Accession #            14977 non-null  object        \n",
            " 1   Reporting Country      14977 non-null  object        \n",
            " 2   Billing Type           14949 non-null  object        \n",
            " 3   LIMS Project ID        14977 non-null  object        \n",
            " 4   Account: Account Name  14977 non-null  object        \n",
            " 5   Contact: Full Name     14977 non-null  object        \n",
            " 6   Date Received          14977 non-null  datetime64[ns]\n",
            " 7   Final Report Date      13479 non-null  object        \n",
            " 8   Test Type              14977 non-null  object        \n",
            " 9   Cancer Type            14538 non-null  object        \n",
            " 10  Type                   14873 non-null  object        \n",
            "dtypes: datetime64[ns](1), object(10)\n",
            "memory usage: 1.3+ MB\n"
          ]
        }
      ]
    },
    {
      "cell_type": "code",
      "source": [
        "import_sfdc[\"Billing Type\"].value_counts()"
      ],
      "metadata": {
        "colab": {
          "base_uri": "https://localhost:8080/"
        },
        "id": "8euku6M1tdCD",
        "outputId": "6b7456f0-bcc9-47db-8abb-af76436b683c"
      },
      "execution_count": 14,
      "outputs": [
        {
          "output_type": "execute_result",
          "data": {
            "text/plain": [
              "Pharma : ROW                              5631\n",
              "Pharma : US                               2370\n",
              "Self-Pay Patient                          1687\n",
              "Distributors : ROW                        1610\n",
              "Do Not Bill - LUNAR                       1199\n",
              "Do Not Bill - Cancelled                    720\n",
              "Clinical Trial : ROW                       685\n",
              "Self-Pay Sponsored                         425\n",
              "Research : ROW                             420\n",
              "Do Not Bill - ROW                          160\n",
              "Other                                       11\n",
              "Do Not Bill - Promotional                   10\n",
              "Private Insurance/Employee Health Plan       8\n",
              "Do Not Bill - Medical Affairs                7\n",
              "Clinical Trial : US                          5\n",
              "Research : US                                1\n",
              "Name: Billing Type, dtype: int64"
            ]
          },
          "metadata": {},
          "execution_count": 14
        }
      ]
    },
    {
      "cell_type": "code",
      "source": [
        "import_sfdc[\"Test Type\"].value_counts()"
      ],
      "metadata": {
        "colab": {
          "base_uri": "https://localhost:8080/"
        },
        "id": "7YPbz6zFN4Sv",
        "outputId": "2bf45420-0e37-4121-d648-d8d5ca5bf5d6"
      },
      "execution_count": 22,
      "outputs": [
        {
          "output_type": "execute_result",
          "data": {
            "text/plain": [
              "Guardant 360            12793\n",
              "LUNAR1_CRC                766\n",
              "LUNAR2                    643\n",
              "LUNAR1_3                  402\n",
              "Guardant360 CDx EU        371\n",
              "Guardant360 Response        1\n",
              "Guardant360 CDx             1\n",
              "Name: Test Type, dtype: int64"
            ]
          },
          "metadata": {},
          "execution_count": 22
        }
      ]
    },
    {
      "cell_type": "code",
      "source": [],
      "metadata": {
        "id": "MY2cLhSOxs2q"
      },
      "execution_count": null,
      "outputs": []
    }
  ]
}