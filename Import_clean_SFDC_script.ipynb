{
  "nbformat": 4,
  "nbformat_minor": 0,
  "metadata": {
    "colab": {
      "provenance": [],
      "collapsed_sections": [],
      "mount_file_id": "1TQXXPnFQWIdLAN3OjU1DfPxwMMCygS82",
      "authorship_tag": "ABX9TyN7qizeV8MU3so9HV1gpt3s",
      "include_colab_link": true
    },
    "kernelspec": {
      "name": "python3",
      "display_name": "Python 3"
    },
    "language_info": {
      "name": "python"
    }
  },
  "cells": [
    {
      "cell_type": "markdown",
      "metadata": {
        "id": "view-in-github",
        "colab_type": "text"
      },
      "source": [
        "<a href=\"https://colab.research.google.com/github/SilverSurferClash/Sales_analysis/blob/main/Import_clean_SFDC_script.ipynb\" target=\"_parent\"><img src=\"https://colab.research.google.com/assets/colab-badge.svg\" alt=\"Open In Colab\"/></a>"
      ]
    },
    {
      "cell_type": "code",
      "execution_count": 237,
      "metadata": {
        "colab": {
          "base_uri": "https://localhost:8080/"
        },
        "id": "tb4gPZsURoZL",
        "outputId": "4ec81da7-7d19-4369-e9a4-4afce52a93a6"
      },
      "outputs": [
        {
          "output_type": "stream",
          "name": "stdout",
          "text": [
            "Drive already mounted at /content/drive; to attempt to forcibly remount, call drive.mount(\"/content/drive\", force_remount=True).\n"
          ]
        }
      ],
      "source": [
        "from google.colab import drive\n",
        "drive.mount('/content/drive')"
      ]
    },
    {
      "cell_type": "code",
      "source": [
        "#!pip freeze > requirements.txt"
      ],
      "metadata": {
        "id": "-mgME99mR4O6"
      },
      "execution_count": 238,
      "outputs": []
    },
    {
      "cell_type": "code",
      "source": [
        "import numpy as np\n",
        "import pandas as pd\n",
        "import matplotlib.pyplot as plt\n",
        "plt.style.use('dark_background')\n",
        "import seaborn as sns\n",
        "import os\n",
        "pd.set_option('display.max_columns', None)\n",
        "#pd.set_option('display.max_rows', None)\n",
        "pd.set_option('display.precision', 2)\n",
        "#Use option to round floats to two decimals\n",
        "#pd.set_option('display.float_format',  '{:,.2f}'.format)\n",
        "# Use option to display $ dollars\n",
        "#pd.set_option('display.float_format', '${:.2f}'.format)\n",
        "\n",
        "# Plotting pretty figures and avoid blurry images\n",
        "#%config InlineBackend.figure_format = 'retina'\n",
        "# Larger scale for plots in notebooks\n",
        "#sns.set_context('notebook')\n",
        "\n",
        "\n",
        "# Enable multiple cell outputs\n",
        "#from IPython.core.interactiveshell import InteractiveShell\n",
        "#InteractiveShell.ast_node_interactivity = 'all'\n",
        "\n",
        "import warnings\n",
        "warnings.filterwarnings('ignore')              \n"
      ],
      "metadata": {
        "id": "_GQ-qUZJo8VP"
      },
      "execution_count": 239,
      "outputs": []
    },
    {
      "cell_type": "code",
      "source": [
        "os.getcwd()"
      ],
      "metadata": {
        "colab": {
          "base_uri": "https://localhost:8080/",
          "height": 35
        },
        "id": "G8E9lAf0o9MA",
        "outputId": "82aca747-2919-430f-838d-d024bd413fd9"
      },
      "execution_count": 240,
      "outputs": [
        {
          "output_type": "execute_result",
          "data": {
            "text/plain": [
              "'/content/drive/My Drive/Colab_Notebooks/Sales_Analysis'"
            ],
            "application/vnd.google.colaboratory.intrinsic+json": {
              "type": "string"
            }
          },
          "metadata": {},
          "execution_count": 240
        }
      ]
    },
    {
      "cell_type": "code",
      "source": [
        "os.chdir(\"/content/drive/MyDrive/Colab_Notebooks/Sales_Analysis\")"
      ],
      "metadata": {
        "id": "yFwfXOr-G3CK"
      },
      "execution_count": 241,
      "outputs": []
    },
    {
      "cell_type": "markdown",
      "source": [
        "#### Helper function"
      ],
      "metadata": {
        "id": "xQA4tOOx7uhz"
      }
    },
    {
      "cell_type": "code",
      "source": [
        "#Create a function that use the second element if the list has a length of 2 other return unknown\n",
        "\n",
        "def clean_up_account(list_of_names):\n",
        "\n",
        "  if len(list_of_names) == 2:\n",
        "    return list_of_names[1]\n",
        "  else:\n",
        "    return list_of_names[0]\n"
      ],
      "metadata": {
        "id": "Qi0iM2y87sv6"
      },
      "execution_count": 242,
      "outputs": []
    },
    {
      "cell_type": "code",
      "source": [
        "#Create a function to clean up the Billing type feature\n"
      ],
      "metadata": {
        "id": "Ets_aMh47sDT"
      },
      "execution_count": 243,
      "outputs": []
    },
    {
      "cell_type": "markdown",
      "source": [
        "Import helper data"
      ],
      "metadata": {
        "id": "3Hna78HQrh41"
      }
    },
    {
      "cell_type": "code",
      "source": [
        "#Import lookup table for countries\n",
        "lookup_countries = pd.read_excel(\"./lookup.xlsx\", sheet_name = 0)\n",
        "#Import the data from SFDC as a excel file\n",
        "import_sfdc = pd.read_excel(\"./All Data EUAA-2022-10-25-12-29-00.xlsx\", sheet_name = 0, \n",
        "                            skiprows = 10)\n",
        "#Create dictionairy for maping the lookup value\n",
        "country_dict = dict(zip(lookup_countries[\"Reporting_Country_short\"], lookup_countries[\"Account_Reporting_Country\"]))\n",
        "#Import lookup table for countries\n",
        "lookup_type = pd.read_excel(\"./lookup.xlsx\", sheet_name = \"Type\")\n",
        "#Create dictionairy for maping the lookup values for LIMS ID\n",
        "type_dict = dict(zip(lookup_type[\"LIMS Project ID\"], lookup_type[\"Type\"]))\n",
        "\n",
        "#Import lookup Cancer Type\n",
        "lookup_cancer_type = pd.read_excel(\"./lookup.xlsx\", sheet_name = \"Cancer_type\")\n",
        "cancer_type_dict = dict(zip(lookup_cancer_type[\"Old\"], lookup_cancer_type[\"New\"]))\n",
        "\n",
        "#Inport lookun Billing_type - Needs further work\n",
        "#lookup_billing_type = pd.read_excel(\"./lookup.xlsx\", sheet_name = \"Billing_type\")\n",
        "#billing_type_dict = dict(zip(lookup_billing_type[\"Billing Type\"], lookup_billing_type[\"Billing Type.1\"]))\n"
      ],
      "metadata": {
        "id": "sYKe6D1GrnoC"
      },
      "execution_count": 244,
      "outputs": []
    },
    {
      "cell_type": "code",
      "source": [
        "#Identify which LIMS id are not in the lookup\n",
        "unique_LIMS_id = list(set(import_sfdc[\"LIMS Project ID\"]))\n",
        "unique_lookup_id = list(set(lookup_type[\"LIMS Project ID\"]))\n",
        "list(set(unique_LIMS_id) - set(unique_lookup_id ))"
      ],
      "metadata": {
        "colab": {
          "base_uri": "https://localhost:8080/"
        },
        "id": "UzwivZuDOvd8",
        "outputId": "b9cb2d63-2ecd-4d1d-cad6-9ad8eaa0bff4"
      },
      "execution_count": 245,
      "outputs": [
        {
          "output_type": "execute_result",
          "data": {
            "text/plain": [
              "[nan, 'GAP_04', 'AZN_test_96', 'RHI_04', 'OCT_1R', 'JNS_01', 'GAP_09']"
            ]
          },
          "metadata": {},
          "execution_count": 245
        }
      ]
    },
    {
      "cell_type": "code",
      "source": [
        "#import_sfdc.info()"
      ],
      "metadata": {
        "id": "CRdLX7kGWahb"
      },
      "execution_count": 246,
      "outputs": []
    },
    {
      "cell_type": "markdown",
      "source": [
        "#### Import and clean up the data from SFDC"
      ],
      "metadata": {
        "id": "uE-5D5zNmZnR"
      }
    },
    {
      "cell_type": "code",
      "source": [
        "\n",
        "#Remove the first two columns\n",
        "import_sfdc = import_sfdc.drop([\"Unnamed: 0\", \"Unnamed: 2\"], axis = 1)\n",
        "#Drop the last five rows\n",
        "import_sfdc = import_sfdc.iloc[0:-5]\n",
        "#Cast Date Received to datetime object \n",
        "import_sfdc[\"Date Received\"] = pd.to_datetime(import_sfdc[\"Date Received\"])\n",
        "#Clean up the type column\n",
        "import_sfdc[\"Type\"] = import_sfdc[\"LIMS Project ID\"].map(type_dict)\n",
        "\n",
        "#Replace the two letter country code with the full country name\n",
        "import_sfdc[\"Reporting Country\"] = import_sfdc[\"Reporting Country\"].map(country_dict)\n",
        "#Clean up the cancer types and reduce number of categories\n",
        "import_sfdc[\"Cancer Type\"] = import_sfdc[\"Cancer Type\"].map(cancer_type_dict)\n",
        "#Clean up the Account column by removing all strings before the \":\"\n",
        "import_sfdc[\"Account: Account Name\"] = import_sfdc.loc[:, \"Account: Account Name\"].str.split(\":\").apply(clean_up_account)\n",
        "#Clean up the Billing type column \n",
        "#import_sfdc[\"Billing Type\"] = import_sfdc[\"Billing Type\"].map(billing_type_dict)\n",
        "#import_sfdc.tail(6)\n",
        "\n",
        "# Set the date recieved as date index\n",
        "import_sfdc = import_sfdc.set_index(\"Date Received\")\n",
        "\n",
        "#import_sfdc.info()"
      ],
      "metadata": {
        "id": "n3dl5NF1HsVJ"
      },
      "execution_count": 247,
      "outputs": []
    },
    {
      "cell_type": "code",
      "source": [],
      "metadata": {
        "id": "exNhswdJXrHG"
      },
      "execution_count": 247,
      "outputs": []
    },
    {
      "cell_type": "code",
      "source": [
        "import_sfdc[\"LIMS Project ID\"]"
      ],
      "metadata": {
        "colab": {
          "base_uri": "https://localhost:8080/"
        },
        "id": "vxCBeMIcXrt_",
        "outputId": "ac43552a-4a3a-47a8-a2b6-1d5c328b1831"
      },
      "execution_count": 248,
      "outputs": [
        {
          "output_type": "execute_result",
          "data": {
            "text/plain": [
              "Date Received\n",
              "2019-11-25    AMG_01\n",
              "2019-11-26    AMG_01\n",
              "2019-11-29    AMG_01\n",
              "2019-11-30    AMG_01\n",
              "2019-11-30    AMG_01\n",
              "               ...  \n",
              "2021-01-04    VLT_01\n",
              "2021-01-11    VLT_01\n",
              "2021-01-11    VLT_01\n",
              "2021-01-15    VLT_01\n",
              "2021-01-20    VLT_01\n",
              "Name: LIMS Project ID, Length: 14977, dtype: object"
            ]
          },
          "metadata": {},
          "execution_count": 248
        }
      ]
    },
    {
      "cell_type": "code",
      "source": [
        "#Create date and time features\n",
        "\n",
        "#Create a year, month, quarter variable\n",
        "import_sfdc[\"Month\"] = import_sfdc.index.month\n",
        "import_sfdc[\"Year\"] = import_sfdc.index.year\n",
        "import_sfdc['Quarter'] = import_sfdc.index.quarter\n",
        "#Other feature engineering based on feature analysis below\n",
        "import_sfdc['Sales'] = 1\n",
        "\n",
        "#create a Year Month columns\n",
        "import_sfdc['Year_Month'] = import_sfdc.index.to_period('M')\n",
        "#Cast the Year_Month column to a str\n",
        "import_sfdc['Year_Month'] = import_sfdc['Year_Month'].astype(str)\n",
        "import_sfdc['Year_Month'] = pd.to_datetime(import_sfdc['Year_Month'])\n",
        "#Cast some features to categorical\n",
        "#df['Reporting_Country'] = df['Reporting_Country'].astype('category')\n",
        "import_sfdc['Type'] = import_sfdc['Type'].astype('category')\n"
      ],
      "metadata": {
        "id": "K_ttM0YjFaLd"
      },
      "execution_count": 249,
      "outputs": []
    },
    {
      "cell_type": "code",
      "source": [
        "#import_sfdc.sample(5)"
      ],
      "metadata": {
        "id": "gae4FY8E4xbi"
      },
      "execution_count": 250,
      "outputs": []
    },
    {
      "cell_type": "markdown",
      "source": [
        "#### Explore the data"
      ],
      "metadata": {
        "id": "gNOxiwsLmsmv"
      }
    },
    {
      "cell_type": "code",
      "source": [
        "#import_sfdc[\"Reporting Country\"].value_counts()"
      ],
      "metadata": {
        "id": "_r6H5ga-m6my"
      },
      "execution_count": 251,
      "outputs": []
    },
    {
      "cell_type": "code",
      "source": [
        "#import_sfdc.Type.value_counts()"
      ],
      "metadata": {
        "id": "idTr7unZviax"
      },
      "execution_count": 252,
      "outputs": []
    },
    {
      "cell_type": "code",
      "source": [
        "#import_sfdc.info()"
      ],
      "metadata": {
        "id": "jD4uUsKEvh0Z"
      },
      "execution_count": 253,
      "outputs": []
    },
    {
      "cell_type": "code",
      "source": [
        "#import_sfdc[\"Billing Type\"].value_counts()"
      ],
      "metadata": {
        "id": "8euku6M1tdCD"
      },
      "execution_count": 254,
      "outputs": []
    },
    {
      "cell_type": "code",
      "source": [
        "#import_sfdc[\"Test Type\"].value_counts()"
      ],
      "metadata": {
        "id": "7YPbz6zFN4Sv"
      },
      "execution_count": 255,
      "outputs": []
    },
    {
      "cell_type": "code",
      "source": [
        "#import_sfdc[\"Cancer Type\"].value_counts()"
      ],
      "metadata": {
        "id": "MY2cLhSOxs2q"
      },
      "execution_count": 256,
      "outputs": []
    },
    {
      "cell_type": "code",
      "source": [
        "#import_sfdc['Billing Type'].value_counts()"
      ],
      "metadata": {
        "id": "w6-gJR5p3aSz"
      },
      "execution_count": 257,
      "outputs": []
    },
    {
      "cell_type": "code",
      "source": [
        "# Import the revenue data\n",
        "\n",
        "revenue_import = pd.read_excel(\"./Sales_Volume_EUAA_Analytics.xlsx\", skiprows = 28)\n",
        "revenue_import = revenue_import.iloc[:, 1:12]\n",
        "#revenue_import.columns.tolist()\n",
        "revenue_import['Accession #']= revenue_import['Accession #'].fillna(\"missing\") \n",
        "revenue_import = revenue_import[revenue_import['Accession #'].str.startswith(\"A0\")]\n",
        "#revenue_import.info()"
      ],
      "metadata": {
        "id": "RfZ1QGpd2DPY"
      },
      "execution_count": 323,
      "outputs": []
    },
    {
      "cell_type": "code",
      "source": [
        "#revenue_import.columns.tolist()"
      ],
      "metadata": {
        "id": "9ZYeFG-JlRU0"
      },
      "execution_count": 324,
      "outputs": []
    },
    {
      "cell_type": "code",
      "source": [
        "revenue_col_list = ['Accession #', 'Invoiced Ammount','Expected Amount $','Invoiced/In Prg.', 'FOC']"
      ],
      "metadata": {
        "id": "r3qiHzAolSFe"
      },
      "execution_count": 291,
      "outputs": []
    },
    {
      "cell_type": "code",
      "source": [
        "#Define the clean up function for the FOC columns\n",
        "def foc_clean_up(value):\n",
        "\n",
        "  if value == \"x\":\n",
        "    return \"Free\"\n",
        "\n",
        "  elif value == \"x (COV19)\":\n",
        "     return \"Free\"\n",
        "  elif value == \"x (Christie)\":\n",
        "    return \"Free\"\n",
        "  else: \n",
        "    return value\n",
        "\n",
        "#Clean up Docuten\n",
        "\n",
        "def docuten_clean_up(value):\n",
        "\n",
        "  if value == \"y (DOCUTEN)\":\n",
        "    return \"Free\"\n",
        "\n",
        "  else: \n",
        "    return value\n",
        "\n",
        "#Clean up the revenue data and extract the free of charge information\n",
        "revenue_import_clean = revenue_import.loc[:, revenue_col_list].copy()\n",
        "revenue_import_clean[\"FOC\"] = revenue_import_clean[\"FOC\"].fillna(\"Paid\")\n",
        "revenue_import_clean.head()"
      ],
      "metadata": {
        "colab": {
          "base_uri": "https://localhost:8080/",
          "height": 206
        },
        "id": "DyNkfPNmlSd8",
        "outputId": "983baa02-11c3-407a-da9d-086289bff918"
      },
      "execution_count": 292,
      "outputs": [
        {
          "output_type": "execute_result",
          "data": {
            "text/plain": [
              "  Accession # Invoiced Ammount Expected Amount $ Invoiced/In Prg.   FOC\n",
              "0    A0198807              0.0               0.0              NaN     x\n",
              "1    A0196311              0.0               0.0              NaN     x\n",
              "3    A0196102           3490.0            3490.0              NaN  Paid\n",
              "4    A0195058           3490.0            3490.0              NaN  Paid\n",
              "6    A0196290           3490.0            3490.0              NaN  Paid"
            ],
            "text/html": [
              "\n",
              "  <div id=\"df-4322af2b-0cc9-4c9e-8f84-b3f76844d83b\">\n",
              "    <div class=\"colab-df-container\">\n",
              "      <div>\n",
              "<style scoped>\n",
              "    .dataframe tbody tr th:only-of-type {\n",
              "        vertical-align: middle;\n",
              "    }\n",
              "\n",
              "    .dataframe tbody tr th {\n",
              "        vertical-align: top;\n",
              "    }\n",
              "\n",
              "    .dataframe thead th {\n",
              "        text-align: right;\n",
              "    }\n",
              "</style>\n",
              "<table border=\"1\" class=\"dataframe\">\n",
              "  <thead>\n",
              "    <tr style=\"text-align: right;\">\n",
              "      <th></th>\n",
              "      <th>Accession #</th>\n",
              "      <th>Invoiced Ammount</th>\n",
              "      <th>Expected Amount $</th>\n",
              "      <th>Invoiced/In Prg.</th>\n",
              "      <th>FOC</th>\n",
              "    </tr>\n",
              "  </thead>\n",
              "  <tbody>\n",
              "    <tr>\n",
              "      <th>0</th>\n",
              "      <td>A0198807</td>\n",
              "      <td>0.0</td>\n",
              "      <td>0.0</td>\n",
              "      <td>NaN</td>\n",
              "      <td>x</td>\n",
              "    </tr>\n",
              "    <tr>\n",
              "      <th>1</th>\n",
              "      <td>A0196311</td>\n",
              "      <td>0.0</td>\n",
              "      <td>0.0</td>\n",
              "      <td>NaN</td>\n",
              "      <td>x</td>\n",
              "    </tr>\n",
              "    <tr>\n",
              "      <th>3</th>\n",
              "      <td>A0196102</td>\n",
              "      <td>3490.0</td>\n",
              "      <td>3490.0</td>\n",
              "      <td>NaN</td>\n",
              "      <td>Paid</td>\n",
              "    </tr>\n",
              "    <tr>\n",
              "      <th>4</th>\n",
              "      <td>A0195058</td>\n",
              "      <td>3490.0</td>\n",
              "      <td>3490.0</td>\n",
              "      <td>NaN</td>\n",
              "      <td>Paid</td>\n",
              "    </tr>\n",
              "    <tr>\n",
              "      <th>6</th>\n",
              "      <td>A0196290</td>\n",
              "      <td>3490.0</td>\n",
              "      <td>3490.0</td>\n",
              "      <td>NaN</td>\n",
              "      <td>Paid</td>\n",
              "    </tr>\n",
              "  </tbody>\n",
              "</table>\n",
              "</div>\n",
              "      <button class=\"colab-df-convert\" onclick=\"convertToInteractive('df-4322af2b-0cc9-4c9e-8f84-b3f76844d83b')\"\n",
              "              title=\"Convert this dataframe to an interactive table.\"\n",
              "              style=\"display:none;\">\n",
              "        \n",
              "  <svg xmlns=\"http://www.w3.org/2000/svg\" height=\"24px\"viewBox=\"0 0 24 24\"\n",
              "       width=\"24px\">\n",
              "    <path d=\"M0 0h24v24H0V0z\" fill=\"none\"/>\n",
              "    <path d=\"M18.56 5.44l.94 2.06.94-2.06 2.06-.94-2.06-.94-.94-2.06-.94 2.06-2.06.94zm-11 1L8.5 8.5l.94-2.06 2.06-.94-2.06-.94L8.5 2.5l-.94 2.06-2.06.94zm10 10l.94 2.06.94-2.06 2.06-.94-2.06-.94-.94-2.06-.94 2.06-2.06.94z\"/><path d=\"M17.41 7.96l-1.37-1.37c-.4-.4-.92-.59-1.43-.59-.52 0-1.04.2-1.43.59L10.3 9.45l-7.72 7.72c-.78.78-.78 2.05 0 2.83L4 21.41c.39.39.9.59 1.41.59.51 0 1.02-.2 1.41-.59l7.78-7.78 2.81-2.81c.8-.78.8-2.07 0-2.86zM5.41 20L4 18.59l7.72-7.72 1.47 1.35L5.41 20z\"/>\n",
              "  </svg>\n",
              "      </button>\n",
              "      \n",
              "  <style>\n",
              "    .colab-df-container {\n",
              "      display:flex;\n",
              "      flex-wrap:wrap;\n",
              "      gap: 12px;\n",
              "    }\n",
              "\n",
              "    .colab-df-convert {\n",
              "      background-color: #E8F0FE;\n",
              "      border: none;\n",
              "      border-radius: 50%;\n",
              "      cursor: pointer;\n",
              "      display: none;\n",
              "      fill: #1967D2;\n",
              "      height: 32px;\n",
              "      padding: 0 0 0 0;\n",
              "      width: 32px;\n",
              "    }\n",
              "\n",
              "    .colab-df-convert:hover {\n",
              "      background-color: #E2EBFA;\n",
              "      box-shadow: 0px 1px 2px rgba(60, 64, 67, 0.3), 0px 1px 3px 1px rgba(60, 64, 67, 0.15);\n",
              "      fill: #174EA6;\n",
              "    }\n",
              "\n",
              "    [theme=dark] .colab-df-convert {\n",
              "      background-color: #3B4455;\n",
              "      fill: #D2E3FC;\n",
              "    }\n",
              "\n",
              "    [theme=dark] .colab-df-convert:hover {\n",
              "      background-color: #434B5C;\n",
              "      box-shadow: 0px 1px 3px 1px rgba(0, 0, 0, 0.15);\n",
              "      filter: drop-shadow(0px 1px 2px rgba(0, 0, 0, 0.3));\n",
              "      fill: #FFFFFF;\n",
              "    }\n",
              "  </style>\n",
              "\n",
              "      <script>\n",
              "        const buttonEl =\n",
              "          document.querySelector('#df-4322af2b-0cc9-4c9e-8f84-b3f76844d83b button.colab-df-convert');\n",
              "        buttonEl.style.display =\n",
              "          google.colab.kernel.accessAllowed ? 'block' : 'none';\n",
              "\n",
              "        async function convertToInteractive(key) {\n",
              "          const element = document.querySelector('#df-4322af2b-0cc9-4c9e-8f84-b3f76844d83b');\n",
              "          const dataTable =\n",
              "            await google.colab.kernel.invokeFunction('convertToInteractive',\n",
              "                                                     [key], {});\n",
              "          if (!dataTable) return;\n",
              "\n",
              "          const docLinkHtml = 'Like what you see? Visit the ' +\n",
              "            '<a target=\"_blank\" href=https://colab.research.google.com/notebooks/data_table.ipynb>data table notebook</a>'\n",
              "            + ' to learn more about interactive tables.';\n",
              "          element.innerHTML = '';\n",
              "          dataTable['output_type'] = 'display_data';\n",
              "          await google.colab.output.renderOutput(dataTable, element);\n",
              "          const docLink = document.createElement('div');\n",
              "          docLink.innerHTML = docLinkHtml;\n",
              "          element.appendChild(docLink);\n",
              "        }\n",
              "      </script>\n",
              "    </div>\n",
              "  </div>\n",
              "  "
            ]
          },
          "metadata": {},
          "execution_count": 292
        }
      ]
    },
    {
      "cell_type": "code",
      "source": [
        "revenue_import_clean[\"FOC\"].value_counts()"
      ],
      "metadata": {
        "colab": {
          "base_uri": "https://localhost:8080/"
        },
        "id": "DmmTkBIewxBN",
        "outputId": "6d116c5a-921f-4439-e838-68ae1cf4b7b3"
      },
      "execution_count": 293,
      "outputs": [
        {
          "output_type": "execute_result",
          "data": {
            "text/plain": [
              "Paid            2944\n",
              "x                625\n",
              "x (COV19)         84\n",
              "x (Christie)       6\n",
              "                   1\n",
              "Name: FOC, dtype: int64"
            ]
          },
          "metadata": {},
          "execution_count": 293
        }
      ]
    },
    {
      "cell_type": "code",
      "source": [
        "revenue_import_clean[\"FOC\"] = revenue_import_clean[\"FOC\"].apply(foc_clean_up).astype(\"category\")"
      ],
      "metadata": {
        "id": "qcDg1d3LwEBc"
      },
      "execution_count": 301,
      "outputs": []
    },
    {
      "cell_type": "code",
      "source": [
        "revenue_import_clean[\"FOC\"].value_counts()"
      ],
      "metadata": {
        "colab": {
          "base_uri": "https://localhost:8080/"
        },
        "id": "vgC3W7FqwG8R",
        "outputId": "5e252ab1-1a2c-48e2-95b2-c5615892d9c5"
      },
      "execution_count": 302,
      "outputs": [
        {
          "output_type": "execute_result",
          "data": {
            "text/plain": [
              "Paid    2944\n",
              "Free     715\n",
              "           1\n",
              "Name: FOC, dtype: int64"
            ]
          },
          "metadata": {},
          "execution_count": 302
        }
      ]
    },
    {
      "cell_type": "code",
      "source": [],
      "metadata": {
        "id": "6ByAbQDox4Zb"
      },
      "execution_count": 265,
      "outputs": []
    },
    {
      "cell_type": "code",
      "source": [
        "#Join the two dataframes\n",
        "\n",
        "df_merged = import_sfdc.merge(revenue_import_clean[[\"Accession #\", \"FOC\"]], how='inner', on = \"Accession #\")\n",
        "df_merged.sample(3)"
      ],
      "metadata": {
        "colab": {
          "base_uri": "https://localhost:8080/",
          "height": 257
        },
        "id": "Bdu2-paiiRWw",
        "outputId": "f684d2b4-044b-413d-c42f-f05da6a7ec44"
      },
      "execution_count": 303,
      "outputs": [
        {
          "output_type": "execute_result",
          "data": {
            "text/plain": [
              "     Accession # Reporting Country        Billing Type LIMS Project ID  \\\n",
              "217     A0235000    UNITED KINGDOM    Self-Pay Patient          GHI_01   \n",
              "1520    A0320631            BRAZIL  Distributors : ROW          GHI_01   \n",
              "1619    A0328098             SPAIN  Distributors : ROW          GHI_01   \n",
              "\n",
              "                      Account: Account Name           Contact: Full Name  \\\n",
              "217                 Genesis Care Nottingham             Santhanam Sundar   \n",
              "1520           Diagnosticos da America S.A.  Cristovam Scapulatempo Neto   \n",
              "1619  Clinica Universidad de Navarra-Madrid                 Jesus Corral   \n",
              "\n",
              "     Final Report Date     Test Type Cancer Type        Type  Month  Year  \\\n",
              "217          2/23/2020  Guardant 360         NaN  Commercial      2  2020   \n",
              "1520         1/20/2021  Guardant 360      Breast  Commercial      1  2021   \n",
              "1619         2/17/2021  Guardant 360         NaN  Commercial      2  2021   \n",
              "\n",
              "      Quarter  Sales Year_Month   FOC  \n",
              "217         1      1 2020-02-01  Paid  \n",
              "1520        1      1 2021-01-01  Paid  \n",
              "1619        1      1 2021-02-01  Paid  "
            ],
            "text/html": [
              "\n",
              "  <div id=\"df-be74639c-75e3-442a-b5d0-cd21b1209325\">\n",
              "    <div class=\"colab-df-container\">\n",
              "      <div>\n",
              "<style scoped>\n",
              "    .dataframe tbody tr th:only-of-type {\n",
              "        vertical-align: middle;\n",
              "    }\n",
              "\n",
              "    .dataframe tbody tr th {\n",
              "        vertical-align: top;\n",
              "    }\n",
              "\n",
              "    .dataframe thead th {\n",
              "        text-align: right;\n",
              "    }\n",
              "</style>\n",
              "<table border=\"1\" class=\"dataframe\">\n",
              "  <thead>\n",
              "    <tr style=\"text-align: right;\">\n",
              "      <th></th>\n",
              "      <th>Accession #</th>\n",
              "      <th>Reporting Country</th>\n",
              "      <th>Billing Type</th>\n",
              "      <th>LIMS Project ID</th>\n",
              "      <th>Account: Account Name</th>\n",
              "      <th>Contact: Full Name</th>\n",
              "      <th>Final Report Date</th>\n",
              "      <th>Test Type</th>\n",
              "      <th>Cancer Type</th>\n",
              "      <th>Type</th>\n",
              "      <th>Month</th>\n",
              "      <th>Year</th>\n",
              "      <th>Quarter</th>\n",
              "      <th>Sales</th>\n",
              "      <th>Year_Month</th>\n",
              "      <th>FOC</th>\n",
              "    </tr>\n",
              "  </thead>\n",
              "  <tbody>\n",
              "    <tr>\n",
              "      <th>217</th>\n",
              "      <td>A0235000</td>\n",
              "      <td>UNITED KINGDOM</td>\n",
              "      <td>Self-Pay Patient</td>\n",
              "      <td>GHI_01</td>\n",
              "      <td>Genesis Care Nottingham</td>\n",
              "      <td>Santhanam Sundar</td>\n",
              "      <td>2/23/2020</td>\n",
              "      <td>Guardant 360</td>\n",
              "      <td>NaN</td>\n",
              "      <td>Commercial</td>\n",
              "      <td>2</td>\n",
              "      <td>2020</td>\n",
              "      <td>1</td>\n",
              "      <td>1</td>\n",
              "      <td>2020-02-01</td>\n",
              "      <td>Paid</td>\n",
              "    </tr>\n",
              "    <tr>\n",
              "      <th>1520</th>\n",
              "      <td>A0320631</td>\n",
              "      <td>BRAZIL</td>\n",
              "      <td>Distributors : ROW</td>\n",
              "      <td>GHI_01</td>\n",
              "      <td>Diagnosticos da America S.A.</td>\n",
              "      <td>Cristovam Scapulatempo Neto</td>\n",
              "      <td>1/20/2021</td>\n",
              "      <td>Guardant 360</td>\n",
              "      <td>Breast</td>\n",
              "      <td>Commercial</td>\n",
              "      <td>1</td>\n",
              "      <td>2021</td>\n",
              "      <td>1</td>\n",
              "      <td>1</td>\n",
              "      <td>2021-01-01</td>\n",
              "      <td>Paid</td>\n",
              "    </tr>\n",
              "    <tr>\n",
              "      <th>1619</th>\n",
              "      <td>A0328098</td>\n",
              "      <td>SPAIN</td>\n",
              "      <td>Distributors : ROW</td>\n",
              "      <td>GHI_01</td>\n",
              "      <td>Clinica Universidad de Navarra-Madrid</td>\n",
              "      <td>Jesus Corral</td>\n",
              "      <td>2/17/2021</td>\n",
              "      <td>Guardant 360</td>\n",
              "      <td>NaN</td>\n",
              "      <td>Commercial</td>\n",
              "      <td>2</td>\n",
              "      <td>2021</td>\n",
              "      <td>1</td>\n",
              "      <td>1</td>\n",
              "      <td>2021-02-01</td>\n",
              "      <td>Paid</td>\n",
              "    </tr>\n",
              "  </tbody>\n",
              "</table>\n",
              "</div>\n",
              "      <button class=\"colab-df-convert\" onclick=\"convertToInteractive('df-be74639c-75e3-442a-b5d0-cd21b1209325')\"\n",
              "              title=\"Convert this dataframe to an interactive table.\"\n",
              "              style=\"display:none;\">\n",
              "        \n",
              "  <svg xmlns=\"http://www.w3.org/2000/svg\" height=\"24px\"viewBox=\"0 0 24 24\"\n",
              "       width=\"24px\">\n",
              "    <path d=\"M0 0h24v24H0V0z\" fill=\"none\"/>\n",
              "    <path d=\"M18.56 5.44l.94 2.06.94-2.06 2.06-.94-2.06-.94-.94-2.06-.94 2.06-2.06.94zm-11 1L8.5 8.5l.94-2.06 2.06-.94-2.06-.94L8.5 2.5l-.94 2.06-2.06.94zm10 10l.94 2.06.94-2.06 2.06-.94-2.06-.94-.94-2.06-.94 2.06-2.06.94z\"/><path d=\"M17.41 7.96l-1.37-1.37c-.4-.4-.92-.59-1.43-.59-.52 0-1.04.2-1.43.59L10.3 9.45l-7.72 7.72c-.78.78-.78 2.05 0 2.83L4 21.41c.39.39.9.59 1.41.59.51 0 1.02-.2 1.41-.59l7.78-7.78 2.81-2.81c.8-.78.8-2.07 0-2.86zM5.41 20L4 18.59l7.72-7.72 1.47 1.35L5.41 20z\"/>\n",
              "  </svg>\n",
              "      </button>\n",
              "      \n",
              "  <style>\n",
              "    .colab-df-container {\n",
              "      display:flex;\n",
              "      flex-wrap:wrap;\n",
              "      gap: 12px;\n",
              "    }\n",
              "\n",
              "    .colab-df-convert {\n",
              "      background-color: #E8F0FE;\n",
              "      border: none;\n",
              "      border-radius: 50%;\n",
              "      cursor: pointer;\n",
              "      display: none;\n",
              "      fill: #1967D2;\n",
              "      height: 32px;\n",
              "      padding: 0 0 0 0;\n",
              "      width: 32px;\n",
              "    }\n",
              "\n",
              "    .colab-df-convert:hover {\n",
              "      background-color: #E2EBFA;\n",
              "      box-shadow: 0px 1px 2px rgba(60, 64, 67, 0.3), 0px 1px 3px 1px rgba(60, 64, 67, 0.15);\n",
              "      fill: #174EA6;\n",
              "    }\n",
              "\n",
              "    [theme=dark] .colab-df-convert {\n",
              "      background-color: #3B4455;\n",
              "      fill: #D2E3FC;\n",
              "    }\n",
              "\n",
              "    [theme=dark] .colab-df-convert:hover {\n",
              "      background-color: #434B5C;\n",
              "      box-shadow: 0px 1px 3px 1px rgba(0, 0, 0, 0.15);\n",
              "      filter: drop-shadow(0px 1px 2px rgba(0, 0, 0, 0.3));\n",
              "      fill: #FFFFFF;\n",
              "    }\n",
              "  </style>\n",
              "\n",
              "      <script>\n",
              "        const buttonEl =\n",
              "          document.querySelector('#df-be74639c-75e3-442a-b5d0-cd21b1209325 button.colab-df-convert');\n",
              "        buttonEl.style.display =\n",
              "          google.colab.kernel.accessAllowed ? 'block' : 'none';\n",
              "\n",
              "        async function convertToInteractive(key) {\n",
              "          const element = document.querySelector('#df-be74639c-75e3-442a-b5d0-cd21b1209325');\n",
              "          const dataTable =\n",
              "            await google.colab.kernel.invokeFunction('convertToInteractive',\n",
              "                                                     [key], {});\n",
              "          if (!dataTable) return;\n",
              "\n",
              "          const docLinkHtml = 'Like what you see? Visit the ' +\n",
              "            '<a target=\"_blank\" href=https://colab.research.google.com/notebooks/data_table.ipynb>data table notebook</a>'\n",
              "            + ' to learn more about interactive tables.';\n",
              "          element.innerHTML = '';\n",
              "          dataTable['output_type'] = 'display_data';\n",
              "          await google.colab.output.renderOutput(dataTable, element);\n",
              "          const docLink = document.createElement('div');\n",
              "          docLink.innerHTML = docLinkHtml;\n",
              "          element.appendChild(docLink);\n",
              "        }\n",
              "      </script>\n",
              "    </div>\n",
              "  </div>\n",
              "  "
            ]
          },
          "metadata": {},
          "execution_count": 303
        }
      ]
    },
    {
      "cell_type": "code",
      "source": [],
      "metadata": {
        "id": "7vSN6Z52iRcx"
      },
      "execution_count": 267,
      "outputs": []
    },
    {
      "cell_type": "code",
      "source": [
        "# Startinf dataframe for all years\n",
        "import_sfdc.info()"
      ],
      "metadata": {
        "colab": {
          "base_uri": "https://localhost:8080/"
        },
        "id": "Cc7eNVFCiRia",
        "outputId": "be251f3e-92d5-43cb-878f-41b8e8affd3e"
      },
      "execution_count": 268,
      "outputs": [
        {
          "output_type": "stream",
          "name": "stdout",
          "text": [
            "<class 'pandas.core.frame.DataFrame'>\n",
            "DatetimeIndex: 14977 entries, 2019-11-25 to 2021-01-20\n",
            "Data columns (total 15 columns):\n",
            " #   Column                 Non-Null Count  Dtype         \n",
            "---  ------                 --------------  -----         \n",
            " 0   Accession #            14977 non-null  object        \n",
            " 1   Reporting Country      14977 non-null  object        \n",
            " 2   Billing Type           14949 non-null  object        \n",
            " 3   LIMS Project ID        14977 non-null  object        \n",
            " 4   Account: Account Name  14977 non-null  object        \n",
            " 5   Contact: Full Name     14977 non-null  object        \n",
            " 6   Final Report Date      13479 non-null  object        \n",
            " 7   Test Type              14977 non-null  object        \n",
            " 8   Cancer Type            5343 non-null   object        \n",
            " 9   Type                   14873 non-null  category      \n",
            " 10  Month                  14977 non-null  int64         \n",
            " 11  Year                   14977 non-null  int64         \n",
            " 12  Quarter                14977 non-null  int64         \n",
            " 13  Sales                  14977 non-null  int64         \n",
            " 14  Year_Month             14977 non-null  datetime64[ns]\n",
            "dtypes: category(1), datetime64[ns](1), int64(4), object(9)\n",
            "memory usage: 1.7+ MB\n"
          ]
        }
      ]
    },
    {
      "cell_type": "code",
      "source": [
        "#Cleaned up dataframe included FOC information starting from around 2019\n",
        "df_merged.info()"
      ],
      "metadata": {
        "colab": {
          "base_uri": "https://localhost:8080/"
        },
        "id": "fxEORV0biRtc",
        "outputId": "ee10a67f-125c-49aa-a30c-701d64e64bff"
      },
      "execution_count": 304,
      "outputs": [
        {
          "output_type": "stream",
          "name": "stdout",
          "text": [
            "<class 'pandas.core.frame.DataFrame'>\n",
            "Int64Index: 3533 entries, 0 to 3532\n",
            "Data columns (total 16 columns):\n",
            " #   Column                 Non-Null Count  Dtype         \n",
            "---  ------                 --------------  -----         \n",
            " 0   Accession #            3533 non-null   object        \n",
            " 1   Reporting Country      3533 non-null   object        \n",
            " 2   Billing Type           3533 non-null   object        \n",
            " 3   LIMS Project ID        3533 non-null   object        \n",
            " 4   Account: Account Name  3533 non-null   object        \n",
            " 5   Contact: Full Name     3533 non-null   object        \n",
            " 6   Final Report Date      3530 non-null   object        \n",
            " 7   Test Type              3533 non-null   object        \n",
            " 8   Cancer Type            1182 non-null   object        \n",
            " 9   Type                   3533 non-null   category      \n",
            " 10  Month                  3533 non-null   int64         \n",
            " 11  Year                   3533 non-null   int64         \n",
            " 12  Quarter                3533 non-null   int64         \n",
            " 13  Sales                  3533 non-null   int64         \n",
            " 14  Year_Month             3533 non-null   datetime64[ns]\n",
            " 15  FOC                    3533 non-null   category      \n",
            "dtypes: category(2), datetime64[ns](1), int64(4), object(9)\n",
            "memory usage: 421.3+ KB\n"
          ]
        }
      ]
    },
    {
      "cell_type": "code",
      "source": [],
      "metadata": {
        "id": "QAU5yQbi2Eh6"
      },
      "execution_count": 268,
      "outputs": []
    },
    {
      "cell_type": "markdown",
      "source": [
        "#### Plotting"
      ],
      "metadata": {
        "id": "wedZOg0_CBB8"
      }
    },
    {
      "cell_type": "code",
      "source": [
        "#Select the features for the analysis\n",
        "import_sfdc.columns.to_list()\n",
        "list_for_country_analysis = ['Accession #',\n",
        " 'Reporting Country',\n",
        " 'Type',\n",
        " 'Sales',\n",
        " 'Year_Month']\n",
        "\n",
        "countries_df = import_sfdc.loc[:,list_for_country_analysis ]\n",
        "#countries_df[\"Reporting Country\"] = countries_df[\"Reporting Country\"].astype('category')\n",
        "countries_df.sample(3)"
      ],
      "metadata": {
        "colab": {
          "base_uri": "https://localhost:8080/",
          "height": 175
        },
        "id": "ERIZI3btCOST",
        "outputId": "e5fc604f-41e8-48f3-9ea3-5fe9d92dd1bf"
      },
      "execution_count": 316,
      "outputs": [
        {
          "output_type": "execute_result",
          "data": {
            "text/plain": [
              "              Accession # Reporting Country                     Type  Sales  \\\n",
              "Date Received                                                                 \n",
              "2019-05-30       A0170721             SPAIN  GH Trials (Prospective)      1   \n",
              "2022-08-08       A0558097    UNITED KINGDOM               Commercial      1   \n",
              "2022-09-01       A0570165             SPAIN                Biopharma      1   \n",
              "\n",
              "              Year_Month  \n",
              "Date Received             \n",
              "2019-05-30    2019-05-01  \n",
              "2022-08-08    2022-08-01  \n",
              "2022-09-01    2022-09-01  "
            ],
            "text/html": [
              "\n",
              "  <div id=\"df-7b847f04-74f8-426d-a5bd-69158574c437\">\n",
              "    <div class=\"colab-df-container\">\n",
              "      <div>\n",
              "<style scoped>\n",
              "    .dataframe tbody tr th:only-of-type {\n",
              "        vertical-align: middle;\n",
              "    }\n",
              "\n",
              "    .dataframe tbody tr th {\n",
              "        vertical-align: top;\n",
              "    }\n",
              "\n",
              "    .dataframe thead th {\n",
              "        text-align: right;\n",
              "    }\n",
              "</style>\n",
              "<table border=\"1\" class=\"dataframe\">\n",
              "  <thead>\n",
              "    <tr style=\"text-align: right;\">\n",
              "      <th></th>\n",
              "      <th>Accession #</th>\n",
              "      <th>Reporting Country</th>\n",
              "      <th>Type</th>\n",
              "      <th>Sales</th>\n",
              "      <th>Year_Month</th>\n",
              "    </tr>\n",
              "    <tr>\n",
              "      <th>Date Received</th>\n",
              "      <th></th>\n",
              "      <th></th>\n",
              "      <th></th>\n",
              "      <th></th>\n",
              "      <th></th>\n",
              "    </tr>\n",
              "  </thead>\n",
              "  <tbody>\n",
              "    <tr>\n",
              "      <th>2019-05-30</th>\n",
              "      <td>A0170721</td>\n",
              "      <td>SPAIN</td>\n",
              "      <td>GH Trials (Prospective)</td>\n",
              "      <td>1</td>\n",
              "      <td>2019-05-01</td>\n",
              "    </tr>\n",
              "    <tr>\n",
              "      <th>2022-08-08</th>\n",
              "      <td>A0558097</td>\n",
              "      <td>UNITED KINGDOM</td>\n",
              "      <td>Commercial</td>\n",
              "      <td>1</td>\n",
              "      <td>2022-08-01</td>\n",
              "    </tr>\n",
              "    <tr>\n",
              "      <th>2022-09-01</th>\n",
              "      <td>A0570165</td>\n",
              "      <td>SPAIN</td>\n",
              "      <td>Biopharma</td>\n",
              "      <td>1</td>\n",
              "      <td>2022-09-01</td>\n",
              "    </tr>\n",
              "  </tbody>\n",
              "</table>\n",
              "</div>\n",
              "      <button class=\"colab-df-convert\" onclick=\"convertToInteractive('df-7b847f04-74f8-426d-a5bd-69158574c437')\"\n",
              "              title=\"Convert this dataframe to an interactive table.\"\n",
              "              style=\"display:none;\">\n",
              "        \n",
              "  <svg xmlns=\"http://www.w3.org/2000/svg\" height=\"24px\"viewBox=\"0 0 24 24\"\n",
              "       width=\"24px\">\n",
              "    <path d=\"M0 0h24v24H0V0z\" fill=\"none\"/>\n",
              "    <path d=\"M18.56 5.44l.94 2.06.94-2.06 2.06-.94-2.06-.94-.94-2.06-.94 2.06-2.06.94zm-11 1L8.5 8.5l.94-2.06 2.06-.94-2.06-.94L8.5 2.5l-.94 2.06-2.06.94zm10 10l.94 2.06.94-2.06 2.06-.94-2.06-.94-.94-2.06-.94 2.06-2.06.94z\"/><path d=\"M17.41 7.96l-1.37-1.37c-.4-.4-.92-.59-1.43-.59-.52 0-1.04.2-1.43.59L10.3 9.45l-7.72 7.72c-.78.78-.78 2.05 0 2.83L4 21.41c.39.39.9.59 1.41.59.51 0 1.02-.2 1.41-.59l7.78-7.78 2.81-2.81c.8-.78.8-2.07 0-2.86zM5.41 20L4 18.59l7.72-7.72 1.47 1.35L5.41 20z\"/>\n",
              "  </svg>\n",
              "      </button>\n",
              "      \n",
              "  <style>\n",
              "    .colab-df-container {\n",
              "      display:flex;\n",
              "      flex-wrap:wrap;\n",
              "      gap: 12px;\n",
              "    }\n",
              "\n",
              "    .colab-df-convert {\n",
              "      background-color: #E8F0FE;\n",
              "      border: none;\n",
              "      border-radius: 50%;\n",
              "      cursor: pointer;\n",
              "      display: none;\n",
              "      fill: #1967D2;\n",
              "      height: 32px;\n",
              "      padding: 0 0 0 0;\n",
              "      width: 32px;\n",
              "    }\n",
              "\n",
              "    .colab-df-convert:hover {\n",
              "      background-color: #E2EBFA;\n",
              "      box-shadow: 0px 1px 2px rgba(60, 64, 67, 0.3), 0px 1px 3px 1px rgba(60, 64, 67, 0.15);\n",
              "      fill: #174EA6;\n",
              "    }\n",
              "\n",
              "    [theme=dark] .colab-df-convert {\n",
              "      background-color: #3B4455;\n",
              "      fill: #D2E3FC;\n",
              "    }\n",
              "\n",
              "    [theme=dark] .colab-df-convert:hover {\n",
              "      background-color: #434B5C;\n",
              "      box-shadow: 0px 1px 3px 1px rgba(0, 0, 0, 0.15);\n",
              "      filter: drop-shadow(0px 1px 2px rgba(0, 0, 0, 0.3));\n",
              "      fill: #FFFFFF;\n",
              "    }\n",
              "  </style>\n",
              "\n",
              "      <script>\n",
              "        const buttonEl =\n",
              "          document.querySelector('#df-7b847f04-74f8-426d-a5bd-69158574c437 button.colab-df-convert');\n",
              "        buttonEl.style.display =\n",
              "          google.colab.kernel.accessAllowed ? 'block' : 'none';\n",
              "\n",
              "        async function convertToInteractive(key) {\n",
              "          const element = document.querySelector('#df-7b847f04-74f8-426d-a5bd-69158574c437');\n",
              "          const dataTable =\n",
              "            await google.colab.kernel.invokeFunction('convertToInteractive',\n",
              "                                                     [key], {});\n",
              "          if (!dataTable) return;\n",
              "\n",
              "          const docLinkHtml = 'Like what you see? Visit the ' +\n",
              "            '<a target=\"_blank\" href=https://colab.research.google.com/notebooks/data_table.ipynb>data table notebook</a>'\n",
              "            + ' to learn more about interactive tables.';\n",
              "          element.innerHTML = '';\n",
              "          dataTable['output_type'] = 'display_data';\n",
              "          await google.colab.output.renderOutput(dataTable, element);\n",
              "          const docLink = document.createElement('div');\n",
              "          docLink.innerHTML = docLinkHtml;\n",
              "          element.appendChild(docLink);\n",
              "        }\n",
              "      </script>\n",
              "    </div>\n",
              "  </div>\n",
              "  "
            ]
          },
          "metadata": {},
          "execution_count": 316
        }
      ]
    },
    {
      "cell_type": "code",
      "source": [
        "#Starting df for plotting\n",
        "countries_df.info()"
      ],
      "metadata": {
        "id": "ijn14nPEbHgy",
        "colab": {
          "base_uri": "https://localhost:8080/"
        },
        "outputId": "22e2671a-e385-4064-b19e-80a685793291"
      },
      "execution_count": 317,
      "outputs": [
        {
          "output_type": "stream",
          "name": "stdout",
          "text": [
            "<class 'pandas.core.frame.DataFrame'>\n",
            "DatetimeIndex: 14977 entries, 2019-11-25 to 2021-01-20\n",
            "Data columns (total 5 columns):\n",
            " #   Column             Non-Null Count  Dtype         \n",
            "---  ------             --------------  -----         \n",
            " 0   Accession #        14977 non-null  object        \n",
            " 1   Reporting Country  14977 non-null  object        \n",
            " 2   Type               14873 non-null  category      \n",
            " 3   Sales              14977 non-null  int64         \n",
            " 4   Year_Month         14977 non-null  datetime64[ns]\n",
            "dtypes: category(1), datetime64[ns](1), int64(1), object(2)\n",
            "memory usage: 1.1+ MB\n"
          ]
        }
      ]
    },
    {
      "cell_type": "code",
      "source": [
        "#Plot the total number of by country over time"
      ],
      "metadata": {
        "id": "IsLk-bYU_jdh"
      },
      "execution_count": 271,
      "outputs": []
    },
    {
      "cell_type": "code",
      "source": [
        "#Select the time horizion to analyse\n",
        "start_date = \"2020\"\n",
        "end_date = \"2022-08\"\n",
        "#Select the # of countries to be analyses based on the maxiumum number of samplesin \n",
        "#the time horizon\n",
        "num_countries = 6\n",
        "#Create the dataframe relevant for the time periode which should be analysed\n",
        "countries_df = countries_df.loc[start_date:end_date].copy()\n",
        "print(f\"The number of samples in this dataframe is {countries_df.shape[0]}\")"
      ],
      "metadata": {
        "colab": {
          "base_uri": "https://localhost:8080/"
        },
        "id": "r-TpAyBmH9o_",
        "outputId": "464dbf44-1fa1-456a-ceb7-129f814bdf07"
      },
      "execution_count": 318,
      "outputs": [
        {
          "output_type": "stream",
          "name": "stdout",
          "text": [
            "The number of samples in this dataframe is 11197\n"
          ]
        }
      ]
    },
    {
      "cell_type": "code",
      "source": [
        "#Create a dataframe with just the topx countries by number of tests sold\n",
        "top_x = countries_df.groupby('Reporting Country').sum().sort_values(\"Sales\",ascending = False).head(num_countries)\n",
        "top_x_list = top_x.index.tolist()\n",
        "top_x_sales =countries_df[countries_df['Reporting Country'].isin(top_x_list)]\n",
        "print(f\"The top 5 countries have {top_x_sales.shape[0]} samples which represents {top_x_sales.shape[0]/countries_df.shape[0]:.2%}\")"
      ],
      "metadata": {
        "colab": {
          "base_uri": "https://localhost:8080/"
        },
        "id": "EFLzVRDFTmq1",
        "outputId": "3f03d5f0-dfeb-476e-b41a-dbdc15509ee1"
      },
      "execution_count": 319,
      "outputs": [
        {
          "output_type": "stream",
          "name": "stdout",
          "text": [
            "The top 5 countries have 9260 samples which represents 82.70%\n"
          ]
        }
      ]
    },
    {
      "cell_type": "code",
      "source": [
        "#Starting dataframe for plotting with date defined and the number of countries\n",
        "top_x_sales.info()"
      ],
      "metadata": {
        "colab": {
          "base_uri": "https://localhost:8080/"
        },
        "id": "bZB2YBlhcBEx",
        "outputId": "a5df12ee-94f2-40dc-9630-d315d28ddd82"
      },
      "execution_count": 325,
      "outputs": [
        {
          "output_type": "stream",
          "name": "stdout",
          "text": [
            "<class 'pandas.core.frame.DataFrame'>\n",
            "DatetimeIndex: 9260 entries, 2020-03-09 to 2021-01-20\n",
            "Data columns (total 5 columns):\n",
            " #   Column             Non-Null Count  Dtype         \n",
            "---  ------             --------------  -----         \n",
            " 0   Accession #        9260 non-null   object        \n",
            " 1   Reporting Country  9260 non-null   object        \n",
            " 2   Type               9248 non-null   category      \n",
            " 3   Sales              9260 non-null   int64         \n",
            " 4   Year_Month         9260 non-null   datetime64[ns]\n",
            "dtypes: category(1), datetime64[ns](1), int64(1), object(2)\n",
            "memory usage: 371.0+ KB\n"
          ]
        }
      ]
    },
    {
      "cell_type": "code",
      "source": [
        "#Merging the GH trials and LUNAR into ISTs\n",
        "\n",
        "def merge_ISTs(x):\n",
        "  if x == \"GH Trials (Prospective)\":\n",
        "    return \"ISTs\"\n",
        "  elif x == \"Lunar\":\n",
        "    return \"ISTs\"\n",
        "  else:\n",
        "    return x"
      ],
      "metadata": {
        "id": "K7-GAnVEgnSl"
      },
      "execution_count": 333,
      "outputs": []
    },
    {
      "cell_type": "code",
      "source": [
        "top_x_sales[\"Type\"] = top_x_sales[\"Type\"].map(merge_ISTs)\n",
        "\n",
        "top_x_sales[\"Type\"].value_counts()"
      ],
      "metadata": {
        "colab": {
          "base_uri": "https://localhost:8080/"
        },
        "id": "Fi5LQ-5xhjZt",
        "outputId": "afede501-7f00-4e5b-c4f1-d8bfe7de90bf"
      },
      "execution_count": 341,
      "outputs": [
        {
          "output_type": "execute_result",
          "data": {
            "text/plain": [
              "Biopharma     2951\n",
              "Commercial    2571\n",
              "ISTs          2034\n",
              "GAP           1692\n",
              "Name: Type, dtype: int64"
            ]
          },
          "metadata": {},
          "execution_count": 341
        }
      ]
    },
    {
      "cell_type": "code",
      "source": [
        "all_countries_by_type = top_x_sales.groupby(['Year_Month', \"Type\"]).sum().reset_index()\n",
        "all_countries_by_type.head(3)"
      ],
      "metadata": {
        "id": "rCD9_5QNUwk1",
        "colab": {
          "base_uri": "https://localhost:8080/",
          "height": 143
        },
        "outputId": "0f2d30f3-4967-49ba-be4e-5753757170e4"
      },
      "execution_count": 344,
      "outputs": [
        {
          "output_type": "execute_result",
          "data": {
            "text/plain": [
              "  Year_Month        Type  Sales\n",
              "0 2020-01-01   Biopharma     46\n",
              "1 2020-01-01  Commercial     51\n",
              "2 2020-01-01         GAP     37"
            ],
            "text/html": [
              "\n",
              "  <div id=\"df-7405d498-1e09-432d-8dd1-03d2e65cbdb9\">\n",
              "    <div class=\"colab-df-container\">\n",
              "      <div>\n",
              "<style scoped>\n",
              "    .dataframe tbody tr th:only-of-type {\n",
              "        vertical-align: middle;\n",
              "    }\n",
              "\n",
              "    .dataframe tbody tr th {\n",
              "        vertical-align: top;\n",
              "    }\n",
              "\n",
              "    .dataframe thead th {\n",
              "        text-align: right;\n",
              "    }\n",
              "</style>\n",
              "<table border=\"1\" class=\"dataframe\">\n",
              "  <thead>\n",
              "    <tr style=\"text-align: right;\">\n",
              "      <th></th>\n",
              "      <th>Year_Month</th>\n",
              "      <th>Type</th>\n",
              "      <th>Sales</th>\n",
              "    </tr>\n",
              "  </thead>\n",
              "  <tbody>\n",
              "    <tr>\n",
              "      <th>0</th>\n",
              "      <td>2020-01-01</td>\n",
              "      <td>Biopharma</td>\n",
              "      <td>46</td>\n",
              "    </tr>\n",
              "    <tr>\n",
              "      <th>1</th>\n",
              "      <td>2020-01-01</td>\n",
              "      <td>Commercial</td>\n",
              "      <td>51</td>\n",
              "    </tr>\n",
              "    <tr>\n",
              "      <th>2</th>\n",
              "      <td>2020-01-01</td>\n",
              "      <td>GAP</td>\n",
              "      <td>37</td>\n",
              "    </tr>\n",
              "  </tbody>\n",
              "</table>\n",
              "</div>\n",
              "      <button class=\"colab-df-convert\" onclick=\"convertToInteractive('df-7405d498-1e09-432d-8dd1-03d2e65cbdb9')\"\n",
              "              title=\"Convert this dataframe to an interactive table.\"\n",
              "              style=\"display:none;\">\n",
              "        \n",
              "  <svg xmlns=\"http://www.w3.org/2000/svg\" height=\"24px\"viewBox=\"0 0 24 24\"\n",
              "       width=\"24px\">\n",
              "    <path d=\"M0 0h24v24H0V0z\" fill=\"none\"/>\n",
              "    <path d=\"M18.56 5.44l.94 2.06.94-2.06 2.06-.94-2.06-.94-.94-2.06-.94 2.06-2.06.94zm-11 1L8.5 8.5l.94-2.06 2.06-.94-2.06-.94L8.5 2.5l-.94 2.06-2.06.94zm10 10l.94 2.06.94-2.06 2.06-.94-2.06-.94-.94-2.06-.94 2.06-2.06.94z\"/><path d=\"M17.41 7.96l-1.37-1.37c-.4-.4-.92-.59-1.43-.59-.52 0-1.04.2-1.43.59L10.3 9.45l-7.72 7.72c-.78.78-.78 2.05 0 2.83L4 21.41c.39.39.9.59 1.41.59.51 0 1.02-.2 1.41-.59l7.78-7.78 2.81-2.81c.8-.78.8-2.07 0-2.86zM5.41 20L4 18.59l7.72-7.72 1.47 1.35L5.41 20z\"/>\n",
              "  </svg>\n",
              "      </button>\n",
              "      \n",
              "  <style>\n",
              "    .colab-df-container {\n",
              "      display:flex;\n",
              "      flex-wrap:wrap;\n",
              "      gap: 12px;\n",
              "    }\n",
              "\n",
              "    .colab-df-convert {\n",
              "      background-color: #E8F0FE;\n",
              "      border: none;\n",
              "      border-radius: 50%;\n",
              "      cursor: pointer;\n",
              "      display: none;\n",
              "      fill: #1967D2;\n",
              "      height: 32px;\n",
              "      padding: 0 0 0 0;\n",
              "      width: 32px;\n",
              "    }\n",
              "\n",
              "    .colab-df-convert:hover {\n",
              "      background-color: #E2EBFA;\n",
              "      box-shadow: 0px 1px 2px rgba(60, 64, 67, 0.3), 0px 1px 3px 1px rgba(60, 64, 67, 0.15);\n",
              "      fill: #174EA6;\n",
              "    }\n",
              "\n",
              "    [theme=dark] .colab-df-convert {\n",
              "      background-color: #3B4455;\n",
              "      fill: #D2E3FC;\n",
              "    }\n",
              "\n",
              "    [theme=dark] .colab-df-convert:hover {\n",
              "      background-color: #434B5C;\n",
              "      box-shadow: 0px 1px 3px 1px rgba(0, 0, 0, 0.15);\n",
              "      filter: drop-shadow(0px 1px 2px rgba(0, 0, 0, 0.3));\n",
              "      fill: #FFFFFF;\n",
              "    }\n",
              "  </style>\n",
              "\n",
              "      <script>\n",
              "        const buttonEl =\n",
              "          document.querySelector('#df-7405d498-1e09-432d-8dd1-03d2e65cbdb9 button.colab-df-convert');\n",
              "        buttonEl.style.display =\n",
              "          google.colab.kernel.accessAllowed ? 'block' : 'none';\n",
              "\n",
              "        async function convertToInteractive(key) {\n",
              "          const element = document.querySelector('#df-7405d498-1e09-432d-8dd1-03d2e65cbdb9');\n",
              "          const dataTable =\n",
              "            await google.colab.kernel.invokeFunction('convertToInteractive',\n",
              "                                                     [key], {});\n",
              "          if (!dataTable) return;\n",
              "\n",
              "          const docLinkHtml = 'Like what you see? Visit the ' +\n",
              "            '<a target=\"_blank\" href=https://colab.research.google.com/notebooks/data_table.ipynb>data table notebook</a>'\n",
              "            + ' to learn more about interactive tables.';\n",
              "          element.innerHTML = '';\n",
              "          dataTable['output_type'] = 'display_data';\n",
              "          await google.colab.output.renderOutput(dataTable, element);\n",
              "          const docLink = document.createElement('div');\n",
              "          docLink.innerHTML = docLinkHtml;\n",
              "          element.appendChild(docLink);\n",
              "        }\n",
              "      </script>\n",
              "    </div>\n",
              "  </div>\n",
              "  "
            ]
          },
          "metadata": {},
          "execution_count": 344
        }
      ]
    },
    {
      "cell_type": "code",
      "source": [
        "#Use relpot for plotting"
      ],
      "metadata": {
        "id": "pa1QNYqQY9KS"
      },
      "execution_count": null,
      "outputs": []
    },
    {
      "cell_type": "code",
      "source": [
        "g = sns.relplot(data = all_countries_by_type, x = \"Year_Month\", y = \"Sales\", kind = \"line\", col = \"Type\", color = \"#7851a9\", linewidth=4)\n",
        "g.set_xticklabels(rotation = \"90\")\n",
        "g.set_ylabels(\"Tests per Month\")\n",
        "g.set_xlabels(\"Time in Months\")\n",
        "g.set_titles(col_template = '{col_name}')\n",
        "plt.show()\n",
        "#plt.xticks( rotation = \"90\")\n"
      ],
      "metadata": {
        "colab": {
          "base_uri": "https://localhost:8080/",
          "height": 401
        },
        "id": "yF9r7ff9Y82K",
        "outputId": "ed168047-19be-479b-f178-f2899a0e573d"
      },
      "execution_count": 360,
      "outputs": [
        {
          "output_type": "display_data",
          "data": {
            "text/plain": [
              "<Figure size 1440x360 with 4 Axes>"
            ],
            "image/png": "[encoded data removed]"
          },
          "metadata": {}
        }
      ]
    },
    {
      "cell_type": "code",
      "source": [
        "grouped_countries.shape"
      ],
      "metadata": {
        "colab": {
          "base_uri": "https://localhost:8080/"
        },
        "id": "s7Murw9OCy8l",
        "outputId": "24c12965-def9-4c83-88ea-946326c1f81c"
      },
      "execution_count": 314,
      "outputs": [
        {
          "output_type": "execute_result",
          "data": {
            "text/plain": [
              "(2, 3)"
            ]
          },
          "metadata": {},
          "execution_count": 314
        }
      ]
    },
    {
      "cell_type": "code",
      "source": [
        "\n",
        "sns.relplot( data = grouped_countries, y = \"Sales\", x = \"Year_Month\", kind = \"line\", \n",
        "            hue = \"Reporting Country\" , col = \"Reporting Country\",\n",
        "            col_wrap=3, height=2, aspect=2, legend=False)\n",
        "\n",
        "plt.xticks( rotation = \"90\")\n",
        "plt.ylabel('Monthly Count')\n",
        "plt.xlabel('Year & Month')\n",
        "\n",
        "\n",
        "\n",
        "plt.show()"
      ],
      "metadata": {
        "colab": {
          "base_uri": "https://localhost:8080/",
          "height": 185
        },
        "id": "YVYze5txhNHt",
        "outputId": "149f5257-0655-40ee-a784-71531ee5830f"
      },
      "execution_count": 311,
      "outputs": [
        {
          "output_type": "display_data",
          "data": {
            "text/plain": [
              "<Figure size 864x144 with 2 Axes>"
            ],
            "image/png": "[encoded data removed]"
          },
          "metadata": {}
        }
      ]
    },
    {
      "cell_type": "markdown",
      "source": [
        " ## Plots"
      ],
      "metadata": {
        "id": "iliGWRqM77hp"
      }
    },
    {
      "cell_type": "code",
      "source": [
        "countries_df = countries_df.drop(\"Accession #\", axis = 1)\n",
        "countries_df.head()"
      ],
      "metadata": {
        "colab": {
          "base_uri": "https://localhost:8080/",
          "height": 238
        },
        "id": "70TZTSTe78bO",
        "outputId": "b8e71b30-59a0-4a85-a8e0-6998d10a3ed1"
      },
      "execution_count": 277,
      "outputs": [
        {
          "output_type": "execute_result",
          "data": {
            "text/plain": [
              "              Reporting Country       Type  Sales Year_Month\n",
              "Date Received                                               \n",
              "2020-02-27              BELGIUM  Biopharma      1 2020-02-01\n",
              "2020-06-01              BELGIUM  Biopharma      1 2020-06-01\n",
              "2020-03-09               FRANCE  Biopharma      1 2020-03-01\n",
              "2020-03-09          SWITZERLAND  Biopharma      1 2020-03-01\n",
              "2020-03-16          SWITZERLAND  Biopharma      1 2020-03-01"
            ],
            "text/html": [
              "\n",
              "  <div id=\"df-d078bdcb-285f-48f1-9e9c-7a51ba1d7e10\">\n",
              "    <div class=\"colab-df-container\">\n",
              "      <div>\n",
              "<style scoped>\n",
              "    .dataframe tbody tr th:only-of-type {\n",
              "        vertical-align: middle;\n",
              "    }\n",
              "\n",
              "    .dataframe tbody tr th {\n",
              "        vertical-align: top;\n",
              "    }\n",
              "\n",
              "    .dataframe thead th {\n",
              "        text-align: right;\n",
              "    }\n",
              "</style>\n",
              "<table border=\"1\" class=\"dataframe\">\n",
              "  <thead>\n",
              "    <tr style=\"text-align: right;\">\n",
              "      <th></th>\n",
              "      <th>Reporting Country</th>\n",
              "      <th>Type</th>\n",
              "      <th>Sales</th>\n",
              "      <th>Year_Month</th>\n",
              "    </tr>\n",
              "    <tr>\n",
              "      <th>Date Received</th>\n",
              "      <th></th>\n",
              "      <th></th>\n",
              "      <th></th>\n",
              "      <th></th>\n",
              "    </tr>\n",
              "  </thead>\n",
              "  <tbody>\n",
              "    <tr>\n",
              "      <th>2020-02-27</th>\n",
              "      <td>BELGIUM</td>\n",
              "      <td>Biopharma</td>\n",
              "      <td>1</td>\n",
              "      <td>2020-02-01</td>\n",
              "    </tr>\n",
              "    <tr>\n",
              "      <th>2020-06-01</th>\n",
              "      <td>BELGIUM</td>\n",
              "      <td>Biopharma</td>\n",
              "      <td>1</td>\n",
              "      <td>2020-06-01</td>\n",
              "    </tr>\n",
              "    <tr>\n",
              "      <th>2020-03-09</th>\n",
              "      <td>FRANCE</td>\n",
              "      <td>Biopharma</td>\n",
              "      <td>1</td>\n",
              "      <td>2020-03-01</td>\n",
              "    </tr>\n",
              "    <tr>\n",
              "      <th>2020-03-09</th>\n",
              "      <td>SWITZERLAND</td>\n",
              "      <td>Biopharma</td>\n",
              "      <td>1</td>\n",
              "      <td>2020-03-01</td>\n",
              "    </tr>\n",
              "    <tr>\n",
              "      <th>2020-03-16</th>\n",
              "      <td>SWITZERLAND</td>\n",
              "      <td>Biopharma</td>\n",
              "      <td>1</td>\n",
              "      <td>2020-03-01</td>\n",
              "    </tr>\n",
              "  </tbody>\n",
              "</table>\n",
              "</div>\n",
              "      <button class=\"colab-df-convert\" onclick=\"convertToInteractive('df-d078bdcb-285f-48f1-9e9c-7a51ba1d7e10')\"\n",
              "              title=\"Convert this dataframe to an interactive table.\"\n",
              "              style=\"display:none;\">\n",
              "        \n",
              "  <svg xmlns=\"http://www.w3.org/2000/svg\" height=\"24px\"viewBox=\"0 0 24 24\"\n",
              "       width=\"24px\">\n",
              "    <path d=\"M0 0h24v24H0V0z\" fill=\"none\"/>\n",
              "    <path d=\"M18.56 5.44l.94 2.06.94-2.06 2.06-.94-2.06-.94-.94-2.06-.94 2.06-2.06.94zm-11 1L8.5 8.5l.94-2.06 2.06-.94-2.06-.94L8.5 2.5l-.94 2.06-2.06.94zm10 10l.94 2.06.94-2.06 2.06-.94-2.06-.94-.94-2.06-.94 2.06-2.06.94z\"/><path d=\"M17.41 7.96l-1.37-1.37c-.4-.4-.92-.59-1.43-.59-.52 0-1.04.2-1.43.59L10.3 9.45l-7.72 7.72c-.78.78-.78 2.05 0 2.83L4 21.41c.39.39.9.59 1.41.59.51 0 1.02-.2 1.41-.59l7.78-7.78 2.81-2.81c.8-.78.8-2.07 0-2.86zM5.41 20L4 18.59l7.72-7.72 1.47 1.35L5.41 20z\"/>\n",
              "  </svg>\n",
              "      </button>\n",
              "      \n",
              "  <style>\n",
              "    .colab-df-container {\n",
              "      display:flex;\n",
              "      flex-wrap:wrap;\n",
              "      gap: 12px;\n",
              "    }\n",
              "\n",
              "    .colab-df-convert {\n",
              "      background-color: #E8F0FE;\n",
              "      border: none;\n",
              "      border-radius: 50%;\n",
              "      cursor: pointer;\n",
              "      display: none;\n",
              "      fill: #1967D2;\n",
              "      height: 32px;\n",
              "      padding: 0 0 0 0;\n",
              "      width: 32px;\n",
              "    }\n",
              "\n",
              "    .colab-df-convert:hover {\n",
              "      background-color: #E2EBFA;\n",
              "      box-shadow: 0px 1px 2px rgba(60, 64, 67, 0.3), 0px 1px 3px 1px rgba(60, 64, 67, 0.15);\n",
              "      fill: #174EA6;\n",
              "    }\n",
              "\n",
              "    [theme=dark] .colab-df-convert {\n",
              "      background-color: #3B4455;\n",
              "      fill: #D2E3FC;\n",
              "    }\n",
              "\n",
              "    [theme=dark] .colab-df-convert:hover {\n",
              "      background-color: #434B5C;\n",
              "      box-shadow: 0px 1px 3px 1px rgba(0, 0, 0, 0.15);\n",
              "      filter: drop-shadow(0px 1px 2px rgba(0, 0, 0, 0.3));\n",
              "      fill: #FFFFFF;\n",
              "    }\n",
              "  </style>\n",
              "\n",
              "      <script>\n",
              "        const buttonEl =\n",
              "          document.querySelector('#df-d078bdcb-285f-48f1-9e9c-7a51ba1d7e10 button.colab-df-convert');\n",
              "        buttonEl.style.display =\n",
              "          google.colab.kernel.accessAllowed ? 'block' : 'none';\n",
              "\n",
              "        async function convertToInteractive(key) {\n",
              "          const element = document.querySelector('#df-d078bdcb-285f-48f1-9e9c-7a51ba1d7e10');\n",
              "          const dataTable =\n",
              "            await google.colab.kernel.invokeFunction('convertToInteractive',\n",
              "                                                     [key], {});\n",
              "          if (!dataTable) return;\n",
              "\n",
              "          const docLinkHtml = 'Like what you see? Visit the ' +\n",
              "            '<a target=\"_blank\" href=https://colab.research.google.com/notebooks/data_table.ipynb>data table notebook</a>'\n",
              "            + ' to learn more about interactive tables.';\n",
              "          element.innerHTML = '';\n",
              "          dataTable['output_type'] = 'display_data';\n",
              "          await google.colab.output.renderOutput(dataTable, element);\n",
              "          const docLink = document.createElement('div');\n",
              "          docLink.innerHTML = docLinkHtml;\n",
              "          element.appendChild(docLink);\n",
              "        }\n",
              "      </script>\n",
              "    </div>\n",
              "  </div>\n",
              "  "
            ]
          },
          "metadata": {},
          "execution_count": 277
        }
      ]
    },
    {
      "cell_type": "code",
      "source": [],
      "metadata": {
        "id": "KuPsQtS_fuSA"
      },
      "execution_count": 281,
      "outputs": []
    },
    {
      "cell_type": "markdown",
      "source": [
        "#### Use the subplots method"
      ],
      "metadata": {
        "id": "oXKCHu1o-ASw"
      }
    },
    {
      "cell_type": "code",
      "source": [
        "#fig, axes = plt.subplots(2, 3, figsize=(24, 12), sharey = False)\n",
        "\n",
        "#for col, ax in zip(col_list, axes.flatten()):\n",
        " #  sns.lineplot(data =  sandbox, x = \"Year_Month\", y = \"Sales\" , hue = \"Type\", ax = ax)\n",
        "   #ax.plot(t.index, t[col], hue = \"Type\" color = \"#ae34eb\")\n",
        "  # ax.set_title(col[1])"
      ],
      "metadata": {
        "id": "HArc3jRg97Ex"
      },
      "execution_count": 282,
      "outputs": []
    },
    {
      "cell_type": "code",
      "source": [
        "#fig, axes = plt.subplots(2, 3, figsize=(24, 12), sharey = False)\n",
        "\n",
        "#for col, ax in zip(col_list, axes.flatten()):\n",
        "   #sns.lineplot(data =  sandbox, x = \"Year_Month\", y = \"Sales\" , hue = \"Type\", ax = ax)\n",
        "   #ax.plot(sandbox.index, sandbox[col], color = \"#ae34eb\")\n",
        "   #ax.set_title(col[1])"
      ],
      "metadata": {
        "id": "x2Nn9POt97t5"
      },
      "execution_count": 283,
      "outputs": []
    },
    {
      "cell_type": "code",
      "source": [],
      "metadata": {
        "id": "_VXbQhV5974y"
      },
      "execution_count": 283,
      "outputs": []
    },
    {
      "cell_type": "code",
      "source": [],
      "metadata": {
        "id": "-dKa4I8SjbUD"
      },
      "execution_count": 283,
      "outputs": []
    },
    {
      "cell_type": "code",
      "source": [],
      "metadata": {
        "id": "dXKkPvg86zWR"
      },
      "execution_count": 283,
      "outputs": []
    },
    {
      "cell_type": "code",
      "source": [],
      "metadata": {
        "id": "isAP4uiG2DMi"
      },
      "execution_count": 283,
      "outputs": []
    },
    {
      "cell_type": "code",
      "source": [],
      "metadata": {
        "id": "mDMA7RNp2ENK"
      },
      "execution_count": 283,
      "outputs": []
    },
    {
      "cell_type": "code",
      "source": [],
      "metadata": {
        "id": "f-PVg4sv2FpL"
      },
      "execution_count": 283,
      "outputs": []
    },
    {
      "cell_type": "code",
      "source": [],
      "metadata": {
        "id": "3qQVoMVdzgnN"
      },
      "execution_count": 283,
      "outputs": []
    }
  ]
}