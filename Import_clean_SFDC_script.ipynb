{
  "nbformat": 4,
  "nbformat_minor": 0,
  "metadata": {
    "colab": {
      "provenance": [],
      "collapsed_sections": [],
      "mount_file_id": "1TQXXPnFQWIdLAN3OjU1DfPxwMMCygS82",
      "authorship_tag": "ABX9TyOtEVLcqPLSY80unfFiRT+g",
      "include_colab_link": true
    },
    "kernelspec": {
      "name": "python3",
      "display_name": "Python 3"
    },
    "language_info": {
      "name": "python"
    }
  },
  "cells": [
    {
      "cell_type": "markdown",
      "metadata": {
        "id": "view-in-github",
        "colab_type": "text"
      },
      "source": [
        "<a href=\"https://colab.research.google.com/github/SilverSurferClash/Sales_analysis/blob/main/Import_clean_SFDC_script.ipynb\" target=\"_parent\"><img src=\"https://colab.research.google.com/assets/colab-badge.svg\" alt=\"Open In Colab\"/></a>"
      ]
    },
    {
      "cell_type": "code",
      "execution_count": 1,
      "metadata": {
        "colab": {
          "base_uri": "https://localhost:8080/"
        },
        "id": "tb4gPZsURoZL",
        "outputId": "ed9c33d6-bfa1-49a5-f365-299e2b4809c6"
      },
      "outputs": [
        {
          "output_type": "stream",
          "name": "stdout",
          "text": [
            "Drive already mounted at /content/drive; to attempt to forcibly remount, call drive.mount(\"/content/drive\", force_remount=True).\n"
          ]
        }
      ],
      "source": [
        "from google.colab import drive\n",
        "drive.mount('/content/drive')"
      ]
    },
    {
      "cell_type": "code",
      "source": [
        "#!pip freeze > requirements.txt"
      ],
      "metadata": {
        "id": "-mgME99mR4O6"
      },
      "execution_count": 2,
      "outputs": []
    },
    {
      "cell_type": "code",
      "source": [
        "import numpy as np\n",
        "import pandas as pd\n",
        "import matplotlib.pyplot as plt\n",
        "plt.style.use('dark_background')\n",
        "import seaborn as sns\n",
        "import os\n",
        "pd.set_option('display.max_columns', None)\n",
        "#pd.set_option('display.max_rows', None)\n",
        "pd.set_option('display.precision', 2)\n",
        "#Use option to round floats to two decimals\n",
        "#pd.set_option('display.float_format',  '{:,.2f}'.format)\n",
        "# Use option to display $ dollars\n",
        "#pd.set_option('display.float_format', '${:.2f}'.format)\n",
        "\n",
        "# Plotting pretty figures and avoid blurry images\n",
        "#%config InlineBackend.figure_format = 'retina'\n",
        "# Larger scale for plots in notebooks\n",
        "#sns.set_context('notebook')\n",
        "\n",
        "\n",
        "# Enable multiple cell outputs\n",
        "#from IPython.core.interactiveshell import InteractiveShell\n",
        "#InteractiveShell.ast_node_interactivity = 'all'\n",
        "\n",
        "import warnings\n",
        "warnings.filterwarnings('ignore')              \n"
      ],
      "metadata": {
        "id": "_GQ-qUZJo8VP"
      },
      "execution_count": 3,
      "outputs": []
    },
    {
      "cell_type": "code",
      "source": [
        "os.getcwd()"
      ],
      "metadata": {
        "colab": {
          "base_uri": "https://localhost:8080/",
          "height": 36
        },
        "id": "G8E9lAf0o9MA",
        "outputId": "9f515bbd-cfd6-4ca2-f56c-71b6097dfcdc"
      },
      "execution_count": 4,
      "outputs": [
        {
          "output_type": "execute_result",
          "data": {
            "text/plain": [
              "'/content'"
            ],
            "application/vnd.google.colaboratory.intrinsic+json": {
              "type": "string"
            }
          },
          "metadata": {},
          "execution_count": 4
        }
      ]
    },
    {
      "cell_type": "code",
      "source": [
        "os.chdir(\"/content/drive/MyDrive/Colab_Notebooks/Sales_Analysis\")"
      ],
      "metadata": {
        "id": "yFwfXOr-G3CK"
      },
      "execution_count": 5,
      "outputs": []
    },
    {
      "cell_type": "markdown",
      "source": [
        "#### Helper function"
      ],
      "metadata": {
        "id": "xQA4tOOx7uhz"
      }
    },
    {
      "cell_type": "code",
      "source": [
        "#Create a function that use the second element if the list has a length of 2 other return unknown\n",
        "\n",
        "def clean_up_account(list_of_names):\n",
        "\n",
        "  if len(list_of_names) == 2:\n",
        "    return list_of_names[1]\n",
        "  else:\n",
        "    return list_of_names[0]\n"
      ],
      "metadata": {
        "id": "Qi0iM2y87sv6"
      },
      "execution_count": 6,
      "outputs": []
    },
    {
      "cell_type": "code",
      "source": [
        "#Create a function to clean up the Billing type feature\n"
      ],
      "metadata": {
        "id": "Ets_aMh47sDT"
      },
      "execution_count": 7,
      "outputs": []
    },
    {
      "cell_type": "markdown",
      "source": [
        "Import helper data"
      ],
      "metadata": {
        "id": "3Hna78HQrh41"
      }
    },
    {
      "cell_type": "code",
      "source": [
        "#Import lookup table for countries\n",
        "lookup_countries = pd.read_excel(\"./lookup.xlsx\", sheet_name = 0)\n",
        "#Import the data from SFDC as a excel file\n",
        "import_sfdc = pd.read_excel(\"./All Data EUAA-2022-10-25-12-29-00.xlsx\", sheet_name = 0, \n",
        "                            skiprows = 10)\n",
        "#Create dictionairy for maping the lookup value\n",
        "country_dict = dict(zip(lookup_countries[\"Reporting_Country_short\"], lookup_countries[\"Account_Reporting_Country\"]))\n",
        "#Import lookup table for countries\n",
        "lookup_type = pd.read_excel(\"./lookup.xlsx\", sheet_name = \"Type\")\n",
        "#Create dictionairy for maping the lookup values for LIMS ID\n",
        "type_dict = dict(zip(lookup_type[\"LIMS Project ID\"], lookup_type[\"Type\"]))\n",
        "\n",
        "#Import lookup Cancer Type\n",
        "lookup_cancer_type = pd.read_excel(\"./lookup.xlsx\", sheet_name = \"Cancer_type\")\n",
        "cancer_type_dict = dict(zip(lookup_cancer_type[\"Old\"], lookup_cancer_type[\"New\"]))\n",
        "\n",
        "#Inport lookun Billing_type - Needs further work\n",
        "#lookup_billing_type = pd.read_excel(\"./lookup.xlsx\", sheet_name = \"Billing_type\")\n",
        "#billing_type_dict = dict(zip(lookup_billing_type[\"Billing Type\"], lookup_billing_type[\"Billing Type.1\"]))\n"
      ],
      "metadata": {
        "id": "sYKe6D1GrnoC"
      },
      "execution_count": 8,
      "outputs": []
    },
    {
      "cell_type": "code",
      "source": [
        "#Identify which LIMS id are not in the lookup\n",
        "unique_LIMS_id = list(set(import_sfdc[\"LIMS Project ID\"]))\n",
        "unique_lookup_id = list(set(lookup_type[\"LIMS Project ID\"]))\n",
        "list(set(unique_LIMS_id) - set(unique_lookup_id ))"
      ],
      "metadata": {
        "colab": {
          "base_uri": "https://localhost:8080/"
        },
        "id": "UzwivZuDOvd8",
        "outputId": "a1aeaa1c-66d8-450f-b266-a43745698a7d"
      },
      "execution_count": 9,
      "outputs": [
        {
          "output_type": "execute_result",
          "data": {
            "text/plain": [
              "[nan, 'OCT_1R', 'GAP_09', 'GAP_04', 'RHI_04', 'AZN_test_96', 'JNS_01']"
            ]
          },
          "metadata": {},
          "execution_count": 9
        }
      ]
    },
    {
      "cell_type": "code",
      "source": [
        "import_sfdc.info()"
      ],
      "metadata": {
        "colab": {
          "base_uri": "https://localhost:8080/"
        },
        "id": "CRdLX7kGWahb",
        "outputId": "f54ded5e-16b4-4e07-fa81-3fc8ff6640fc"
      },
      "execution_count": 10,
      "outputs": [
        {
          "output_type": "stream",
          "name": "stdout",
          "text": [
            "<class 'pandas.core.frame.DataFrame'>\n",
            "RangeIndex: 14982 entries, 0 to 14981\n",
            "Data columns (total 12 columns):\n",
            " #   Column                 Non-Null Count  Dtype  \n",
            "---  ------                 --------------  -----  \n",
            " 0   Unnamed: 0             0 non-null      float64\n",
            " 1   Accession #            14980 non-null  object \n",
            " 2   Unnamed: 2             1 non-null      object \n",
            " 3   Reporting Country      14978 non-null  object \n",
            " 4   Billing Type           14949 non-null  object \n",
            " 5   LIMS Project ID        14977 non-null  object \n",
            " 6   Account: Account Name  14977 non-null  object \n",
            " 7   Contact: Full Name     14977 non-null  object \n",
            " 8   Date Received          14977 non-null  object \n",
            " 9   Final Report Date      13479 non-null  object \n",
            " 10  Test Type              14977 non-null  object \n",
            " 11  Cancer Type            14538 non-null  object \n",
            "dtypes: float64(1), object(11)\n",
            "memory usage: 1.4+ MB\n"
          ]
        }
      ]
    },
    {
      "cell_type": "markdown",
      "source": [
        "#### Import and clean up the data from SFDC"
      ],
      "metadata": {
        "id": "uE-5D5zNmZnR"
      }
    },
    {
      "cell_type": "code",
      "source": [
        "\n",
        "#Remove the first two columns\n",
        "import_sfdc = import_sfdc.drop([\"Unnamed: 0\", \"Unnamed: 2\"], axis = 1)\n",
        "#Drop the last five rows\n",
        "import_sfdc = import_sfdc.iloc[0:-5]\n",
        "#Cast Date Received to datetime object \n",
        "import_sfdc[\"Date Received\"] = pd.to_datetime(import_sfdc[\"Date Received\"])\n",
        "#Clean up the type column\n",
        "import_sfdc[\"Type\"] = import_sfdc[\"LIMS Project ID\"].map(type_dict)\n",
        "\n",
        "#Replace the two letter country code with the full country name\n",
        "import_sfdc[\"Reporting Country\"] = import_sfdc[\"Reporting Country\"].map(country_dict)\n",
        "#Clean up the cancer types and reduce number of categories\n",
        "import_sfdc[\"Cancer Type\"] = import_sfdc[\"Cancer Type\"].map(cancer_type_dict)\n",
        "#Clean up the Account column by removing all strings before the \":\"\n",
        "import_sfdc[\"Account: Account Name\"] = import_sfdc.loc[:, \"Account: Account Name\"].str.split(\":\").apply(clean_up_account)\n",
        "#Clean up the Billing type column \n",
        "#import_sfdc[\"Billing Type\"] = import_sfdc[\"Billing Type\"].map(billing_type_dict)\n",
        "#import_sfdc.tail(6)\n",
        "\n",
        "# Set the date recieved as date index\n",
        "import_sfdc = import_sfdc.set_index(\"Date Received\")\n",
        "\n",
        "import_sfdc.info()"
      ],
      "metadata": {
        "colab": {
          "base_uri": "https://localhost:8080/"
        },
        "id": "n3dl5NF1HsVJ",
        "outputId": "9646788b-98b0-479e-e7f8-0a9136c67cf4"
      },
      "execution_count": 11,
      "outputs": [
        {
          "output_type": "stream",
          "name": "stdout",
          "text": [
            "<class 'pandas.core.frame.DataFrame'>\n",
            "DatetimeIndex: 14977 entries, 2019-11-25 to 2021-01-20\n",
            "Data columns (total 10 columns):\n",
            " #   Column                 Non-Null Count  Dtype \n",
            "---  ------                 --------------  ----- \n",
            " 0   Accession #            14977 non-null  object\n",
            " 1   Reporting Country      14977 non-null  object\n",
            " 2   Billing Type           14949 non-null  object\n",
            " 3   LIMS Project ID        14977 non-null  object\n",
            " 4   Account: Account Name  14977 non-null  object\n",
            " 5   Contact: Full Name     14977 non-null  object\n",
            " 6   Final Report Date      13479 non-null  object\n",
            " 7   Test Type              14977 non-null  object\n",
            " 8   Cancer Type            5343 non-null   object\n",
            " 9   Type                   14873 non-null  object\n",
            "dtypes: object(10)\n",
            "memory usage: 1.3+ MB\n"
          ]
        }
      ]
    },
    {
      "cell_type": "code",
      "source": [],
      "metadata": {
        "id": "exNhswdJXrHG"
      },
      "execution_count": 11,
      "outputs": []
    },
    {
      "cell_type": "code",
      "source": [
        "import_sfdc[\"LIMS Project ID\"]"
      ],
      "metadata": {
        "colab": {
          "base_uri": "https://localhost:8080/"
        },
        "id": "vxCBeMIcXrt_",
        "outputId": "15d21c6d-1375-441a-b3eb-b0d8b3117df7"
      },
      "execution_count": 12,
      "outputs": [
        {
          "output_type": "execute_result",
          "data": {
            "text/plain": [
              "Date Received\n",
              "2019-11-25    AMG_01\n",
              "2019-11-26    AMG_01\n",
              "2019-11-29    AMG_01\n",
              "2019-11-30    AMG_01\n",
              "2019-11-30    AMG_01\n",
              "               ...  \n",
              "2021-01-04    VLT_01\n",
              "2021-01-11    VLT_01\n",
              "2021-01-11    VLT_01\n",
              "2021-01-15    VLT_01\n",
              "2021-01-20    VLT_01\n",
              "Name: LIMS Project ID, Length: 14977, dtype: object"
            ]
          },
          "metadata": {},
          "execution_count": 12
        }
      ]
    },
    {
      "cell_type": "code",
      "source": [
        "#Create date and time features\n",
        "\n",
        "#Create a year, month, quarter variable\n",
        "import_sfdc[\"Month\"] = import_sfdc.index.month\n",
        "import_sfdc[\"Year\"] = import_sfdc.index.year\n",
        "import_sfdc['Quarter'] = import_sfdc.index.quarter\n",
        "#Other feature engineering based on feature analysis below\n",
        "import_sfdc['Sales'] = 1\n",
        "\n",
        "#create a Year Month columns\n",
        "import_sfdc['Year_Month'] = import_sfdc.index.to_period('M')\n",
        "#Cast the Year_Month column to a str\n",
        "import_sfdc['Year_Month'] = import_sfdc['Year_Month'].astype(str)\n",
        "import_sfdc['Year_Month'] = pd.to_datetime(import_sfdc['Year_Month'])\n",
        "#Cast some features to categorical\n",
        "#df['Reporting_Country'] = df['Reporting_Country'].astype('category')\n",
        "import_sfdc['Type'] = import_sfdc['Type'].astype('category')\n"
      ],
      "metadata": {
        "id": "K_ttM0YjFaLd"
      },
      "execution_count": 13,
      "outputs": []
    },
    {
      "cell_type": "code",
      "source": [
        "import_sfdc.sample(5)"
      ],
      "metadata": {
        "colab": {
          "base_uri": "https://localhost:8080/",
          "height": 492
        },
        "id": "gae4FY8E4xbi",
        "outputId": "e8063aec-703d-481b-8769-929db52b0f55"
      },
      "execution_count": 14,
      "outputs": [
        {
          "output_type": "execute_result",
          "data": {
            "text/plain": [
              "              Accession # Reporting Country      Billing Type LIMS Project ID  \\\n",
              "Date Received                                                                   \n",
              "2021-09-20       A0402447             SPAIN      Pharma : ROW          GAP_12   \n",
              "2020-05-29       A0258577           IRELAND  Self-Pay Patient          GHI_01   \n",
              "2019-02-20       A0151464            POLAND      Pharma : ROW          VIS_01   \n",
              "2019-12-21       A0222167    UNITED KINGDOM  Self-Pay Patient          GHI_01   \n",
              "2022-08-17       A0562518    UNITED KINGDOM  Self-Pay Patient          GHI_19   \n",
              "\n",
              "                               Account: Account Name Contact: Full Name  \\\n",
              "Date Received                                                             \n",
              "2021-09-20      Hospital 12 de Octubre–G360 Research      Luis Paz Ares   \n",
              "2020-05-29                      Bon Secours Hospital         Brian Bird   \n",
              "2019-02-20         Specjalistyczna Praktyka Lekarska  Slawomir Mandziuk   \n",
              "2019-12-21              Southampton General Hospital     Peter Simmonds   \n",
              "2022-08-17                        Singleton Hospital   Craig Barrington   \n",
              "\n",
              "              Final Report Date           Test Type Cancer Type        Type  \\\n",
              "Date Received                                                                 \n",
              "2021-09-20            10/1/2021        Guardant 360         NaN         GAP   \n",
              "2020-05-29             6/4/2020        Guardant 360       Other  Commercial   \n",
              "2019-02-20             3/6/2019        Guardant 360         NaN   Biopharma   \n",
              "2019-12-21           12/28/2019        Guardant 360      Breast  Commercial   \n",
              "2022-08-17            8/24/2022  Guardant360 CDx EU         NaN  Commercial   \n",
              "\n",
              "               Month  Year  Quarter  Sales Year_Month  \n",
              "Date Received                                          \n",
              "2021-09-20         9  2021        3      1 2021-09-01  \n",
              "2020-05-29         5  2020        2      1 2020-05-01  \n",
              "2019-02-20         2  2019        1      1 2019-02-01  \n",
              "2019-12-21        12  2019        4      1 2019-12-01  \n",
              "2022-08-17         8  2022        3      1 2022-08-01  "
            ],
            "text/html": [
              "\n",
              "  <div id=\"df-cb49c895-2920-4021-83e3-2fb7252adb5f\">\n",
              "    <div class=\"colab-df-container\">\n",
              "      <div>\n",
              "<style scoped>\n",
              "    .dataframe tbody tr th:only-of-type {\n",
              "        vertical-align: middle;\n",
              "    }\n",
              "\n",
              "    .dataframe tbody tr th {\n",
              "        vertical-align: top;\n",
              "    }\n",
              "\n",
              "    .dataframe thead th {\n",
              "        text-align: right;\n",
              "    }\n",
              "</style>\n",
              "<table border=\"1\" class=\"dataframe\">\n",
              "  <thead>\n",
              "    <tr style=\"text-align: right;\">\n",
              "      <th></th>\n",
              "      <th>Accession #</th>\n",
              "      <th>Reporting Country</th>\n",
              "      <th>Billing Type</th>\n",
              "      <th>LIMS Project ID</th>\n",
              "      <th>Account: Account Name</th>\n",
              "      <th>Contact: Full Name</th>\n",
              "      <th>Final Report Date</th>\n",
              "      <th>Test Type</th>\n",
              "      <th>Cancer Type</th>\n",
              "      <th>Type</th>\n",
              "      <th>Month</th>\n",
              "      <th>Year</th>\n",
              "      <th>Quarter</th>\n",
              "      <th>Sales</th>\n",
              "      <th>Year_Month</th>\n",
              "    </tr>\n",
              "    <tr>\n",
              "      <th>Date Received</th>\n",
              "      <th></th>\n",
              "      <th></th>\n",
              "      <th></th>\n",
              "      <th></th>\n",
              "      <th></th>\n",
              "      <th></th>\n",
              "      <th></th>\n",
              "      <th></th>\n",
              "      <th></th>\n",
              "      <th></th>\n",
              "      <th></th>\n",
              "      <th></th>\n",
              "      <th></th>\n",
              "      <th></th>\n",
              "      <th></th>\n",
              "    </tr>\n",
              "  </thead>\n",
              "  <tbody>\n",
              "    <tr>\n",
              "      <th>2021-09-20</th>\n",
              "      <td>A0402447</td>\n",
              "      <td>SPAIN</td>\n",
              "      <td>Pharma : ROW</td>\n",
              "      <td>GAP_12</td>\n",
              "      <td>Hospital 12 de Octubre–G360 Research</td>\n",
              "      <td>Luis Paz Ares</td>\n",
              "      <td>10/1/2021</td>\n",
              "      <td>Guardant 360</td>\n",
              "      <td>NaN</td>\n",
              "      <td>GAP</td>\n",
              "      <td>9</td>\n",
              "      <td>2021</td>\n",
              "      <td>3</td>\n",
              "      <td>1</td>\n",
              "      <td>2021-09-01</td>\n",
              "    </tr>\n",
              "    <tr>\n",
              "      <th>2020-05-29</th>\n",
              "      <td>A0258577</td>\n",
              "      <td>IRELAND</td>\n",
              "      <td>Self-Pay Patient</td>\n",
              "      <td>GHI_01</td>\n",
              "      <td>Bon Secours Hospital</td>\n",
              "      <td>Brian Bird</td>\n",
              "      <td>6/4/2020</td>\n",
              "      <td>Guardant 360</td>\n",
              "      <td>Other</td>\n",
              "      <td>Commercial</td>\n",
              "      <td>5</td>\n",
              "      <td>2020</td>\n",
              "      <td>2</td>\n",
              "      <td>1</td>\n",
              "      <td>2020-05-01</td>\n",
              "    </tr>\n",
              "    <tr>\n",
              "      <th>2019-02-20</th>\n",
              "      <td>A0151464</td>\n",
              "      <td>POLAND</td>\n",
              "      <td>Pharma : ROW</td>\n",
              "      <td>VIS_01</td>\n",
              "      <td>Specjalistyczna Praktyka Lekarska</td>\n",
              "      <td>Slawomir Mandziuk</td>\n",
              "      <td>3/6/2019</td>\n",
              "      <td>Guardant 360</td>\n",
              "      <td>NaN</td>\n",
              "      <td>Biopharma</td>\n",
              "      <td>2</td>\n",
              "      <td>2019</td>\n",
              "      <td>1</td>\n",
              "      <td>1</td>\n",
              "      <td>2019-02-01</td>\n",
              "    </tr>\n",
              "    <tr>\n",
              "      <th>2019-12-21</th>\n",
              "      <td>A0222167</td>\n",
              "      <td>UNITED KINGDOM</td>\n",
              "      <td>Self-Pay Patient</td>\n",
              "      <td>GHI_01</td>\n",
              "      <td>Southampton General Hospital</td>\n",
              "      <td>Peter Simmonds</td>\n",
              "      <td>12/28/2019</td>\n",
              "      <td>Guardant 360</td>\n",
              "      <td>Breast</td>\n",
              "      <td>Commercial</td>\n",
              "      <td>12</td>\n",
              "      <td>2019</td>\n",
              "      <td>4</td>\n",
              "      <td>1</td>\n",
              "      <td>2019-12-01</td>\n",
              "    </tr>\n",
              "    <tr>\n",
              "      <th>2022-08-17</th>\n",
              "      <td>A0562518</td>\n",
              "      <td>UNITED KINGDOM</td>\n",
              "      <td>Self-Pay Patient</td>\n",
              "      <td>GHI_19</td>\n",
              "      <td>Singleton Hospital</td>\n",
              "      <td>Craig Barrington</td>\n",
              "      <td>8/24/2022</td>\n",
              "      <td>Guardant360 CDx EU</td>\n",
              "      <td>NaN</td>\n",
              "      <td>Commercial</td>\n",
              "      <td>8</td>\n",
              "      <td>2022</td>\n",
              "      <td>3</td>\n",
              "      <td>1</td>\n",
              "      <td>2022-08-01</td>\n",
              "    </tr>\n",
              "  </tbody>\n",
              "</table>\n",
              "</div>\n",
              "      <button class=\"colab-df-convert\" onclick=\"convertToInteractive('df-cb49c895-2920-4021-83e3-2fb7252adb5f')\"\n",
              "              title=\"Convert this dataframe to an interactive table.\"\n",
              "              style=\"display:none;\">\n",
              "        \n",
              "  <svg xmlns=\"http://www.w3.org/2000/svg\" height=\"24px\"viewBox=\"0 0 24 24\"\n",
              "       width=\"24px\">\n",
              "    <path d=\"M0 0h24v24H0V0z\" fill=\"none\"/>\n",
              "    <path d=\"M18.56 5.44l.94 2.06.94-2.06 2.06-.94-2.06-.94-.94-2.06-.94 2.06-2.06.94zm-11 1L8.5 8.5l.94-2.06 2.06-.94-2.06-.94L8.5 2.5l-.94 2.06-2.06.94zm10 10l.94 2.06.94-2.06 2.06-.94-2.06-.94-.94-2.06-.94 2.06-2.06.94z\"/><path d=\"M17.41 7.96l-1.37-1.37c-.4-.4-.92-.59-1.43-.59-.52 0-1.04.2-1.43.59L10.3 9.45l-7.72 7.72c-.78.78-.78 2.05 0 2.83L4 21.41c.39.39.9.59 1.41.59.51 0 1.02-.2 1.41-.59l7.78-7.78 2.81-2.81c.8-.78.8-2.07 0-2.86zM5.41 20L4 18.59l7.72-7.72 1.47 1.35L5.41 20z\"/>\n",
              "  </svg>\n",
              "      </button>\n",
              "      \n",
              "  <style>\n",
              "    .colab-df-container {\n",
              "      display:flex;\n",
              "      flex-wrap:wrap;\n",
              "      gap: 12px;\n",
              "    }\n",
              "\n",
              "    .colab-df-convert {\n",
              "      background-color: #E8F0FE;\n",
              "      border: none;\n",
              "      border-radius: 50%;\n",
              "      cursor: pointer;\n",
              "      display: none;\n",
              "      fill: #1967D2;\n",
              "      height: 32px;\n",
              "      padding: 0 0 0 0;\n",
              "      width: 32px;\n",
              "    }\n",
              "\n",
              "    .colab-df-convert:hover {\n",
              "      background-color: #E2EBFA;\n",
              "      box-shadow: 0px 1px 2px rgba(60, 64, 67, 0.3), 0px 1px 3px 1px rgba(60, 64, 67, 0.15);\n",
              "      fill: #174EA6;\n",
              "    }\n",
              "\n",
              "    [theme=dark] .colab-df-convert {\n",
              "      background-color: #3B4455;\n",
              "      fill: #D2E3FC;\n",
              "    }\n",
              "\n",
              "    [theme=dark] .colab-df-convert:hover {\n",
              "      background-color: #434B5C;\n",
              "      box-shadow: 0px 1px 3px 1px rgba(0, 0, 0, 0.15);\n",
              "      filter: drop-shadow(0px 1px 2px rgba(0, 0, 0, 0.3));\n",
              "      fill: #FFFFFF;\n",
              "    }\n",
              "  </style>\n",
              "\n",
              "      <script>\n",
              "        const buttonEl =\n",
              "          document.querySelector('#df-cb49c895-2920-4021-83e3-2fb7252adb5f button.colab-df-convert');\n",
              "        buttonEl.style.display =\n",
              "          google.colab.kernel.accessAllowed ? 'block' : 'none';\n",
              "\n",
              "        async function convertToInteractive(key) {\n",
              "          const element = document.querySelector('#df-cb49c895-2920-4021-83e3-2fb7252adb5f');\n",
              "          const dataTable =\n",
              "            await google.colab.kernel.invokeFunction('convertToInteractive',\n",
              "                                                     [key], {});\n",
              "          if (!dataTable) return;\n",
              "\n",
              "          const docLinkHtml = 'Like what you see? Visit the ' +\n",
              "            '<a target=\"_blank\" href=https://colab.research.google.com/notebooks/data_table.ipynb>data table notebook</a>'\n",
              "            + ' to learn more about interactive tables.';\n",
              "          element.innerHTML = '';\n",
              "          dataTable['output_type'] = 'display_data';\n",
              "          await google.colab.output.renderOutput(dataTable, element);\n",
              "          const docLink = document.createElement('div');\n",
              "          docLink.innerHTML = docLinkHtml;\n",
              "          element.appendChild(docLink);\n",
              "        }\n",
              "      </script>\n",
              "    </div>\n",
              "  </div>\n",
              "  "
            ]
          },
          "metadata": {},
          "execution_count": 14
        }
      ]
    },
    {
      "cell_type": "markdown",
      "source": [
        "#### Explore the data"
      ],
      "metadata": {
        "id": "gNOxiwsLmsmv"
      }
    },
    {
      "cell_type": "code",
      "source": [
        "import_sfdc[\"Reporting Country\"].value_counts()"
      ],
      "metadata": {
        "colab": {
          "base_uri": "https://localhost:8080/"
        },
        "id": "_r6H5ga-m6my",
        "outputId": "d64c8527-e409-4636-bd56-d91c9f8a063e"
      },
      "execution_count": 15,
      "outputs": [
        {
          "output_type": "execute_result",
          "data": {
            "text/plain": [
              "SPAIN              4759\n",
              "UNITED KINGDOM     3360\n",
              "FRANCE             1367\n",
              "ITALY              1210\n",
              "CANADA              853\n",
              "TURKEY              694\n",
              "GERMANY             577\n",
              "BRAZIL              479\n",
              "POLAND              287\n",
              "BELGIUM             268\n",
              "HUNGARY             153\n",
              "AUSTRIA             142\n",
              "SWITZERLAND         127\n",
              "MEXICO              112\n",
              "IRELAND             110\n",
              "CHILE                74\n",
              "ARGENTINA            66\n",
              "FINLAND              55\n",
              "BELARUS              52\n",
              "PORTUGAL             48\n",
              "GREECE               39\n",
              "UKRAINE              35\n",
              "NETHERLANDS          33\n",
              "DENMARK              13\n",
              "PERU                 13\n",
              "LITHUANIA            11\n",
              "CZECH REPUBLIC       10\n",
              "SWEDEN                9\n",
              "SLOVENIA              7\n",
              "ROMANIA               5\n",
              "COLOMBIA              4\n",
              "NORTH MACEDONIA       2\n",
              "CROATIA               1\n",
              "LUXEMBOURG            1\n",
              "COSTA RICA            1\n",
              "Name: Reporting Country, dtype: int64"
            ]
          },
          "metadata": {},
          "execution_count": 15
        }
      ]
    },
    {
      "cell_type": "code",
      "source": [
        "import_sfdc.Type.value_counts()"
      ],
      "metadata": {
        "colab": {
          "base_uri": "https://localhost:8080/"
        },
        "id": "idTr7unZviax",
        "outputId": "fd831a77-a37c-459b-f93d-b7e2cd32de07"
      },
      "execution_count": 16,
      "outputs": [
        {
          "output_type": "execute_result",
          "data": {
            "text/plain": [
              "Biopharma                  6305\n",
              "Commercial                 3859\n",
              "Lunar                      1801\n",
              "GAP                        1778\n",
              "GH Trials (Prospective)    1130\n",
              "Name: Type, dtype: int64"
            ]
          },
          "metadata": {},
          "execution_count": 16
        }
      ]
    },
    {
      "cell_type": "code",
      "source": [
        "import_sfdc.info()"
      ],
      "metadata": {
        "colab": {
          "base_uri": "https://localhost:8080/"
        },
        "id": "jD4uUsKEvh0Z",
        "outputId": "512a3450-4342-4503-e402-6ad85062be9c"
      },
      "execution_count": 17,
      "outputs": [
        {
          "output_type": "stream",
          "name": "stdout",
          "text": [
            "<class 'pandas.core.frame.DataFrame'>\n",
            "DatetimeIndex: 14977 entries, 2019-11-25 to 2021-01-20\n",
            "Data columns (total 15 columns):\n",
            " #   Column                 Non-Null Count  Dtype         \n",
            "---  ------                 --------------  -----         \n",
            " 0   Accession #            14977 non-null  object        \n",
            " 1   Reporting Country      14977 non-null  object        \n",
            " 2   Billing Type           14949 non-null  object        \n",
            " 3   LIMS Project ID        14977 non-null  object        \n",
            " 4   Account: Account Name  14977 non-null  object        \n",
            " 5   Contact: Full Name     14977 non-null  object        \n",
            " 6   Final Report Date      13479 non-null  object        \n",
            " 7   Test Type              14977 non-null  object        \n",
            " 8   Cancer Type            5343 non-null   object        \n",
            " 9   Type                   14873 non-null  category      \n",
            " 10  Month                  14977 non-null  int64         \n",
            " 11  Year                   14977 non-null  int64         \n",
            " 12  Quarter                14977 non-null  int64         \n",
            " 13  Sales                  14977 non-null  int64         \n",
            " 14  Year_Month             14977 non-null  datetime64[ns]\n",
            "dtypes: category(1), datetime64[ns](1), int64(4), object(9)\n",
            "memory usage: 1.7+ MB\n"
          ]
        }
      ]
    },
    {
      "cell_type": "code",
      "source": [
        "import_sfdc[\"Billing Type\"].value_counts()"
      ],
      "metadata": {
        "colab": {
          "base_uri": "https://localhost:8080/"
        },
        "id": "8euku6M1tdCD",
        "outputId": "cebac06d-3bab-449f-c45c-3272fa35fe67"
      },
      "execution_count": 18,
      "outputs": [
        {
          "output_type": "execute_result",
          "data": {
            "text/plain": [
              "Pharma : ROW                              5631\n",
              "Pharma : US                               2370\n",
              "Self-Pay Patient                          1687\n",
              "Distributors : ROW                        1610\n",
              "Do Not Bill - LUNAR                       1199\n",
              "Do Not Bill - Cancelled                    720\n",
              "Clinical Trial : ROW                       685\n",
              "Self-Pay Sponsored                         425\n",
              "Research : ROW                             420\n",
              "Do Not Bill - ROW                          160\n",
              "Other                                       11\n",
              "Do Not Bill - Promotional                   10\n",
              "Private Insurance/Employee Health Plan       8\n",
              "Do Not Bill - Medical Affairs                7\n",
              "Clinical Trial : US                          5\n",
              "Research : US                                1\n",
              "Name: Billing Type, dtype: int64"
            ]
          },
          "metadata": {},
          "execution_count": 18
        }
      ]
    },
    {
      "cell_type": "code",
      "source": [
        "import_sfdc[\"Test Type\"].value_counts()"
      ],
      "metadata": {
        "colab": {
          "base_uri": "https://localhost:8080/"
        },
        "id": "7YPbz6zFN4Sv",
        "outputId": "1a17299a-1e59-446d-f340-81e2c426540e"
      },
      "execution_count": 19,
      "outputs": [
        {
          "output_type": "execute_result",
          "data": {
            "text/plain": [
              "Guardant 360            12793\n",
              "LUNAR1_CRC                766\n",
              "LUNAR2                    643\n",
              "LUNAR1_3                  402\n",
              "Guardant360 CDx EU        371\n",
              "Guardant360 Response        1\n",
              "Guardant360 CDx             1\n",
              "Name: Test Type, dtype: int64"
            ]
          },
          "metadata": {},
          "execution_count": 19
        }
      ]
    },
    {
      "cell_type": "code",
      "source": [
        "import_sfdc[\"Cancer Type\"].value_counts()"
      ],
      "metadata": {
        "colab": {
          "base_uri": "https://localhost:8080/"
        },
        "id": "MY2cLhSOxs2q",
        "outputId": "34d9c289-3c24-4d17-9485-539f40789ba1"
      },
      "execution_count": 20,
      "outputs": [
        {
          "output_type": "execute_result",
          "data": {
            "text/plain": [
              "Breast                     3235\n",
              "Other                       811\n",
              "Bladder                     557\n",
              "GI                          410\n",
              "CUP                          84\n",
              "Lung                         53\n",
              "Thyroid                      32\n",
              "Skin                         32\n",
              "Soft Tissue/Bone             30\n",
              "Kidney                       26\n",
              "Head and neck carcinoma      23\n",
              "Urothelial                   17\n",
              "Brain                        15\n",
              "Cervical                     12\n",
              "CRC                           5\n",
              "Ovarian                       1\n",
              "Name: Cancer Type, dtype: int64"
            ]
          },
          "metadata": {},
          "execution_count": 20
        }
      ]
    },
    {
      "cell_type": "code",
      "source": [
        "import_sfdc['Billing Type'].value_counts()"
      ],
      "metadata": {
        "colab": {
          "base_uri": "https://localhost:8080/"
        },
        "id": "w6-gJR5p3aSz",
        "outputId": "abfdb02b-a268-4cf7-ff88-54ae39cc60ba"
      },
      "execution_count": 21,
      "outputs": [
        {
          "output_type": "execute_result",
          "data": {
            "text/plain": [
              "Pharma : ROW                              5631\n",
              "Pharma : US                               2370\n",
              "Self-Pay Patient                          1687\n",
              "Distributors : ROW                        1610\n",
              "Do Not Bill - LUNAR                       1199\n",
              "Do Not Bill - Cancelled                    720\n",
              "Clinical Trial : ROW                       685\n",
              "Self-Pay Sponsored                         425\n",
              "Research : ROW                             420\n",
              "Do Not Bill - ROW                          160\n",
              "Other                                       11\n",
              "Do Not Bill - Promotional                   10\n",
              "Private Insurance/Employee Health Plan       8\n",
              "Do Not Bill - Medical Affairs                7\n",
              "Clinical Trial : US                          5\n",
              "Research : US                                1\n",
              "Name: Billing Type, dtype: int64"
            ]
          },
          "metadata": {},
          "execution_count": 21
        }
      ]
    },
    {
      "cell_type": "markdown",
      "source": [
        "#### Plotting"
      ],
      "metadata": {
        "id": "wedZOg0_CBB8"
      }
    },
    {
      "cell_type": "code",
      "source": [
        "#Select the features for the analysis\n",
        "import_sfdc.columns.to_list()\n",
        "list_for_country_analysis = ['Accession #',\n",
        " 'Reporting Country',\n",
        " 'Type',\n",
        " 'Sales',\n",
        " 'Year_Month']\n",
        "\n",
        "countries_df = import_sfdc.loc[:,list_for_country_analysis ]\n",
        "#countries_df[\"Reporting Country\"] = countries_df[\"Reporting Country\"].astype('category')\n",
        "countries_df.sample(3)"
      ],
      "metadata": {
        "colab": {
          "base_uri": "https://localhost:8080/",
          "height": 175
        },
        "id": "ERIZI3btCOST",
        "outputId": "6f422edf-0b67-4575-b196-cc1fce423843"
      },
      "execution_count": 22,
      "outputs": [
        {
          "output_type": "execute_result",
          "data": {
            "text/plain": [
              "              Accession # Reporting Country        Type  Sales Year_Month\n",
              "Date Received                                                            \n",
              "2020-09-11       A0286706             SPAIN   Biopharma      1 2020-09-01\n",
              "2021-07-08       A0373964             SPAIN       Lunar      1 2021-07-01\n",
              "2021-03-12       A0336767             SPAIN  Commercial      1 2021-03-01"
            ],
            "text/html": [
              "\n",
              "  <div id=\"df-4ca1cfe3-5e85-4fe6-addb-7d4d4a663ec8\">\n",
              "    <div class=\"colab-df-container\">\n",
              "      <div>\n",
              "<style scoped>\n",
              "    .dataframe tbody tr th:only-of-type {\n",
              "        vertical-align: middle;\n",
              "    }\n",
              "\n",
              "    .dataframe tbody tr th {\n",
              "        vertical-align: top;\n",
              "    }\n",
              "\n",
              "    .dataframe thead th {\n",
              "        text-align: right;\n",
              "    }\n",
              "</style>\n",
              "<table border=\"1\" class=\"dataframe\">\n",
              "  <thead>\n",
              "    <tr style=\"text-align: right;\">\n",
              "      <th></th>\n",
              "      <th>Accession #</th>\n",
              "      <th>Reporting Country</th>\n",
              "      <th>Type</th>\n",
              "      <th>Sales</th>\n",
              "      <th>Year_Month</th>\n",
              "    </tr>\n",
              "    <tr>\n",
              "      <th>Date Received</th>\n",
              "      <th></th>\n",
              "      <th></th>\n",
              "      <th></th>\n",
              "      <th></th>\n",
              "      <th></th>\n",
              "    </tr>\n",
              "  </thead>\n",
              "  <tbody>\n",
              "    <tr>\n",
              "      <th>2020-09-11</th>\n",
              "      <td>A0286706</td>\n",
              "      <td>SPAIN</td>\n",
              "      <td>Biopharma</td>\n",
              "      <td>1</td>\n",
              "      <td>2020-09-01</td>\n",
              "    </tr>\n",
              "    <tr>\n",
              "      <th>2021-07-08</th>\n",
              "      <td>A0373964</td>\n",
              "      <td>SPAIN</td>\n",
              "      <td>Lunar</td>\n",
              "      <td>1</td>\n",
              "      <td>2021-07-01</td>\n",
              "    </tr>\n",
              "    <tr>\n",
              "      <th>2021-03-12</th>\n",
              "      <td>A0336767</td>\n",
              "      <td>SPAIN</td>\n",
              "      <td>Commercial</td>\n",
              "      <td>1</td>\n",
              "      <td>2021-03-01</td>\n",
              "    </tr>\n",
              "  </tbody>\n",
              "</table>\n",
              "</div>\n",
              "      <button class=\"colab-df-convert\" onclick=\"convertToInteractive('df-4ca1cfe3-5e85-4fe6-addb-7d4d4a663ec8')\"\n",
              "              title=\"Convert this dataframe to an interactive table.\"\n",
              "              style=\"display:none;\">\n",
              "        \n",
              "  <svg xmlns=\"http://www.w3.org/2000/svg\" height=\"24px\"viewBox=\"0 0 24 24\"\n",
              "       width=\"24px\">\n",
              "    <path d=\"M0 0h24v24H0V0z\" fill=\"none\"/>\n",
              "    <path d=\"M18.56 5.44l.94 2.06.94-2.06 2.06-.94-2.06-.94-.94-2.06-.94 2.06-2.06.94zm-11 1L8.5 8.5l.94-2.06 2.06-.94-2.06-.94L8.5 2.5l-.94 2.06-2.06.94zm10 10l.94 2.06.94-2.06 2.06-.94-2.06-.94-.94-2.06-.94 2.06-2.06.94z\"/><path d=\"M17.41 7.96l-1.37-1.37c-.4-.4-.92-.59-1.43-.59-.52 0-1.04.2-1.43.59L10.3 9.45l-7.72 7.72c-.78.78-.78 2.05 0 2.83L4 21.41c.39.39.9.59 1.41.59.51 0 1.02-.2 1.41-.59l7.78-7.78 2.81-2.81c.8-.78.8-2.07 0-2.86zM5.41 20L4 18.59l7.72-7.72 1.47 1.35L5.41 20z\"/>\n",
              "  </svg>\n",
              "      </button>\n",
              "      \n",
              "  <style>\n",
              "    .colab-df-container {\n",
              "      display:flex;\n",
              "      flex-wrap:wrap;\n",
              "      gap: 12px;\n",
              "    }\n",
              "\n",
              "    .colab-df-convert {\n",
              "      background-color: #E8F0FE;\n",
              "      border: none;\n",
              "      border-radius: 50%;\n",
              "      cursor: pointer;\n",
              "      display: none;\n",
              "      fill: #1967D2;\n",
              "      height: 32px;\n",
              "      padding: 0 0 0 0;\n",
              "      width: 32px;\n",
              "    }\n",
              "\n",
              "    .colab-df-convert:hover {\n",
              "      background-color: #E2EBFA;\n",
              "      box-shadow: 0px 1px 2px rgba(60, 64, 67, 0.3), 0px 1px 3px 1px rgba(60, 64, 67, 0.15);\n",
              "      fill: #174EA6;\n",
              "    }\n",
              "\n",
              "    [theme=dark] .colab-df-convert {\n",
              "      background-color: #3B4455;\n",
              "      fill: #D2E3FC;\n",
              "    }\n",
              "\n",
              "    [theme=dark] .colab-df-convert:hover {\n",
              "      background-color: #434B5C;\n",
              "      box-shadow: 0px 1px 3px 1px rgba(0, 0, 0, 0.15);\n",
              "      filter: drop-shadow(0px 1px 2px rgba(0, 0, 0, 0.3));\n",
              "      fill: #FFFFFF;\n",
              "    }\n",
              "  </style>\n",
              "\n",
              "      <script>\n",
              "        const buttonEl =\n",
              "          document.querySelector('#df-4ca1cfe3-5e85-4fe6-addb-7d4d4a663ec8 button.colab-df-convert');\n",
              "        buttonEl.style.display =\n",
              "          google.colab.kernel.accessAllowed ? 'block' : 'none';\n",
              "\n",
              "        async function convertToInteractive(key) {\n",
              "          const element = document.querySelector('#df-4ca1cfe3-5e85-4fe6-addb-7d4d4a663ec8');\n",
              "          const dataTable =\n",
              "            await google.colab.kernel.invokeFunction('convertToInteractive',\n",
              "                                                     [key], {});\n",
              "          if (!dataTable) return;\n",
              "\n",
              "          const docLinkHtml = 'Like what you see? Visit the ' +\n",
              "            '<a target=\"_blank\" href=https://colab.research.google.com/notebooks/data_table.ipynb>data table notebook</a>'\n",
              "            + ' to learn more about interactive tables.';\n",
              "          element.innerHTML = '';\n",
              "          dataTable['output_type'] = 'display_data';\n",
              "          await google.colab.output.renderOutput(dataTable, element);\n",
              "          const docLink = document.createElement('div');\n",
              "          docLink.innerHTML = docLinkHtml;\n",
              "          element.appendChild(docLink);\n",
              "        }\n",
              "      </script>\n",
              "    </div>\n",
              "  </div>\n",
              "  "
            ]
          },
          "metadata": {},
          "execution_count": 22
        }
      ]
    },
    {
      "cell_type": "code",
      "source": [
        "countries_df.info()"
      ],
      "metadata": {
        "colab": {
          "base_uri": "https://localhost:8080/"
        },
        "id": "ijn14nPEbHgy",
        "outputId": "98393388-ee0e-4432-f133-2f3304197b8b"
      },
      "execution_count": 23,
      "outputs": [
        {
          "output_type": "stream",
          "name": "stdout",
          "text": [
            "<class 'pandas.core.frame.DataFrame'>\n",
            "DatetimeIndex: 14977 entries, 2019-11-25 to 2021-01-20\n",
            "Data columns (total 5 columns):\n",
            " #   Column             Non-Null Count  Dtype         \n",
            "---  ------             --------------  -----         \n",
            " 0   Accession #        14977 non-null  object        \n",
            " 1   Reporting Country  14977 non-null  object        \n",
            " 2   Type               14873 non-null  category      \n",
            " 3   Sales              14977 non-null  int64         \n",
            " 4   Year_Month         14977 non-null  datetime64[ns]\n",
            "dtypes: category(1), datetime64[ns](1), int64(1), object(2)\n",
            "memory usage: 599.9+ KB\n"
          ]
        }
      ]
    },
    {
      "cell_type": "code",
      "source": [
        "#Plot the total number of by country over time"
      ],
      "metadata": {
        "id": "IsLk-bYU_jdh"
      },
      "execution_count": 24,
      "outputs": []
    },
    {
      "cell_type": "code",
      "source": [
        "#Select the time horizion to analyse\n",
        "start_date = \"2020\"\n",
        "end_date = \"2022-08\"\n",
        "#Select the # of countries to be analyses based on the maxiumum number of samplesin \n",
        "#the time horizon\n",
        "num_countries = 6\n",
        "#Create the dataframe relevant for the time periode which should be analysed\n",
        "countries_df = countries_df.loc[start_date:end_date].copy()\n",
        "print(f\"The number of samples in this dataframe is {countries_df.shape[0]}\")"
      ],
      "metadata": {
        "colab": {
          "base_uri": "https://localhost:8080/"
        },
        "id": "r-TpAyBmH9o_",
        "outputId": "f2a21e1f-d88e-4389-edb4-e445a14be6b0"
      },
      "execution_count": 25,
      "outputs": [
        {
          "output_type": "stream",
          "name": "stdout",
          "text": [
            "The number of samples in this dataframe is 11197\n"
          ]
        }
      ]
    },
    {
      "cell_type": "code",
      "source": [
        "#Create a dataframe with just the topx countries by number of tests sold\n",
        "top_x = countries_df.groupby('Reporting Country').sum().sort_values(\"Sales\",ascending = False).head(num_countries)\n",
        "top_x_list = top_x.index.tolist()\n",
        "top_x_sales =countries_df[countries_df['Reporting Country'].isin(top_x_list)]\n",
        "print(f\"The top 5 countries have {top_x_sales.shape[0]} samples which represents {top_x_sales.shape[0]/countries_df.shape[0]:.2%}\")"
      ],
      "metadata": {
        "colab": {
          "base_uri": "https://localhost:8080/"
        },
        "id": "EFLzVRDFTmq1",
        "outputId": "daac9c3b-b1b3-47b7-c4cf-9b861e5749f9"
      },
      "execution_count": 26,
      "outputs": [
        {
          "output_type": "stream",
          "name": "stdout",
          "text": [
            "The top 5 countries have 9260 samples which represents 82.70%\n"
          ]
        }
      ]
    },
    {
      "cell_type": "code",
      "source": [
        "countries_df.info()"
      ],
      "metadata": {
        "colab": {
          "base_uri": "https://localhost:8080/"
        },
        "id": "bZB2YBlhcBEx",
        "outputId": "169993f3-aa46-47d8-dae7-887e4de13b4b"
      },
      "execution_count": 27,
      "outputs": [
        {
          "output_type": "stream",
          "name": "stdout",
          "text": [
            "<class 'pandas.core.frame.DataFrame'>\n",
            "DatetimeIndex: 11197 entries, 2020-02-27 to 2021-01-20\n",
            "Data columns (total 5 columns):\n",
            " #   Column             Non-Null Count  Dtype         \n",
            "---  ------             --------------  -----         \n",
            " 0   Accession #        11197 non-null  object        \n",
            " 1   Reporting Country  11197 non-null  object        \n",
            " 2   Type               11185 non-null  category      \n",
            " 3   Sales              11197 non-null  int64         \n",
            " 4   Year_Month         11197 non-null  datetime64[ns]\n",
            "dtypes: category(1), datetime64[ns](1), int64(1), object(2)\n",
            "memory usage: 448.5+ KB\n"
          ]
        }
      ]
    },
    {
      "cell_type": "code",
      "source": [
        "grouped_countries = top_x_sales.groupby([\"Reporting Country\", 'Year_Month']).sum().reset_index()"
      ],
      "metadata": {
        "id": "rCD9_5QNUwk1"
      },
      "execution_count": 28,
      "outputs": []
    },
    {
      "cell_type": "code",
      "source": [
        "grouped_countries.head()"
      ],
      "metadata": {
        "colab": {
          "base_uri": "https://localhost:8080/",
          "height": 206
        },
        "id": "EmbKMia7a021",
        "outputId": "e8ac3346-f716-48f0-cfed-0382ebc325dd"
      },
      "execution_count": 29,
      "outputs": [
        {
          "output_type": "execute_result",
          "data": {
            "text/plain": [
              "  Reporting Country Year_Month  Sales\n",
              "0            CANADA 2020-01-01     22\n",
              "1            CANADA 2020-02-01     29\n",
              "2            CANADA 2020-03-01     20\n",
              "3            CANADA 2020-04-01     13\n",
              "4            CANADA 2020-05-01     10"
            ],
            "text/html": [
              "\n",
              "  <div id=\"df-bad365c9-1258-438c-b813-d94c09a77e2f\">\n",
              "    <div class=\"colab-df-container\">\n",
              "      <div>\n",
              "<style scoped>\n",
              "    .dataframe tbody tr th:only-of-type {\n",
              "        vertical-align: middle;\n",
              "    }\n",
              "\n",
              "    .dataframe tbody tr th {\n",
              "        vertical-align: top;\n",
              "    }\n",
              "\n",
              "    .dataframe thead th {\n",
              "        text-align: right;\n",
              "    }\n",
              "</style>\n",
              "<table border=\"1\" class=\"dataframe\">\n",
              "  <thead>\n",
              "    <tr style=\"text-align: right;\">\n",
              "      <th></th>\n",
              "      <th>Reporting Country</th>\n",
              "      <th>Year_Month</th>\n",
              "      <th>Sales</th>\n",
              "    </tr>\n",
              "  </thead>\n",
              "  <tbody>\n",
              "    <tr>\n",
              "      <th>0</th>\n",
              "      <td>CANADA</td>\n",
              "      <td>2020-01-01</td>\n",
              "      <td>22</td>\n",
              "    </tr>\n",
              "    <tr>\n",
              "      <th>1</th>\n",
              "      <td>CANADA</td>\n",
              "      <td>2020-02-01</td>\n",
              "      <td>29</td>\n",
              "    </tr>\n",
              "    <tr>\n",
              "      <th>2</th>\n",
              "      <td>CANADA</td>\n",
              "      <td>2020-03-01</td>\n",
              "      <td>20</td>\n",
              "    </tr>\n",
              "    <tr>\n",
              "      <th>3</th>\n",
              "      <td>CANADA</td>\n",
              "      <td>2020-04-01</td>\n",
              "      <td>13</td>\n",
              "    </tr>\n",
              "    <tr>\n",
              "      <th>4</th>\n",
              "      <td>CANADA</td>\n",
              "      <td>2020-05-01</td>\n",
              "      <td>10</td>\n",
              "    </tr>\n",
              "  </tbody>\n",
              "</table>\n",
              "</div>\n",
              "      <button class=\"colab-df-convert\" onclick=\"convertToInteractive('df-bad365c9-1258-438c-b813-d94c09a77e2f')\"\n",
              "              title=\"Convert this dataframe to an interactive table.\"\n",
              "              style=\"display:none;\">\n",
              "        \n",
              "  <svg xmlns=\"http://www.w3.org/2000/svg\" height=\"24px\"viewBox=\"0 0 24 24\"\n",
              "       width=\"24px\">\n",
              "    <path d=\"M0 0h24v24H0V0z\" fill=\"none\"/>\n",
              "    <path d=\"M18.56 5.44l.94 2.06.94-2.06 2.06-.94-2.06-.94-.94-2.06-.94 2.06-2.06.94zm-11 1L8.5 8.5l.94-2.06 2.06-.94-2.06-.94L8.5 2.5l-.94 2.06-2.06.94zm10 10l.94 2.06.94-2.06 2.06-.94-2.06-.94-.94-2.06-.94 2.06-2.06.94z\"/><path d=\"M17.41 7.96l-1.37-1.37c-.4-.4-.92-.59-1.43-.59-.52 0-1.04.2-1.43.59L10.3 9.45l-7.72 7.72c-.78.78-.78 2.05 0 2.83L4 21.41c.39.39.9.59 1.41.59.51 0 1.02-.2 1.41-.59l7.78-7.78 2.81-2.81c.8-.78.8-2.07 0-2.86zM5.41 20L4 18.59l7.72-7.72 1.47 1.35L5.41 20z\"/>\n",
              "  </svg>\n",
              "      </button>\n",
              "      \n",
              "  <style>\n",
              "    .colab-df-container {\n",
              "      display:flex;\n",
              "      flex-wrap:wrap;\n",
              "      gap: 12px;\n",
              "    }\n",
              "\n",
              "    .colab-df-convert {\n",
              "      background-color: #E8F0FE;\n",
              "      border: none;\n",
              "      border-radius: 50%;\n",
              "      cursor: pointer;\n",
              "      display: none;\n",
              "      fill: #1967D2;\n",
              "      height: 32px;\n",
              "      padding: 0 0 0 0;\n",
              "      width: 32px;\n",
              "    }\n",
              "\n",
              "    .colab-df-convert:hover {\n",
              "      background-color: #E2EBFA;\n",
              "      box-shadow: 0px 1px 2px rgba(60, 64, 67, 0.3), 0px 1px 3px 1px rgba(60, 64, 67, 0.15);\n",
              "      fill: #174EA6;\n",
              "    }\n",
              "\n",
              "    [theme=dark] .colab-df-convert {\n",
              "      background-color: #3B4455;\n",
              "      fill: #D2E3FC;\n",
              "    }\n",
              "\n",
              "    [theme=dark] .colab-df-convert:hover {\n",
              "      background-color: #434B5C;\n",
              "      box-shadow: 0px 1px 3px 1px rgba(0, 0, 0, 0.15);\n",
              "      filter: drop-shadow(0px 1px 2px rgba(0, 0, 0, 0.3));\n",
              "      fill: #FFFFFF;\n",
              "    }\n",
              "  </style>\n",
              "\n",
              "      <script>\n",
              "        const buttonEl =\n",
              "          document.querySelector('#df-bad365c9-1258-438c-b813-d94c09a77e2f button.colab-df-convert');\n",
              "        buttonEl.style.display =\n",
              "          google.colab.kernel.accessAllowed ? 'block' : 'none';\n",
              "\n",
              "        async function convertToInteractive(key) {\n",
              "          const element = document.querySelector('#df-bad365c9-1258-438c-b813-d94c09a77e2f');\n",
              "          const dataTable =\n",
              "            await google.colab.kernel.invokeFunction('convertToInteractive',\n",
              "                                                     [key], {});\n",
              "          if (!dataTable) return;\n",
              "\n",
              "          const docLinkHtml = 'Like what you see? Visit the ' +\n",
              "            '<a target=\"_blank\" href=https://colab.research.google.com/notebooks/data_table.ipynb>data table notebook</a>'\n",
              "            + ' to learn more about interactive tables.';\n",
              "          element.innerHTML = '';\n",
              "          dataTable['output_type'] = 'display_data';\n",
              "          await google.colab.output.renderOutput(dataTable, element);\n",
              "          const docLink = document.createElement('div');\n",
              "          docLink.innerHTML = docLinkHtml;\n",
              "          element.appendChild(docLink);\n",
              "        }\n",
              "      </script>\n",
              "    </div>\n",
              "  </div>\n",
              "  "
            ]
          },
          "metadata": {},
          "execution_count": 29
        }
      ]
    },
    {
      "cell_type": "code",
      "source": [
        "\n",
        "sns.relplot( data = grouped_countries, y = \"Sales\", x = \"Year_Month\", kind = \"line\", \n",
        "            hue = \"Reporting Country\" , col = \"Reporting Country\",\n",
        "            col_wrap=3, height=2, aspect=2, legend=False)\n",
        "\n",
        "plt.ylabel('Monthly Count')\n",
        "plt.xlabel('Year & Month')\n",
        "\n",
        "plt.show()"
      ],
      "metadata": {
        "colab": {
          "base_uri": "https://localhost:8080/",
          "height": 298
        },
        "id": "YVYze5txhNHt",
        "outputId": "840dc007-d609-458b-ea1b-a3700bdf5585"
      },
      "execution_count": 30,
      "outputs": [
        {
          "output_type": "display_data",
          "data": {
            "text/plain": [
              "<Figure size 864x288 with 6 Axes>"
            ],
            "image/png": "[encoded data removed]"
          },
          "metadata": {}
        }
      ]
    },
    {
      "cell_type": "markdown",
      "source": [
        "#### Use the subplots method"
      ],
      "metadata": {
        "id": "oXKCHu1o-ASw"
      }
    },
    {
      "cell_type": "code",
      "source": [
        "grouped_countries.head()"
      ],
      "metadata": {
        "colab": {
          "base_uri": "https://localhost:8080/",
          "height": 206
        },
        "id": "JoDd5pKPFNPX",
        "outputId": "5fdd5702-c020-4625-8151-e662aa45190f"
      },
      "execution_count": 31,
      "outputs": [
        {
          "output_type": "execute_result",
          "data": {
            "text/plain": [
              "  Reporting Country Year_Month  Sales\n",
              "0            CANADA 2020-01-01     22\n",
              "1            CANADA 2020-02-01     29\n",
              "2            CANADA 2020-03-01     20\n",
              "3            CANADA 2020-04-01     13\n",
              "4            CANADA 2020-05-01     10"
            ],
            "text/html": [
              "\n",
              "  <div id=\"df-7d2f0676-4cda-40a2-9328-d4899141bd27\">\n",
              "    <div class=\"colab-df-container\">\n",
              "      <div>\n",
              "<style scoped>\n",
              "    .dataframe tbody tr th:only-of-type {\n",
              "        vertical-align: middle;\n",
              "    }\n",
              "\n",
              "    .dataframe tbody tr th {\n",
              "        vertical-align: top;\n",
              "    }\n",
              "\n",
              "    .dataframe thead th {\n",
              "        text-align: right;\n",
              "    }\n",
              "</style>\n",
              "<table border=\"1\" class=\"dataframe\">\n",
              "  <thead>\n",
              "    <tr style=\"text-align: right;\">\n",
              "      <th></th>\n",
              "      <th>Reporting Country</th>\n",
              "      <th>Year_Month</th>\n",
              "      <th>Sales</th>\n",
              "    </tr>\n",
              "  </thead>\n",
              "  <tbody>\n",
              "    <tr>\n",
              "      <th>0</th>\n",
              "      <td>CANADA</td>\n",
              "      <td>2020-01-01</td>\n",
              "      <td>22</td>\n",
              "    </tr>\n",
              "    <tr>\n",
              "      <th>1</th>\n",
              "      <td>CANADA</td>\n",
              "      <td>2020-02-01</td>\n",
              "      <td>29</td>\n",
              "    </tr>\n",
              "    <tr>\n",
              "      <th>2</th>\n",
              "      <td>CANADA</td>\n",
              "      <td>2020-03-01</td>\n",
              "      <td>20</td>\n",
              "    </tr>\n",
              "    <tr>\n",
              "      <th>3</th>\n",
              "      <td>CANADA</td>\n",
              "      <td>2020-04-01</td>\n",
              "      <td>13</td>\n",
              "    </tr>\n",
              "    <tr>\n",
              "      <th>4</th>\n",
              "      <td>CANADA</td>\n",
              "      <td>2020-05-01</td>\n",
              "      <td>10</td>\n",
              "    </tr>\n",
              "  </tbody>\n",
              "</table>\n",
              "</div>\n",
              "      <button class=\"colab-df-convert\" onclick=\"convertToInteractive('df-7d2f0676-4cda-40a2-9328-d4899141bd27')\"\n",
              "              title=\"Convert this dataframe to an interactive table.\"\n",
              "              style=\"display:none;\">\n",
              "        \n",
              "  <svg xmlns=\"http://www.w3.org/2000/svg\" height=\"24px\"viewBox=\"0 0 24 24\"\n",
              "       width=\"24px\">\n",
              "    <path d=\"M0 0h24v24H0V0z\" fill=\"none\"/>\n",
              "    <path d=\"M18.56 5.44l.94 2.06.94-2.06 2.06-.94-2.06-.94-.94-2.06-.94 2.06-2.06.94zm-11 1L8.5 8.5l.94-2.06 2.06-.94-2.06-.94L8.5 2.5l-.94 2.06-2.06.94zm10 10l.94 2.06.94-2.06 2.06-.94-2.06-.94-.94-2.06-.94 2.06-2.06.94z\"/><path d=\"M17.41 7.96l-1.37-1.37c-.4-.4-.92-.59-1.43-.59-.52 0-1.04.2-1.43.59L10.3 9.45l-7.72 7.72c-.78.78-.78 2.05 0 2.83L4 21.41c.39.39.9.59 1.41.59.51 0 1.02-.2 1.41-.59l7.78-7.78 2.81-2.81c.8-.78.8-2.07 0-2.86zM5.41 20L4 18.59l7.72-7.72 1.47 1.35L5.41 20z\"/>\n",
              "  </svg>\n",
              "      </button>\n",
              "      \n",
              "  <style>\n",
              "    .colab-df-container {\n",
              "      display:flex;\n",
              "      flex-wrap:wrap;\n",
              "      gap: 12px;\n",
              "    }\n",
              "\n",
              "    .colab-df-convert {\n",
              "      background-color: #E8F0FE;\n",
              "      border: none;\n",
              "      border-radius: 50%;\n",
              "      cursor: pointer;\n",
              "      display: none;\n",
              "      fill: #1967D2;\n",
              "      height: 32px;\n",
              "      padding: 0 0 0 0;\n",
              "      width: 32px;\n",
              "    }\n",
              "\n",
              "    .colab-df-convert:hover {\n",
              "      background-color: #E2EBFA;\n",
              "      box-shadow: 0px 1px 2px rgba(60, 64, 67, 0.3), 0px 1px 3px 1px rgba(60, 64, 67, 0.15);\n",
              "      fill: #174EA6;\n",
              "    }\n",
              "\n",
              "    [theme=dark] .colab-df-convert {\n",
              "      background-color: #3B4455;\n",
              "      fill: #D2E3FC;\n",
              "    }\n",
              "\n",
              "    [theme=dark] .colab-df-convert:hover {\n",
              "      background-color: #434B5C;\n",
              "      box-shadow: 0px 1px 3px 1px rgba(0, 0, 0, 0.15);\n",
              "      filter: drop-shadow(0px 1px 2px rgba(0, 0, 0, 0.3));\n",
              "      fill: #FFFFFF;\n",
              "    }\n",
              "  </style>\n",
              "\n",
              "      <script>\n",
              "        const buttonEl =\n",
              "          document.querySelector('#df-7d2f0676-4cda-40a2-9328-d4899141bd27 button.colab-df-convert');\n",
              "        buttonEl.style.display =\n",
              "          google.colab.kernel.accessAllowed ? 'block' : 'none';\n",
              "\n",
              "        async function convertToInteractive(key) {\n",
              "          const element = document.querySelector('#df-7d2f0676-4cda-40a2-9328-d4899141bd27');\n",
              "          const dataTable =\n",
              "            await google.colab.kernel.invokeFunction('convertToInteractive',\n",
              "                                                     [key], {});\n",
              "          if (!dataTable) return;\n",
              "\n",
              "          const docLinkHtml = 'Like what you see? Visit the ' +\n",
              "            '<a target=\"_blank\" href=https://colab.research.google.com/notebooks/data_table.ipynb>data table notebook</a>'\n",
              "            + ' to learn more about interactive tables.';\n",
              "          element.innerHTML = '';\n",
              "          dataTable['output_type'] = 'display_data';\n",
              "          await google.colab.output.renderOutput(dataTable, element);\n",
              "          const docLink = document.createElement('div');\n",
              "          docLink.innerHTML = docLinkHtml;\n",
              "          element.appendChild(docLink);\n",
              "        }\n",
              "      </script>\n",
              "    </div>\n",
              "  </div>\n",
              "  "
            ]
          },
          "metadata": {},
          "execution_count": 31
        }
      ]
    },
    {
      "cell_type": "code",
      "source": [
        " t = grouped_countries.groupby([\"Reporting Country\", \"Year_Month\"]).sum().unstack(0)\n",
        " t"
      ],
      "metadata": {
        "colab": {
          "base_uri": "https://localhost:8080/",
          "height": 1000
        },
        "id": "zonh5pqnFM-4",
        "outputId": "bc725c6d-f25d-4020-e75e-7c619d05a883"
      },
      "execution_count": 32,
      "outputs": [
        {
          "output_type": "execute_result",
          "data": {
            "text/plain": [
              "                   Sales                                         \n",
              "Reporting Country CANADA FRANCE ITALY SPAIN TURKEY UNITED KINGDOM\n",
              "Year_Month                                                       \n",
              "2020-01-01            22     13     9    62      3             73\n",
              "2020-02-01            29      7     4    67      6             79\n",
              "2020-03-01            20      6     5   103      4             68\n",
              "2020-04-01            13      4     4    41      9             26\n",
              "2020-05-01            10      7     9    91      4             58\n",
              "2020-06-01            11     28     6   114      9             61\n",
              "2020-07-01            15     42    28    91      6             77\n",
              "2020-08-01            23     19    13    79      8             58\n",
              "2020-09-01            14     28    11    80      5             56\n",
              "2020-10-01             9     12     4   126      3             70\n",
              "2020-11-01            12     22     7   285      2             98\n",
              "2020-12-01            17     14    13   193      6             77\n",
              "2021-01-01            20     11    12   151      8             66\n",
              "2021-02-01            14     15    15   182      7             59\n",
              "2021-03-01            19     17    13   220     12             72\n",
              "2021-04-01            18     14     9   219     10             72\n",
              "2021-05-01            10     26    20   189     17             86\n",
              "2021-06-01            28     55    24   172     18             99\n",
              "2021-07-01            21     35    20   141     21             93\n",
              "2021-08-01            24     38    29   117     22             81\n",
              "2021-09-01            23     53    20    79     36             96\n",
              "2021-10-01            13     65    33    93     48             89\n",
              "2021-11-01             7     58    32   102     38             95\n",
              "2021-12-01            22     53    33    90     57             81\n",
              "2022-01-01            11     39    27    90     46             71\n",
              "2022-02-01            20     19    46    88     38             69\n",
              "2022-03-01            27     43    46    78     32            104\n",
              "2022-04-01            16     44    45    78     42             92\n",
              "2022-05-01            13     67    51    67     28             92\n",
              "2022-06-01            34     48    58    76     28             94\n",
              "2022-07-01            29     78    55    75     27            103\n",
              "2022-08-01            31     61    50    51     42            126"
            ],
            "text/html": [
              "\n",
              "  <div id=\"df-04816209-a7c4-4971-afbb-8083d3f398da\">\n",
              "    <div class=\"colab-df-container\">\n",
              "      <div>\n",
              "<style scoped>\n",
              "    .dataframe tbody tr th:only-of-type {\n",
              "        vertical-align: middle;\n",
              "    }\n",
              "\n",
              "    .dataframe tbody tr th {\n",
              "        vertical-align: top;\n",
              "    }\n",
              "\n",
              "    .dataframe thead tr th {\n",
              "        text-align: left;\n",
              "    }\n",
              "\n",
              "    .dataframe thead tr:last-of-type th {\n",
              "        text-align: right;\n",
              "    }\n",
              "</style>\n",
              "<table border=\"1\" class=\"dataframe\">\n",
              "  <thead>\n",
              "    <tr>\n",
              "      <th></th>\n",
              "      <th colspan=\"6\" halign=\"left\">Sales</th>\n",
              "    </tr>\n",
              "    <tr>\n",
              "      <th>Reporting Country</th>\n",
              "      <th>CANADA</th>\n",
              "      <th>FRANCE</th>\n",
              "      <th>ITALY</th>\n",
              "      <th>SPAIN</th>\n",
              "      <th>TURKEY</th>\n",
              "      <th>UNITED KINGDOM</th>\n",
              "    </tr>\n",
              "    <tr>\n",
              "      <th>Year_Month</th>\n",
              "      <th></th>\n",
              "      <th></th>\n",
              "      <th></th>\n",
              "      <th></th>\n",
              "      <th></th>\n",
              "      <th></th>\n",
              "    </tr>\n",
              "  </thead>\n",
              "  <tbody>\n",
              "    <tr>\n",
              "      <th>2020-01-01</th>\n",
              "      <td>22</td>\n",
              "      <td>13</td>\n",
              "      <td>9</td>\n",
              "      <td>62</td>\n",
              "      <td>3</td>\n",
              "      <td>73</td>\n",
              "    </tr>\n",
              "    <tr>\n",
              "      <th>2020-02-01</th>\n",
              "      <td>29</td>\n",
              "      <td>7</td>\n",
              "      <td>4</td>\n",
              "      <td>67</td>\n",
              "      <td>6</td>\n",
              "      <td>79</td>\n",
              "    </tr>\n",
              "    <tr>\n",
              "      <th>2020-03-01</th>\n",
              "      <td>20</td>\n",
              "      <td>6</td>\n",
              "      <td>5</td>\n",
              "      <td>103</td>\n",
              "      <td>4</td>\n",
              "      <td>68</td>\n",
              "    </tr>\n",
              "    <tr>\n",
              "      <th>2020-04-01</th>\n",
              "      <td>13</td>\n",
              "      <td>4</td>\n",
              "      <td>4</td>\n",
              "      <td>41</td>\n",
              "      <td>9</td>\n",
              "      <td>26</td>\n",
              "    </tr>\n",
              "    <tr>\n",
              "      <th>2020-05-01</th>\n",
              "      <td>10</td>\n",
              "      <td>7</td>\n",
              "      <td>9</td>\n",
              "      <td>91</td>\n",
              "      <td>4</td>\n",
              "      <td>58</td>\n",
              "    </tr>\n",
              "    <tr>\n",
              "      <th>2020-06-01</th>\n",
              "      <td>11</td>\n",
              "      <td>28</td>\n",
              "      <td>6</td>\n",
              "      <td>114</td>\n",
              "      <td>9</td>\n",
              "      <td>61</td>\n",
              "    </tr>\n",
              "    <tr>\n",
              "      <th>2020-07-01</th>\n",
              "      <td>15</td>\n",
              "      <td>42</td>\n",
              "      <td>28</td>\n",
              "      <td>91</td>\n",
              "      <td>6</td>\n",
              "      <td>77</td>\n",
              "    </tr>\n",
              "    <tr>\n",
              "      <th>2020-08-01</th>\n",
              "      <td>23</td>\n",
              "      <td>19</td>\n",
              "      <td>13</td>\n",
              "      <td>79</td>\n",
              "      <td>8</td>\n",
              "      <td>58</td>\n",
              "    </tr>\n",
              "    <tr>\n",
              "      <th>2020-09-01</th>\n",
              "      <td>14</td>\n",
              "      <td>28</td>\n",
              "      <td>11</td>\n",
              "      <td>80</td>\n",
              "      <td>5</td>\n",
              "      <td>56</td>\n",
              "    </tr>\n",
              "    <tr>\n",
              "      <th>2020-10-01</th>\n",
              "      <td>9</td>\n",
              "      <td>12</td>\n",
              "      <td>4</td>\n",
              "      <td>126</td>\n",
              "      <td>3</td>\n",
              "      <td>70</td>\n",
              "    </tr>\n",
              "    <tr>\n",
              "      <th>2020-11-01</th>\n",
              "      <td>12</td>\n",
              "      <td>22</td>\n",
              "      <td>7</td>\n",
              "      <td>285</td>\n",
              "      <td>2</td>\n",
              "      <td>98</td>\n",
              "    </tr>\n",
              "    <tr>\n",
              "      <th>2020-12-01</th>\n",
              "      <td>17</td>\n",
              "      <td>14</td>\n",
              "      <td>13</td>\n",
              "      <td>193</td>\n",
              "      <td>6</td>\n",
              "      <td>77</td>\n",
              "    </tr>\n",
              "    <tr>\n",
              "      <th>2021-01-01</th>\n",
              "      <td>20</td>\n",
              "      <td>11</td>\n",
              "      <td>12</td>\n",
              "      <td>151</td>\n",
              "      <td>8</td>\n",
              "      <td>66</td>\n",
              "    </tr>\n",
              "    <tr>\n",
              "      <th>2021-02-01</th>\n",
              "      <td>14</td>\n",
              "      <td>15</td>\n",
              "      <td>15</td>\n",
              "      <td>182</td>\n",
              "      <td>7</td>\n",
              "      <td>59</td>\n",
              "    </tr>\n",
              "    <tr>\n",
              "      <th>2021-03-01</th>\n",
              "      <td>19</td>\n",
              "      <td>17</td>\n",
              "      <td>13</td>\n",
              "      <td>220</td>\n",
              "      <td>12</td>\n",
              "      <td>72</td>\n",
              "    </tr>\n",
              "    <tr>\n",
              "      <th>2021-04-01</th>\n",
              "      <td>18</td>\n",
              "      <td>14</td>\n",
              "      <td>9</td>\n",
              "      <td>219</td>\n",
              "      <td>10</td>\n",
              "      <td>72</td>\n",
              "    </tr>\n",
              "    <tr>\n",
              "      <th>2021-05-01</th>\n",
              "      <td>10</td>\n",
              "      <td>26</td>\n",
              "      <td>20</td>\n",
              "      <td>189</td>\n",
              "      <td>17</td>\n",
              "      <td>86</td>\n",
              "    </tr>\n",
              "    <tr>\n",
              "      <th>2021-06-01</th>\n",
              "      <td>28</td>\n",
              "      <td>55</td>\n",
              "      <td>24</td>\n",
              "      <td>172</td>\n",
              "      <td>18</td>\n",
              "      <td>99</td>\n",
              "    </tr>\n",
              "    <tr>\n",
              "      <th>2021-07-01</th>\n",
              "      <td>21</td>\n",
              "      <td>35</td>\n",
              "      <td>20</td>\n",
              "      <td>141</td>\n",
              "      <td>21</td>\n",
              "      <td>93</td>\n",
              "    </tr>\n",
              "    <tr>\n",
              "      <th>2021-08-01</th>\n",
              "      <td>24</td>\n",
              "      <td>38</td>\n",
              "      <td>29</td>\n",
              "      <td>117</td>\n",
              "      <td>22</td>\n",
              "      <td>81</td>\n",
              "    </tr>\n",
              "    <tr>\n",
              "      <th>2021-09-01</th>\n",
              "      <td>23</td>\n",
              "      <td>53</td>\n",
              "      <td>20</td>\n",
              "      <td>79</td>\n",
              "      <td>36</td>\n",
              "      <td>96</td>\n",
              "    </tr>\n",
              "    <tr>\n",
              "      <th>2021-10-01</th>\n",
              "      <td>13</td>\n",
              "      <td>65</td>\n",
              "      <td>33</td>\n",
              "      <td>93</td>\n",
              "      <td>48</td>\n",
              "      <td>89</td>\n",
              "    </tr>\n",
              "    <tr>\n",
              "      <th>2021-11-01</th>\n",
              "      <td>7</td>\n",
              "      <td>58</td>\n",
              "      <td>32</td>\n",
              "      <td>102</td>\n",
              "      <td>38</td>\n",
              "      <td>95</td>\n",
              "    </tr>\n",
              "    <tr>\n",
              "      <th>2021-12-01</th>\n",
              "      <td>22</td>\n",
              "      <td>53</td>\n",
              "      <td>33</td>\n",
              "      <td>90</td>\n",
              "      <td>57</td>\n",
              "      <td>81</td>\n",
              "    </tr>\n",
              "    <tr>\n",
              "      <th>2022-01-01</th>\n",
              "      <td>11</td>\n",
              "      <td>39</td>\n",
              "      <td>27</td>\n",
              "      <td>90</td>\n",
              "      <td>46</td>\n",
              "      <td>71</td>\n",
              "    </tr>\n",
              "    <tr>\n",
              "      <th>2022-02-01</th>\n",
              "      <td>20</td>\n",
              "      <td>19</td>\n",
              "      <td>46</td>\n",
              "      <td>88</td>\n",
              "      <td>38</td>\n",
              "      <td>69</td>\n",
              "    </tr>\n",
              "    <tr>\n",
              "      <th>2022-03-01</th>\n",
              "      <td>27</td>\n",
              "      <td>43</td>\n",
              "      <td>46</td>\n",
              "      <td>78</td>\n",
              "      <td>32</td>\n",
              "      <td>104</td>\n",
              "    </tr>\n",
              "    <tr>\n",
              "      <th>2022-04-01</th>\n",
              "      <td>16</td>\n",
              "      <td>44</td>\n",
              "      <td>45</td>\n",
              "      <td>78</td>\n",
              "      <td>42</td>\n",
              "      <td>92</td>\n",
              "    </tr>\n",
              "    <tr>\n",
              "      <th>2022-05-01</th>\n",
              "      <td>13</td>\n",
              "      <td>67</td>\n",
              "      <td>51</td>\n",
              "      <td>67</td>\n",
              "      <td>28</td>\n",
              "      <td>92</td>\n",
              "    </tr>\n",
              "    <tr>\n",
              "      <th>2022-06-01</th>\n",
              "      <td>34</td>\n",
              "      <td>48</td>\n",
              "      <td>58</td>\n",
              "      <td>76</td>\n",
              "      <td>28</td>\n",
              "      <td>94</td>\n",
              "    </tr>\n",
              "    <tr>\n",
              "      <th>2022-07-01</th>\n",
              "      <td>29</td>\n",
              "      <td>78</td>\n",
              "      <td>55</td>\n",
              "      <td>75</td>\n",
              "      <td>27</td>\n",
              "      <td>103</td>\n",
              "    </tr>\n",
              "    <tr>\n",
              "      <th>2022-08-01</th>\n",
              "      <td>31</td>\n",
              "      <td>61</td>\n",
              "      <td>50</td>\n",
              "      <td>51</td>\n",
              "      <td>42</td>\n",
              "      <td>126</td>\n",
              "    </tr>\n",
              "  </tbody>\n",
              "</table>\n",
              "</div>\n",
              "      <button class=\"colab-df-convert\" onclick=\"convertToInteractive('df-04816209-a7c4-4971-afbb-8083d3f398da')\"\n",
              "              title=\"Convert this dataframe to an interactive table.\"\n",
              "              style=\"display:none;\">\n",
              "        \n",
              "  <svg xmlns=\"http://www.w3.org/2000/svg\" height=\"24px\"viewBox=\"0 0 24 24\"\n",
              "       width=\"24px\">\n",
              "    <path d=\"M0 0h24v24H0V0z\" fill=\"none\"/>\n",
              "    <path d=\"M18.56 5.44l.94 2.06.94-2.06 2.06-.94-2.06-.94-.94-2.06-.94 2.06-2.06.94zm-11 1L8.5 8.5l.94-2.06 2.06-.94-2.06-.94L8.5 2.5l-.94 2.06-2.06.94zm10 10l.94 2.06.94-2.06 2.06-.94-2.06-.94-.94-2.06-.94 2.06-2.06.94z\"/><path d=\"M17.41 7.96l-1.37-1.37c-.4-.4-.92-.59-1.43-.59-.52 0-1.04.2-1.43.59L10.3 9.45l-7.72 7.72c-.78.78-.78 2.05 0 2.83L4 21.41c.39.39.9.59 1.41.59.51 0 1.02-.2 1.41-.59l7.78-7.78 2.81-2.81c.8-.78.8-2.07 0-2.86zM5.41 20L4 18.59l7.72-7.72 1.47 1.35L5.41 20z\"/>\n",
              "  </svg>\n",
              "      </button>\n",
              "      \n",
              "  <style>\n",
              "    .colab-df-container {\n",
              "      display:flex;\n",
              "      flex-wrap:wrap;\n",
              "      gap: 12px;\n",
              "    }\n",
              "\n",
              "    .colab-df-convert {\n",
              "      background-color: #E8F0FE;\n",
              "      border: none;\n",
              "      border-radius: 50%;\n",
              "      cursor: pointer;\n",
              "      display: none;\n",
              "      fill: #1967D2;\n",
              "      height: 32px;\n",
              "      padding: 0 0 0 0;\n",
              "      width: 32px;\n",
              "    }\n",
              "\n",
              "    .colab-df-convert:hover {\n",
              "      background-color: #E2EBFA;\n",
              "      box-shadow: 0px 1px 2px rgba(60, 64, 67, 0.3), 0px 1px 3px 1px rgba(60, 64, 67, 0.15);\n",
              "      fill: #174EA6;\n",
              "    }\n",
              "\n",
              "    [theme=dark] .colab-df-convert {\n",
              "      background-color: #3B4455;\n",
              "      fill: #D2E3FC;\n",
              "    }\n",
              "\n",
              "    [theme=dark] .colab-df-convert:hover {\n",
              "      background-color: #434B5C;\n",
              "      box-shadow: 0px 1px 3px 1px rgba(0, 0, 0, 0.15);\n",
              "      filter: drop-shadow(0px 1px 2px rgba(0, 0, 0, 0.3));\n",
              "      fill: #FFFFFF;\n",
              "    }\n",
              "  </style>\n",
              "\n",
              "      <script>\n",
              "        const buttonEl =\n",
              "          document.querySelector('#df-04816209-a7c4-4971-afbb-8083d3f398da button.colab-df-convert');\n",
              "        buttonEl.style.display =\n",
              "          google.colab.kernel.accessAllowed ? 'block' : 'none';\n",
              "\n",
              "        async function convertToInteractive(key) {\n",
              "          const element = document.querySelector('#df-04816209-a7c4-4971-afbb-8083d3f398da');\n",
              "          const dataTable =\n",
              "            await google.colab.kernel.invokeFunction('convertToInteractive',\n",
              "                                                     [key], {});\n",
              "          if (!dataTable) return;\n",
              "\n",
              "          const docLinkHtml = 'Like what you see? Visit the ' +\n",
              "            '<a target=\"_blank\" href=https://colab.research.google.com/notebooks/data_table.ipynb>data table notebook</a>'\n",
              "            + ' to learn more about interactive tables.';\n",
              "          element.innerHTML = '';\n",
              "          dataTable['output_type'] = 'display_data';\n",
              "          await google.colab.output.renderOutput(dataTable, element);\n",
              "          const docLink = document.createElement('div');\n",
              "          docLink.innerHTML = docLinkHtml;\n",
              "          element.appendChild(docLink);\n",
              "        }\n",
              "      </script>\n",
              "    </div>\n",
              "  </div>\n",
              "  "
            ]
          },
          "metadata": {},
          "execution_count": 32
        }
      ]
    },
    {
      "cell_type": "code",
      "source": [
        "col_list = list(t.columns)\n",
        "col_list\n"
      ],
      "metadata": {
        "colab": {
          "base_uri": "https://localhost:8080/"
        },
        "id": "_lAQ8rdRHp2H",
        "outputId": "d0bc4627-abd4-4c81-ab76-366ae7e4222a"
      },
      "execution_count": 35,
      "outputs": [
        {
          "output_type": "execute_result",
          "data": {
            "text/plain": [
              "[('Sales', 'CANADA'),\n",
              " ('Sales', 'FRANCE'),\n",
              " ('Sales', 'ITALY'),\n",
              " ('Sales', 'SPAIN'),\n",
              " ('Sales', 'TURKEY'),\n",
              " ('Sales', 'UNITED KINGDOM')]"
            ]
          },
          "metadata": {},
          "execution_count": 35
        }
      ]
    },
    {
      "cell_type": "code",
      "source": [
        "t.index"
      ],
      "metadata": {
        "colab": {
          "base_uri": "https://localhost:8080/"
        },
        "id": "xiI3sTlWHqhK",
        "outputId": "d98053fe-226e-4ed1-84ea-9c3db334f11d"
      },
      "execution_count": 36,
      "outputs": [
        {
          "output_type": "execute_result",
          "data": {
            "text/plain": [
              "DatetimeIndex(['2020-01-01', '2020-02-01', '2020-03-01', '2020-04-01',\n",
              "               '2020-05-01', '2020-06-01', '2020-07-01', '2020-08-01',\n",
              "               '2020-09-01', '2020-10-01', '2020-11-01', '2020-12-01',\n",
              "               '2021-01-01', '2021-02-01', '2021-03-01', '2021-04-01',\n",
              "               '2021-05-01', '2021-06-01', '2021-07-01', '2021-08-01',\n",
              "               '2021-09-01', '2021-10-01', '2021-11-01', '2021-12-01',\n",
              "               '2022-01-01', '2022-02-01', '2022-03-01', '2022-04-01',\n",
              "               '2022-05-01', '2022-06-01', '2022-07-01', '2022-08-01'],\n",
              "              dtype='datetime64[ns]', name='Year_Month', freq=None)"
            ]
          },
          "metadata": {},
          "execution_count": 36
        }
      ]
    },
    {
      "cell_type": "code",
      "source": [
        "fig, axes = plt.subplots(2, 3, figsize=(16, 8), sharey = True)\n",
        "\n",
        "for col, ax in zip(col_list, axes.flatten()):\n",
        "   ax.plot(t.index, t[col])\n",
        "   ax.set_title(col)"
      ],
      "metadata": {
        "colab": {
          "base_uri": "https://localhost:8080/",
          "height": 457
        },
        "id": "HArc3jRg97Ex",
        "outputId": "e06f2951-7995-41dd-9bf4-2e8caedace05"
      },
      "execution_count": 39,
      "outputs": [
        {
          "output_type": "display_data",
          "data": {
            "text/plain": [
              "<Figure size 1152x576 with 6 Axes>"
            ],
            "image/png": "[encoded data removed]"
          },
          "metadata": {}
        }
      ]
    },
    {
      "cell_type": "code",
      "source": [],
      "metadata": {
        "id": "yFQbPDgS97XA"
      },
      "execution_count": null,
      "outputs": []
    },
    {
      "cell_type": "code",
      "source": [],
      "metadata": {
        "id": "0H4DWyp497jj"
      },
      "execution_count": null,
      "outputs": []
    },
    {
      "cell_type": "code",
      "source": [],
      "metadata": {
        "id": "x2Nn9POt97t5"
      },
      "execution_count": null,
      "outputs": []
    },
    {
      "cell_type": "code",
      "source": [],
      "metadata": {
        "id": "_VXbQhV5974y"
      },
      "execution_count": null,
      "outputs": []
    },
    {
      "cell_type": "code",
      "source": [
        "for i, var in enumerate(categorical_vars):\n",
        "    row = i//2\n",
        "    print(row)\n",
        "    pos = i % 2\n",
        "    print(pos)"
      ],
      "metadata": {
        "id": "MlVj2FtBwle_"
      },
      "execution_count": null,
      "outputs": []
    },
    {
      "cell_type": "code",
      "source": [
        "#Keep as an example for how to work with seaborn and matplotlip\n",
        "\n",
        "plt.figure(figsize=(18, 12))\n",
        "fig, axs = plt.subplots(3,2)\n",
        "for i, (combi, df) in enumerate(grouped_countries.groupby([\"Reporting Country\"])):\n",
        "  row = i//2\n",
        "  pos = i % 2\n",
        "  plot = sns.lineplot(data = df, x = \"Year_Month\", y = \"Sales\", ax = axs[row][pos] )\n",
        "  plt.ylabel('Monthly Count')\n",
        "  plt.xlabel('Year & Month')\n",
        "  plt.xticks(rotation = 90)\n",
        "\n",
        "\n",
        " "
      ],
      "metadata": {
        "id": "H3mFYnlOjrBQ"
      },
      "execution_count": null,
      "outputs": []
    }
  ]
}