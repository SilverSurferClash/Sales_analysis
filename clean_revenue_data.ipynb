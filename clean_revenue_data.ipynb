{
  "nbformat": 4,
  "nbformat_minor": 0,
  "metadata": {
    "colab": {
      "provenance": [],
      "collapsed_sections": [],
      "authorship_tag": "ABX9TyOc+sx3sxVnVoviaZd4Dfex",
      "include_colab_link": true
    },
    "kernelspec": {
      "name": "python3",
      "display_name": "Python 3"
    },
    "language_info": {
      "name": "python"
    }
  },
  "cells": [
    {
      "cell_type": "markdown",
      "metadata": {
        "id": "view-in-github",
        "colab_type": "text"
      },
      "source": [
        "<a href=\"https://colab.research.google.com/github/SilverSurferClash/Sales_analysis/blob/main/clean_revenue_data.ipynb\" target=\"_parent\"><img src=\"https://colab.research.google.com/assets/colab-badge.svg\" alt=\"Open In Colab\"/></a>"
      ]
    },
    {
      "cell_type": "code",
      "execution_count": 1,
      "metadata": {
        "colab": {
          "base_uri": "https://localhost:8080/"
        },
        "id": "sC4ZAeFZj_6r",
        "outputId": "18a7140b-4806-4209-b9d4-c7431aaae11b"
      },
      "outputs": [
        {
          "output_type": "stream",
          "name": "stdout",
          "text": [
            "Mounted at /content/drive\n"
          ]
        }
      ],
      "source": [
        "from google.colab import drive\n",
        "drive.mount('/content/drive')"
      ]
    },
    {
      "cell_type": "code",
      "source": [
        "import numpy as np\n",
        "import pandas as pd\n",
        "import matplotlib.pyplot as plt\n",
        "plt.style.use('dark_background')\n",
        "import seaborn as sns\n",
        "import os\n",
        "pd.set_option('display.max_columns', None)\n",
        "#pd.set_option('display.max_rows', None)\n",
        "pd.set_option('display.precision', 2)\n",
        "#Use option to round floats to two decimals\n",
        "#pd.set_option('display.float_format',  '{:,.2f}'.format)\n",
        "# Use option to display $ dollars\n",
        "#pd.set_option('display.float_format', '${:.2f}'.format)\n",
        "\n",
        "# Plotting pretty figures and avoid blurry images\n",
        "#%config InlineBackend.figure_format = 'retina'\n",
        "# Larger scale for plots in notebooks\n",
        "#sns.set_context('notebook')\n",
        "\n",
        "\n",
        "# Enable multiple cell outputs\n",
        "#from IPython.core.interactiveshell import InteractiveShell\n",
        "#InteractiveShell.ast_node_interactivity = 'all'\n",
        "\n",
        "import warnings\n",
        "warnings.filterwarnings('ignore')   "
      ],
      "metadata": {
        "id": "fCMX_RHJkauj"
      },
      "execution_count": 2,
      "outputs": []
    },
    {
      "cell_type": "code",
      "source": [
        "os.chdir(\"/content/drive/MyDrive/Colab_Notebooks/Sales_Analysis\")"
      ],
      "metadata": {
        "id": "0dERS2i_ksnu"
      },
      "execution_count": 4,
      "outputs": []
    },
    {
      "cell_type": "code",
      "source": [
        "import_sales = pd.read_excel(\"./Sales_Volume_EUAA_Analytics.xlsx\", sheet_name = 0, skiprows = 28)"
      ],
      "metadata": {
        "id": "RuSUQrX3ka8I"
      },
      "execution_count": 5,
      "outputs": []
    },
    {
      "cell_type": "code",
      "source": [
        "# Select only rows that start with A0\n",
        "#mask_remove sum columns - (i) remove NA ib Accession columns (ii) remove rows with no \"A0\"\n",
        "#Remove first columns\n",
        "#Convert received and final report date to datetime objects"
      ],
      "metadata": {
        "id": "U5SbBrrckbEj"
      },
      "execution_count": null,
      "outputs": []
    },
    {
      "cell_type": "code",
      "source": [
        "mask_isna = import_sales['Accession #'].isna()\n",
        "import_sales = import_sales[~mask_isna]"
      ],
      "metadata": {
        "id": "LDMTGId0kbRJ"
      },
      "execution_count": 6,
      "outputs": []
    },
    {
      "cell_type": "code",
      "source": [
        "mask_startswith = import_sales['Accession #'].str.startswith(\"A0\")\n",
        "import_sales = import_sales[mask_startswith]\n"
      ],
      "metadata": {
        "id": "5MtV-jD1kbYu"
      },
      "execution_count": 7,
      "outputs": []
    },
    {
      "cell_type": "code",
      "source": [
        "import_sales = import_sales.drop([import_sales.columns[0]], axis = 1)\n",
        "import_sales[\"Date Received\"] = pd.to_datetime(import_sales[\"Date Received\"])"
      ],
      "metadata": {
        "id": "Yu0sU6Nzkbd5"
      },
      "execution_count": 8,
      "outputs": []
    },
    {
      "cell_type": "code",
      "source": [
        "import_sales.sample(3)"
      ],
      "metadata": {
        "colab": {
          "base_uri": "https://localhost:8080/",
          "height": 364
        },
        "id": "LQ04d61Bkbkq",
        "outputId": "1ca364ff-70d7-4953-e126-ac40d4371243"
      },
      "execution_count": 9,
      "outputs": [
        {
          "output_type": "execute_result",
          "data": {
            "text/plain": [
              "     Account: Reporting Country  ↑ Date Received Accession #  \\\n",
              "3574                           NaN    2022-07-20    A0547839   \n",
              "3048                           NaN    2022-03-31    A0490315   \n",
              "4138                           NaN    2022-10-06    A0588636   \n",
              "\n",
              "             Account: Account Name           Contact: Full Name  \\\n",
              "3574  Diagnosticos da America S.A.  Cristovam Scapulatempo Neto   \n",
              "3048   Royal United Hospitals Bath           Sharath Gangadhara   \n",
              "4138              HCA Laboratories                  Neal Navani   \n",
              "\n",
              "            Billing Type    Final Report Date Invoiced Ammount  \\\n",
              "3574  Distributors : ROW  2022-07-28 00:00:00         1750 USD   \n",
              "3048    Self-Pay Patient  2022-04-06 00:00:00            0 GBP   \n",
              "4138  Distributors : ROW  2022-10-13 00:00:00          2178.75   \n",
              "\n",
              "         Expected Amount $ Invoiced/In Prg.  FOC Collected Unnamed: 13  \\\n",
              "3574   Accounts Receivable              NaN  NaN       NaN         NaN   \n",
              "3048           Experience               NaN    x       NaN         NaN   \n",
              "4138  Accounts Receivable               NaN  NaN       NaN         NaN   \n",
              "\n",
              "      Unnamed: 14  Unnamed: 15  Total  1943954.40925  \n",
              "3574          NaN          NaN    NaN            NaN  \n",
              "3048          NaN          NaN    NaN            NaN  \n",
              "4138          NaN          NaN    NaN            NaN  "
            ],
            "text/html": [
              "\n",
              "  <div id=\"df-1e15b5c4-98e0-491e-93a7-192125af4455\">\n",
              "    <div class=\"colab-df-container\">\n",
              "      <div>\n",
              "<style scoped>\n",
              "    .dataframe tbody tr th:only-of-type {\n",
              "        vertical-align: middle;\n",
              "    }\n",
              "\n",
              "    .dataframe tbody tr th {\n",
              "        vertical-align: top;\n",
              "    }\n",
              "\n",
              "    .dataframe thead th {\n",
              "        text-align: right;\n",
              "    }\n",
              "</style>\n",
              "<table border=\"1\" class=\"dataframe\">\n",
              "  <thead>\n",
              "    <tr style=\"text-align: right;\">\n",
              "      <th></th>\n",
              "      <th>Account: Reporting Country  ↑</th>\n",
              "      <th>Date Received</th>\n",
              "      <th>Accession #</th>\n",
              "      <th>Account: Account Name</th>\n",
              "      <th>Contact: Full Name</th>\n",
              "      <th>Billing Type</th>\n",
              "      <th>Final Report Date</th>\n",
              "      <th>Invoiced Ammount</th>\n",
              "      <th>Expected Amount $</th>\n",
              "      <th>Invoiced/In Prg.</th>\n",
              "      <th>FOC</th>\n",
              "      <th>Collected</th>\n",
              "      <th>Unnamed: 13</th>\n",
              "      <th>Unnamed: 14</th>\n",
              "      <th>Unnamed: 15</th>\n",
              "      <th>Total</th>\n",
              "      <th>1943954.40925</th>\n",
              "    </tr>\n",
              "  </thead>\n",
              "  <tbody>\n",
              "    <tr>\n",
              "      <th>3574</th>\n",
              "      <td>NaN</td>\n",
              "      <td>2022-07-20</td>\n",
              "      <td>A0547839</td>\n",
              "      <td>Diagnosticos da America S.A.</td>\n",
              "      <td>Cristovam Scapulatempo Neto</td>\n",
              "      <td>Distributors : ROW</td>\n",
              "      <td>2022-07-28 00:00:00</td>\n",
              "      <td>1750 USD</td>\n",
              "      <td>Accounts Receivable</td>\n",
              "      <td>NaN</td>\n",
              "      <td>NaN</td>\n",
              "      <td>NaN</td>\n",
              "      <td>NaN</td>\n",
              "      <td>NaN</td>\n",
              "      <td>NaN</td>\n",
              "      <td>NaN</td>\n",
              "      <td>NaN</td>\n",
              "    </tr>\n",
              "    <tr>\n",
              "      <th>3048</th>\n",
              "      <td>NaN</td>\n",
              "      <td>2022-03-31</td>\n",
              "      <td>A0490315</td>\n",
              "      <td>Royal United Hospitals Bath</td>\n",
              "      <td>Sharath Gangadhara</td>\n",
              "      <td>Self-Pay Patient</td>\n",
              "      <td>2022-04-06 00:00:00</td>\n",
              "      <td>0 GBP</td>\n",
              "      <td>Experience</td>\n",
              "      <td>NaN</td>\n",
              "      <td>x</td>\n",
              "      <td>NaN</td>\n",
              "      <td>NaN</td>\n",
              "      <td>NaN</td>\n",
              "      <td>NaN</td>\n",
              "      <td>NaN</td>\n",
              "      <td>NaN</td>\n",
              "    </tr>\n",
              "    <tr>\n",
              "      <th>4138</th>\n",
              "      <td>NaN</td>\n",
              "      <td>2022-10-06</td>\n",
              "      <td>A0588636</td>\n",
              "      <td>HCA Laboratories</td>\n",
              "      <td>Neal Navani</td>\n",
              "      <td>Distributors : ROW</td>\n",
              "      <td>2022-10-13 00:00:00</td>\n",
              "      <td>2178.75</td>\n",
              "      <td>Accounts Receivable</td>\n",
              "      <td>NaN</td>\n",
              "      <td>NaN</td>\n",
              "      <td>NaN</td>\n",
              "      <td>NaN</td>\n",
              "      <td>NaN</td>\n",
              "      <td>NaN</td>\n",
              "      <td>NaN</td>\n",
              "      <td>NaN</td>\n",
              "    </tr>\n",
              "  </tbody>\n",
              "</table>\n",
              "</div>\n",
              "      <button class=\"colab-df-convert\" onclick=\"convertToInteractive('df-1e15b5c4-98e0-491e-93a7-192125af4455')\"\n",
              "              title=\"Convert this dataframe to an interactive table.\"\n",
              "              style=\"display:none;\">\n",
              "        \n",
              "  <svg xmlns=\"http://www.w3.org/2000/svg\" height=\"24px\"viewBox=\"0 0 24 24\"\n",
              "       width=\"24px\">\n",
              "    <path d=\"M0 0h24v24H0V0z\" fill=\"none\"/>\n",
              "    <path d=\"M18.56 5.44l.94 2.06.94-2.06 2.06-.94-2.06-.94-.94-2.06-.94 2.06-2.06.94zm-11 1L8.5 8.5l.94-2.06 2.06-.94-2.06-.94L8.5 2.5l-.94 2.06-2.06.94zm10 10l.94 2.06.94-2.06 2.06-.94-2.06-.94-.94-2.06-.94 2.06-2.06.94z\"/><path d=\"M17.41 7.96l-1.37-1.37c-.4-.4-.92-.59-1.43-.59-.52 0-1.04.2-1.43.59L10.3 9.45l-7.72 7.72c-.78.78-.78 2.05 0 2.83L4 21.41c.39.39.9.59 1.41.59.51 0 1.02-.2 1.41-.59l7.78-7.78 2.81-2.81c.8-.78.8-2.07 0-2.86zM5.41 20L4 18.59l7.72-7.72 1.47 1.35L5.41 20z\"/>\n",
              "  </svg>\n",
              "      </button>\n",
              "      \n",
              "  <style>\n",
              "    .colab-df-container {\n",
              "      display:flex;\n",
              "      flex-wrap:wrap;\n",
              "      gap: 12px;\n",
              "    }\n",
              "\n",
              "    .colab-df-convert {\n",
              "      background-color: #E8F0FE;\n",
              "      border: none;\n",
              "      border-radius: 50%;\n",
              "      cursor: pointer;\n",
              "      display: none;\n",
              "      fill: #1967D2;\n",
              "      height: 32px;\n",
              "      padding: 0 0 0 0;\n",
              "      width: 32px;\n",
              "    }\n",
              "\n",
              "    .colab-df-convert:hover {\n",
              "      background-color: #E2EBFA;\n",
              "      box-shadow: 0px 1px 2px rgba(60, 64, 67, 0.3), 0px 1px 3px 1px rgba(60, 64, 67, 0.15);\n",
              "      fill: #174EA6;\n",
              "    }\n",
              "\n",
              "    [theme=dark] .colab-df-convert {\n",
              "      background-color: #3B4455;\n",
              "      fill: #D2E3FC;\n",
              "    }\n",
              "\n",
              "    [theme=dark] .colab-df-convert:hover {\n",
              "      background-color: #434B5C;\n",
              "      box-shadow: 0px 1px 3px 1px rgba(0, 0, 0, 0.15);\n",
              "      filter: drop-shadow(0px 1px 2px rgba(0, 0, 0, 0.3));\n",
              "      fill: #FFFFFF;\n",
              "    }\n",
              "  </style>\n",
              "\n",
              "      <script>\n",
              "        const buttonEl =\n",
              "          document.querySelector('#df-1e15b5c4-98e0-491e-93a7-192125af4455 button.colab-df-convert');\n",
              "        buttonEl.style.display =\n",
              "          google.colab.kernel.accessAllowed ? 'block' : 'none';\n",
              "\n",
              "        async function convertToInteractive(key) {\n",
              "          const element = document.querySelector('#df-1e15b5c4-98e0-491e-93a7-192125af4455');\n",
              "          const dataTable =\n",
              "            await google.colab.kernel.invokeFunction('convertToInteractive',\n",
              "                                                     [key], {});\n",
              "          if (!dataTable) return;\n",
              "\n",
              "          const docLinkHtml = 'Like what you see? Visit the ' +\n",
              "            '<a target=\"_blank\" href=https://colab.research.google.com/notebooks/data_table.ipynb>data table notebook</a>'\n",
              "            + ' to learn more about interactive tables.';\n",
              "          element.innerHTML = '';\n",
              "          dataTable['output_type'] = 'display_data';\n",
              "          await google.colab.output.renderOutput(dataTable, element);\n",
              "          const docLink = document.createElement('div');\n",
              "          docLink.innerHTML = docLinkHtml;\n",
              "          element.appendChild(docLink);\n",
              "        }\n",
              "      </script>\n",
              "    </div>\n",
              "  </div>\n",
              "  "
            ]
          },
          "metadata": {},
          "execution_count": 9
        }
      ]
    },
    {
      "cell_type": "code",
      "source": [
        "import_sales.info()"
      ],
      "metadata": {
        "colab": {
          "base_uri": "https://localhost:8080/"
        },
        "id": "Wlo6faT2kbnP",
        "outputId": "1eaec9ec-17d7-4f73-860c-de117d425b79"
      },
      "execution_count": 10,
      "outputs": [
        {
          "output_type": "stream",
          "name": "stdout",
          "text": [
            "<class 'pandas.core.frame.DataFrame'>\n",
            "Int64Index: 3660 entries, 0 to 4177\n",
            "Data columns (total 17 columns):\n",
            " #   Column                         Non-Null Count  Dtype         \n",
            "---  ------                         --------------  -----         \n",
            " 0   Account: Reporting Country  ↑  404 non-null    object        \n",
            " 1   Date Received                  3660 non-null   datetime64[ns]\n",
            " 2   Accession #                    3660 non-null   object        \n",
            " 3   Account: Account Name          3660 non-null   object        \n",
            " 4   Contact: Full Name             3659 non-null   object        \n",
            " 5   Billing Type                   3660 non-null   object        \n",
            " 6   Final Report Date              3424 non-null   object        \n",
            " 7   Invoiced Ammount               3639 non-null   object        \n",
            " 8   Expected Amount $              2467 non-null   object        \n",
            " 9   Invoiced/In Prg.               361 non-null    object        \n",
            " 10  FOC                            716 non-null    object        \n",
            " 11  Collected                      1239 non-null   object        \n",
            " 12  Unnamed: 13                    3 non-null      object        \n",
            " 13  Unnamed: 14                    1 non-null      float64       \n",
            " 14  Unnamed: 15                    0 non-null      float64       \n",
            " 15  Total                          0 non-null      float64       \n",
            " 16  1943954.40925                  0 non-null      float64       \n",
            "dtypes: datetime64[ns](1), float64(4), object(12)\n",
            "memory usage: 514.7+ KB\n"
          ]
        }
      ]
    },
    {
      "cell_type": "code",
      "source": [],
      "metadata": {
        "id": "QrEk1aATlOlN"
      },
      "execution_count": null,
      "outputs": []
    }
  ]
}